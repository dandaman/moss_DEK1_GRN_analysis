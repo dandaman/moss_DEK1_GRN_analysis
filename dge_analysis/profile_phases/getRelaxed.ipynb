{
 "cells": [
  {
   "cell_type": "code",
   "execution_count": 1,
   "metadata": {},
   "outputs": [
    {
     "name": "stdout",
     "output_type": "stream",
     "text": [
      "[1] \"kmeans_clusters_pattern_1_q.0.1.txt\"\n",
      "[1] \"kmeans_clusters_pattern_2_q.0.1.txt\"\n"
     ]
    },
    {
     "data": {
      "text/html": [
       "<table>\n",
       "<caption>A data.frame: 6 × 4</caption>\n",
       "<thead>\n",
       "\t<tr><th></th><th scope=col>profile</th><th scope=col>id</th><th scope=col>cluster</th><th scope=col>expr</th></tr>\n",
       "\t<tr><th></th><th scope=col>&lt;fct&gt;</th><th scope=col>&lt;chr&gt;</th><th scope=col>&lt;fct&gt;</th><th scope=col>&lt;fct&gt;</th></tr>\n",
       "</thead>\n",
       "<tbody>\n",
       "\t<tr><th scope=row>1</th><td>profile_1</td><td>Pp3c1_10200.mRNA</td><td>1</td><td>late   </td></tr>\n",
       "\t<tr><th scope=row>2</th><td>profile_1</td><td>Pp3c1_10220.mRNA</td><td>1</td><td>late   </td></tr>\n",
       "\t<tr><th scope=row>3</th><td>profile_1</td><td>Pp3c1_11030.mRNA</td><td>2</td><td>early  </td></tr>\n",
       "\t<tr><th scope=row>4</th><td>profile_1</td><td>Pp3c1_11190.mRNA</td><td>2</td><td>early  </td></tr>\n",
       "\t<tr><th scope=row>5</th><td>profile_1</td><td>Pp3c1_11820.mRNA</td><td>3</td><td>uniform</td></tr>\n",
       "\t<tr><th scope=row>6</th><td>profile_1</td><td>Pp3c1_11980.mRNA</td><td>3</td><td>uniform</td></tr>\n",
       "</tbody>\n",
       "</table>\n"
      ],
      "text/latex": [
       "A data.frame: 6 × 4\n",
       "\\begin{tabular}{r|llll}\n",
       "  & profile & id & cluster & expr\\\\\n",
       "  & <fct> & <chr> & <fct> & <fct>\\\\\n",
       "\\hline\n",
       "\t1 & profile\\_1 & Pp3c1\\_10200.mRNA & 1 & late   \\\\\n",
       "\t2 & profile\\_1 & Pp3c1\\_10220.mRNA & 1 & late   \\\\\n",
       "\t3 & profile\\_1 & Pp3c1\\_11030.mRNA & 2 & early  \\\\\n",
       "\t4 & profile\\_1 & Pp3c1\\_11190.mRNA & 2 & early  \\\\\n",
       "\t5 & profile\\_1 & Pp3c1\\_11820.mRNA & 3 & uniform\\\\\n",
       "\t6 & profile\\_1 & Pp3c1\\_11980.mRNA & 3 & uniform\\\\\n",
       "\\end{tabular}\n"
      ],
      "text/markdown": [
       "\n",
       "A data.frame: 6 × 4\n",
       "\n",
       "| <!--/--> | profile &lt;fct&gt; | id &lt;chr&gt; | cluster &lt;fct&gt; | expr &lt;fct&gt; |\n",
       "|---|---|---|---|---|\n",
       "| 1 | profile_1 | Pp3c1_10200.mRNA | 1 | late    |\n",
       "| 2 | profile_1 | Pp3c1_10220.mRNA | 1 | late    |\n",
       "| 3 | profile_1 | Pp3c1_11030.mRNA | 2 | early   |\n",
       "| 4 | profile_1 | Pp3c1_11190.mRNA | 2 | early   |\n",
       "| 5 | profile_1 | Pp3c1_11820.mRNA | 3 | uniform |\n",
       "| 6 | profile_1 | Pp3c1_11980.mRNA | 3 | uniform |\n",
       "\n"
      ],
      "text/plain": [
       "  profile   id               cluster expr   \n",
       "1 profile_1 Pp3c1_10200.mRNA 1       late   \n",
       "2 profile_1 Pp3c1_10220.mRNA 1       late   \n",
       "3 profile_1 Pp3c1_11030.mRNA 2       early  \n",
       "4 profile_1 Pp3c1_11190.mRNA 2       early  \n",
       "5 profile_1 Pp3c1_11820.mRNA 3       uniform\n",
       "6 profile_1 Pp3c1_11980.mRNA 3       uniform"
      ]
     },
     "metadata": {},
     "output_type": "display_data"
    },
    {
     "data": {
      "text/plain": [
       "           \n",
       "            early late uniform\n",
       "  profile_1   958  943     738\n",
       "  profile_2   667 1019     759"
      ]
     },
     "metadata": {},
     "output_type": "display_data"
    },
    {
     "data": {
      "text/plain": [
       "           \n",
       "               1    2    3\n",
       "  profile_1  943  958  738\n",
       "  profile_2  667 1019  759"
      ]
     },
     "metadata": {},
     "output_type": "display_data"
    }
   ],
   "source": [
    "path=\".\"\n",
    "phases=do.call(rbind,lapply(list.files(path=path,pattern=\"*q.0.1.txt\"), function(n) {\n",
    "    print(n)\n",
    "    N=sprintf(\"profile_%s\",gsub(\"kmeans_clusters_pattern_(\\\\d+)_q.0.1.txt\",\"\\\\1\",n,perl=TRUE))\n",
    "    f=paste(path,n,sep=\"/\")\n",
    "    q=read.delim(f,sep=\"\\t\",stringsAsFactors=FALSE)\n",
    "    q$expr=gsub(\"uniform_WT_OEX/late_DEK\",\"uniform\",q$expr)\n",
    "    data.frame(profile=N,q)\n",
    "}))\n",
    "phases=transform(phases,profile=factor(phases$profile),cluster=factor(phases$cluster),expr=factor(phases$expr))\n",
    "head(phases)\n",
    "table(phases$profile,phases$expr)\n",
    "table(phases$profile,phases$cluster)"
   ]
  },
  {
   "cell_type": "code",
   "execution_count": 2,
   "metadata": {},
   "outputs": [
    {
     "data": {
      "text/html": [
       "<table>\n",
       "<caption>A data.frame: 6 × 5</caption>\n",
       "<thead>\n",
       "\t<tr><th></th><th scope=col>profile</th><th scope=col>id</th><th scope=col>cluster</th><th scope=col>expr</th><th scope=col>phase</th></tr>\n",
       "\t<tr><th></th><th scope=col>&lt;fct&gt;</th><th scope=col>&lt;chr&gt;</th><th scope=col>&lt;fct&gt;</th><th scope=col>&lt;fct&gt;</th><th scope=col>&lt;chr&gt;</th></tr>\n",
       "</thead>\n",
       "<tbody>\n",
       "\t<tr><th scope=row>1</th><td>profile_1</td><td>Pp3c1_10200.mRNA</td><td>1</td><td>late   </td><td>profile1_late   </td></tr>\n",
       "\t<tr><th scope=row>2</th><td>profile_1</td><td>Pp3c1_10220.mRNA</td><td>1</td><td>late   </td><td>profile1_late   </td></tr>\n",
       "\t<tr><th scope=row>3</th><td>profile_1</td><td>Pp3c1_11030.mRNA</td><td>2</td><td>early  </td><td>profile1_early  </td></tr>\n",
       "\t<tr><th scope=row>4</th><td>profile_1</td><td>Pp3c1_11190.mRNA</td><td>2</td><td>early  </td><td>profile1_early  </td></tr>\n",
       "\t<tr><th scope=row>5</th><td>profile_1</td><td>Pp3c1_11820.mRNA</td><td>3</td><td>uniform</td><td>profile1_uniform</td></tr>\n",
       "\t<tr><th scope=row>6</th><td>profile_1</td><td>Pp3c1_11980.mRNA</td><td>3</td><td>uniform</td><td>profile1_uniform</td></tr>\n",
       "</tbody>\n",
       "</table>\n"
      ],
      "text/latex": [
       "A data.frame: 6 × 5\n",
       "\\begin{tabular}{r|lllll}\n",
       "  & profile & id & cluster & expr & phase\\\\\n",
       "  & <fct> & <chr> & <fct> & <fct> & <chr>\\\\\n",
       "\\hline\n",
       "\t1 & profile\\_1 & Pp3c1\\_10200.mRNA & 1 & late    & profile1\\_late   \\\\\n",
       "\t2 & profile\\_1 & Pp3c1\\_10220.mRNA & 1 & late    & profile1\\_late   \\\\\n",
       "\t3 & profile\\_1 & Pp3c1\\_11030.mRNA & 2 & early   & profile1\\_early  \\\\\n",
       "\t4 & profile\\_1 & Pp3c1\\_11190.mRNA & 2 & early   & profile1\\_early  \\\\\n",
       "\t5 & profile\\_1 & Pp3c1\\_11820.mRNA & 3 & uniform & profile1\\_uniform\\\\\n",
       "\t6 & profile\\_1 & Pp3c1\\_11980.mRNA & 3 & uniform & profile1\\_uniform\\\\\n",
       "\\end{tabular}\n"
      ],
      "text/markdown": [
       "\n",
       "A data.frame: 6 × 5\n",
       "\n",
       "| <!--/--> | profile &lt;fct&gt; | id &lt;chr&gt; | cluster &lt;fct&gt; | expr &lt;fct&gt; | phase &lt;chr&gt; |\n",
       "|---|---|---|---|---|---|\n",
       "| 1 | profile_1 | Pp3c1_10200.mRNA | 1 | late    | profile1_late    |\n",
       "| 2 | profile_1 | Pp3c1_10220.mRNA | 1 | late    | profile1_late    |\n",
       "| 3 | profile_1 | Pp3c1_11030.mRNA | 2 | early   | profile1_early   |\n",
       "| 4 | profile_1 | Pp3c1_11190.mRNA | 2 | early   | profile1_early   |\n",
       "| 5 | profile_1 | Pp3c1_11820.mRNA | 3 | uniform | profile1_uniform |\n",
       "| 6 | profile_1 | Pp3c1_11980.mRNA | 3 | uniform | profile1_uniform |\n",
       "\n"
      ],
      "text/plain": [
       "  profile   id               cluster expr    phase           \n",
       "1 profile_1 Pp3c1_10200.mRNA 1       late    profile1_late   \n",
       "2 profile_1 Pp3c1_10220.mRNA 1       late    profile1_late   \n",
       "3 profile_1 Pp3c1_11030.mRNA 2       early   profile1_early  \n",
       "4 profile_1 Pp3c1_11190.mRNA 2       early   profile1_early  \n",
       "5 profile_1 Pp3c1_11820.mRNA 3       uniform profile1_uniform\n",
       "6 profile_1 Pp3c1_11980.mRNA 3       uniform profile1_uniform"
      ]
     },
     "metadata": {},
     "output_type": "display_data"
    }
   ],
   "source": [
    "phases$phase=sprintf(\"profile%i_%s\",phases[,1],phases[,4])\n",
    "head(phases)\n",
    "write.table(phases,file=\"profile_phases.relaxed.tsv\",sep=\"\\t\",row.names=FALSE,col.names=TRUE,quote=FALSE)"
   ]
  },
  {
   "cell_type": "code",
   "execution_count": 3,
   "metadata": {},
   "outputs": [],
   "source": [
    "phases$profile=gsub(\"^profile_\",\"\",phases$profile,perl=TRUE)\n",
    "write.table(phases,file=\"profile_phases.tsv\",sep=\"\\t\",row.names=FALSE,col.names=TRUE,quote=FALSE)"
   ]
  }
 ],
 "metadata": {
  "kernelspec": {
   "display_name": "R [conda env:ontology]",
   "language": "R",
   "name": "conda-env-ontology-r"
  },
  "language_info": {
   "codemirror_mode": "r",
   "file_extension": ".r",
   "mimetype": "text/x-r-source",
   "name": "R",
   "pygments_lexer": "r",
   "version": "3.5.1"
  }
 },
 "nbformat": 4,
 "nbformat_minor": 4
}
