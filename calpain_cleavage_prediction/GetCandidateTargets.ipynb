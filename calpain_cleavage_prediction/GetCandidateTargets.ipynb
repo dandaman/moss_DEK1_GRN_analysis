{
 "cells": [
  {
   "cell_type": "code",
   "execution_count": 1,
   "metadata": {},
   "outputs": [
    {
     "name": "stderr",
     "output_type": "stream",
     "text": [
      "\n",
      "Attaching package: ‘dplyr’\n",
      "\n",
      "The following objects are masked from ‘package:stats’:\n",
      "\n",
      "    filter, lag\n",
      "\n",
      "The following objects are masked from ‘package:base’:\n",
      "\n",
      "    intersect, setdiff, setequal, union\n",
      "\n",
      "\n",
      "Attaching package: ‘data.table’\n",
      "\n",
      "The following objects are masked from ‘package:dplyr’:\n",
      "\n",
      "    between, first, last\n",
      "\n",
      "The following objects are masked from ‘package:reshape2’:\n",
      "\n",
      "    dcast, melt\n",
      "\n",
      "Loading required package: lattice\n",
      "Loading required package: ggplot2\n"
     ]
    }
   ],
   "source": [
    "library(utils)\n",
    "library(reshape2)\n",
    "library(dplyr)\n",
    "library(data.table)\n",
    "library(caret)\n",
    "library(ggplot2)"
   ]
  },
  {
   "cell_type": "code",
   "execution_count": 2,
   "metadata": {},
   "outputs": [
    {
     "data": {
      "text/html": [
       "356457"
      ],
      "text/latex": [
       "356457"
      ],
      "text/markdown": [
       "356457"
      ],
      "text/plain": [
       "[1] 356457"
      ]
     },
     "metadata": {},
     "output_type": "display_data"
    },
    {
     "data": {
      "text/html": [
       "356390"
      ],
      "text/latex": [
       "356390"
      ],
      "text/markdown": [
       "356390"
      ],
      "text/plain": [
       "[1] 356390"
      ]
     },
     "metadata": {},
     "output_type": "display_data"
    },
    {
     "data": {
      "text/html": [
       "<table>\n",
       "<thead><tr><th scope=col>regulatoryGene</th><th scope=col>targetGene</th><th scope=col>full_cor</th><th scope=col>full_reg</th><th scope=col>our_cor</th><th scope=col>our_reg</th><th scope=col>weight</th><th scope=col>regulator_rank</th><th scope=col>target_rank</th><th scope=col>mutual_rank</th><th scope=col>regulator_community</th><th scope=col>target_community</th><th scope=col>community</th></tr></thead>\n",
       "<tbody>\n",
       "\t<tr><td>Pp3c17_930.mRNA       </td><td>Pp3s340_10.mRNA       </td><td>0.1304851             </td><td>+                     </td><td>1.874270e-15          </td><td>+                     </td><td>0.06778052            </td><td>1                     </td><td>1                     </td><td>1                     </td><td>I                     </td><td>I                     </td><td>I                     </td></tr>\n",
       "\t<tr><td>Pp3c1_27430.pre_miRNA </td><td>Pp3c15_12100.mRNA     </td><td>0.5589259             </td><td>+                     </td><td>6.662628e-01          </td><td>+                     </td><td>0.06724901            </td><td>1                     </td><td>1                     </td><td>1                     </td><td>II                    </td><td>II                    </td><td>II                    </td></tr>\n",
       "\t<tr><td>Pp3c17_17550.mRNA     </td><td>Pp3c23_130.mRNA       </td><td>0.8464697             </td><td>+                     </td><td>8.916522e-01          </td><td>+                     </td><td>0.06646932            </td><td>1                     </td><td>1                     </td><td>1                     </td><td>II                    </td><td>II                    </td><td>II                    </td></tr>\n",
       "\t<tr><td>Pp3c17_18920.pre_miRNA</td><td>Pp3s32_420.mRNA       </td><td>1.0000000             </td><td>+                     </td><td>1.000000e+00          </td><td>+                     </td><td>0.06632740            </td><td>1                     </td><td>1                     </td><td>1                     </td><td>III                   </td><td>III                   </td><td>III                   </td></tr>\n",
       "\t<tr><td>Pp3c15_549.mRNA       </td><td>Pp3c4_24040.mRNA      </td><td>1.0000000             </td><td>+                     </td><td>1.000000e+00          </td><td>+                     </td><td>0.06400505            </td><td>1                     </td><td>1                     </td><td>1                     </td><td>IV                    </td><td>IV                    </td><td>IV                    </td></tr>\n",
       "\t<tr><td>Pp3c4_3072.pre_miRNA  </td><td>Pp3c22_1240.mRNA      </td><td>0.9517601             </td><td>+                     </td><td>9.665704e-01          </td><td>+                     </td><td>0.06353888            </td><td>1                     </td><td>1                     </td><td>1                     </td><td>II                    </td><td>II                    </td><td>II                    </td></tr>\n",
       "</tbody>\n",
       "</table>\n"
      ],
      "text/latex": [
       "\\begin{tabular}{r|lllllllllllll}\n",
       " regulatoryGene & targetGene & full\\_cor & full\\_reg & our\\_cor & our\\_reg & weight & regulator\\_rank & target\\_rank & mutual\\_rank & regulator\\_community & target\\_community & community\\\\\n",
       "\\hline\n",
       "\t Pp3c17\\_930.mRNA        & Pp3s340\\_10.mRNA        & 0.1304851                & +                        & 1.874270e-15             & +                        & 0.06778052               & 1                        & 1                        & 1                        & I                        & I                        & I                       \\\\\n",
       "\t Pp3c1\\_27430.pre\\_miRNA  & Pp3c15\\_12100.mRNA        & 0.5589259                  & +                          & 6.662628e-01               & +                          & 0.06724901                 & 1                          & 1                          & 1                          & II                         & II                         & II                        \\\\\n",
       "\t Pp3c17\\_17550.mRNA      & Pp3c23\\_130.mRNA        & 0.8464697                & +                        & 8.916522e-01             & +                        & 0.06646932               & 1                        & 1                        & 1                        & II                       & II                       & II                      \\\\\n",
       "\t Pp3c17\\_18920.pre\\_miRNA & Pp3s32\\_420.mRNA          & 1.0000000                  & +                          & 1.000000e+00               & +                          & 0.06632740                 & 1                          & 1                          & 1                          & III                        & III                        & III                       \\\\\n",
       "\t Pp3c15\\_549.mRNA        & Pp3c4\\_24040.mRNA       & 1.0000000                & +                        & 1.000000e+00             & +                        & 0.06400505               & 1                        & 1                        & 1                        & IV                       & IV                       & IV                      \\\\\n",
       "\t Pp3c4\\_3072.pre\\_miRNA   & Pp3c22\\_1240.mRNA         & 0.9517601                  & +                          & 9.665704e-01               & +                          & 0.06353888                 & 1                          & 1                          & 1                          & II                         & II                         & II                        \\\\\n",
       "\\end{tabular}\n"
      ],
      "text/markdown": [
       "\n",
       "| regulatoryGene | targetGene | full_cor | full_reg | our_cor | our_reg | weight | regulator_rank | target_rank | mutual_rank | regulator_community | target_community | community |\n",
       "|---|---|---|---|---|---|---|---|---|---|---|---|---|\n",
       "| Pp3c17_930.mRNA        | Pp3s340_10.mRNA        | 0.1304851              | +                      | 1.874270e-15           | +                      | 0.06778052             | 1                      | 1                      | 1                      | I                      | I                      | I                      |\n",
       "| Pp3c1_27430.pre_miRNA  | Pp3c15_12100.mRNA      | 0.5589259              | +                      | 6.662628e-01           | +                      | 0.06724901             | 1                      | 1                      | 1                      | II                     | II                     | II                     |\n",
       "| Pp3c17_17550.mRNA      | Pp3c23_130.mRNA        | 0.8464697              | +                      | 8.916522e-01           | +                      | 0.06646932             | 1                      | 1                      | 1                      | II                     | II                     | II                     |\n",
       "| Pp3c17_18920.pre_miRNA | Pp3s32_420.mRNA        | 1.0000000              | +                      | 1.000000e+00           | +                      | 0.06632740             | 1                      | 1                      | 1                      | III                    | III                    | III                    |\n",
       "| Pp3c15_549.mRNA        | Pp3c4_24040.mRNA       | 1.0000000              | +                      | 1.000000e+00           | +                      | 0.06400505             | 1                      | 1                      | 1                      | IV                     | IV                     | IV                     |\n",
       "| Pp3c4_3072.pre_miRNA   | Pp3c22_1240.mRNA       | 0.9517601              | +                      | 9.665704e-01           | +                      | 0.06353888             | 1                      | 1                      | 1                      | II                     | II                     | II                     |\n",
       "\n"
      ],
      "text/plain": [
       "  regulatoryGene         targetGene        full_cor  full_reg our_cor     \n",
       "1 Pp3c17_930.mRNA        Pp3s340_10.mRNA   0.1304851 +        1.874270e-15\n",
       "2 Pp3c1_27430.pre_miRNA  Pp3c15_12100.mRNA 0.5589259 +        6.662628e-01\n",
       "3 Pp3c17_17550.mRNA      Pp3c23_130.mRNA   0.8464697 +        8.916522e-01\n",
       "4 Pp3c17_18920.pre_miRNA Pp3s32_420.mRNA   1.0000000 +        1.000000e+00\n",
       "5 Pp3c15_549.mRNA        Pp3c4_24040.mRNA  1.0000000 +        1.000000e+00\n",
       "6 Pp3c4_3072.pre_miRNA   Pp3c22_1240.mRNA  0.9517601 +        9.665704e-01\n",
       "  our_reg weight     regulator_rank target_rank mutual_rank regulator_community\n",
       "1 +       0.06778052 1              1           1           I                  \n",
       "2 +       0.06724901 1              1           1           II                 \n",
       "3 +       0.06646932 1              1           1           II                 \n",
       "4 +       0.06632740 1              1           1           III                \n",
       "5 +       0.06400505 1              1           1           IV                 \n",
       "6 +       0.06353888 1              1           1           II                 \n",
       "  target_community community\n",
       "1 I                I        \n",
       "2 II               II       \n",
       "3 II               II       \n",
       "4 III              III      \n",
       "5 IV               IV       \n",
       "6 II               II       "
      ]
     },
     "metadata": {},
     "output_type": "display_data"
    },
    {
     "data": {
      "text/plain": [
       "\n",
       "     0      I     II    III     IV     IX      V     VI    VII   VIII      X \n",
       "141355  19019  22867  10543  13303  36095  22025  12309  26584  22113  17330 \n",
       "    XI \n",
       " 12847 "
      ]
     },
     "metadata": {},
     "output_type": "display_data"
    }
   ],
   "source": [
    "a=read.delim(\"../analysis/GENIE3.top10_target_ranks.ranked_regulator_target_interactions.with_communities.correlations_and_directionality.tsv.gz\",sep=\"\\t\",stringsAsFactors=FALSE)\n",
    "nrow(a)\n",
    "#a=a[a$community!=\"0\",]\n",
    "a=a[a$community %in% c(0,as.character(as.roman(1:11))),]\n",
    "l=c(\"0\",as.character(as.roman(1:11)))\n",
    "a=transform(a,regulator_community=factor(a$regulator_community,levels=l),target_community=factor(a$target_community,levels=l))\n",
    "nrow(a)\n",
    "head(a)\n",
    "table(a$community)"
   ]
  },
  {
   "cell_type": "code",
   "execution_count": 3,
   "metadata": {},
   "outputs": [
    {
     "data": {
      "text/html": [
       "<table>\n",
       "<thead><tr><th scope=col>geneid</th><th scope=col>community</th><th scope=col>degree_centrality</th><th scope=col>betweenness_centrality</th><th scope=col>eigenvector_centrality</th><th scope=col>local_reaching_centrality</th><th scope=col>centrality_rank</th></tr></thead>\n",
       "<tbody>\n",
       "\t<tr><td>Pp3c27_3080.mRNA </td><td>I                </td><td>109              </td><td>   0             </td><td>0.00000000       </td><td>0.9977499        </td><td>1                </td></tr>\n",
       "\t<tr><td>Pp3c11_23290.mRNA</td><td>I                </td><td>552              </td><td>3190             </td><td>0.05359921       </td><td>0.9971070        </td><td>2                </td></tr>\n",
       "\t<tr><td>Pp3c7_2300.mRNA  </td><td>I                </td><td>505              </td><td>7529             </td><td>0.02518149       </td><td>0.9971070        </td><td>3                </td></tr>\n",
       "\t<tr><td>Pp3c17_23620.mRNA</td><td>I                </td><td>490              </td><td>1988             </td><td>0.05419710       </td><td>0.9971070        </td><td>4                </td></tr>\n",
       "\t<tr><td>Pp3c16_13280.mRNA</td><td>I                </td><td>485              </td><td>9982             </td><td>0.05634423       </td><td>0.9971070        </td><td>5                </td></tr>\n",
       "\t<tr><td>Pp3c15_11610.mRNA</td><td>I                </td><td>461              </td><td>3734             </td><td>0.04049888       </td><td>0.9971070        </td><td>6                </td></tr>\n",
       "</tbody>\n",
       "</table>\n"
      ],
      "text/latex": [
       "\\begin{tabular}{r|lllllll}\n",
       " geneid & community & degree\\_centrality & betweenness\\_centrality & eigenvector\\_centrality & local\\_reaching\\_centrality & centrality\\_rank\\\\\n",
       "\\hline\n",
       "\t Pp3c27\\_3080.mRNA  & I                   & 109                 &    0                & 0.00000000          & 0.9977499           & 1                  \\\\\n",
       "\t Pp3c11\\_23290.mRNA & I                   & 552                 & 3190                & 0.05359921          & 0.9971070           & 2                  \\\\\n",
       "\t Pp3c7\\_2300.mRNA   & I                   & 505                 & 7529                & 0.02518149          & 0.9971070           & 3                  \\\\\n",
       "\t Pp3c17\\_23620.mRNA & I                   & 490                 & 1988                & 0.05419710          & 0.9971070           & 4                  \\\\\n",
       "\t Pp3c16\\_13280.mRNA & I                   & 485                 & 9982                & 0.05634423          & 0.9971070           & 5                  \\\\\n",
       "\t Pp3c15\\_11610.mRNA & I                   & 461                 & 3734                & 0.04049888          & 0.9971070           & 6                  \\\\\n",
       "\\end{tabular}\n"
      ],
      "text/markdown": [
       "\n",
       "| geneid | community | degree_centrality | betweenness_centrality | eigenvector_centrality | local_reaching_centrality | centrality_rank |\n",
       "|---|---|---|---|---|---|---|\n",
       "| Pp3c27_3080.mRNA  | I                 | 109               |    0              | 0.00000000        | 0.9977499         | 1                 |\n",
       "| Pp3c11_23290.mRNA | I                 | 552               | 3190              | 0.05359921        | 0.9971070         | 2                 |\n",
       "| Pp3c7_2300.mRNA   | I                 | 505               | 7529              | 0.02518149        | 0.9971070         | 3                 |\n",
       "| Pp3c17_23620.mRNA | I                 | 490               | 1988              | 0.05419710        | 0.9971070         | 4                 |\n",
       "| Pp3c16_13280.mRNA | I                 | 485               | 9982              | 0.05634423        | 0.9971070         | 5                 |\n",
       "| Pp3c15_11610.mRNA | I                 | 461               | 3734              | 0.04049888        | 0.9971070         | 6                 |\n",
       "\n"
      ],
      "text/plain": [
       "  geneid            community degree_centrality betweenness_centrality\n",
       "1 Pp3c27_3080.mRNA  I         109                  0                  \n",
       "2 Pp3c11_23290.mRNA I         552               3190                  \n",
       "3 Pp3c7_2300.mRNA   I         505               7529                  \n",
       "4 Pp3c17_23620.mRNA I         490               1988                  \n",
       "5 Pp3c16_13280.mRNA I         485               9982                  \n",
       "6 Pp3c15_11610.mRNA I         461               3734                  \n",
       "  eigenvector_centrality local_reaching_centrality centrality_rank\n",
       "1 0.00000000             0.9977499                 1              \n",
       "2 0.05359921             0.9971070                 2              \n",
       "3 0.02518149             0.9971070                 3              \n",
       "4 0.05419710             0.9971070                 4              \n",
       "5 0.05634423             0.9971070                 5              \n",
       "6 0.04049888             0.9971070                 6              "
      ]
     },
     "metadata": {},
     "output_type": "display_data"
    },
    {
     "data": {
      "text/plain": [
       "\n",
       "   I   II  III   IV    V   VI  VII VIII   IX    X   XI \n",
       "3112 4418 1705 2728 3435 1849 3851 3662 6167 2403 2309 "
      ]
     },
     "metadata": {},
     "output_type": "display_data"
    }
   ],
   "source": [
    "n=read.delim(\"../analysis/GENIE3.top10_target_ranks.communities_PLM.with_node_centralities.csv\",sep=\";\",stringsAsFactors=FALSE)\n",
    "n=n[n$community %in% c(0,as.character(as.roman(1:11))),]\n",
    "n=transform(n,community=factor(n$community,levels=l[-1]))\n",
    "head(n)\n",
    "table(n$community)"
   ]
  },
  {
   "cell_type": "code",
   "execution_count": 4,
   "metadata": {},
   "outputs": [],
   "source": [
    "n$is_regulator=n$geneid %in% unique(a$regulatoryGene)"
   ]
  },
  {
   "cell_type": "code",
   "execution_count": 5,
   "metadata": {},
   "outputs": [
    {
     "data": {
      "text/html": [
       "<table>\n",
       "<thead><tr><th scope=col>geneid</th><th scope=col>spectype</th><th scope=col>origin</th><th scope=col>name</th><th scope=col>superfamily</th><th scope=col>inferred_by_rule</th><th scope=col>TAP_class</th><th scope=col>combined_name</th></tr></thead>\n",
       "<tbody>\n",
       "\t<tr><td>Pp3c1_10451.pre_miRNA</td><td>pre_miRNA            </td><td>mirbase              </td><td>MI0006045,ppt-MIR1079</td><td>                     </td><td>                     </td><td>                     </td><td>MI0006045,ppt-MIR1079</td></tr>\n",
       "\t<tr><td>Pp3c1_10620.mRNA     </td><td>mRNA                 </td><td>cosmoss              </td><td>mscl12,MSCL12        </td><td>                     </td><td>                     </td><td>                     </td><td>mscl12,MSCL12        </td></tr>\n",
       "\t<tr><td>Pp3c1_110.mRNA       </td><td>mRNA                 </td><td>cosmoss              </td><td>                     </td><td>OFP                  </td><td>True                 </td><td>TR                   </td><td>OFP                  </td></tr>\n",
       "\t<tr><td>Pp3c1_11190.mRNA     </td><td>mRNA                 </td><td>cosmoss              </td><td>                     </td><td>TRAF                 </td><td>True                 </td><td>TR                   </td><td>TRAF                 </td></tr>\n",
       "\t<tr><td>Pp3c1_11420.mRNA     </td><td>mRNA                 </td><td>cosmoss              </td><td>NOG-1                </td><td>                     </td><td>                     </td><td>                     </td><td>NOG-1                </td></tr>\n",
       "\t<tr><td>Pp3c1_1170.mRNA      </td><td>mRNA                 </td><td>cosmoss              </td><td>hdma1504,HDMA1504    </td><td>SWI/SNF_SWI3         </td><td>True                 </td><td>TR                   </td><td>hdma1504,HDMA1504    </td></tr>\n",
       "</tbody>\n",
       "</table>\n"
      ],
      "text/latex": [
       "\\begin{tabular}{r|llllllll}\n",
       " geneid & spectype & origin & name & superfamily & inferred\\_by\\_rule & TAP\\_class & combined\\_name\\\\\n",
       "\\hline\n",
       "\t Pp3c1\\_10451.pre\\_miRNA & pre\\_miRNA               & mirbase                   & MI0006045,ppt-MIR1079     &                           &                           &                           & MI0006045,ppt-MIR1079    \\\\\n",
       "\t Pp3c1\\_10620.mRNA      & mRNA                    & cosmoss                 & mscl12,MSCL12           &                         &                         &                         & mscl12,MSCL12          \\\\\n",
       "\t Pp3c1\\_110.mRNA        & mRNA                    & cosmoss                 &                         & OFP                     & True                    & TR                      & OFP                    \\\\\n",
       "\t Pp3c1\\_11190.mRNA      & mRNA                    & cosmoss                 &                         & TRAF                    & True                    & TR                      & TRAF                   \\\\\n",
       "\t Pp3c1\\_11420.mRNA      & mRNA                    & cosmoss                 & NOG-1                   &                         &                         &                         & NOG-1                  \\\\\n",
       "\t Pp3c1\\_1170.mRNA       & mRNA                    & cosmoss                 & hdma1504,HDMA1504       & SWI/SNF\\_SWI3          & True                    & TR                      & hdma1504,HDMA1504      \\\\\n",
       "\\end{tabular}\n"
      ],
      "text/markdown": [
       "\n",
       "| geneid | spectype | origin | name | superfamily | inferred_by_rule | TAP_class | combined_name |\n",
       "|---|---|---|---|---|---|---|---|\n",
       "| Pp3c1_10451.pre_miRNA | pre_miRNA             | mirbase               | MI0006045,ppt-MIR1079 |                       |                       |                       | MI0006045,ppt-MIR1079 |\n",
       "| Pp3c1_10620.mRNA      | mRNA                  | cosmoss               | mscl12,MSCL12         |                       |                       |                       | mscl12,MSCL12         |\n",
       "| Pp3c1_110.mRNA        | mRNA                  | cosmoss               |                       | OFP                   | True                  | TR                    | OFP                   |\n",
       "| Pp3c1_11190.mRNA      | mRNA                  | cosmoss               |                       | TRAF                  | True                  | TR                    | TRAF                  |\n",
       "| Pp3c1_11420.mRNA      | mRNA                  | cosmoss               | NOG-1                 |                       |                       |                       | NOG-1                 |\n",
       "| Pp3c1_1170.mRNA       | mRNA                  | cosmoss               | hdma1504,HDMA1504     | SWI/SNF_SWI3          | True                  | TR                    | hdma1504,HDMA1504     |\n",
       "\n"
      ],
      "text/plain": [
       "  geneid                spectype  origin  name                  superfamily \n",
       "1 Pp3c1_10451.pre_miRNA pre_miRNA mirbase MI0006045,ppt-MIR1079             \n",
       "2 Pp3c1_10620.mRNA      mRNA      cosmoss mscl12,MSCL12                     \n",
       "3 Pp3c1_110.mRNA        mRNA      cosmoss                       OFP         \n",
       "4 Pp3c1_11190.mRNA      mRNA      cosmoss                       TRAF        \n",
       "5 Pp3c1_11420.mRNA      mRNA      cosmoss NOG-1                             \n",
       "6 Pp3c1_1170.mRNA       mRNA      cosmoss hdma1504,HDMA1504     SWI/SNF_SWI3\n",
       "  inferred_by_rule TAP_class combined_name        \n",
       "1                            MI0006045,ppt-MIR1079\n",
       "2                            mscl12,MSCL12        \n",
       "3 True             TR        OFP                  \n",
       "4 True             TR        TRAF                 \n",
       "5                            NOG-1                \n",
       "6 True             TR        hdma1504,HDMA1504    "
      ]
     },
     "metadata": {},
     "output_type": "display_data"
    },
    {
     "data": {
      "text/plain": [
       "       \n",
       "        FALSE  TRUE\n",
       "  FALSE 33970     0\n",
       "  TRUE    695   974"
      ]
     },
     "metadata": {},
     "output_type": "display_data"
    }
   ],
   "source": [
    "regr=read.delim(\"TAP_or_named.tsv\",sep=\"\\t\",stringsAsFactors=FALSE)\n",
    "head(regr)\n",
    "n$is_TF=n$geneid %in% subset(regr,TAP_class==\"TF\")$geneid\n",
    "table(n$is_regulator,n$is_TF)"
   ]
  },
  {
   "cell_type": "code",
   "execution_count": 6,
   "metadata": {},
   "outputs": [
    {
     "data": {
      "text/html": [
       "<table>\n",
       "<thead><tr><th></th><th scope=col>spectype</th><th scope=col>origin</th><th scope=col>name</th><th scope=col>superfamily</th><th scope=col>TAP_class</th><th scope=col>defline</th><th scope=col>deltaDEK_vs_OE.b_wt</th><th scope=col>WT_vs_deltaDEK.b_wt</th><th scope=col>WT_vs_LG3.b_wt</th><th scope=col>WT_vs_Loop.b_wt</th><th scope=col>⋯</th><th scope=col>elongation_caulonema.late.reduced_vs_normal.qval_lrt</th><th scope=col>gametophore_formation.aberrant_vs_normal.qval_lrt</th><th scope=col>gametophore_formation.arrested_vs_normal.qval_lrt</th><th scope=col>gametophore_formation.delayed_vs_normal.qval_lrt</th><th scope=col>number_buds_per_filament.high_vs_normal.qval_lrt</th><th scope=col>percents_filaments_with_buds.high_vs_normal.qval_lrt</th><th scope=col>percents_filaments_with_buds.low_vs_normal.qval_lrt</th><th scope=col>protonemata_branching.aberrant_vs_normal.qval_lrt</th><th scope=col>rhizoid_formation.delayed_vs_normal.qval_lrt</th><th scope=col>rhizoid_formation.ectopic_vs_normal.qval_lrt</th></tr></thead>\n",
       "<tbody>\n",
       "\t<tr><th scope=row>Pp3c1_100.mRNA</th><td>mRNA                                                                              </td><td>cosmoss                                                                           </td><td>                                                                                  </td><td>NA                                                                                </td><td>NA                                                                                </td><td>PTHR19139//PTHR19139:SF147 - AQUAPORIN TRANSPORTER // SUBFAMILY NOT NAMED (1 of 1)</td><td>-0.14447429                                                                       </td><td> 0.03519676                                                                       </td><td> 0.262197137                                                                      </td><td> 0.07392628                                                                       </td><td>⋯                                                                                 </td><td>0.3369932                                                                         </td><td>0.2364591                                                                         </td><td>0.5566207                                                                         </td><td>1.000000000                                                                       </td><td>0.9484040                                                                         </td><td>0.7356034                                                                         </td><td>0.7026984                                                                         </td><td>0.2035819                                                                         </td><td>1.878378e-01                                                                      </td><td>0.7446988                                                                         </td></tr>\n",
       "\t<tr><th scope=row>Pp3c1_1000.mRNA</th><td>mRNA                                                                              </td><td>cosmoss                                                                           </td><td>                                                                                  </td><td>NA                                                                                </td><td>NA                                                                                </td><td>                                                                                  </td><td>-0.27292998                                                                       </td><td>-0.05173580                                                                       </td><td>-0.009327494                                                                      </td><td>-0.11139047                                                                       </td><td>⋯                                                                                 </td><td>0.5332108                                                                         </td><td>0.4095824                                                                         </td><td>0.3752901                                                                         </td><td>0.001433834                                                                       </td><td>0.9769126                                                                         </td><td>0.5500804                                                                         </td><td>0.4910445                                                                         </td><td>0.3866815                                                                         </td><td>4.058102e-05                                                                      </td><td>0.3464745                                                                         </td></tr>\n",
       "\t<tr><th scope=row>Pp3c1_10000.mRNA</th><td>mRNA                                                                              </td><td>cosmoss                                                                           </td><td>                                                                                  </td><td>NA                                                                                </td><td>NA                                                                                </td><td>K00021 - hydroxymethylglutaryl-CoA reductase (NADPH) (HMGCR)  (1 of 3)            </td><td> 0.09853629                                                                       </td><td>-0.12750588                                                                       </td><td> 0.144333576                                                                      </td><td>-0.05030005                                                                       </td><td>⋯                                                                                 </td><td>1.0000000                                                                         </td><td>0.4095824                                                                         </td><td>1.0000000                                                                         </td><td>0.653042712                                                                       </td><td>0.2606938                                                                         </td><td>0.6395874                                                                         </td><td>0.8204697                                                                         </td><td>0.8653970                                                                         </td><td>1.000000e+00                                                                      </td><td>0.5573633                                                                         </td></tr>\n",
       "\t<tr><th scope=row>Pp3c1_10010.mRNA</th><td>mRNA                                                                              </td><td>cosmoss                                                                           </td><td>                                                                                  </td><td>NA                                                                                </td><td>NA                                                                                </td><td>PTHR11451:SF41 - GLUTAMATE--TRNA LIGASE, MITOCHONDRIAL-RELATED (1 of 1)           </td><td>-0.20581712                                                                       </td><td> 0.03086996                                                                       </td><td> 0.019516436                                                                      </td><td>-0.07224085                                                                       </td><td>⋯                                                                                 </td><td>0.6329936                                                                         </td><td>0.6527880                                                                         </td><td>1.0000000                                                                         </td><td>0.164413823                                                                       </td><td>0.4195042                                                                         </td><td>1.0000000                                                                         </td><td>0.7382343                                                                         </td><td>0.4440858                                                                         </td><td>4.620523e-02                                                                      </td><td>1.0000000                                                                         </td></tr>\n",
       "\t<tr><th scope=row>Pp3c1_10040.mRNA</th><td>mRNA                                                                              </td><td>cosmoss                                                                           </td><td>                                                                                  </td><td>NA                                                                                </td><td>NA                                                                                </td><td>K14846 - ribosome production factor 1 (RPF1)  (1 of 1)                            </td><td>-0.17333214                                                                       </td><td>-0.01953257                                                                       </td><td> 0.088532877                                                                      </td><td>-0.02856157                                                                       </td><td>⋯                                                                                 </td><td>0.5752269                                                                         </td><td>0.1459987                                                                         </td><td>0.4990066                                                                         </td><td>0.021573836                                                                       </td><td>0.3754352                                                                         </td><td>0.6495691                                                                         </td><td>0.8001721                                                                         </td><td>0.3658798                                                                         </td><td>4.540952e-04                                                                      </td><td>0.2623199                                                                         </td></tr>\n",
       "\t<tr><th scope=row>Pp3c1_10050.mRNA</th><td>mRNA                                                                              </td><td>cosmoss                                                                           </td><td>                                                                                  </td><td>NA                                                                                </td><td>NA                                                                                </td><td>3.1.1.56 - Methylumbelliferyl-acetate deacetylase / Esterase D (1 of 1)           </td><td> 0.33416986                                                                       </td><td>-0.18787943                                                                       </td><td> 0.317312864                                                                      </td><td>-0.14652969                                                                       </td><td>⋯                                                                                 </td><td>0.5644653                                                                         </td><td>0.3874502                                                                         </td><td>0.5136794                                                                         </td><td>0.091799361                                                                       </td><td>0.2434924                                                                         </td><td>       NA                                                                         </td><td>0.5881345                                                                         </td><td>0.4013159                                                                         </td><td>1.340674e-01                                                                      </td><td>0.5693843                                                                         </td></tr>\n",
       "</tbody>\n",
       "</table>\n"
      ],
      "text/latex": [
       "\\begin{tabular}{r|llllllllllllllllllllllllllllllllllllllllllllllllllllllllllllllllllllllll}\n",
       "  & spectype & origin & name & superfamily & TAP\\_class & defline & deltaDEK\\_vs\\_OE.b\\_wt & WT\\_vs\\_deltaDEK.b\\_wt & WT\\_vs\\_LG3.b\\_wt & WT\\_vs\\_Loop.b\\_wt & ⋯ & elongation\\_caulonema.late.reduced\\_vs\\_normal.qval\\_lrt & gametophore\\_formation.aberrant\\_vs\\_normal.qval\\_lrt & gametophore\\_formation.arrested\\_vs\\_normal.qval\\_lrt & gametophore\\_formation.delayed\\_vs\\_normal.qval\\_lrt & number\\_buds\\_per\\_filament.high\\_vs\\_normal.qval\\_lrt & percents\\_filaments\\_with\\_buds.high\\_vs\\_normal.qval\\_lrt & percents\\_filaments\\_with\\_buds.low\\_vs\\_normal.qval\\_lrt & protonemata\\_branching.aberrant\\_vs\\_normal.qval\\_lrt & rhizoid\\_formation.delayed\\_vs\\_normal.qval\\_lrt & rhizoid\\_formation.ectopic\\_vs\\_normal.qval\\_lrt\\\\\n",
       "\\hline\n",
       "\tPp3c1\\_100.mRNA & mRNA                                                                               & cosmoss                                                                            &                                                                                    & NA                                                                                 & NA                                                                                 & PTHR19139//PTHR19139:SF147 - AQUAPORIN TRANSPORTER // SUBFAMILY NOT NAMED (1 of 1) & -0.14447429                                                                        &  0.03519676                                                                        &  0.262197137                                                                       &  0.07392628                                                                        & ⋯                                                                                  & 0.3369932                                                                          & 0.2364591                                                                          & 0.5566207                                                                          & 1.000000000                                                                        & 0.9484040                                                                          & 0.7356034                                                                          & 0.7026984                                                                          & 0.2035819                                                                          & 1.878378e-01                                                                       & 0.7446988                                                                         \\\\\n",
       "\tPp3c1\\_1000.mRNA & mRNA                                                                               & cosmoss                                                                            &                                                                                    & NA                                                                                 & NA                                                                                 &                                                                                    & -0.27292998                                                                        & -0.05173580                                                                        & -0.009327494                                                                       & -0.11139047                                                                        & ⋯                                                                                  & 0.5332108                                                                          & 0.4095824                                                                          & 0.3752901                                                                          & 0.001433834                                                                        & 0.9769126                                                                          & 0.5500804                                                                          & 0.4910445                                                                          & 0.3866815                                                                          & 4.058102e-05                                                                       & 0.3464745                                                                         \\\\\n",
       "\tPp3c1\\_10000.mRNA & mRNA                                                                               & cosmoss                                                                            &                                                                                    & NA                                                                                 & NA                                                                                 & K00021 - hydroxymethylglutaryl-CoA reductase (NADPH) (HMGCR)  (1 of 3)             &  0.09853629                                                                        & -0.12750588                                                                        &  0.144333576                                                                       & -0.05030005                                                                        & ⋯                                                                                  & 1.0000000                                                                          & 0.4095824                                                                          & 1.0000000                                                                          & 0.653042712                                                                        & 0.2606938                                                                          & 0.6395874                                                                          & 0.8204697                                                                          & 0.8653970                                                                          & 1.000000e+00                                                                       & 0.5573633                                                                         \\\\\n",
       "\tPp3c1\\_10010.mRNA & mRNA                                                                               & cosmoss                                                                            &                                                                                    & NA                                                                                 & NA                                                                                 & PTHR11451:SF41 - GLUTAMATE--TRNA LIGASE, MITOCHONDRIAL-RELATED (1 of 1)            & -0.20581712                                                                        &  0.03086996                                                                        &  0.019516436                                                                       & -0.07224085                                                                        & ⋯                                                                                  & 0.6329936                                                                          & 0.6527880                                                                          & 1.0000000                                                                          & 0.164413823                                                                        & 0.4195042                                                                          & 1.0000000                                                                          & 0.7382343                                                                          & 0.4440858                                                                          & 4.620523e-02                                                                       & 1.0000000                                                                         \\\\\n",
       "\tPp3c1\\_10040.mRNA & mRNA                                                                               & cosmoss                                                                            &                                                                                    & NA                                                                                 & NA                                                                                 & K14846 - ribosome production factor 1 (RPF1)  (1 of 1)                             & -0.17333214                                                                        & -0.01953257                                                                        &  0.088532877                                                                       & -0.02856157                                                                        & ⋯                                                                                  & 0.5752269                                                                          & 0.1459987                                                                          & 0.4990066                                                                          & 0.021573836                                                                        & 0.3754352                                                                          & 0.6495691                                                                          & 0.8001721                                                                          & 0.3658798                                                                          & 4.540952e-04                                                                       & 0.2623199                                                                         \\\\\n",
       "\tPp3c1\\_10050.mRNA & mRNA                                                                               & cosmoss                                                                            &                                                                                    & NA                                                                                 & NA                                                                                 & 3.1.1.56 - Methylumbelliferyl-acetate deacetylase / Esterase D (1 of 1)            &  0.33416986                                                                        & -0.18787943                                                                        &  0.317312864                                                                       & -0.14652969                                                                        & ⋯                                                                                  & 0.5644653                                                                          & 0.3874502                                                                          & 0.5136794                                                                          & 0.091799361                                                                        & 0.2434924                                                                          &        NA                                                                          & 0.5881345                                                                          & 0.4013159                                                                          & 1.340674e-01                                                                       & 0.5693843                                                                         \\\\\n",
       "\\end{tabular}\n"
      ],
      "text/markdown": [
       "\n",
       "| <!--/--> | spectype | origin | name | superfamily | TAP_class | defline | deltaDEK_vs_OE.b_wt | WT_vs_deltaDEK.b_wt | WT_vs_LG3.b_wt | WT_vs_Loop.b_wt | ⋯ | elongation_caulonema.late.reduced_vs_normal.qval_lrt | gametophore_formation.aberrant_vs_normal.qval_lrt | gametophore_formation.arrested_vs_normal.qval_lrt | gametophore_formation.delayed_vs_normal.qval_lrt | number_buds_per_filament.high_vs_normal.qval_lrt | percents_filaments_with_buds.high_vs_normal.qval_lrt | percents_filaments_with_buds.low_vs_normal.qval_lrt | protonemata_branching.aberrant_vs_normal.qval_lrt | rhizoid_formation.delayed_vs_normal.qval_lrt | rhizoid_formation.ectopic_vs_normal.qval_lrt |\n",
       "|---|---|---|---|---|---|---|---|---|---|---|---|---|---|---|---|---|---|---|---|---|---|\n",
       "| Pp3c1_100.mRNA | mRNA                                                                               | cosmoss                                                                            |                                                                                    | NA                                                                                 | NA                                                                                 | PTHR19139//PTHR19139:SF147 - AQUAPORIN TRANSPORTER // SUBFAMILY NOT NAMED (1 of 1) | -0.14447429                                                                        |  0.03519676                                                                        |  0.262197137                                                                       |  0.07392628                                                                        | ⋯                                                                                  | 0.3369932                                                                          | 0.2364591                                                                          | 0.5566207                                                                          | 1.000000000                                                                        | 0.9484040                                                                          | 0.7356034                                                                          | 0.7026984                                                                          | 0.2035819                                                                          | 1.878378e-01                                                                       | 0.7446988                                                                          |\n",
       "| Pp3c1_1000.mRNA | mRNA                                                                               | cosmoss                                                                            |                                                                                    | NA                                                                                 | NA                                                                                 |                                                                                    | -0.27292998                                                                        | -0.05173580                                                                        | -0.009327494                                                                       | -0.11139047                                                                        | ⋯                                                                                  | 0.5332108                                                                          | 0.4095824                                                                          | 0.3752901                                                                          | 0.001433834                                                                        | 0.9769126                                                                          | 0.5500804                                                                          | 0.4910445                                                                          | 0.3866815                                                                          | 4.058102e-05                                                                       | 0.3464745                                                                          |\n",
       "| Pp3c1_10000.mRNA | mRNA                                                                               | cosmoss                                                                            |                                                                                    | NA                                                                                 | NA                                                                                 | K00021 - hydroxymethylglutaryl-CoA reductase (NADPH) (HMGCR)  (1 of 3)             |  0.09853629                                                                        | -0.12750588                                                                        |  0.144333576                                                                       | -0.05030005                                                                        | ⋯                                                                                  | 1.0000000                                                                          | 0.4095824                                                                          | 1.0000000                                                                          | 0.653042712                                                                        | 0.2606938                                                                          | 0.6395874                                                                          | 0.8204697                                                                          | 0.8653970                                                                          | 1.000000e+00                                                                       | 0.5573633                                                                          |\n",
       "| Pp3c1_10010.mRNA | mRNA                                                                               | cosmoss                                                                            |                                                                                    | NA                                                                                 | NA                                                                                 | PTHR11451:SF41 - GLUTAMATE--TRNA LIGASE, MITOCHONDRIAL-RELATED (1 of 1)            | -0.20581712                                                                        |  0.03086996                                                                        |  0.019516436                                                                       | -0.07224085                                                                        | ⋯                                                                                  | 0.6329936                                                                          | 0.6527880                                                                          | 1.0000000                                                                          | 0.164413823                                                                        | 0.4195042                                                                          | 1.0000000                                                                          | 0.7382343                                                                          | 0.4440858                                                                          | 4.620523e-02                                                                       | 1.0000000                                                                          |\n",
       "| Pp3c1_10040.mRNA | mRNA                                                                               | cosmoss                                                                            |                                                                                    | NA                                                                                 | NA                                                                                 | K14846 - ribosome production factor 1 (RPF1)  (1 of 1)                             | -0.17333214                                                                        | -0.01953257                                                                        |  0.088532877                                                                       | -0.02856157                                                                        | ⋯                                                                                  | 0.5752269                                                                          | 0.1459987                                                                          | 0.4990066                                                                          | 0.021573836                                                                        | 0.3754352                                                                          | 0.6495691                                                                          | 0.8001721                                                                          | 0.3658798                                                                          | 4.540952e-04                                                                       | 0.2623199                                                                          |\n",
       "| Pp3c1_10050.mRNA | mRNA                                                                               | cosmoss                                                                            |                                                                                    | NA                                                                                 | NA                                                                                 | 3.1.1.56 - Methylumbelliferyl-acetate deacetylase / Esterase D (1 of 1)            |  0.33416986                                                                        | -0.18787943                                                                        |  0.317312864                                                                       | -0.14652969                                                                        | ⋯                                                                                  | 0.5644653                                                                          | 0.3874502                                                                          | 0.5136794                                                                          | 0.091799361                                                                        | 0.2434924                                                                          |        NA                                                                          | 0.5881345                                                                          | 0.4013159                                                                          | 1.340674e-01                                                                       | 0.5693843                                                                          |\n",
       "\n"
      ],
      "text/plain": [
       "                 spectype origin  name superfamily TAP_class\n",
       "Pp3c1_100.mRNA   mRNA     cosmoss      NA          NA       \n",
       "Pp3c1_1000.mRNA  mRNA     cosmoss      NA          NA       \n",
       "Pp3c1_10000.mRNA mRNA     cosmoss      NA          NA       \n",
       "Pp3c1_10010.mRNA mRNA     cosmoss      NA          NA       \n",
       "Pp3c1_10040.mRNA mRNA     cosmoss      NA          NA       \n",
       "Pp3c1_10050.mRNA mRNA     cosmoss      NA          NA       \n",
       "                 defline                                                                           \n",
       "Pp3c1_100.mRNA   PTHR19139//PTHR19139:SF147 - AQUAPORIN TRANSPORTER // SUBFAMILY NOT NAMED (1 of 1)\n",
       "Pp3c1_1000.mRNA                                                                                    \n",
       "Pp3c1_10000.mRNA K00021 - hydroxymethylglutaryl-CoA reductase (NADPH) (HMGCR)  (1 of 3)            \n",
       "Pp3c1_10010.mRNA PTHR11451:SF41 - GLUTAMATE--TRNA LIGASE, MITOCHONDRIAL-RELATED (1 of 1)           \n",
       "Pp3c1_10040.mRNA K14846 - ribosome production factor 1 (RPF1)  (1 of 1)                            \n",
       "Pp3c1_10050.mRNA 3.1.1.56 - Methylumbelliferyl-acetate deacetylase / Esterase D (1 of 1)           \n",
       "                 deltaDEK_vs_OE.b_wt WT_vs_deltaDEK.b_wt WT_vs_LG3.b_wt\n",
       "Pp3c1_100.mRNA   -0.14447429          0.03519676          0.262197137  \n",
       "Pp3c1_1000.mRNA  -0.27292998         -0.05173580         -0.009327494  \n",
       "Pp3c1_10000.mRNA  0.09853629         -0.12750588          0.144333576  \n",
       "Pp3c1_10010.mRNA -0.20581712          0.03086996          0.019516436  \n",
       "Pp3c1_10040.mRNA -0.17333214         -0.01953257          0.088532877  \n",
       "Pp3c1_10050.mRNA  0.33416986         -0.18787943          0.317312864  \n",
       "                 WT_vs_Loop.b_wt ⋯\n",
       "Pp3c1_100.mRNA    0.07392628     ⋯\n",
       "Pp3c1_1000.mRNA  -0.11139047     ⋯\n",
       "Pp3c1_10000.mRNA -0.05030005     ⋯\n",
       "Pp3c1_10010.mRNA -0.07224085     ⋯\n",
       "Pp3c1_10040.mRNA -0.02856157     ⋯\n",
       "Pp3c1_10050.mRNA -0.14652969     ⋯\n",
       "                 elongation_caulonema.late.reduced_vs_normal.qval_lrt\n",
       "Pp3c1_100.mRNA   0.3369932                                           \n",
       "Pp3c1_1000.mRNA  0.5332108                                           \n",
       "Pp3c1_10000.mRNA 1.0000000                                           \n",
       "Pp3c1_10010.mRNA 0.6329936                                           \n",
       "Pp3c1_10040.mRNA 0.5752269                                           \n",
       "Pp3c1_10050.mRNA 0.5644653                                           \n",
       "                 gametophore_formation.aberrant_vs_normal.qval_lrt\n",
       "Pp3c1_100.mRNA   0.2364591                                        \n",
       "Pp3c1_1000.mRNA  0.4095824                                        \n",
       "Pp3c1_10000.mRNA 0.4095824                                        \n",
       "Pp3c1_10010.mRNA 0.6527880                                        \n",
       "Pp3c1_10040.mRNA 0.1459987                                        \n",
       "Pp3c1_10050.mRNA 0.3874502                                        \n",
       "                 gametophore_formation.arrested_vs_normal.qval_lrt\n",
       "Pp3c1_100.mRNA   0.5566207                                        \n",
       "Pp3c1_1000.mRNA  0.3752901                                        \n",
       "Pp3c1_10000.mRNA 1.0000000                                        \n",
       "Pp3c1_10010.mRNA 1.0000000                                        \n",
       "Pp3c1_10040.mRNA 0.4990066                                        \n",
       "Pp3c1_10050.mRNA 0.5136794                                        \n",
       "                 gametophore_formation.delayed_vs_normal.qval_lrt\n",
       "Pp3c1_100.mRNA   1.000000000                                     \n",
       "Pp3c1_1000.mRNA  0.001433834                                     \n",
       "Pp3c1_10000.mRNA 0.653042712                                     \n",
       "Pp3c1_10010.mRNA 0.164413823                                     \n",
       "Pp3c1_10040.mRNA 0.021573836                                     \n",
       "Pp3c1_10050.mRNA 0.091799361                                     \n",
       "                 number_buds_per_filament.high_vs_normal.qval_lrt\n",
       "Pp3c1_100.mRNA   0.9484040                                       \n",
       "Pp3c1_1000.mRNA  0.9769126                                       \n",
       "Pp3c1_10000.mRNA 0.2606938                                       \n",
       "Pp3c1_10010.mRNA 0.4195042                                       \n",
       "Pp3c1_10040.mRNA 0.3754352                                       \n",
       "Pp3c1_10050.mRNA 0.2434924                                       \n",
       "                 percents_filaments_with_buds.high_vs_normal.qval_lrt\n",
       "Pp3c1_100.mRNA   0.7356034                                           \n",
       "Pp3c1_1000.mRNA  0.5500804                                           \n",
       "Pp3c1_10000.mRNA 0.6395874                                           \n",
       "Pp3c1_10010.mRNA 1.0000000                                           \n",
       "Pp3c1_10040.mRNA 0.6495691                                           \n",
       "Pp3c1_10050.mRNA        NA                                           \n",
       "                 percents_filaments_with_buds.low_vs_normal.qval_lrt\n",
       "Pp3c1_100.mRNA   0.7026984                                          \n",
       "Pp3c1_1000.mRNA  0.4910445                                          \n",
       "Pp3c1_10000.mRNA 0.8204697                                          \n",
       "Pp3c1_10010.mRNA 0.7382343                                          \n",
       "Pp3c1_10040.mRNA 0.8001721                                          \n",
       "Pp3c1_10050.mRNA 0.5881345                                          \n",
       "                 protonemata_branching.aberrant_vs_normal.qval_lrt\n",
       "Pp3c1_100.mRNA   0.2035819                                        \n",
       "Pp3c1_1000.mRNA  0.3866815                                        \n",
       "Pp3c1_10000.mRNA 0.8653970                                        \n",
       "Pp3c1_10010.mRNA 0.4440858                                        \n",
       "Pp3c1_10040.mRNA 0.3658798                                        \n",
       "Pp3c1_10050.mRNA 0.4013159                                        \n",
       "                 rhizoid_formation.delayed_vs_normal.qval_lrt\n",
       "Pp3c1_100.mRNA   1.878378e-01                                \n",
       "Pp3c1_1000.mRNA  4.058102e-05                                \n",
       "Pp3c1_10000.mRNA 1.000000e+00                                \n",
       "Pp3c1_10010.mRNA 4.620523e-02                                \n",
       "Pp3c1_10040.mRNA 4.540952e-04                                \n",
       "Pp3c1_10050.mRNA 1.340674e-01                                \n",
       "                 rhizoid_formation.ectopic_vs_normal.qval_lrt\n",
       "Pp3c1_100.mRNA   0.7446988                                   \n",
       "Pp3c1_1000.mRNA  0.3464745                                   \n",
       "Pp3c1_10000.mRNA 0.5573633                                   \n",
       "Pp3c1_10010.mRNA 1.0000000                                   \n",
       "Pp3c1_10040.mRNA 0.2623199                                   \n",
       "Pp3c1_10050.mRNA 0.5693843                                   "
      ]
     },
     "metadata": {},
     "output_type": "display_data"
    }
   ],
   "source": [
    "d=read.delim(gzfile(\"DEK1_study.DEGs.minimal_info.tsv.gz\"),sep=\"\\t\",row.names=1)\n",
    "head(d)"
   ]
  },
  {
   "cell_type": "code",
   "execution_count": 7,
   "metadata": {},
   "outputs": [
    {
     "data": {
      "text/html": [
       "<ol class=list-inline>\n",
       "\t<li>'deltaDEK_vs_OE.b_wt'</li>\n",
       "\t<li>'WT_vs_deltaDEK.b_wt'</li>\n",
       "\t<li>'WT_vs_LG3.b_wt'</li>\n",
       "\t<li>'WT_vs_Loop.b_wt'</li>\n",
       "\t<li>'WT_vs_OE.b_wt'</li>\n",
       "</ol>\n"
      ],
      "text/latex": [
       "\\begin{enumerate*}\n",
       "\\item 'deltaDEK\\_vs\\_OE.b\\_wt'\n",
       "\\item 'WT\\_vs\\_deltaDEK.b\\_wt'\n",
       "\\item 'WT\\_vs\\_LG3.b\\_wt'\n",
       "\\item 'WT\\_vs\\_Loop.b\\_wt'\n",
       "\\item 'WT\\_vs\\_OE.b\\_wt'\n",
       "\\end{enumerate*}\n"
      ],
      "text/markdown": [
       "1. 'deltaDEK_vs_OE.b_wt'\n",
       "2. 'WT_vs_deltaDEK.b_wt'\n",
       "3. 'WT_vs_LG3.b_wt'\n",
       "4. 'WT_vs_Loop.b_wt'\n",
       "5. 'WT_vs_OE.b_wt'\n",
       "\n",
       "\n"
      ],
      "text/plain": [
       "[1] \"deltaDEK_vs_OE.b_wt\" \"WT_vs_deltaDEK.b_wt\" \"WT_vs_LG3.b_wt\"     \n",
       "[4] \"WT_vs_Loop.b_wt\"     \"WT_vs_OE.b_wt\"      "
      ]
     },
     "metadata": {},
     "output_type": "display_data"
    }
   ],
   "source": [
    "#names(d)[29:33]\n",
    "names(d)[7:11]"
   ]
  },
  {
   "cell_type": "code",
   "execution_count": 8,
   "metadata": {},
   "outputs": [
    {
     "data": {
      "text/html": [
       "<ol class=list-inline>\n",
       "\t<li>'id'</li>\n",
       "\t<li>'sites_raw'</li>\n",
       "\t<li>'len'</li>\n",
       "\t<li>'tertiary_deaminated_raw'</li>\n",
       "\t<li>'tertiary_oxidized_or_acetylated_raw'</li>\n",
       "\t<li>'secondary_ATE_raw'</li>\n",
       "\t<li>'secondary_peptidase_raw'</li>\n",
       "\t<li>'primary_acetylated_raw'</li>\n",
       "\t<li>'ratio'</li>\n",
       "\t<li>'lratio'</li>\n",
       "\t<li>'SLC'</li>\n",
       "\t<li>'sites_rel'</li>\n",
       "\t<li>'tertiary_deaminated_rel'</li>\n",
       "\t<li>'tertiary_oxidized_or_acetylated_rel'</li>\n",
       "\t<li>'secondary_ATE_rel'</li>\n",
       "\t<li>'secondary_peptidase_rel'</li>\n",
       "\t<li>'primary_acetylated_rel'</li>\n",
       "\t<li>'clust'</li>\n",
       "\t<li>'uncertainty'</li>\n",
       "\t<li>'U1'</li>\n",
       "\t<li>'U2'</li>\n",
       "\t<li>'U3'</li>\n",
       "\t<li>'fate'</li>\n",
       "\t<li>'fate_strict'</li>\n",
       "</ol>\n"
      ],
      "text/latex": [
       "\\begin{enumerate*}\n",
       "\\item 'id'\n",
       "\\item 'sites\\_raw'\n",
       "\\item 'len'\n",
       "\\item 'tertiary\\_deaminated\\_raw'\n",
       "\\item 'tertiary\\_oxidized\\_or\\_acetylated\\_raw'\n",
       "\\item 'secondary\\_ATE\\_raw'\n",
       "\\item 'secondary\\_peptidase\\_raw'\n",
       "\\item 'primary\\_acetylated\\_raw'\n",
       "\\item 'ratio'\n",
       "\\item 'lratio'\n",
       "\\item 'SLC'\n",
       "\\item 'sites\\_rel'\n",
       "\\item 'tertiary\\_deaminated\\_rel'\n",
       "\\item 'tertiary\\_oxidized\\_or\\_acetylated\\_rel'\n",
       "\\item 'secondary\\_ATE\\_rel'\n",
       "\\item 'secondary\\_peptidase\\_rel'\n",
       "\\item 'primary\\_acetylated\\_rel'\n",
       "\\item 'clust'\n",
       "\\item 'uncertainty'\n",
       "\\item 'U1'\n",
       "\\item 'U2'\n",
       "\\item 'U3'\n",
       "\\item 'fate'\n",
       "\\item 'fate\\_strict'\n",
       "\\end{enumerate*}\n"
      ],
      "text/markdown": [
       "1. 'id'\n",
       "2. 'sites_raw'\n",
       "3. 'len'\n",
       "4. 'tertiary_deaminated_raw'\n",
       "5. 'tertiary_oxidized_or_acetylated_raw'\n",
       "6. 'secondary_ATE_raw'\n",
       "7. 'secondary_peptidase_raw'\n",
       "8. 'primary_acetylated_raw'\n",
       "9. 'ratio'\n",
       "10. 'lratio'\n",
       "11. 'SLC'\n",
       "12. 'sites_rel'\n",
       "13. 'tertiary_deaminated_rel'\n",
       "14. 'tertiary_oxidized_or_acetylated_rel'\n",
       "15. 'secondary_ATE_rel'\n",
       "16. 'secondary_peptidase_rel'\n",
       "17. 'primary_acetylated_rel'\n",
       "18. 'clust'\n",
       "19. 'uncertainty'\n",
       "20. 'U1'\n",
       "21. 'U2'\n",
       "22. 'U3'\n",
       "23. 'fate'\n",
       "24. 'fate_strict'\n",
       "\n",
       "\n"
      ],
      "text/plain": [
       " [1] \"id\"                                  \"sites_raw\"                          \n",
       " [3] \"len\"                                 \"tertiary_deaminated_raw\"            \n",
       " [5] \"tertiary_oxidized_or_acetylated_raw\" \"secondary_ATE_raw\"                  \n",
       " [7] \"secondary_peptidase_raw\"             \"primary_acetylated_raw\"             \n",
       " [9] \"ratio\"                               \"lratio\"                             \n",
       "[11] \"SLC\"                                 \"sites_rel\"                          \n",
       "[13] \"tertiary_deaminated_rel\"             \"tertiary_oxidized_or_acetylated_rel\"\n",
       "[15] \"secondary_ATE_rel\"                   \"secondary_peptidase_rel\"            \n",
       "[17] \"primary_acetylated_rel\"              \"clust\"                              \n",
       "[19] \"uncertainty\"                         \"U1\"                                 \n",
       "[21] \"U2\"                                  \"U3\"                                 \n",
       "[23] \"fate\"                                \"fate_strict\"                        "
      ]
     },
     "metadata": {},
     "output_type": "display_data"
    },
    {
     "data": {
      "text/html": [
       "<ol class=list-inline>\n",
       "\t<li>'NERD'</li>\n",
       "\t<li>'other'</li>\n",
       "\t<li>'unchanged'</li>\n",
       "</ol>\n"
      ],
      "text/latex": [
       "\\begin{enumerate*}\n",
       "\\item 'NERD'\n",
       "\\item 'other'\n",
       "\\item 'unchanged'\n",
       "\\end{enumerate*}\n"
      ],
      "text/markdown": [
       "1. 'NERD'\n",
       "2. 'other'\n",
       "3. 'unchanged'\n",
       "\n",
       "\n"
      ],
      "text/plain": [
       "[1] \"NERD\"      \"other\"     \"unchanged\""
      ]
     },
     "metadata": {},
     "output_type": "display_data"
    },
    {
     "data": {
      "text/html": [
       "<table>\n",
       "<thead><tr><th scope=col>geneid</th><th scope=col>secondary_ATE_raw</th><th scope=col>secondary_peptidase_raw</th><th scope=col>uncertainty</th><th scope=col>U1</th><th scope=col>fate</th><th scope=col>fate_strict</th></tr></thead>\n",
       "<tbody>\n",
       "\t<tr><td>Pp3c10_100.ncRNA           </td><td>0                          </td><td> 0                         </td><td>1.000000e+00               </td><td>0.000000e+00               </td><td>unchanged                  </td><td>unchanged                  </td></tr>\n",
       "\t<tr><td>Pp3c10_10040.mRNA          </td><td>0                          </td><td>11                         </td><td>5.693259e-05               </td><td>9.999431e-01               </td><td>NERD                       </td><td>NERD                       </td></tr>\n",
       "\t<tr><td>Pp3c10_10090.mRNA          </td><td>1                          </td><td> 6                         </td><td>6.172489e-05               </td><td>6.172489e-05               </td><td>NERD                       </td><td>NERD                       </td></tr>\n",
       "\t<tr><td>Pp3c10_10095.C_D_box_snoRNA</td><td>0                          </td><td> 0                         </td><td>1.000000e+00               </td><td>0.000000e+00               </td><td>unchanged                  </td><td>unchanged                  </td></tr>\n",
       "\t<tr><td>Pp3c10_10100.mRNA          </td><td>0                          </td><td> 6                         </td><td>4.176609e-03               </td><td>4.176609e-03               </td><td>NERD                       </td><td>NERD                       </td></tr>\n",
       "\t<tr><td>Pp3c10_10130.mRNA          </td><td>0                          </td><td> 3                         </td><td>2.393614e-02               </td><td>2.393520e-02               </td><td>other                      </td><td>other                      </td></tr>\n",
       "</tbody>\n",
       "</table>\n"
      ],
      "text/latex": [
       "\\begin{tabular}{r|lllllll}\n",
       " geneid & secondary\\_ATE\\_raw & secondary\\_peptidase\\_raw & uncertainty & U1 & fate & fate\\_strict\\\\\n",
       "\\hline\n",
       "\t Pp3c10\\_100.ncRNA            & 0                             &  0                            & 1.000000e+00                  & 0.000000e+00                  & unchanged                     & unchanged                    \\\\\n",
       "\t Pp3c10\\_10040.mRNA           & 0                             & 11                            & 5.693259e-05                  & 9.999431e-01                  & NERD                          & NERD                         \\\\\n",
       "\t Pp3c10\\_10090.mRNA           & 1                             &  6                            & 6.172489e-05                  & 6.172489e-05                  & NERD                          & NERD                         \\\\\n",
       "\t Pp3c10\\_10095.C\\_D\\_box\\_snoRNA & 0                                   &  0                                  & 1.000000e+00                        & 0.000000e+00                        & unchanged                           & unchanged                          \\\\\n",
       "\t Pp3c10\\_10100.mRNA           & 0                             &  6                            & 4.176609e-03                  & 4.176609e-03                  & NERD                          & NERD                         \\\\\n",
       "\t Pp3c10\\_10130.mRNA           & 0                             &  3                            & 2.393614e-02                  & 2.393520e-02                  & other                         & other                        \\\\\n",
       "\\end{tabular}\n"
      ],
      "text/markdown": [
       "\n",
       "| geneid | secondary_ATE_raw | secondary_peptidase_raw | uncertainty | U1 | fate | fate_strict |\n",
       "|---|---|---|---|---|---|---|\n",
       "| Pp3c10_100.ncRNA            | 0                           |  0                          | 1.000000e+00                | 0.000000e+00                | unchanged                   | unchanged                   |\n",
       "| Pp3c10_10040.mRNA           | 0                           | 11                          | 5.693259e-05                | 9.999431e-01                | NERD                        | NERD                        |\n",
       "| Pp3c10_10090.mRNA           | 1                           |  6                          | 6.172489e-05                | 6.172489e-05                | NERD                        | NERD                        |\n",
       "| Pp3c10_10095.C_D_box_snoRNA | 0                           |  0                          | 1.000000e+00                | 0.000000e+00                | unchanged                   | unchanged                   |\n",
       "| Pp3c10_10100.mRNA           | 0                           |  6                          | 4.176609e-03                | 4.176609e-03                | NERD                        | NERD                        |\n",
       "| Pp3c10_10130.mRNA           | 0                           |  3                          | 2.393614e-02                | 2.393520e-02                | other                       | other                       |\n",
       "\n"
      ],
      "text/plain": [
       "  geneid                      secondary_ATE_raw secondary_peptidase_raw\n",
       "1 Pp3c10_100.ncRNA            0                  0                     \n",
       "2 Pp3c10_10040.mRNA           0                 11                     \n",
       "3 Pp3c10_10090.mRNA           1                  6                     \n",
       "4 Pp3c10_10095.C_D_box_snoRNA 0                  0                     \n",
       "5 Pp3c10_10100.mRNA           0                  6                     \n",
       "6 Pp3c10_10130.mRNA           0                  3                     \n",
       "  uncertainty  U1           fate      fate_strict\n",
       "1 1.000000e+00 0.000000e+00 unchanged unchanged  \n",
       "2 5.693259e-05 9.999431e-01 NERD      NERD       \n",
       "3 6.172489e-05 6.172489e-05 NERD      NERD       \n",
       "4 1.000000e+00 0.000000e+00 unchanged unchanged  \n",
       "5 4.176609e-03 4.176609e-03 NERD      NERD       \n",
       "6 2.393614e-02 2.393520e-02 other     other      "
      ]
     },
     "metadata": {},
     "output_type": "display_data"
    }
   ],
   "source": [
    "e=read.delim(\"calpain_cleavage_prediction.cosmoss_V3.3.release.pep.ccd.NERD_classification.tsv\",sep=\"\\t\",row.names=1)\n",
    "names(e)\n",
    "levels(e$fate)\n",
    "e=data.table(geneid=row.names(e),e[,c(6,7,19,20,23:24)])\n",
    "ee=setdiff(n$geneid,e$geneid)\n",
    "ee=data.table(geneid=ee,secondary_ATE_raw=0,secondary_peptidase_raw=0,uncertainty=1,U1=0,fate=factor(rep(\"unchanged\",length(ee)),levels=levels(e$fate)),fate_strict=factor(rep(\"unchanged\",length(ee)),levels=levels(e$fate)))\n",
    "e=rbind(e,ee)\n",
    "setkey(e,\"geneid\")\n",
    "head(e)"
   ]
  },
  {
   "cell_type": "code",
   "execution_count": 9,
   "metadata": {},
   "outputs": [
    {
     "data": {
      "text/html": [
       "<table>\n",
       "<thead><tr><th scope=col>profile</th><th scope=col>id</th><th scope=col>cluster</th><th scope=col>expr</th><th scope=col>phase</th></tr></thead>\n",
       "<tbody>\n",
       "\t<tr><td>1               </td><td>Pp3c1_10200.mRNA</td><td>1               </td><td>late            </td><td>profile1_late   </td></tr>\n",
       "\t<tr><td>1               </td><td>Pp3c1_10220.mRNA</td><td>1               </td><td>late            </td><td>profile1_late   </td></tr>\n",
       "\t<tr><td>1               </td><td>Pp3c1_11030.mRNA</td><td>2               </td><td>early           </td><td>profile1_early  </td></tr>\n",
       "\t<tr><td>1               </td><td>Pp3c1_11190.mRNA</td><td>2               </td><td>early           </td><td>profile1_early  </td></tr>\n",
       "\t<tr><td>1               </td><td>Pp3c1_11820.mRNA</td><td>3               </td><td>uniform         </td><td>profile1_uniform</td></tr>\n",
       "\t<tr><td>1               </td><td>Pp3c1_11980.mRNA</td><td>3               </td><td>uniform         </td><td>profile1_uniform</td></tr>\n",
       "</tbody>\n",
       "</table>\n"
      ],
      "text/latex": [
       "\\begin{tabular}{r|lllll}\n",
       " profile & id & cluster & expr & phase\\\\\n",
       "\\hline\n",
       "\t 1                  & Pp3c1\\_10200.mRNA & 1                  & late               & profile1\\_late   \\\\\n",
       "\t 1                  & Pp3c1\\_10220.mRNA & 1                  & late               & profile1\\_late   \\\\\n",
       "\t 1                  & Pp3c1\\_11030.mRNA & 2                  & early              & profile1\\_early  \\\\\n",
       "\t 1                  & Pp3c1\\_11190.mRNA & 2                  & early              & profile1\\_early  \\\\\n",
       "\t 1                  & Pp3c1\\_11820.mRNA & 3                  & uniform            & profile1\\_uniform\\\\\n",
       "\t 1                  & Pp3c1\\_11980.mRNA & 3                  & uniform            & profile1\\_uniform\\\\\n",
       "\\end{tabular}\n"
      ],
      "text/markdown": [
       "\n",
       "| profile | id | cluster | expr | phase |\n",
       "|---|---|---|---|---|\n",
       "| 1                | Pp3c1_10200.mRNA | 1                | late             | profile1_late    |\n",
       "| 1                | Pp3c1_10220.mRNA | 1                | late             | profile1_late    |\n",
       "| 1                | Pp3c1_11030.mRNA | 2                | early            | profile1_early   |\n",
       "| 1                | Pp3c1_11190.mRNA | 2                | early            | profile1_early   |\n",
       "| 1                | Pp3c1_11820.mRNA | 3                | uniform          | profile1_uniform |\n",
       "| 1                | Pp3c1_11980.mRNA | 3                | uniform          | profile1_uniform |\n",
       "\n"
      ],
      "text/plain": [
       "  profile id               cluster expr    phase           \n",
       "1 1       Pp3c1_10200.mRNA 1       late    profile1_late   \n",
       "2 1       Pp3c1_10220.mRNA 1       late    profile1_late   \n",
       "3 1       Pp3c1_11030.mRNA 2       early   profile1_early  \n",
       "4 1       Pp3c1_11190.mRNA 2       early   profile1_early  \n",
       "5 1       Pp3c1_11820.mRNA 3       uniform profile1_uniform\n",
       "6 1       Pp3c1_11980.mRNA 3       uniform profile1_uniform"
      ]
     },
     "metadata": {},
     "output_type": "display_data"
    },
    {
     "data": {
      "text/html": [
       "<ol class=list-inline>\n",
       "\t<li>'profile1_late'</li>\n",
       "\t<li>'profile1_early'</li>\n",
       "\t<li>'profile1_uniform'</li>\n",
       "\t<li>'profile2_uniform'</li>\n",
       "\t<li>'profile2_late'</li>\n",
       "\t<li>'profile2_early'</li>\n",
       "</ol>\n"
      ],
      "text/latex": [
       "\\begin{enumerate*}\n",
       "\\item 'profile1\\_late'\n",
       "\\item 'profile1\\_early'\n",
       "\\item 'profile1\\_uniform'\n",
       "\\item 'profile2\\_uniform'\n",
       "\\item 'profile2\\_late'\n",
       "\\item 'profile2\\_early'\n",
       "\\end{enumerate*}\n"
      ],
      "text/markdown": [
       "1. 'profile1_late'\n",
       "2. 'profile1_early'\n",
       "3. 'profile1_uniform'\n",
       "4. 'profile2_uniform'\n",
       "5. 'profile2_late'\n",
       "6. 'profile2_early'\n",
       "\n",
       "\n"
      ],
      "text/plain": [
       "[1] \"profile1_late\"    \"profile1_early\"   \"profile1_uniform\" \"profile2_uniform\"\n",
       "[5] \"profile2_late\"    \"profile2_early\"  "
      ]
     },
     "metadata": {},
     "output_type": "display_data"
    },
    {
     "data": {
      "text/plain": [
       "   \n",
       "    unchanged profile1_early profile1_late profile1_uniform profile2_early\n",
       "  0     30555              0             0                0              0\n",
       "  1         0            958           943              738              0\n",
       "  2         0              0             0                0            667\n",
       "   \n",
       "    profile2_late profile2_uniform\n",
       "  0             0                0\n",
       "  1             0                0\n",
       "  2          1019              759"
      ]
     },
     "metadata": {},
     "output_type": "display_data"
    },
    {
     "data": {
      "text/html": [
       "<table>\n",
       "<thead><tr><th scope=col>geneid</th><th scope=col>profile</th><th scope=col>phase</th></tr></thead>\n",
       "<tbody>\n",
       "\t<tr><td>Pp3c1_10200.mRNA</td><td>1               </td><td>profile1_late   </td></tr>\n",
       "\t<tr><td>Pp3c1_10220.mRNA</td><td>1               </td><td>profile1_late   </td></tr>\n",
       "\t<tr><td>Pp3c1_11030.mRNA</td><td>1               </td><td>profile1_early  </td></tr>\n",
       "\t<tr><td>Pp3c1_11190.mRNA</td><td>1               </td><td>profile1_early  </td></tr>\n",
       "\t<tr><td>Pp3c1_11820.mRNA</td><td>1               </td><td>profile1_uniform</td></tr>\n",
       "\t<tr><td>Pp3c1_11980.mRNA</td><td>1               </td><td>profile1_uniform</td></tr>\n",
       "</tbody>\n",
       "</table>\n"
      ],
      "text/latex": [
       "\\begin{tabular}{r|lll}\n",
       " geneid & profile & phase\\\\\n",
       "\\hline\n",
       "\t Pp3c1\\_10200.mRNA & 1                  & profile1\\_late   \\\\\n",
       "\t Pp3c1\\_10220.mRNA & 1                  & profile1\\_late   \\\\\n",
       "\t Pp3c1\\_11030.mRNA & 1                  & profile1\\_early  \\\\\n",
       "\t Pp3c1\\_11190.mRNA & 1                  & profile1\\_early  \\\\\n",
       "\t Pp3c1\\_11820.mRNA & 1                  & profile1\\_uniform\\\\\n",
       "\t Pp3c1\\_11980.mRNA & 1                  & profile1\\_uniform\\\\\n",
       "\\end{tabular}\n"
      ],
      "text/markdown": [
       "\n",
       "| geneid | profile | phase |\n",
       "|---|---|---|\n",
       "| Pp3c1_10200.mRNA | 1                | profile1_late    |\n",
       "| Pp3c1_10220.mRNA | 1                | profile1_late    |\n",
       "| Pp3c1_11030.mRNA | 1                | profile1_early   |\n",
       "| Pp3c1_11190.mRNA | 1                | profile1_early   |\n",
       "| Pp3c1_11820.mRNA | 1                | profile1_uniform |\n",
       "| Pp3c1_11980.mRNA | 1                | profile1_uniform |\n",
       "\n"
      ],
      "text/plain": [
       "  geneid           profile phase           \n",
       "1 Pp3c1_10200.mRNA 1       profile1_late   \n",
       "2 Pp3c1_10220.mRNA 1       profile1_late   \n",
       "3 Pp3c1_11030.mRNA 1       profile1_early  \n",
       "4 Pp3c1_11190.mRNA 1       profile1_early  \n",
       "5 Pp3c1_11820.mRNA 1       profile1_uniform\n",
       "6 Pp3c1_11980.mRNA 1       profile1_uniform"
      ]
     },
     "metadata": {},
     "output_type": "display_data"
    }
   ],
   "source": [
    "p=read.delim(\"profile_phases.tsv\",sep=\"\\t\",stringsAsFactors=FALSE)\n",
    "head(p)\n",
    "names(p)[2]=\"geneid\"\n",
    "p=p[,c(2,1,5)]\n",
    "unique(p$phase)\n",
    "pp=setdiff(n$geneid,p$geneid)\n",
    "p=rbind(p,data.frame(geneid=pp,profile=0,phase=\"unchanged\"))\n",
    "p$phase=factor(p$phase,c(\"unchanged\",\"profile1_early\",\"profile1_late\",\"profile1_uniform\",\"profile2_early\",\"profile2_late\",\"profile2_uniform\"))\n",
    "table(p$profile,p$phase)\n",
    "head(p)"
   ]
  },
  {
   "cell_type": "code",
   "execution_count": 10,
   "metadata": {},
   "outputs": [
    {
     "data": {
      "text/html": [
       "35639"
      ],
      "text/latex": [
       "35639"
      ],
      "text/markdown": [
       "35639"
      ],
      "text/plain": [
       "[1] 35639"
      ]
     },
     "metadata": {},
     "output_type": "display_data"
    },
    {
     "data": {
      "text/html": [
       "35639"
      ],
      "text/latex": [
       "35639"
      ],
      "text/markdown": [
       "35639"
      ],
      "text/plain": [
       "[1] 35639"
      ]
     },
     "metadata": {},
     "output_type": "display_data"
    },
    {
     "data": {
      "text/html": [
       "<table>\n",
       "<thead><tr><th scope=col>geneid</th><th scope=col>deregulation</th><th scope=col>significant</th><th scope=col>is_regulator</th><th scope=col>is_TF</th><th scope=col>uncertainty</th><th scope=col>U1</th><th scope=col>secondary_ATE_raw</th><th scope=col>secondary_peptidase_raw</th><th scope=col>fate_strict</th><th scope=col>profile</th><th scope=col>phase</th></tr></thead>\n",
       "<tbody>\n",
       "\t<tr><td>Pp3c1_100.mRNA        </td><td>0.2762754             </td><td>FALSE                 </td><td>FALSE                 </td><td>FALSE                 </td><td>0.00000000            </td><td>0.0000000             </td><td>0                     </td><td>0                     </td><td>NERD                  </td><td>0                     </td><td>unchanged             </td></tr>\n",
       "\t<tr><td>Pp3c1_1000.mRNA       </td><td>0.6631450             </td><td>FALSE                 </td><td>FALSE                 </td><td>FALSE                 </td><td>0.36506797            </td><td>0.6349320             </td><td>0                     </td><td>6                     </td><td>other                 </td><td>0                     </td><td>unchanged             </td></tr>\n",
       "\t<tr><td>Pp3c1_10000.mRNA      </td><td>0.2532188             </td><td>FALSE                 </td><td>FALSE                 </td><td>FALSE                 </td><td>0.02949464            </td><td>0.0294939             </td><td>0                     </td><td>6                     </td><td>other                 </td><td>0                     </td><td>unchanged             </td></tr>\n",
       "\t<tr><td>Pp3c1_10010.mRNA      </td><td>0.4157642             </td><td>FALSE                 </td><td>FALSE                 </td><td>FALSE                 </td><td>0.09267909            </td><td>0.0926765             </td><td>1                     </td><td>2                     </td><td>other                 </td><td>0                     </td><td>unchanged             </td></tr>\n",
       "\t<tr><td>Pp3c1_10020.seryl_tRNA</td><td>0.0000000             </td><td>FALSE                 </td><td>FALSE                 </td><td>FALSE                 </td><td>1.00000000            </td><td>0.0000000             </td><td>0                     </td><td>0                     </td><td>unchanged             </td><td>0                     </td><td>unchanged             </td></tr>\n",
       "\t<tr><td>Pp3c1_10040.mRNA      </td><td>0.3886370             </td><td>FALSE                 </td><td>FALSE                 </td><td>FALSE                 </td><td>0.06555740            </td><td>0.9344426             </td><td>2                     </td><td>3                     </td><td>other                 </td><td>0                     </td><td>unchanged             </td></tr>\n",
       "</tbody>\n",
       "</table>\n"
      ],
      "text/latex": [
       "\\begin{tabular}{r|llllllllllll}\n",
       " geneid & deregulation & significant & is\\_regulator & is\\_TF & uncertainty & U1 & secondary\\_ATE\\_raw & secondary\\_peptidase\\_raw & fate\\_strict & profile & phase\\\\\n",
       "\\hline\n",
       "\t Pp3c1\\_100.mRNA         & 0.2762754                & FALSE                    & FALSE                    & FALSE                    & 0.00000000               & 0.0000000                & 0                        & 0                        & NERD                     & 0                        & unchanged               \\\\\n",
       "\t Pp3c1\\_1000.mRNA        & 0.6631450                & FALSE                    & FALSE                    & FALSE                    & 0.36506797               & 0.6349320                & 0                        & 6                        & other                    & 0                        & unchanged               \\\\\n",
       "\t Pp3c1\\_10000.mRNA       & 0.2532188                & FALSE                    & FALSE                    & FALSE                    & 0.02949464               & 0.0294939                & 0                        & 6                        & other                    & 0                        & unchanged               \\\\\n",
       "\t Pp3c1\\_10010.mRNA       & 0.4157642                & FALSE                    & FALSE                    & FALSE                    & 0.09267909               & 0.0926765                & 1                        & 2                        & other                    & 0                        & unchanged               \\\\\n",
       "\t Pp3c1\\_10020.seryl\\_tRNA & 0.0000000                  & FALSE                      & FALSE                      & FALSE                      & 1.00000000                 & 0.0000000                  & 0                          & 0                          & unchanged                  & 0                          & unchanged                 \\\\\n",
       "\t Pp3c1\\_10040.mRNA       & 0.3886370                & FALSE                    & FALSE                    & FALSE                    & 0.06555740               & 0.9344426                & 2                        & 3                        & other                    & 0                        & unchanged               \\\\\n",
       "\\end{tabular}\n"
      ],
      "text/markdown": [
       "\n",
       "| geneid | deregulation | significant | is_regulator | is_TF | uncertainty | U1 | secondary_ATE_raw | secondary_peptidase_raw | fate_strict | profile | phase |\n",
       "|---|---|---|---|---|---|---|---|---|---|---|---|\n",
       "| Pp3c1_100.mRNA         | 0.2762754              | FALSE                  | FALSE                  | FALSE                  | 0.00000000             | 0.0000000              | 0                      | 0                      | NERD                   | 0                      | unchanged              |\n",
       "| Pp3c1_1000.mRNA        | 0.6631450              | FALSE                  | FALSE                  | FALSE                  | 0.36506797             | 0.6349320              | 0                      | 6                      | other                  | 0                      | unchanged              |\n",
       "| Pp3c1_10000.mRNA       | 0.2532188              | FALSE                  | FALSE                  | FALSE                  | 0.02949464             | 0.0294939              | 0                      | 6                      | other                  | 0                      | unchanged              |\n",
       "| Pp3c1_10010.mRNA       | 0.4157642              | FALSE                  | FALSE                  | FALSE                  | 0.09267909             | 0.0926765              | 1                      | 2                      | other                  | 0                      | unchanged              |\n",
       "| Pp3c1_10020.seryl_tRNA | 0.0000000              | FALSE                  | FALSE                  | FALSE                  | 1.00000000             | 0.0000000              | 0                      | 0                      | unchanged              | 0                      | unchanged              |\n",
       "| Pp3c1_10040.mRNA       | 0.3886370              | FALSE                  | FALSE                  | FALSE                  | 0.06555740             | 0.9344426              | 2                      | 3                      | other                  | 0                      | unchanged              |\n",
       "\n"
      ],
      "text/plain": [
       "  geneid                 deregulation significant is_regulator is_TF\n",
       "1 Pp3c1_100.mRNA         0.2762754    FALSE       FALSE        FALSE\n",
       "2 Pp3c1_1000.mRNA        0.6631450    FALSE       FALSE        FALSE\n",
       "3 Pp3c1_10000.mRNA       0.2532188    FALSE       FALSE        FALSE\n",
       "4 Pp3c1_10010.mRNA       0.4157642    FALSE       FALSE        FALSE\n",
       "5 Pp3c1_10020.seryl_tRNA 0.0000000    FALSE       FALSE        FALSE\n",
       "6 Pp3c1_10040.mRNA       0.3886370    FALSE       FALSE        FALSE\n",
       "  uncertainty U1        secondary_ATE_raw secondary_peptidase_raw fate_strict\n",
       "1 0.00000000  0.0000000 0                 0                       NERD       \n",
       "2 0.36506797  0.6349320 0                 6                       other      \n",
       "3 0.02949464  0.0294939 0                 6                       other      \n",
       "4 0.09267909  0.0926765 1                 2                       other      \n",
       "5 1.00000000  0.0000000 0                 0                       unchanged  \n",
       "6 0.06555740  0.9344426 2                 3                       other      \n",
       "  profile phase    \n",
       "1 0       unchanged\n",
       "2 0       unchanged\n",
       "3 0       unchanged\n",
       "4 0       unchanged\n",
       "5 0       unchanged\n",
       "6 0       unchanged"
      ]
     },
     "metadata": {},
     "output_type": "display_data"
    }
   ],
   "source": [
    "dereg=data.frame(deregulation=rowSums(abs(d[,c(7,8,11)])), \n",
    "                 significant=(d$deltaDEK_vs_OE.qval_lrt<0.01| d$WT_vs_OE.qval_lrt<0.1) & d$WT_vs_deltaDEK.qval_lrt<0.1)\n",
    "nr=setdiff(n$geneid,row.names(dereg))\n",
    "nonreg=data.frame(deregulation=rep(0,length(nr)),significant=FALSE)\n",
    "row.names(nonreg)=nr\n",
    "rm(nr)\n",
    "dereg=rbind(dereg,nonreg)\n",
    "dereg$deregulation[is.na(dereg$deregulation)]=0\n",
    "dereg$significant[is.na(dereg$significant)]=FALSE\n",
    "\n",
    "nrow(dereg)\n",
    "dereg=data.frame(geneid=row.names(dereg),dereg)\n",
    "row.names(dereg)=NULL\n",
    "dereg=merge(dereg,n[,c(\"geneid\",\"is_regulator\",\"is_TF\")],by=\"geneid\")\n",
    "dereg=merge(dereg,e[,c(\"geneid\",\"uncertainty\",\"U1\",\"secondary_ATE_raw\",\"secondary_peptidase_raw\",\"fate_strict\")],by=\"geneid\")\n",
    "dereg=merge(dereg,p,by=\"geneid\")\n",
    "dereg=na.omit(dereg)\n",
    "nrow(dereg)\n",
    "#names(dereg)[1]=\"geneid\"\n",
    "dereg=as.data.table(dereg)\n",
    "setkey(dereg,\"geneid\")\n",
    "head(dereg)"
   ]
  },
  {
   "cell_type": "code",
   "execution_count": 23,
   "metadata": {},
   "outputs": [],
   "source": [
    "write.table(dereg,file=\"deregulation.tsv\",sep=\"\\t\",row.names=FALSE,col.names=TRUE,quote=FALSE)"
   ]
  },
  {
   "cell_type": "code",
   "execution_count": 11,
   "metadata": {},
   "outputs": [
    {
     "data": {
      "text/plain": [
       "       \n",
       "         NERD other unchanged\n",
       "  FALSE  2613 19195      4808\n",
       "  TRUE   9023     0         0"
      ]
     },
     "metadata": {},
     "output_type": "display_data"
    }
   ],
   "source": [
    "table(dereg$uncertainty<0.05 & dereg$U1>0.9, dereg$fate_strict)"
   ]
  },
  {
   "cell_type": "code",
   "execution_count": 12,
   "metadata": {},
   "outputs": [],
   "source": [
    "A=as.data.table(a)\n",
    "setkeyv(A,c(\"regulatoryGene\",\"targetGene\"))"
   ]
  },
  {
   "cell_type": "code",
   "execution_count": 13,
   "metadata": {},
   "outputs": [
    {
     "data": {
      "text/html": [
       "356390"
      ],
      "text/latex": [
       "356390"
      ],
      "text/markdown": [
       "356390"
      ],
      "text/plain": [
       "[1] 356390"
      ]
     },
     "metadata": {},
     "output_type": "display_data"
    }
   ],
   "source": [
    "nrow(A)"
   ]
  },
  {
   "cell_type": "code",
   "execution_count": 14,
   "metadata": {},
   "outputs": [
    {
     "data": {
      "text/html": [
       "<table>\n",
       "<thead><tr><th scope=col>regulatoryGene</th><th scope=col>targetGene</th><th scope=col>full_cor</th><th scope=col>full_reg</th><th scope=col>our_cor</th><th scope=col>our_reg</th><th scope=col>weight</th><th scope=col>regulator_rank</th><th scope=col>target_rank</th><th scope=col>mutual_rank</th><th scope=col>⋯</th><th scope=col>significant_reg</th><th scope=col>is_regulator_reg</th><th scope=col>is_TF_reg</th><th scope=col>uncertainty_reg</th><th scope=col>U1_reg</th><th scope=col>secondary_ATE_raw_reg</th><th scope=col>secondary_peptidase_raw_reg</th><th scope=col>fate_strict_reg</th><th scope=col>profile_reg</th><th scope=col>phase_reg</th></tr></thead>\n",
       "<tbody>\n",
       "\t<tr><td>Pp3c1_10451.pre_miRNA</td><td>Pp3c1_32930.mRNA     </td><td>0.7007387            </td><td>+                    </td><td>5.835452e-15         </td><td>+                    </td><td>0.03492560           </td><td> 6                   </td><td>1                    </td><td> 2.449490            </td><td>⋯                    </td><td>FALSE                </td><td>TRUE                 </td><td>FALSE                </td><td>1                    </td><td>0                    </td><td>0                    </td><td>0                    </td><td>unchanged            </td><td>0                    </td><td>unchanged            </td></tr>\n",
       "\t<tr><td>Pp3c1_10451.pre_miRNA</td><td>Pp3c1_9450.mRNA      </td><td>0.3117556            </td><td>+                    </td><td>5.458784e-01         </td><td>+                    </td><td>0.01663924           </td><td>26                   </td><td>4                    </td><td>10.198039            </td><td>⋯                    </td><td>FALSE                </td><td>TRUE                 </td><td>FALSE                </td><td>1                    </td><td>0                    </td><td>0                    </td><td>0                    </td><td>unchanged            </td><td>0                    </td><td>unchanged            </td></tr>\n",
       "\t<tr><td>Pp3c1_10451.pre_miRNA</td><td>Pp3c10_12940.mRNA    </td><td>0.3965461            </td><td>+                    </td><td>5.835452e-15         </td><td>+                    </td><td>0.01030016           </td><td>51                   </td><td>5                    </td><td>15.968719            </td><td>⋯                    </td><td>FALSE                </td><td>TRUE                 </td><td>FALSE                </td><td>1                    </td><td>0                    </td><td>0                    </td><td>0                    </td><td>unchanged            </td><td>0                    </td><td>unchanged            </td></tr>\n",
       "\t<tr><td>Pp3c1_10451.pre_miRNA</td><td>Pp3c10_19830.mRNA    </td><td>0.4312062            </td><td>+                    </td><td>5.835452e-15         </td><td>+                    </td><td>0.01163123           </td><td>43                   </td><td>5                    </td><td>14.662878            </td><td>⋯                    </td><td>FALSE                </td><td>TRUE                 </td><td>FALSE                </td><td>1                    </td><td>0                    </td><td>0                    </td><td>0                    </td><td>unchanged            </td><td>0                    </td><td>unchanged            </td></tr>\n",
       "\t<tr><td>Pp3c1_10451.pre_miRNA</td><td>Pp3c11_22730.mRNA    </td><td>0.4777171            </td><td>+                    </td><td>5.835452e-15         </td><td>+                    </td><td>0.01862452           </td><td>23                   </td><td>4                    </td><td> 9.591663            </td><td>⋯                    </td><td>FALSE                </td><td>TRUE                 </td><td>FALSE                </td><td>1                    </td><td>0                    </td><td>0                    </td><td>0                    </td><td>unchanged            </td><td>0                    </td><td>unchanged            </td></tr>\n",
       "\t<tr><td>Pp3c1_10451.pre_miRNA</td><td>Pp3c11_8100.mRNA     </td><td>0.3117556            </td><td>+                    </td><td>5.458784e-01         </td><td>+                    </td><td>0.01812989           </td><td>24                   </td><td>3                    </td><td> 8.485281            </td><td>⋯                    </td><td>FALSE                </td><td>TRUE                 </td><td>FALSE                </td><td>1                    </td><td>0                    </td><td>0                    </td><td>0                    </td><td>unchanged            </td><td>0                    </td><td>unchanged            </td></tr>\n",
       "</tbody>\n",
       "</table>\n"
      ],
      "text/latex": [
       "\\begin{tabular}{r|lllllllllllllllllllllllllllllllllll}\n",
       " regulatoryGene & targetGene & full\\_cor & full\\_reg & our\\_cor & our\\_reg & weight & regulator\\_rank & target\\_rank & mutual\\_rank & ⋯ & significant\\_reg & is\\_regulator\\_reg & is\\_TF\\_reg & uncertainty\\_reg & U1\\_reg & secondary\\_ATE\\_raw\\_reg & secondary\\_peptidase\\_raw\\_reg & fate\\_strict\\_reg & profile\\_reg & phase\\_reg\\\\\n",
       "\\hline\n",
       "\t Pp3c1\\_10451.pre\\_miRNA & Pp3c1\\_32930.mRNA        & 0.7007387                 & +                         & 5.835452e-15              & +                         & 0.03492560                &  6                        & 1                         &  2.449490                 & ⋯                         & FALSE                     & TRUE                      & FALSE                     & 1                         & 0                         & 0                         & 0                         & unchanged                 & 0                         & unchanged                \\\\\n",
       "\t Pp3c1\\_10451.pre\\_miRNA & Pp3c1\\_9450.mRNA         & 0.3117556                 & +                         & 5.458784e-01              & +                         & 0.01663924                & 26                        & 4                         & 10.198039                 & ⋯                         & FALSE                     & TRUE                      & FALSE                     & 1                         & 0                         & 0                         & 0                         & unchanged                 & 0                         & unchanged                \\\\\n",
       "\t Pp3c1\\_10451.pre\\_miRNA & Pp3c10\\_12940.mRNA       & 0.3965461                 & +                         & 5.835452e-15              & +                         & 0.01030016                & 51                        & 5                         & 15.968719                 & ⋯                         & FALSE                     & TRUE                      & FALSE                     & 1                         & 0                         & 0                         & 0                         & unchanged                 & 0                         & unchanged                \\\\\n",
       "\t Pp3c1\\_10451.pre\\_miRNA & Pp3c10\\_19830.mRNA       & 0.4312062                 & +                         & 5.835452e-15              & +                         & 0.01163123                & 43                        & 5                         & 14.662878                 & ⋯                         & FALSE                     & TRUE                      & FALSE                     & 1                         & 0                         & 0                         & 0                         & unchanged                 & 0                         & unchanged                \\\\\n",
       "\t Pp3c1\\_10451.pre\\_miRNA & Pp3c11\\_22730.mRNA       & 0.4777171                 & +                         & 5.835452e-15              & +                         & 0.01862452                & 23                        & 4                         &  9.591663                 & ⋯                         & FALSE                     & TRUE                      & FALSE                     & 1                         & 0                         & 0                         & 0                         & unchanged                 & 0                         & unchanged                \\\\\n",
       "\t Pp3c1\\_10451.pre\\_miRNA & Pp3c11\\_8100.mRNA        & 0.3117556                 & +                         & 5.458784e-01              & +                         & 0.01812989                & 24                        & 3                         &  8.485281                 & ⋯                         & FALSE                     & TRUE                      & FALSE                     & 1                         & 0                         & 0                         & 0                         & unchanged                 & 0                         & unchanged                \\\\\n",
       "\\end{tabular}\n"
      ],
      "text/markdown": [
       "\n",
       "| regulatoryGene | targetGene | full_cor | full_reg | our_cor | our_reg | weight | regulator_rank | target_rank | mutual_rank | ⋯ | significant_reg | is_regulator_reg | is_TF_reg | uncertainty_reg | U1_reg | secondary_ATE_raw_reg | secondary_peptidase_raw_reg | fate_strict_reg | profile_reg | phase_reg |\n",
       "|---|---|---|---|---|---|---|---|---|---|---|---|---|---|---|---|---|---|---|---|---|\n",
       "| Pp3c1_10451.pre_miRNA | Pp3c1_32930.mRNA      | 0.7007387             | +                     | 5.835452e-15          | +                     | 0.03492560            |  6                    | 1                     |  2.449490             | ⋯                     | FALSE                 | TRUE                  | FALSE                 | 1                     | 0                     | 0                     | 0                     | unchanged             | 0                     | unchanged             |\n",
       "| Pp3c1_10451.pre_miRNA | Pp3c1_9450.mRNA       | 0.3117556             | +                     | 5.458784e-01          | +                     | 0.01663924            | 26                    | 4                     | 10.198039             | ⋯                     | FALSE                 | TRUE                  | FALSE                 | 1                     | 0                     | 0                     | 0                     | unchanged             | 0                     | unchanged             |\n",
       "| Pp3c1_10451.pre_miRNA | Pp3c10_12940.mRNA     | 0.3965461             | +                     | 5.835452e-15          | +                     | 0.01030016            | 51                    | 5                     | 15.968719             | ⋯                     | FALSE                 | TRUE                  | FALSE                 | 1                     | 0                     | 0                     | 0                     | unchanged             | 0                     | unchanged             |\n",
       "| Pp3c1_10451.pre_miRNA | Pp3c10_19830.mRNA     | 0.4312062             | +                     | 5.835452e-15          | +                     | 0.01163123            | 43                    | 5                     | 14.662878             | ⋯                     | FALSE                 | TRUE                  | FALSE                 | 1                     | 0                     | 0                     | 0                     | unchanged             | 0                     | unchanged             |\n",
       "| Pp3c1_10451.pre_miRNA | Pp3c11_22730.mRNA     | 0.4777171             | +                     | 5.835452e-15          | +                     | 0.01862452            | 23                    | 4                     |  9.591663             | ⋯                     | FALSE                 | TRUE                  | FALSE                 | 1                     | 0                     | 0                     | 0                     | unchanged             | 0                     | unchanged             |\n",
       "| Pp3c1_10451.pre_miRNA | Pp3c11_8100.mRNA      | 0.3117556             | +                     | 5.458784e-01          | +                     | 0.01812989            | 24                    | 3                     |  8.485281             | ⋯                     | FALSE                 | TRUE                  | FALSE                 | 1                     | 0                     | 0                     | 0                     | unchanged             | 0                     | unchanged             |\n",
       "\n"
      ],
      "text/plain": [
       "  regulatoryGene        targetGene        full_cor  full_reg our_cor     \n",
       "1 Pp3c1_10451.pre_miRNA Pp3c1_32930.mRNA  0.7007387 +        5.835452e-15\n",
       "2 Pp3c1_10451.pre_miRNA Pp3c1_9450.mRNA   0.3117556 +        5.458784e-01\n",
       "3 Pp3c1_10451.pre_miRNA Pp3c10_12940.mRNA 0.3965461 +        5.835452e-15\n",
       "4 Pp3c1_10451.pre_miRNA Pp3c10_19830.mRNA 0.4312062 +        5.835452e-15\n",
       "5 Pp3c1_10451.pre_miRNA Pp3c11_22730.mRNA 0.4777171 +        5.835452e-15\n",
       "6 Pp3c1_10451.pre_miRNA Pp3c11_8100.mRNA  0.3117556 +        5.458784e-01\n",
       "  our_reg weight     regulator_rank target_rank mutual_rank ⋯ significant_reg\n",
       "1 +       0.03492560  6             1            2.449490   ⋯ FALSE          \n",
       "2 +       0.01663924 26             4           10.198039   ⋯ FALSE          \n",
       "3 +       0.01030016 51             5           15.968719   ⋯ FALSE          \n",
       "4 +       0.01163123 43             5           14.662878   ⋯ FALSE          \n",
       "5 +       0.01862452 23             4            9.591663   ⋯ FALSE          \n",
       "6 +       0.01812989 24             3            8.485281   ⋯ FALSE          \n",
       "  is_regulator_reg is_TF_reg uncertainty_reg U1_reg secondary_ATE_raw_reg\n",
       "1 TRUE             FALSE     1               0      0                    \n",
       "2 TRUE             FALSE     1               0      0                    \n",
       "3 TRUE             FALSE     1               0      0                    \n",
       "4 TRUE             FALSE     1               0      0                    \n",
       "5 TRUE             FALSE     1               0      0                    \n",
       "6 TRUE             FALSE     1               0      0                    \n",
       "  secondary_peptidase_raw_reg fate_strict_reg profile_reg phase_reg\n",
       "1 0                           unchanged       0           unchanged\n",
       "2 0                           unchanged       0           unchanged\n",
       "3 0                           unchanged       0           unchanged\n",
       "4 0                           unchanged       0           unchanged\n",
       "5 0                           unchanged       0           unchanged\n",
       "6 0                           unchanged       0           unchanged"
      ]
     },
     "metadata": {},
     "output_type": "display_data"
    }
   ],
   "source": [
    "A=merge(A,dereg,by.x=\"targetGene\",by.y=\"geneid\",all.X=TRUE,all.y=FALSE)\n",
    "A=merge(A,dereg,by.x=\"regulatoryGene\",by.y=\"geneid\",all.X=TRUE,all.y=FALSE,suffixes=c(\"_tar\",\"_reg\"))\n",
    "head(A)"
   ]
  },
  {
   "cell_type": "code",
   "execution_count": 15,
   "metadata": {},
   "outputs": [
    {
     "data": {
      "text/html": [
       "356390"
      ],
      "text/latex": [
       "356390"
      ],
      "text/markdown": [
       "356390"
      ],
      "text/plain": [
       "[1] 356390"
      ]
     },
     "metadata": {},
     "output_type": "display_data"
    }
   ],
   "source": [
    "nrow(A)"
   ]
  },
  {
   "cell_type": "code",
   "execution_count": 16,
   "metadata": {},
   "outputs": [],
   "source": [
    "A$fate_strict_reg=relevel(A$fate_strict_reg,\"unchanged\")\n",
    "A$community=ordered(A$community,levels=c(\"0\",as.character(as.roman(1:11))))"
   ]
  },
  {
   "cell_type": "code",
   "execution_count": 17,
   "metadata": {},
   "outputs": [],
   "source": [
    "#A$put_DEK1_target=A$fate_strict_reg==\"NERD\" &  (A$secondary_peptidase_raw_reg>0 | A$secondary_ATE_raw_reg>0 ) &  A$significant_tar==TRUE\n",
    "A$put_DEK1_target=A$fate_strict_reg==\"NERD\" &  A$U1_reg>0.9 & A$uncertainty_reg<0.05  &  A$significant_tar==TRUE"
   ]
  },
  {
   "cell_type": "code",
   "execution_count": 18,
   "metadata": {},
   "outputs": [
    {
     "data": {
      "text/plain": [
       "      \n",
       "        FALSE   TRUE\n",
       "  0    125019  16336\n",
       "  I     16325   2694\n",
       "  II    20201   2666\n",
       "  III   10352    191\n",
       "  IV    13174    129\n",
       "  V     18304   3721\n",
       "  VI    11862    447\n",
       "  VII   23793   2791\n",
       "  VIII  19687   2426\n",
       "  IX    28888   7207\n",
       "  X     15580   1750\n",
       "  XI    11949    898"
      ]
     },
     "metadata": {},
     "output_type": "display_data"
    }
   ],
   "source": [
    "table(A$community,A$put_DEK1_target)"
   ]
  },
  {
   "cell_type": "code",
   "execution_count": 19,
   "metadata": {},
   "outputs": [],
   "source": [
    "AA=droplevels(subset(A,is_TF_reg==TRUE))"
   ]
  },
  {
   "cell_type": "code",
   "execution_count": 24,
   "metadata": {},
   "outputs": [],
   "source": [
    "write.table(AA,file=\"TF_targets.NERD_classification.tsv\",sep=\"\\t\",row.names=FALSE,col.names=TRUE,quote=FALSE)"
   ]
  },
  {
   "cell_type": "code",
   "execution_count": 22,
   "metadata": {},
   "outputs": [
    {
     "data": {
      "text/plain": [
       "      \n",
       "       FALSE TRUE\n",
       "  0       86   14\n",
       "  I       85   15\n",
       "  II      88   12\n",
       "  III     98    2\n",
       "  IV      97    3\n",
       "  V       78   22\n",
       "  VI      95    5\n",
       "  VII     90   10\n",
       "  VIII    85   15\n",
       "  IX      74   26\n",
       "  X       89   11\n",
       "  XI      92    8"
      ]
     },
     "metadata": {},
     "output_type": "display_data"
    }
   ],
   "source": [
    "round(prop.table(table(AA$community,AA$put_DEK1_target),1)*100)"
   ]
  },
  {
   "cell_type": "code",
   "execution_count": 20,
   "metadata": {},
   "outputs": [
    {
     "data": {
      "text/html": [
       "<table>\n",
       "<tbody>\n",
       "\t<tr><th scope=row>regulatoryGene</th><td>Pp3c1_12940.mRNA</td></tr>\n",
       "\t<tr><th scope=row>targetGene</th><td>Pp3c1_10010.mRNA</td></tr>\n",
       "\t<tr><th scope=row>full_cor</th><td>-0.6258329      </td></tr>\n",
       "\t<tr><th scope=row>full_reg</th><td>-               </td></tr>\n",
       "\t<tr><th scope=row>our_cor</th><td>-0.7894632      </td></tr>\n",
       "\t<tr><th scope=row>our_reg</th><td>-               </td></tr>\n",
       "\t<tr><th scope=row>weight</th><td>0.01369468      </td></tr>\n",
       "\t<tr><th scope=row>regulator_rank</th><td>71              </td></tr>\n",
       "\t<tr><th scope=row>target_rank</th><td>5               </td></tr>\n",
       "\t<tr><th scope=row>mutual_rank</th><td>18.84144        </td></tr>\n",
       "\t<tr><th scope=row>regulator_community</th><td>IX              </td></tr>\n",
       "\t<tr><th scope=row>target_community</th><td>VIII            </td></tr>\n",
       "\t<tr><th scope=row>community</th><td>0               </td></tr>\n",
       "\t<tr><th scope=row>deregulation_tar</th><td>0.4157642       </td></tr>\n",
       "\t<tr><th scope=row>significant_tar</th><td>FALSE           </td></tr>\n",
       "\t<tr><th scope=row>is_regulator_tar</th><td>FALSE           </td></tr>\n",
       "\t<tr><th scope=row>is_TF_tar</th><td>FALSE           </td></tr>\n",
       "\t<tr><th scope=row>uncertainty_tar</th><td>0.09267909      </td></tr>\n",
       "\t<tr><th scope=row>U1_tar</th><td>0.0926765       </td></tr>\n",
       "\t<tr><th scope=row>secondary_ATE_raw_tar</th><td>1               </td></tr>\n",
       "\t<tr><th scope=row>secondary_peptidase_raw_tar</th><td>2               </td></tr>\n",
       "\t<tr><th scope=row>fate_strict_tar</th><td>other           </td></tr>\n",
       "\t<tr><th scope=row>profile_tar</th><td>0               </td></tr>\n",
       "\t<tr><th scope=row>phase_tar</th><td>unchanged       </td></tr>\n",
       "\t<tr><th scope=row>deregulation_reg</th><td>0.1932658       </td></tr>\n",
       "\t<tr><th scope=row>significant_reg</th><td>FALSE           </td></tr>\n",
       "\t<tr><th scope=row>is_regulator_reg</th><td>TRUE            </td></tr>\n",
       "\t<tr><th scope=row>is_TF_reg</th><td>TRUE            </td></tr>\n",
       "\t<tr><th scope=row>uncertainty_reg</th><td>0               </td></tr>\n",
       "\t<tr><th scope=row>U1_reg</th><td>0               </td></tr>\n",
       "\t<tr><th scope=row>secondary_ATE_raw_reg</th><td>1               </td></tr>\n",
       "\t<tr><th scope=row>secondary_peptidase_raw_reg</th><td>7               </td></tr>\n",
       "\t<tr><th scope=row>fate_strict_reg</th><td>NERD            </td></tr>\n",
       "\t<tr><th scope=row>profile_reg</th><td>0               </td></tr>\n",
       "\t<tr><th scope=row>phase_reg</th><td>unchanged       </td></tr>\n",
       "\t<tr><th scope=row>put_DEK1_target</th><td>FALSE           </td></tr>\n",
       "</tbody>\n",
       "</table>\n"
      ],
      "text/latex": [
       "\\begin{tabular}{r|l}\n",
       "\tregulatoryGene & Pp3c1\\_12940.mRNA\\\\\n",
       "\ttargetGene & Pp3c1\\_10010.mRNA\\\\\n",
       "\tfull\\_cor & -0.6258329      \\\\\n",
       "\tfull\\_reg & -               \\\\\n",
       "\tour\\_cor & -0.7894632      \\\\\n",
       "\tour\\_reg & -               \\\\\n",
       "\tweight & 0.01369468      \\\\\n",
       "\tregulator\\_rank & 71              \\\\\n",
       "\ttarget\\_rank & 5               \\\\\n",
       "\tmutual\\_rank & 18.84144        \\\\\n",
       "\tregulator\\_community & IX              \\\\\n",
       "\ttarget\\_community & VIII            \\\\\n",
       "\tcommunity & 0               \\\\\n",
       "\tderegulation\\_tar & 0.4157642       \\\\\n",
       "\tsignificant\\_tar & FALSE           \\\\\n",
       "\tis\\_regulator\\_tar & FALSE           \\\\\n",
       "\tis\\_TF\\_tar & FALSE           \\\\\n",
       "\tuncertainty\\_tar & 0.09267909      \\\\\n",
       "\tU1\\_tar & 0.0926765       \\\\\n",
       "\tsecondary\\_ATE\\_raw\\_tar & 1               \\\\\n",
       "\tsecondary\\_peptidase\\_raw\\_tar & 2               \\\\\n",
       "\tfate\\_strict\\_tar & other           \\\\\n",
       "\tprofile\\_tar & 0               \\\\\n",
       "\tphase\\_tar & unchanged       \\\\\n",
       "\tderegulation\\_reg & 0.1932658       \\\\\n",
       "\tsignificant\\_reg & FALSE           \\\\\n",
       "\tis\\_regulator\\_reg & TRUE            \\\\\n",
       "\tis\\_TF\\_reg & TRUE            \\\\\n",
       "\tuncertainty\\_reg & 0               \\\\\n",
       "\tU1\\_reg & 0               \\\\\n",
       "\tsecondary\\_ATE\\_raw\\_reg & 1               \\\\\n",
       "\tsecondary\\_peptidase\\_raw\\_reg & 7               \\\\\n",
       "\tfate\\_strict\\_reg & NERD            \\\\\n",
       "\tprofile\\_reg & 0               \\\\\n",
       "\tphase\\_reg & unchanged       \\\\\n",
       "\tput\\_DEK1\\_target & FALSE           \\\\\n",
       "\\end{tabular}\n"
      ],
      "text/markdown": [
       "\n",
       "| regulatoryGene | Pp3c1_12940.mRNA |\n",
       "| targetGene | Pp3c1_10010.mRNA |\n",
       "| full_cor | -0.6258329       |\n",
       "| full_reg | -                |\n",
       "| our_cor | -0.7894632       |\n",
       "| our_reg | -                |\n",
       "| weight | 0.01369468       |\n",
       "| regulator_rank | 71               |\n",
       "| target_rank | 5                |\n",
       "| mutual_rank | 18.84144         |\n",
       "| regulator_community | IX               |\n",
       "| target_community | VIII             |\n",
       "| community | 0                |\n",
       "| deregulation_tar | 0.4157642        |\n",
       "| significant_tar | FALSE            |\n",
       "| is_regulator_tar | FALSE            |\n",
       "| is_TF_tar | FALSE            |\n",
       "| uncertainty_tar | 0.09267909       |\n",
       "| U1_tar | 0.0926765        |\n",
       "| secondary_ATE_raw_tar | 1                |\n",
       "| secondary_peptidase_raw_tar | 2                |\n",
       "| fate_strict_tar | other            |\n",
       "| profile_tar | 0                |\n",
       "| phase_tar | unchanged        |\n",
       "| deregulation_reg | 0.1932658        |\n",
       "| significant_reg | FALSE            |\n",
       "| is_regulator_reg | TRUE             |\n",
       "| is_TF_reg | TRUE             |\n",
       "| uncertainty_reg | 0                |\n",
       "| U1_reg | 0                |\n",
       "| secondary_ATE_raw_reg | 1                |\n",
       "| secondary_peptidase_raw_reg | 7                |\n",
       "| fate_strict_reg | NERD             |\n",
       "| profile_reg | 0                |\n",
       "| phase_reg | unchanged        |\n",
       "| put_DEK1_target | FALSE            |\n",
       "\n"
      ],
      "text/plain": [
       "                            [,1]            \n",
       "regulatoryGene              Pp3c1_12940.mRNA\n",
       "targetGene                  Pp3c1_10010.mRNA\n",
       "full_cor                    -0.6258329      \n",
       "full_reg                    -               \n",
       "our_cor                     -0.7894632      \n",
       "our_reg                     -               \n",
       "weight                      0.01369468      \n",
       "regulator_rank              71              \n",
       "target_rank                 5               \n",
       "mutual_rank                 18.84144        \n",
       "regulator_community         IX              \n",
       "target_community            VIII            \n",
       "community                   0               \n",
       "deregulation_tar            0.4157642       \n",
       "significant_tar             FALSE           \n",
       "is_regulator_tar            FALSE           \n",
       "is_TF_tar                   FALSE           \n",
       "uncertainty_tar             0.09267909      \n",
       "U1_tar                      0.0926765       \n",
       "secondary_ATE_raw_tar       1               \n",
       "secondary_peptidase_raw_tar 2               \n",
       "fate_strict_tar             other           \n",
       "profile_tar                 0               \n",
       "phase_tar                   unchanged       \n",
       "deregulation_reg            0.1932658       \n",
       "significant_reg             FALSE           \n",
       "is_regulator_reg            TRUE            \n",
       "is_TF_reg                   TRUE            \n",
       "uncertainty_reg             0               \n",
       "U1_reg                      0               \n",
       "secondary_ATE_raw_reg       1               \n",
       "secondary_peptidase_raw_reg 7               \n",
       "fate_strict_reg             NERD            \n",
       "profile_reg                 0               \n",
       "phase_reg                   unchanged       \n",
       "put_DEK1_target             FALSE           "
      ]
     },
     "metadata": {},
     "output_type": "display_data"
    }
   ],
   "source": [
    "t(AA[1,])"
   ]
  }
 ],
 "metadata": {
  "kernelspec": {
   "display_name": "R [conda env:ontology]",
   "language": "R",
   "name": "conda-env-ontology-r"
  },
  "language_info": {
   "codemirror_mode": "r",
   "file_extension": ".r",
   "mimetype": "text/x-r-source",
   "name": "R",
   "pygments_lexer": "r",
   "version": "3.5.1"
  }
 },
 "nbformat": 4,
 "nbformat_minor": 4
}
