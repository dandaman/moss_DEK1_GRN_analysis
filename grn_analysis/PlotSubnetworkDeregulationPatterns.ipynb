{
 "cells": [
  {
   "cell_type": "code",
   "execution_count": 1,
   "metadata": {},
   "outputs": [
    {
     "name": "stderr",
     "output_type": "stream",
     "text": [
      "\n",
      "Attaching package: ‘igraph’\n",
      "\n",
      "The following objects are masked from ‘package:stats’:\n",
      "\n",
      "    decompose, spectrum\n",
      "\n",
      "The following object is masked from ‘package:base’:\n",
      "\n",
      "    union\n",
      "\n",
      "Loading required package: viridisLite\n",
      "Loading required package: DBI\n"
     ]
    }
   ],
   "source": [
    "library(igraph)\n",
    "library(neat)\n",
    "library(utils)\n",
    "library(reshape2)\n",
    "library(ggplot2)\n",
    "library(pheatmap)\n",
    "library(viridis)\n",
    "library(RPostgreSQL)\n",
    "library(stringr)\n",
    "library(UpSetR)"
   ]
  },
  {
   "cell_type": "code",
   "execution_count": 2,
   "metadata": {},
   "outputs": [
    {
     "data": {
      "text/html": [
       "<dl class=dl-horizontal>\n",
       "\t<dt>I</dt>\n",
       "\t\t<dd>'#999999'</dd>\n",
       "\t<dt>II</dt>\n",
       "\t\t<dd>'#FFE529'</dd>\n",
       "\t<dt>III</dt>\n",
       "\t\t<dd>'#5A6A99'</dd>\n",
       "\t<dt>IV</dt>\n",
       "\t\t<dd>'#FF7F00'</dd>\n",
       "\t<dt>V</dt>\n",
       "\t\t<dd>'#E486B7'</dd>\n",
       "\t<dt>VI</dt>\n",
       "\t\t<dd>'#6B886E'</dd>\n",
       "\t<dt>VII</dt>\n",
       "\t\t<dd>'#E41A1C'</dd>\n",
       "\t<dt>VIII</dt>\n",
       "\t\t<dd>'#CA9A2C'</dd>\n",
       "\t<dt>IX</dt>\n",
       "\t\t<dd>'#AD5882'</dd>\n",
       "\t<dt>X</dt>\n",
       "\t\t<dd>'#C66764'</dd>\n",
       "\t<dt>XI</dt>\n",
       "\t\t<dd>'#449B76'</dd>\n",
       "</dl>\n"
      ],
      "text/latex": [
       "\\begin{description*}\n",
       "\\item[I] '\\#999999'\n",
       "\\item[II] '\\#FFE529'\n",
       "\\item[III] '\\#5A6A99'\n",
       "\\item[IV] '\\#FF7F00'\n",
       "\\item[V] '\\#E486B7'\n",
       "\\item[VI] '\\#6B886E'\n",
       "\\item[VII] '\\#E41A1C'\n",
       "\\item[VIII] '\\#CA9A2C'\n",
       "\\item[IX] '\\#AD5882'\n",
       "\\item[X] '\\#C66764'\n",
       "\\item[XI] '\\#449B76'\n",
       "\\end{description*}\n"
      ],
      "text/markdown": [
       "I\n",
       ":   '#999999'II\n",
       ":   '#FFE529'III\n",
       ":   '#5A6A99'IV\n",
       ":   '#FF7F00'V\n",
       ":   '#E486B7'VI\n",
       ":   '#6B886E'VII\n",
       ":   '#E41A1C'VIII\n",
       ":   '#CA9A2C'IX\n",
       ":   '#AD5882'X\n",
       ":   '#C66764'XI\n",
       ":   '#449B76'\n",
       "\n"
      ],
      "text/plain": [
       "        I        II       III        IV         V        VI       VII      VIII \n",
       "\"#999999\" \"#FFE529\" \"#5A6A99\" \"#FF7F00\" \"#E486B7\" \"#6B886E\" \"#E41A1C\" \"#CA9A2C\" \n",
       "       IX         X        XI \n",
       "\"#AD5882\" \"#C66764\" \"#449B76\" "
      ]
     },
     "metadata": {},
     "output_type": "display_data"
    }
   ],
   "source": [
    "col=read.delim(\"../subnetwork_colours.csv\",sep=\",\",stringsAsFactors=FALSE)\n",
    "col2=as.character(col$colour)\n",
    "names(col2)=col$network\n",
    "col2"
   ]
  },
  {
   "cell_type": "code",
   "execution_count": 3,
   "metadata": {},
   "outputs": [],
   "source": [
    "con = dbConnect(PostgreSQL(),dbname = 'dl', \n",
    "                 host = 'pgsbdb1',\n",
    "                 port = 5432)"
   ]
  },
  {
   "cell_type": "code",
   "execution_count": 4,
   "metadata": {},
   "outputs": [
    {
     "name": "stdout",
     "output_type": "stream",
     "text": [
      "'data.frame':\t35752 obs. of  4 variables:\n",
      " $ geneid     : chr  \"Pp3c15_11610.mRNA\" \"Pp3c19_8700.mRNA\" \"Pp3c4_2680.mRNA\" \"Pp3c16_13260.mRNA\" ...\n",
      " $ reg_class  : chr  \"TR\" \"TF\" \"TF\" \"TF\" ...\n",
      " $ name       : chr  \"GNAT\" \"tify\" \"AP2/EREBP\" \"AP2/EREBP\" ...\n",
      " $ description: chr  \"PTHR24055:SF10 - MITOGEN-ACTIVATED PROTEIN KINASE 3 (1 of 1)\" \"PTHR33077:SF8 - PROTEIN TIFY 8 (1 of 2)\" \"PF00847 - AP2 domain (AP2)  (1 of 150)\" \"PF00847 - AP2 domain (AP2)  (1 of 150)\" ...\n"
     ]
    },
    {
     "data": {
      "text/html": [
       "<table>\n",
       "<thead><tr><th scope=col>geneid</th><th scope=col>reg_class</th><th scope=col>name</th><th scope=col>description</th></tr></thead>\n",
       "<tbody>\n",
       "\t<tr><td>Pp3c15_11610.mRNA                                               </td><td>TR                                                              </td><td>GNAT                                                            </td><td>PTHR24055:SF10 - MITOGEN-ACTIVATED PROTEIN KINASE 3 (1 of 1)    </td></tr>\n",
       "\t<tr><td>Pp3c19_8700.mRNA                                                </td><td>TF                                                              </td><td>tify                                                            </td><td>PTHR33077:SF8 - PROTEIN TIFY 8 (1 of 2)                         </td></tr>\n",
       "\t<tr><td>Pp3c4_2680.mRNA                                                 </td><td>TF                                                              </td><td>AP2/EREBP                                                       </td><td>PF00847 - AP2 domain (AP2)  (1 of 150)                          </td></tr>\n",
       "\t<tr><td>Pp3c16_13260.mRNA                                               </td><td>TF                                                              </td><td>AP2/EREBP                                                       </td><td>PF00847 - AP2 domain (AP2)  (1 of 150)                          </td></tr>\n",
       "\t<tr><td>Pp3c9_11330.mRNA                                                </td><td>TF                                                              </td><td>tify                                                            </td><td>PTHR33077:SF13 - PROTEIN TIFY 10A-RELATED (1 of 10)             </td></tr>\n",
       "\t<tr><td>Pp3c14_14900.mRNA                                               </td><td>TF                                                              </td><td>ppmc6,PPMC6                                                     </td><td>K09264 - MADS-box transcription factor, plant (K09264)  (1 of 2)</td></tr>\n",
       "</tbody>\n",
       "</table>\n"
      ],
      "text/latex": [
       "\\begin{tabular}{r|llll}\n",
       " geneid & reg\\_class & name & description\\\\\n",
       "\\hline\n",
       "\t Pp3c15\\_11610.mRNA                                              & TR                                                               & GNAT                                                             & PTHR24055:SF10 - MITOGEN-ACTIVATED PROTEIN KINASE 3 (1 of 1)    \\\\\n",
       "\t Pp3c19\\_8700.mRNA                                               & TF                                                               & tify                                                             & PTHR33077:SF8 - PROTEIN TIFY 8 (1 of 2)                         \\\\\n",
       "\t Pp3c4\\_2680.mRNA                                                & TF                                                               & AP2/EREBP                                                        & PF00847 - AP2 domain (AP2)  (1 of 150)                          \\\\\n",
       "\t Pp3c16\\_13260.mRNA                                              & TF                                                               & AP2/EREBP                                                        & PF00847 - AP2 domain (AP2)  (1 of 150)                          \\\\\n",
       "\t Pp3c9\\_11330.mRNA                                               & TF                                                               & tify                                                             & PTHR33077:SF13 - PROTEIN TIFY 10A-RELATED (1 of 10)             \\\\\n",
       "\t Pp3c14\\_14900.mRNA                                              & TF                                                               & ppmc6,PPMC6                                                      & K09264 - MADS-box transcription factor, plant (K09264)  (1 of 2)\\\\\n",
       "\\end{tabular}\n"
      ],
      "text/markdown": [
       "\n",
       "geneid | reg_class | name | description | \n",
       "|---|---|---|---|---|---|\n",
       "| Pp3c15_11610.mRNA                                                | TR                                                               | GNAT                                                             | PTHR24055:SF10 - MITOGEN-ACTIVATED PROTEIN KINASE 3 (1 of 1)     | \n",
       "| Pp3c19_8700.mRNA                                                 | TF                                                               | tify                                                             | PTHR33077:SF8 - PROTEIN TIFY 8 (1 of 2)                          | \n",
       "| Pp3c4_2680.mRNA                                                  | TF                                                               | AP2/EREBP                                                        | PF00847 - AP2 domain (AP2)  (1 of 150)                           | \n",
       "| Pp3c16_13260.mRNA                                                | TF                                                               | AP2/EREBP                                                        | PF00847 - AP2 domain (AP2)  (1 of 150)                           | \n",
       "| Pp3c9_11330.mRNA                                                 | TF                                                               | tify                                                             | PTHR33077:SF13 - PROTEIN TIFY 10A-RELATED (1 of 10)              | \n",
       "| Pp3c14_14900.mRNA                                                | TF                                                               | ppmc6,PPMC6                                                      | K09264 - MADS-box transcription factor, plant (K09264)  (1 of 2) | \n",
       "\n",
       "\n"
      ],
      "text/plain": [
       "  geneid            reg_class name       \n",
       "1 Pp3c15_11610.mRNA TR        GNAT       \n",
       "2 Pp3c19_8700.mRNA  TF        tify       \n",
       "3 Pp3c4_2680.mRNA   TF        AP2/EREBP  \n",
       "4 Pp3c16_13260.mRNA TF        AP2/EREBP  \n",
       "5 Pp3c9_11330.mRNA  TF        tify       \n",
       "6 Pp3c14_14900.mRNA TF        ppmc6,PPMC6\n",
       "  description                                                     \n",
       "1 PTHR24055:SF10 - MITOGEN-ACTIVATED PROTEIN KINASE 3 (1 of 1)    \n",
       "2 PTHR33077:SF8 - PROTEIN TIFY 8 (1 of 2)                         \n",
       "3 PF00847 - AP2 domain (AP2)  (1 of 150)                          \n",
       "4 PF00847 - AP2 domain (AP2)  (1 of 150)                          \n",
       "5 PTHR33077:SF13 - PROTEIN TIFY 10A-RELATED (1 of 10)             \n",
       "6 K09264 - MADS-box transcription factor, plant (K09264)  (1 of 2)"
      ]
     },
     "metadata": {},
     "output_type": "display_data"
    }
   ],
   "source": [
    "A=dbGetQuery(con,\"select * from physcogrn.gene_name\") \n",
    "A=A[,-c(2:3)]\n",
    "str(A)\n",
    "head(A)"
   ]
  },
  {
   "cell_type": "code",
   "execution_count": 5,
   "metadata": {},
   "outputs": [
    {
     "name": "stdout",
     "output_type": "stream",
     "text": [
      "List of 2\n",
      " $ downDEK1_upOEX: chr [1:2639] \"Pp3c1_10200.mRNA\" \"Pp3c1_10220.mRNA\" \"Pp3c1_11030.mRNA\" \"Pp3c1_11190.mRNA\" ...\n",
      " $ upDEK1_downOEX: chr [1:2445] \"Pp3c1_10400.mRNA\" \"Pp3c1_10760.mRNA\" \"Pp3c1_10830.mRNA\" \"Pp3c1_12715.mRNA\" ...\n",
      "List of 2\n",
      " $ repressor target: chr [1:2639] \"Pp3c1_10200.mRNA\" \"Pp3c1_10220.mRNA\" \"Pp3c1_11030.mRNA\" \"Pp3c1_11190.mRNA\" ...\n",
      " $ activator target: chr [1:2445] \"Pp3c1_10400.mRNA\" \"Pp3c1_10760.mRNA\" \"Pp3c1_10830.mRNA\" \"Pp3c1_12715.mRNA\" ...\n",
      "'data.frame':\t5084 obs. of  2 variables:\n",
      " $ geneid : chr  \"Pp3c1_10200.mRNA\" \"Pp3c1_10220.mRNA\" \"Pp3c1_11030.mRNA\" \"Pp3c1_11190.mRNA\" ...\n",
      " $ pattern: Factor w/ 4 levels \"not deregulated\",..: 3 3 3 3 3 3 3 3 3 3 ...\n"
     ]
    },
    {
     "data": {
      "text/plain": [
       "\n",
       "           not deregulated TF with deregulated target \n",
       "                         0                          0 \n",
       "          repressor target           activator target \n",
       "                      2639                       2445 "
      ]
     },
     "metadata": {},
     "output_type": "display_data"
    }
   ],
   "source": [
    "path=\"../../ontology_enrichment/input/profiles_sets/\"\n",
    "profiles=sapply(gsub(\"\\\\.set\",\"\",list.files(path=path,pattern=\"*.set\")),function(n) {\n",
    "    f=paste(path,paste(n,\"set\",sep=\".\"),sep=\"/\")\n",
    "    read.table(f,sep=\"\\t\",header=FALSE,stringsAsFactors=FALSE)[,1]\n",
    "})\n",
    "str(profiles)\n",
    "names(profiles)=c(\"repressor target\",\"activator target\")\n",
    "str(profiles)\n",
    "profiles=stack(profiles)\n",
    "names(profiles)=c(\"geneid\",\"pattern\")\n",
    "profiles$pattern=factor(as.character(profiles$pattern),levels=c(\"not deregulated\",\"TF with deregulated target\",\"repressor target\",\"activator target\"))\n",
    "str(profiles)\n",
    "table(profiles$pattern)\n",
    "pp=profiles\n"
   ]
  },
  {
   "cell_type": "code",
   "execution_count": 6,
   "metadata": {},
   "outputs": [
    {
     "data": {
      "text/html": [
       "<table>\n",
       "<thead><tr><th scope=col>regulatoryGene</th><th scope=col>targetGene</th><th scope=col>full_cor</th><th scope=col>full_reg</th><th scope=col>our_cor</th><th scope=col>our_reg</th><th scope=col>weight</th><th scope=col>regulator_rank</th><th scope=col>target_rank</th><th scope=col>mutual_rank</th><th scope=col>regulator_community</th><th scope=col>target_community</th><th scope=col>community</th></tr></thead>\n",
       "<tbody>\n",
       "\t<tr><td>Pp3c17_930.mRNA       </td><td>Pp3s340_10.mRNA       </td><td>0.1304851             </td><td>+                     </td><td>1.874270e-15          </td><td>+                     </td><td>0.06778052            </td><td>1                     </td><td>1                     </td><td>1                     </td><td>I                     </td><td>I                     </td><td>I                     </td></tr>\n",
       "\t<tr><td>Pp3c1_27430.pre_miRNA </td><td>Pp3c15_12100.mRNA     </td><td>0.5589259             </td><td>+                     </td><td>6.662628e-01          </td><td>+                     </td><td>0.06724901            </td><td>1                     </td><td>1                     </td><td>1                     </td><td>II                    </td><td>II                    </td><td>II                    </td></tr>\n",
       "\t<tr><td>Pp3c17_17550.mRNA     </td><td>Pp3c23_130.mRNA       </td><td>0.8464697             </td><td>+                     </td><td>8.916522e-01          </td><td>+                     </td><td>0.06646932            </td><td>1                     </td><td>1                     </td><td>1                     </td><td>II                    </td><td>II                    </td><td>II                    </td></tr>\n",
       "\t<tr><td>Pp3c17_18920.pre_miRNA</td><td>Pp3s32_420.mRNA       </td><td>1.0000000             </td><td>+                     </td><td>1.000000e+00          </td><td>+                     </td><td>0.06632740            </td><td>1                     </td><td>1                     </td><td>1                     </td><td>III                   </td><td>III                   </td><td>III                   </td></tr>\n",
       "\t<tr><td>Pp3c15_549.mRNA       </td><td>Pp3c4_24040.mRNA      </td><td>1.0000000             </td><td>+                     </td><td>1.000000e+00          </td><td>+                     </td><td>0.06400505            </td><td>1                     </td><td>1                     </td><td>1                     </td><td>IV                    </td><td>IV                    </td><td>IV                    </td></tr>\n",
       "\t<tr><td>Pp3c4_3072.pre_miRNA  </td><td>Pp3c22_1240.mRNA      </td><td>0.9517601             </td><td>+                     </td><td>9.665704e-01          </td><td>+                     </td><td>0.06353888            </td><td>1                     </td><td>1                     </td><td>1                     </td><td>II                    </td><td>II                    </td><td>II                    </td></tr>\n",
       "</tbody>\n",
       "</table>\n"
      ],
      "text/latex": [
       "\\begin{tabular}{r|lllllllllllll}\n",
       " regulatoryGene & targetGene & full\\_cor & full\\_reg & our\\_cor & our\\_reg & weight & regulator\\_rank & target\\_rank & mutual\\_rank & regulator\\_community & target\\_community & community\\\\\n",
       "\\hline\n",
       "\t Pp3c17\\_930.mRNA        & Pp3s340\\_10.mRNA        & 0.1304851                & +                        & 1.874270e-15             & +                        & 0.06778052               & 1                        & 1                        & 1                        & I                        & I                        & I                       \\\\\n",
       "\t Pp3c1\\_27430.pre\\_miRNA  & Pp3c15\\_12100.mRNA        & 0.5589259                  & +                          & 6.662628e-01               & +                          & 0.06724901                 & 1                          & 1                          & 1                          & II                         & II                         & II                        \\\\\n",
       "\t Pp3c17\\_17550.mRNA      & Pp3c23\\_130.mRNA        & 0.8464697                & +                        & 8.916522e-01             & +                        & 0.06646932               & 1                        & 1                        & 1                        & II                       & II                       & II                      \\\\\n",
       "\t Pp3c17\\_18920.pre\\_miRNA & Pp3s32\\_420.mRNA          & 1.0000000                  & +                          & 1.000000e+00               & +                          & 0.06632740                 & 1                          & 1                          & 1                          & III                        & III                        & III                       \\\\\n",
       "\t Pp3c15\\_549.mRNA        & Pp3c4\\_24040.mRNA       & 1.0000000                & +                        & 1.000000e+00             & +                        & 0.06400505               & 1                        & 1                        & 1                        & IV                       & IV                       & IV                      \\\\\n",
       "\t Pp3c4\\_3072.pre\\_miRNA   & Pp3c22\\_1240.mRNA         & 0.9517601                  & +                          & 9.665704e-01               & +                          & 0.06353888                 & 1                          & 1                          & 1                          & II                         & II                         & II                        \\\\\n",
       "\\end{tabular}\n"
      ],
      "text/markdown": [
       "\n",
       "regulatoryGene | targetGene | full_cor | full_reg | our_cor | our_reg | weight | regulator_rank | target_rank | mutual_rank | regulator_community | target_community | community | \n",
       "|---|---|---|---|---|---|\n",
       "| Pp3c17_930.mRNA        | Pp3s340_10.mRNA        | 0.1304851              | +                      | 1.874270e-15           | +                      | 0.06778052             | 1                      | 1                      | 1                      | I                      | I                      | I                      | \n",
       "| Pp3c1_27430.pre_miRNA  | Pp3c15_12100.mRNA      | 0.5589259              | +                      | 6.662628e-01           | +                      | 0.06724901             | 1                      | 1                      | 1                      | II                     | II                     | II                     | \n",
       "| Pp3c17_17550.mRNA      | Pp3c23_130.mRNA        | 0.8464697              | +                      | 8.916522e-01           | +                      | 0.06646932             | 1                      | 1                      | 1                      | II                     | II                     | II                     | \n",
       "| Pp3c17_18920.pre_miRNA | Pp3s32_420.mRNA        | 1.0000000              | +                      | 1.000000e+00           | +                      | 0.06632740             | 1                      | 1                      | 1                      | III                    | III                    | III                    | \n",
       "| Pp3c15_549.mRNA        | Pp3c4_24040.mRNA       | 1.0000000              | +                      | 1.000000e+00           | +                      | 0.06400505             | 1                      | 1                      | 1                      | IV                     | IV                     | IV                     | \n",
       "| Pp3c4_3072.pre_miRNA   | Pp3c22_1240.mRNA       | 0.9517601              | +                      | 9.665704e-01           | +                      | 0.06353888             | 1                      | 1                      | 1                      | II                     | II                     | II                     | \n",
       "\n",
       "\n"
      ],
      "text/plain": [
       "  regulatoryGene         targetGene        full_cor  full_reg our_cor     \n",
       "1 Pp3c17_930.mRNA        Pp3s340_10.mRNA   0.1304851 +        1.874270e-15\n",
       "2 Pp3c1_27430.pre_miRNA  Pp3c15_12100.mRNA 0.5589259 +        6.662628e-01\n",
       "3 Pp3c17_17550.mRNA      Pp3c23_130.mRNA   0.8464697 +        8.916522e-01\n",
       "4 Pp3c17_18920.pre_miRNA Pp3s32_420.mRNA   1.0000000 +        1.000000e+00\n",
       "5 Pp3c15_549.mRNA        Pp3c4_24040.mRNA  1.0000000 +        1.000000e+00\n",
       "6 Pp3c4_3072.pre_miRNA   Pp3c22_1240.mRNA  0.9517601 +        9.665704e-01\n",
       "  our_reg weight     regulator_rank target_rank mutual_rank regulator_community\n",
       "1 +       0.06778052 1              1           1           I                  \n",
       "2 +       0.06724901 1              1           1           II                 \n",
       "3 +       0.06646932 1              1           1           II                 \n",
       "4 +       0.06632740 1              1           1           III                \n",
       "5 +       0.06400505 1              1           1           IV                 \n",
       "6 +       0.06353888 1              1           1           II                 \n",
       "  target_community community\n",
       "1 I                I        \n",
       "2 II               II       \n",
       "3 II               II       \n",
       "4 III              III      \n",
       "5 IV               IV       \n",
       "6 II               II       "
      ]
     },
     "metadata": {},
     "output_type": "display_data"
    }
   ],
   "source": [
    "d=read.delim(gzfile(\"../GENIE3.top10_target_ranks.ranked_regulator_target_interactions.with_communities.correlations_and_directionality.tsv.gz\"),sep=\"\\t\",stringsAsFactors=FALSE)\n",
    "dd=d\n",
    "d=subset(d,community %in% as.character(as.roman(1:11)))\n",
    "dd=subset(dd,community %in% as.character(as.roman(1:11)) | community == 0)\n",
    "head(d)"
   ]
  },
  {
   "cell_type": "code",
   "execution_count": 7,
   "metadata": {},
   "outputs": [
    {
     "data": {
      "text/html": [
       "<table>\n",
       "<thead><tr><th scope=col>geneid</th><th scope=col>community</th><th scope=col>degree_centrality</th><th scope=col>betweenness_centrality</th><th scope=col>eigenvector_centrality</th><th scope=col>local_reaching_centrality</th><th scope=col>centrality_rank</th></tr></thead>\n",
       "<tbody>\n",
       "\t<tr><td>Pp3c27_3080.mRNA </td><td>I                </td><td>109              </td><td>   0             </td><td>0.00000000       </td><td>0.9977499        </td><td>1                </td></tr>\n",
       "\t<tr><td>Pp3c11_23290.mRNA</td><td>I                </td><td>552              </td><td>3190             </td><td>0.05359921       </td><td>0.9971070        </td><td>2                </td></tr>\n",
       "\t<tr><td>Pp3c7_2300.mRNA  </td><td>I                </td><td>505              </td><td>7529             </td><td>0.02518149       </td><td>0.9971070        </td><td>3                </td></tr>\n",
       "\t<tr><td>Pp3c17_23620.mRNA</td><td>I                </td><td>490              </td><td>1988             </td><td>0.05419710       </td><td>0.9971070        </td><td>4                </td></tr>\n",
       "\t<tr><td>Pp3c16_13280.mRNA</td><td>I                </td><td>485              </td><td>9982             </td><td>0.05634423       </td><td>0.9971070        </td><td>5                </td></tr>\n",
       "\t<tr><td>Pp3c15_11610.mRNA</td><td>I                </td><td>461              </td><td>3734             </td><td>0.04049888       </td><td>0.9971070        </td><td>6                </td></tr>\n",
       "</tbody>\n",
       "</table>\n"
      ],
      "text/latex": [
       "\\begin{tabular}{r|lllllll}\n",
       " geneid & community & degree\\_centrality & betweenness\\_centrality & eigenvector\\_centrality & local\\_reaching\\_centrality & centrality\\_rank\\\\\n",
       "\\hline\n",
       "\t Pp3c27\\_3080.mRNA  & I                   & 109                 &    0                & 0.00000000          & 0.9977499           & 1                  \\\\\n",
       "\t Pp3c11\\_23290.mRNA & I                   & 552                 & 3190                & 0.05359921          & 0.9971070           & 2                  \\\\\n",
       "\t Pp3c7\\_2300.mRNA   & I                   & 505                 & 7529                & 0.02518149          & 0.9971070           & 3                  \\\\\n",
       "\t Pp3c17\\_23620.mRNA & I                   & 490                 & 1988                & 0.05419710          & 0.9971070           & 4                  \\\\\n",
       "\t Pp3c16\\_13280.mRNA & I                   & 485                 & 9982                & 0.05634423          & 0.9971070           & 5                  \\\\\n",
       "\t Pp3c15\\_11610.mRNA & I                   & 461                 & 3734                & 0.04049888          & 0.9971070           & 6                  \\\\\n",
       "\\end{tabular}\n"
      ],
      "text/markdown": [
       "\n",
       "geneid | community | degree_centrality | betweenness_centrality | eigenvector_centrality | local_reaching_centrality | centrality_rank | \n",
       "|---|---|---|---|---|---|\n",
       "| Pp3c27_3080.mRNA  | I                 | 109               |    0              | 0.00000000        | 0.9977499         | 1                 | \n",
       "| Pp3c11_23290.mRNA | I                 | 552               | 3190              | 0.05359921        | 0.9971070         | 2                 | \n",
       "| Pp3c7_2300.mRNA   | I                 | 505               | 7529              | 0.02518149        | 0.9971070         | 3                 | \n",
       "| Pp3c17_23620.mRNA | I                 | 490               | 1988              | 0.05419710        | 0.9971070         | 4                 | \n",
       "| Pp3c16_13280.mRNA | I                 | 485               | 9982              | 0.05634423        | 0.9971070         | 5                 | \n",
       "| Pp3c15_11610.mRNA | I                 | 461               | 3734              | 0.04049888        | 0.9971070         | 6                 | \n",
       "\n",
       "\n"
      ],
      "text/plain": [
       "  geneid            community degree_centrality betweenness_centrality\n",
       "1 Pp3c27_3080.mRNA  I         109                  0                  \n",
       "2 Pp3c11_23290.mRNA I         552               3190                  \n",
       "3 Pp3c7_2300.mRNA   I         505               7529                  \n",
       "4 Pp3c17_23620.mRNA I         490               1988                  \n",
       "5 Pp3c16_13280.mRNA I         485               9982                  \n",
       "6 Pp3c15_11610.mRNA I         461               3734                  \n",
       "  eigenvector_centrality local_reaching_centrality centrality_rank\n",
       "1 0.00000000             0.9977499                 1              \n",
       "2 0.05359921             0.9971070                 2              \n",
       "3 0.02518149             0.9971070                 3              \n",
       "4 0.05419710             0.9971070                 4              \n",
       "5 0.05634423             0.9971070                 5              \n",
       "6 0.04049888             0.9971070                 6              "
      ]
     },
     "metadata": {},
     "output_type": "display_data"
    }
   ],
   "source": [
    "n=read.delim(\"../GENIE3.top10_target_ranks.communities_PLM.with_node_centralities.csv\",sep=\";\",stringsAsFactors=FALSE)\n",
    "n=subset(n,community %in% as.character(as.roman(1:11)))\n",
    "head(n)"
   ]
  },
  {
   "cell_type": "code",
   "execution_count": 8,
   "metadata": {},
   "outputs": [],
   "source": [
    "G=graph_from_data_frame(d,directed = TRUE,vertices = n)"
   ]
  },
  {
   "cell_type": "code",
   "execution_count": 9,
   "metadata": {},
   "outputs": [
    {
     "name": "stdout",
     "output_type": "stream",
     "text": [
      "List of 11\n",
      " $ I   : chr [1:3112] \"Pp3c27_3080.mRNA\" \"Pp3c11_23290.mRNA\" \"Pp3c7_2300.mRNA\" \"Pp3c17_23620.mRNA\" ...\n",
      " $ II  : chr [1:4418] \"Pp3c15_24790.mRNA\" \"Pp3c4_14601.pre_miRNA\" \"Pp3c22_13060.mRNA\" \"Pp3c9_13190.mRNA\" ...\n",
      " $ III : chr [1:1705] \"Pp3c13_10800.mRNA\" \"Pp3c22_11080.mRNA\" \"Pp3c16_9970.mRNA\" \"Pp3c8_250.mRNA\" ...\n",
      " $ IV  : chr [1:2728] \"Pp3c19_7560.mRNA\" \"Pp3c19_9880.mRNA\" \"Pp3c20_7710.mRNA\" \"Pp3c6_29020.mRNA\" ...\n",
      " $ V   : chr [1:3435] \"Pp3c22_2330.mRNA\" \"Pp3c5_12740.mRNA\" \"Pp3c8_6890.mRNA\" \"Pp3c7_25430.mRNA\" ...\n",
      " $ VI  : chr [1:1849] \"Pp3c16_20970.mRNA\" \"Pp3c1_32480.mRNA\" \"Pp3c10_13060.mRNA\" \"Pp3c4_25130.mRNA\" ...\n",
      " $ VII : chr [1:3851] \"Pp3c2_35433.mRNA\" \"Pp3c7_24670.mRNA\" \"Pp3c15_14600.mRNA\" \"Pp3c9_14240.mRNA\" ...\n",
      " $ VIII: chr [1:3662] \"Pp3c10_2910.mRNA\" \"Pp3c1_4600.mRNA\" \"Pp3c14_4440.mRNA\" \"Pp3c2_15500.mRNA\" ...\n",
      " $ IX  : chr [1:6167] \"Pp3c13_8290.mRNA\" \"Pp3c5_21130.mRNA\" \"Pp3c3_31770.mRNA\" \"Pp3c3_17380.mRNA\" ...\n",
      " $ X   : chr [1:2403] \"Pp3c1_15290.mRNA\" \"Pp3c16_15450.mRNA\" \"Pp3c19_18560.mRNA\" \"Pp3c7_23490.mRNA\" ...\n",
      " $ XI  : chr [1:2309] \"Pp3c5_28010.mRNA\" \"Pp3c9_5650.mRNA\" \"Pp3c10_11910.mRNA\" \"Pp3c3_13480.mRNA\" ...\n"
     ]
    }
   ],
   "source": [
    "com=sapply(as.character(as.roman(1:11)),function(i) n[n$community==i, \"geneid\"])\n",
    "str(com)"
   ]
  },
  {
   "cell_type": "code",
   "execution_count": 10,
   "metadata": {},
   "outputs": [
    {
     "data": {
      "text/html": [
       "<table>\n",
       "<thead><tr><th scope=col>A</th><th scope=col>B</th><th scope=col>nab</th><th scope=col>expected_nab</th><th scope=col>pvalue</th><th scope=col>conclusion</th><th scope=col>fdr</th><th scope=col>bonferroni</th></tr></thead>\n",
       "<tbody>\n",
       "\t<tr><td>downDEK1_upOEX </td><td>IX             </td><td>7988           </td><td>5569.140       </td><td>6.857806e-274  </td><td>Overenrichment </td><td>2.514529e-273  </td><td>1.508717e-272  </td></tr>\n",
       "\t<tr><td>downDEK1_upOEX </td><td>VIII           </td><td>2034           </td><td>3411.840       </td><td>6.203299e-169  </td><td>Underenrichment</td><td>1.137271e-168  </td><td>1.364726e-167  </td></tr>\n",
       "\t<tr><td>downDEK1_upOEX </td><td>V              </td><td>8070           </td><td>3398.263       </td><td> 0.000000e+00  </td><td>Overenrichment </td><td> 0.000000e+00  </td><td> 0.000000e+00  </td></tr>\n",
       "\t<tr><td>downDEK1_upOEX </td><td>XI             </td><td> 951           </td><td>1982.179       </td><td>9.680158e-165  </td><td>Underenrichment</td><td>1.638181e-164  </td><td>2.129635e-163  </td></tr>\n",
       "\t<tr><td>downDEK1_upOEX </td><td>I              </td><td>1672           </td><td>2934.464       </td><td>1.751379e-164  </td><td>Underenrichment</td><td>2.752167e-164  </td><td>3.853034e-163  </td></tr>\n",
       "\t<tr><td>downDEK1_upOEX </td><td>II             </td><td>3165           </td><td>3528.176       </td><td> 8.606751e-12  </td><td>Underenrichment</td><td> 9.016597e-12  </td><td> 1.893485e-10  </td></tr>\n",
       "</tbody>\n",
       "</table>\n"
      ],
      "text/latex": [
       "\\begin{tabular}{r|llllllll}\n",
       " A & B & nab & expected\\_nab & pvalue & conclusion & fdr & bonferroni\\\\\n",
       "\\hline\n",
       "\t downDEK1\\_upOEX & IX               & 7988             & 5569.140         & 6.857806e-274    & Overenrichment   & 2.514529e-273    & 1.508717e-272   \\\\\n",
       "\t downDEK1\\_upOEX & VIII             & 2034             & 3411.840         & 6.203299e-169    & Underenrichment  & 1.137271e-168    & 1.364726e-167   \\\\\n",
       "\t downDEK1\\_upOEX & V                & 8070             & 3398.263         &  0.000000e+00    & Overenrichment   &  0.000000e+00    &  0.000000e+00   \\\\\n",
       "\t downDEK1\\_upOEX & XI               &  951             & 1982.179         & 9.680158e-165    & Underenrichment  & 1.638181e-164    & 2.129635e-163   \\\\\n",
       "\t downDEK1\\_upOEX & I                & 1672             & 2934.464         & 1.751379e-164    & Underenrichment  & 2.752167e-164    & 3.853034e-163   \\\\\n",
       "\t downDEK1\\_upOEX & II               & 3165             & 3528.176         &  8.606751e-12    & Underenrichment  &  9.016597e-12    &  1.893485e-10   \\\\\n",
       "\\end{tabular}\n"
      ],
      "text/markdown": [
       "\n",
       "A | B | nab | expected_nab | pvalue | conclusion | fdr | bonferroni | \n",
       "|---|---|---|---|---|---|\n",
       "| downDEK1_upOEX  | IX              | 7988            | 5569.140        | 6.857806e-274   | Overenrichment  | 2.514529e-273   | 1.508717e-272   | \n",
       "| downDEK1_upOEX  | VIII            | 2034            | 3411.840        | 6.203299e-169   | Underenrichment | 1.137271e-168   | 1.364726e-167   | \n",
       "| downDEK1_upOEX  | V               | 8070            | 3398.263        |  0.000000e+00   | Overenrichment  |  0.000000e+00   |  0.000000e+00   | \n",
       "| downDEK1_upOEX  | XI              |  951            | 1982.179        | 9.680158e-165   | Underenrichment | 1.638181e-164   | 2.129635e-163   | \n",
       "| downDEK1_upOEX  | I               | 1672            | 2934.464        | 1.751379e-164   | Underenrichment | 2.752167e-164   | 3.853034e-163   | \n",
       "| downDEK1_upOEX  | II              | 3165            | 3528.176        |  8.606751e-12   | Underenrichment |  9.016597e-12   |  1.893485e-10   | \n",
       "\n",
       "\n"
      ],
      "text/plain": [
       "  A              B    nab  expected_nab pvalue        conclusion     \n",
       "1 downDEK1_upOEX IX   7988 5569.140     6.857806e-274 Overenrichment \n",
       "2 downDEK1_upOEX VIII 2034 3411.840     6.203299e-169 Underenrichment\n",
       "3 downDEK1_upOEX V    8070 3398.263      0.000000e+00 Overenrichment \n",
       "4 downDEK1_upOEX XI    951 1982.179     9.680158e-165 Underenrichment\n",
       "5 downDEK1_upOEX I    1672 2934.464     1.751379e-164 Underenrichment\n",
       "6 downDEK1_upOEX II   3165 3528.176      8.606751e-12 Underenrichment\n",
       "  fdr           bonferroni   \n",
       "1 2.514529e-273 1.508717e-272\n",
       "2 1.137271e-168 1.364726e-167\n",
       "3  0.000000e+00  0.000000e+00\n",
       "4 1.638181e-164 2.129635e-163\n",
       "5 2.752167e-164 3.853034e-163\n",
       "6  9.016597e-12  1.893485e-10"
      ]
     },
     "metadata": {},
     "output_type": "display_data"
    },
    {
     "data": {
      "text/html": [
       "<ol class=list-inline>\n",
       "\t<li>'downDEK1_upOEX'</li>\n",
       "\t<li>'upDEK1_downOEX'</li>\n",
       "</ol>\n"
      ],
      "text/latex": [
       "\\begin{enumerate*}\n",
       "\\item 'downDEK1\\_upOEX'\n",
       "\\item 'upDEK1\\_downOEX'\n",
       "\\end{enumerate*}\n"
      ],
      "text/markdown": [
       "1. 'downDEK1_upOEX'\n",
       "2. 'upDEK1_downOEX'\n",
       "\n",
       "\n"
      ],
      "text/plain": [
       "[1] \"downDEK1_upOEX\" \"upDEK1_downOEX\""
      ]
     },
     "metadata": {},
     "output_type": "display_data"
    },
    {
     "data": {
      "text/html": [
       "<ol class=list-inline>\n",
       "\t<li>'repressor target'</li>\n",
       "\t<li>'activator target'</li>\n",
       "</ol>\n"
      ],
      "text/latex": [
       "\\begin{enumerate*}\n",
       "\\item 'repressor target'\n",
       "\\item 'activator target'\n",
       "\\end{enumerate*}\n"
      ],
      "text/markdown": [
       "1. 'repressor target'\n",
       "2. 'activator target'\n",
       "\n",
       "\n"
      ],
      "text/plain": [
       "[1] \"repressor target\" \"activator target\""
      ]
     },
     "metadata": {},
     "output_type": "display_data"
    },
    {
     "data": {
      "text/plain": [
       "                 \n",
       "                  FALSE TRUE\n",
       "  No enrichment       1    0\n",
       "  Overenrichment      0    6\n",
       "  Underenrichment     0   15"
      ]
     },
     "metadata": {},
     "output_type": "display_data"
    }
   ],
   "source": [
    "neat=read.delim(\"../NEAT_subnetwork_enrichment.profiles.tsv\",sep=\"\\t\",stringsAsFactors=TRUE)\n",
    "head(neat)\n",
    "levels(neat$A)\n",
    "levels(neat$A)=list(\"repressor target\"=\"downDEK1_upOEX\", \"activator target\"=\"upDEK1_downOEX\")\n",
    "levels(neat$A)\n",
    "table(neat$conclusion,neat$bonferroni<0.01)"
   ]
  },
  {
   "cell_type": "code",
   "execution_count": 11,
   "metadata": {},
   "outputs": [
    {
     "data": {
      "text/html": [
       "215035"
      ],
      "text/latex": [
       "215035"
      ],
      "text/markdown": [
       "215035"
      ],
      "text/plain": [
       "[1] 215035"
      ]
     },
     "metadata": {},
     "output_type": "display_data"
    },
    {
     "data": {
      "text/html": [
       "50840"
      ],
      "text/latex": [
       "50840"
      ],
      "text/markdown": [
       "50840"
      ],
      "text/plain": [
       "[1] 50840"
      ]
     },
     "metadata": {},
     "output_type": "display_data"
    },
    {
     "data": {
      "text/html": [
       "35639"
      ],
      "text/latex": [
       "35639"
      ],
      "text/markdown": [
       "35639"
      ],
      "text/plain": [
       "[1] 35639"
      ]
     },
     "metadata": {},
     "output_type": "display_data"
    },
    {
     "data": {
      "text/html": [
       "1349"
      ],
      "text/latex": [
       "1349"
      ],
      "text/markdown": [
       "1349"
      ],
      "text/plain": [
       "[1] 1349"
      ]
     },
     "metadata": {},
     "output_type": "display_data"
    }
   ],
   "source": [
    "nrow(d)\n",
    "D=droplevels(subset(dd, targetGene %in% profiles$geneid)) # allowing also inter subnetwork links \n",
    "nrow(D)\n",
    "\n",
    "nrow(n)\n",
    "NN=droplevels(subset(n, geneid %in% D$regulatoryGene))\n",
    "nrow(NN)"
   ]
  },
  {
   "cell_type": "code",
   "execution_count": 12,
   "metadata": {},
   "outputs": [
    {
     "data": {
      "text/html": [
       "5084"
      ],
      "text/latex": [
       "5084"
      ],
      "text/markdown": [
       "5084"
      ],
      "text/plain": [
       "[1] 5084"
      ]
     },
     "metadata": {},
     "output_type": "display_data"
    },
    {
     "data": {
      "text/html": [
       "35639"
      ],
      "text/latex": [
       "35639"
      ],
      "text/markdown": [
       "35639"
      ],
      "text/plain": [
       "[1] 35639"
      ]
     },
     "metadata": {},
     "output_type": "display_data"
    },
    {
     "data": {
      "text/html": [
       "35639"
      ],
      "text/latex": [
       "35639"
      ],
      "text/markdown": [
       "35639"
      ],
      "text/plain": [
       "[1] 35639"
      ]
     },
     "metadata": {},
     "output_type": "display_data"
    },
    {
     "data": {
      "text/plain": [
       "\n",
       "           not deregulated TF with deregulated target \n",
       "                     30555                          0 \n",
       "          repressor target           activator target \n",
       "                      2639                       2445 "
      ]
     },
     "metadata": {},
     "output_type": "display_data"
    }
   ],
   "source": [
    "nrow(profiles)\n",
    "nrow(n)\n",
    "profiles= rbind(profiles,data.frame(geneid=setdiff(n$geneid,profiles$geneid),pattern=\"not deregulated\"))\n",
    "nrow(profiles)\n",
    "table(profiles$pattern)"
   ]
  },
  {
   "cell_type": "code",
   "execution_count": 13,
   "metadata": {},
   "outputs": [
    {
     "data": {
      "text/html": [
       "35639"
      ],
      "text/latex": [
       "35639"
      ],
      "text/markdown": [
       "35639"
      ],
      "text/plain": [
       "[1] 35639"
      ]
     },
     "metadata": {},
     "output_type": "display_data"
    },
    {
     "data": {
      "text/html": [
       "<table>\n",
       "<thead><tr><th scope=col>geneid</th><th scope=col>community</th><th scope=col>degree_centrality</th><th scope=col>betweenness_centrality</th><th scope=col>eigenvector_centrality</th><th scope=col>local_reaching_centrality</th><th scope=col>centrality_rank</th><th scope=col>pattern</th></tr></thead>\n",
       "<tbody>\n",
       "\t<tr><td>Pp3c1_100.mRNA        </td><td>XI                    </td><td>0                     </td><td>0                     </td><td>0.0014150125          </td><td>0                     </td><td>1646                  </td><td>not deregulated       </td></tr>\n",
       "\t<tr><td>Pp3c1_1000.mRNA       </td><td>VIII                  </td><td>0                     </td><td>0                     </td><td>0.0218658786          </td><td>0                     </td><td> 801                  </td><td>not deregulated       </td></tr>\n",
       "\t<tr><td>Pp3c1_10000.mRNA      </td><td>I                     </td><td>0                     </td><td>0                     </td><td>0.0075954511          </td><td>0                     </td><td>1736                  </td><td>not deregulated       </td></tr>\n",
       "\t<tr><td>Pp3c1_10010.mRNA      </td><td>VIII                  </td><td>0                     </td><td>0                     </td><td>0.0156725382          </td><td>0                     </td><td>1155                  </td><td>not deregulated       </td></tr>\n",
       "\t<tr><td>Pp3c1_10020.seryl_tRNA</td><td>II                    </td><td>0                     </td><td>0                     </td><td>0.0001972498          </td><td>0                     </td><td>3771                  </td><td>not deregulated       </td></tr>\n",
       "\t<tr><td>Pp3c1_10040.mRNA      </td><td>IX                    </td><td>0                     </td><td>0                     </td><td>0.0028652419          </td><td>0                     </td><td>3978                  </td><td>not deregulated       </td></tr>\n",
       "</tbody>\n",
       "</table>\n"
      ],
      "text/latex": [
       "\\begin{tabular}{r|llllllll}\n",
       " geneid & community & degree\\_centrality & betweenness\\_centrality & eigenvector\\_centrality & local\\_reaching\\_centrality & centrality\\_rank & pattern\\\\\n",
       "\\hline\n",
       "\t Pp3c1\\_100.mRNA         & XI                       & 0                        & 0                        & 0.0014150125             & 0                        & 1646                     & not deregulated         \\\\\n",
       "\t Pp3c1\\_1000.mRNA        & VIII                     & 0                        & 0                        & 0.0218658786             & 0                        &  801                     & not deregulated         \\\\\n",
       "\t Pp3c1\\_10000.mRNA       & I                        & 0                        & 0                        & 0.0075954511             & 0                        & 1736                     & not deregulated         \\\\\n",
       "\t Pp3c1\\_10010.mRNA       & VIII                     & 0                        & 0                        & 0.0156725382             & 0                        & 1155                     & not deregulated         \\\\\n",
       "\t Pp3c1\\_10020.seryl\\_tRNA & II                         & 0                          & 0                          & 0.0001972498               & 0                          & 3771                       & not deregulated           \\\\\n",
       "\t Pp3c1\\_10040.mRNA       & IX                       & 0                        & 0                        & 0.0028652419             & 0                        & 3978                     & not deregulated         \\\\\n",
       "\\end{tabular}\n"
      ],
      "text/markdown": [
       "\n",
       "geneid | community | degree_centrality | betweenness_centrality | eigenvector_centrality | local_reaching_centrality | centrality_rank | pattern | \n",
       "|---|---|---|---|---|---|\n",
       "| Pp3c1_100.mRNA         | XI                     | 0                      | 0                      | 0.0014150125           | 0                      | 1646                   | not deregulated        | \n",
       "| Pp3c1_1000.mRNA        | VIII                   | 0                      | 0                      | 0.0218658786           | 0                      |  801                   | not deregulated        | \n",
       "| Pp3c1_10000.mRNA       | I                      | 0                      | 0                      | 0.0075954511           | 0                      | 1736                   | not deregulated        | \n",
       "| Pp3c1_10010.mRNA       | VIII                   | 0                      | 0                      | 0.0156725382           | 0                      | 1155                   | not deregulated        | \n",
       "| Pp3c1_10020.seryl_tRNA | II                     | 0                      | 0                      | 0.0001972498           | 0                      | 3771                   | not deregulated        | \n",
       "| Pp3c1_10040.mRNA       | IX                     | 0                      | 0                      | 0.0028652419           | 0                      | 3978                   | not deregulated        | \n",
       "\n",
       "\n"
      ],
      "text/plain": [
       "  geneid                 community degree_centrality betweenness_centrality\n",
       "1 Pp3c1_100.mRNA         XI        0                 0                     \n",
       "2 Pp3c1_1000.mRNA        VIII      0                 0                     \n",
       "3 Pp3c1_10000.mRNA       I         0                 0                     \n",
       "4 Pp3c1_10010.mRNA       VIII      0                 0                     \n",
       "5 Pp3c1_10020.seryl_tRNA II        0                 0                     \n",
       "6 Pp3c1_10040.mRNA       IX        0                 0                     \n",
       "  eigenvector_centrality local_reaching_centrality centrality_rank\n",
       "1 0.0014150125           0                         1646           \n",
       "2 0.0218658786           0                          801           \n",
       "3 0.0075954511           0                         1736           \n",
       "4 0.0156725382           0                         1155           \n",
       "5 0.0001972498           0                         3771           \n",
       "6 0.0028652419           0                         3978           \n",
       "  pattern        \n",
       "1 not deregulated\n",
       "2 not deregulated\n",
       "3 not deregulated\n",
       "4 not deregulated\n",
       "5 not deregulated\n",
       "6 not deregulated"
      ]
     },
     "metadata": {},
     "output_type": "display_data"
    },
    {
     "data": {
      "text/plain": [
       "\n",
       "           not deregulated TF with deregulated target \n",
       "                     30555                          0 \n",
       "          repressor target           activator target \n",
       "                      2639                       2445 "
      ]
     },
     "metadata": {},
     "output_type": "display_data"
    }
   ],
   "source": [
    "N=merge(n,profiles,by=\"geneid\")\n",
    "nrow(N)\n",
    "head(N)\n",
    "table(N$pattern)"
   ]
  },
  {
   "cell_type": "code",
   "execution_count": 14,
   "metadata": {},
   "outputs": [
    {
     "data": {
      "text/html": [
       "35685"
      ],
      "text/latex": [
       "35685"
      ],
      "text/markdown": [
       "35685"
      ],
      "text/plain": [
       "[1] 35685"
      ]
     },
     "metadata": {},
     "output_type": "display_data"
    },
    {
     "data": {
      "text/html": [
       "35639"
      ],
      "text/latex": [
       "35639"
      ],
      "text/markdown": [
       "35639"
      ],
      "text/plain": [
       "[1] 35639"
      ]
     },
     "metadata": {},
     "output_type": "display_data"
    },
    {
     "data": {
      "text/html": [
       "<table>\n",
       "<thead><tr><th scope=col>geneid</th><th scope=col>community</th><th scope=col>degree_centrality</th><th scope=col>betweenness_centrality</th><th scope=col>eigenvector_centrality</th><th scope=col>local_reaching_centrality</th><th scope=col>centrality_rank</th><th scope=col>pattern</th><th scope=col>reg_class</th><th scope=col>name</th><th scope=col>description</th></tr></thead>\n",
       "<tbody>\n",
       "\t<tr><td>Pp3c1_100.mRNA                                                         </td><td>XI                                                                     </td><td>0                                                                      </td><td>0                                                                      </td><td>0.0014150125                                                           </td><td>0                                                                      </td><td>1646                                                                   </td><td>not deregulated                                                        </td><td>NA                                                                     </td><td>PHYPA_000006, Gip1-1                                                   </td><td>probable glycerol uptake facilitator protein                           </td></tr>\n",
       "\t<tr><td>Pp3c1_1000.mRNA                                                        </td><td>VIII                                                                   </td><td>0                                                                      </td><td>0                                                                      </td><td>0.0218658786                                                           </td><td>0                                                                      </td><td> 801                                                                   </td><td>not deregulated                                                        </td><td>NA                                                                     </td><td>NA                                                                     </td><td>NA                                                                     </td></tr>\n",
       "\t<tr><td>Pp3c1_10000.mRNA                                                       </td><td>I                                                                      </td><td>0                                                                      </td><td>0                                                                      </td><td>0.0075954511                                                           </td><td>0                                                                      </td><td>1736                                                                   </td><td>not deregulated                                                        </td><td>NA                                                                     </td><td>NA                                                                     </td><td>K00021 - hydroxymethylglutaryl-CoA reductase (NADPH) (HMGCR)  (1 of 3) </td></tr>\n",
       "\t<tr><td>Pp3c1_10010.mRNA                                                       </td><td>VIII                                                                   </td><td>0                                                                      </td><td>0                                                                      </td><td>0.0156725382                                                           </td><td>0                                                                      </td><td>1155                                                                   </td><td>not deregulated                                                        </td><td>NA                                                                     </td><td>NA                                                                     </td><td>PTHR11451:SF41 - GLUTAMATE--TRNA LIGASE, MITOCHONDRIAL-RELATED (1 of 1)</td></tr>\n",
       "\t<tr><td>Pp3c1_10020.seryl_tRNA                                                 </td><td>II                                                                     </td><td>0                                                                      </td><td>0                                                                      </td><td>0.0001972498                                                           </td><td>0                                                                      </td><td>3771                                                                   </td><td>not deregulated                                                        </td><td>NA                                                                     </td><td>NA                                                                     </td><td>NA                                                                     </td></tr>\n",
       "\t<tr><td>Pp3c1_10040.mRNA                                                       </td><td>IX                                                                     </td><td>0                                                                      </td><td>0                                                                      </td><td>0.0028652419                                                           </td><td>0                                                                      </td><td>3978                                                                   </td><td>not deregulated                                                        </td><td>NA                                                                     </td><td>NA                                                                     </td><td>K14846 - ribosome production factor 1 (RPF1)  (1 of 1)                 </td></tr>\n",
       "</tbody>\n",
       "</table>\n"
      ],
      "text/latex": [
       "\\begin{tabular}{r|lllllllllll}\n",
       " geneid & community & degree\\_centrality & betweenness\\_centrality & eigenvector\\_centrality & local\\_reaching\\_centrality & centrality\\_rank & pattern & reg\\_class & name & description\\\\\n",
       "\\hline\n",
       "\t Pp3c1\\_100.mRNA                                                        & XI                                                                      & 0                                                                       & 0                                                                       & 0.0014150125                                                            & 0                                                                       & 1646                                                                    & not deregulated                                                         & NA                                                                      & PHYPA\\_000006, Gip1-1                                                  & probable glycerol uptake facilitator protein                           \\\\\n",
       "\t Pp3c1\\_1000.mRNA                                                       & VIII                                                                    & 0                                                                       & 0                                                                       & 0.0218658786                                                            & 0                                                                       &  801                                                                    & not deregulated                                                         & NA                                                                      & NA                                                                      & NA                                                                     \\\\\n",
       "\t Pp3c1\\_10000.mRNA                                                      & I                                                                       & 0                                                                       & 0                                                                       & 0.0075954511                                                            & 0                                                                       & 1736                                                                    & not deregulated                                                         & NA                                                                      & NA                                                                      & K00021 - hydroxymethylglutaryl-CoA reductase (NADPH) (HMGCR)  (1 of 3) \\\\\n",
       "\t Pp3c1\\_10010.mRNA                                                      & VIII                                                                    & 0                                                                       & 0                                                                       & 0.0156725382                                                            & 0                                                                       & 1155                                                                    & not deregulated                                                         & NA                                                                      & NA                                                                      & PTHR11451:SF41 - GLUTAMATE--TRNA LIGASE, MITOCHONDRIAL-RELATED (1 of 1)\\\\\n",
       "\t Pp3c1\\_10020.seryl\\_tRNA                                              & II                                                                      & 0                                                                       & 0                                                                       & 0.0001972498                                                            & 0                                                                       & 3771                                                                    & not deregulated                                                         & NA                                                                      & NA                                                                      & NA                                                                     \\\\\n",
       "\t Pp3c1\\_10040.mRNA                                                      & IX                                                                      & 0                                                                       & 0                                                                       & 0.0028652419                                                            & 0                                                                       & 3978                                                                    & not deregulated                                                         & NA                                                                      & NA                                                                      & K14846 - ribosome production factor 1 (RPF1)  (1 of 1)                 \\\\\n",
       "\\end{tabular}\n"
      ],
      "text/markdown": [
       "\n",
       "geneid | community | degree_centrality | betweenness_centrality | eigenvector_centrality | local_reaching_centrality | centrality_rank | pattern | reg_class | name | description | \n",
       "|---|---|---|---|---|---|\n",
       "| Pp3c1_100.mRNA                                                          | XI                                                                      | 0                                                                       | 0                                                                       | 0.0014150125                                                            | 0                                                                       | 1646                                                                    | not deregulated                                                         | NA                                                                      | PHYPA_000006, Gip1-1                                                    | probable glycerol uptake facilitator protein                            | \n",
       "| Pp3c1_1000.mRNA                                                         | VIII                                                                    | 0                                                                       | 0                                                                       | 0.0218658786                                                            | 0                                                                       |  801                                                                    | not deregulated                                                         | NA                                                                      | NA                                                                      | NA                                                                      | \n",
       "| Pp3c1_10000.mRNA                                                        | I                                                                       | 0                                                                       | 0                                                                       | 0.0075954511                                                            | 0                                                                       | 1736                                                                    | not deregulated                                                         | NA                                                                      | NA                                                                      | K00021 - hydroxymethylglutaryl-CoA reductase (NADPH) (HMGCR)  (1 of 3)  | \n",
       "| Pp3c1_10010.mRNA                                                        | VIII                                                                    | 0                                                                       | 0                                                                       | 0.0156725382                                                            | 0                                                                       | 1155                                                                    | not deregulated                                                         | NA                                                                      | NA                                                                      | PTHR11451:SF41 - GLUTAMATE--TRNA LIGASE, MITOCHONDRIAL-RELATED (1 of 1) | \n",
       "| Pp3c1_10020.seryl_tRNA                                                  | II                                                                      | 0                                                                       | 0                                                                       | 0.0001972498                                                            | 0                                                                       | 3771                                                                    | not deregulated                                                         | NA                                                                      | NA                                                                      | NA                                                                      | \n",
       "| Pp3c1_10040.mRNA                                                        | IX                                                                      | 0                                                                       | 0                                                                       | 0.0028652419                                                            | 0                                                                       | 3978                                                                    | not deregulated                                                         | NA                                                                      | NA                                                                      | K14846 - ribosome production factor 1 (RPF1)  (1 of 1)                  | \n",
       "\n",
       "\n"
      ],
      "text/plain": [
       "  geneid                 community degree_centrality betweenness_centrality\n",
       "1 Pp3c1_100.mRNA         XI        0                 0                     \n",
       "2 Pp3c1_1000.mRNA        VIII      0                 0                     \n",
       "3 Pp3c1_10000.mRNA       I         0                 0                     \n",
       "4 Pp3c1_10010.mRNA       VIII      0                 0                     \n",
       "5 Pp3c1_10020.seryl_tRNA II        0                 0                     \n",
       "6 Pp3c1_10040.mRNA       IX        0                 0                     \n",
       "  eigenvector_centrality local_reaching_centrality centrality_rank\n",
       "1 0.0014150125           0                         1646           \n",
       "2 0.0218658786           0                          801           \n",
       "3 0.0075954511           0                         1736           \n",
       "4 0.0156725382           0                         1155           \n",
       "5 0.0001972498           0                         3771           \n",
       "6 0.0028652419           0                         3978           \n",
       "  pattern         reg_class name                \n",
       "1 not deregulated NA        PHYPA_000006, Gip1-1\n",
       "2 not deregulated NA        NA                  \n",
       "3 not deregulated NA        NA                  \n",
       "4 not deregulated NA        NA                  \n",
       "5 not deregulated NA        NA                  \n",
       "6 not deregulated NA        NA                  \n",
       "  description                                                            \n",
       "1 probable glycerol uptake facilitator protein                           \n",
       "2 NA                                                                     \n",
       "3 K00021 - hydroxymethylglutaryl-CoA reductase (NADPH) (HMGCR)  (1 of 3) \n",
       "4 PTHR11451:SF41 - GLUTAMATE--TRNA LIGASE, MITOCHONDRIAL-RELATED (1 of 1)\n",
       "5 NA                                                                     \n",
       "6 K14846 - ribosome production factor 1 (RPF1)  (1 of 1)                 "
      ]
     },
     "metadata": {},
     "output_type": "display_data"
    }
   ],
   "source": [
    "N=merge(N,A,by=\"geneid\")\n",
    "nrow(N)\n",
    "N=N[!duplicated(N$geneid),]\n",
    "nrow(N)\n",
    "head(N)"
   ]
  },
  {
   "cell_type": "code",
   "execution_count": 15,
   "metadata": {},
   "outputs": [
    {
     "data": {
      "text/plain": [
       "                            \n",
       "                             miRNA  PT putative_miRNA  TF  TR\n",
       "  not deregulated              166  58             46 803 319\n",
       "  TF with deregulated target     0   0              0   0   0\n",
       "  repressor target               1   8              0  85  41\n",
       "  activator target               1  10              0  88  43"
      ]
     },
     "metadata": {},
     "output_type": "display_data"
    }
   ],
   "source": [
    "table(N$pattern,N$reg_class)"
   ]
  },
  {
   "cell_type": "code",
   "execution_count": 16,
   "metadata": {},
   "outputs": [
    {
     "data": {
      "text/plain": [
       "                            \n",
       "                             miRNA  PT putative_miRNA  TF  TR\n",
       "  not deregulated              166  58             46  89 319\n",
       "  TF with deregulated target     0   0              0 714   0\n",
       "  repressor target               1   8              0  85  41\n",
       "  activator target               1  10              0  88  43"
      ]
     },
     "metadata": {},
     "output_type": "display_data"
    }
   ],
   "source": [
    "N$pattern[N$pattern==\"not deregulated\" & N$geneid %in% NN$geneid & N$reg_class==\"TF\"]=\"TF with deregulated target\"\n",
    "table(N$pattern,N$reg_class)"
   ]
  },
  {
   "cell_type": "code",
   "execution_count": 17,
   "metadata": {},
   "outputs": [
    {
     "data": {
      "text/plain": [
       "                            \n",
       "                              I II III IV IX  V VI VII VIII  X XI\n",
       "  not deregulated             9 12   5  9 15  9  6  11   10  7  7\n",
       "  TF with deregulated target 14 20   8  6 14  5  4   6    9  8  7\n",
       "  repressor target            8 10   1  1 31 21  2   8   10  3  4\n",
       "  activator target            5 13   2  2 29 10  2   8   13 12  5"
      ]
     },
     "metadata": {},
     "output_type": "display_data"
    },
    {
     "data": {
      "text/plain": [
       "                            \n",
       "                                I   II  III   IV   IX    V   VI  VII VIII    X\n",
       "  not deregulated            2688 3713 1572 2608 4529 2599 1710 3397 3026 1970\n",
       "  TF with deregulated target   97  142   54   40   99   38   25   45   63   60\n",
       "  repressor target            204  257   33   37  825  558   53  223  261   83\n",
       "  activator target            123  306   46   43  714  240   61  186  312  290\n",
       "                            \n",
       "                               XI\n",
       "  not deregulated            2029\n",
       "  TF with deregulated target   51\n",
       "  repressor target            105\n",
       "  activator target            124"
      ]
     },
     "metadata": {},
     "output_type": "display_data"
    }
   ],
   "source": [
    "round(prop.table(table( N$pattern, N$community),1)*100)\n",
    "table( N$pattern, N$community)"
   ]
  },
  {
   "cell_type": "code",
   "execution_count": 18,
   "metadata": {},
   "outputs": [
    {
     "name": "stdout",
     "output_type": "stream",
     "text": [
      "List of 3\n",
      " $ TF with deregulated target: chr [1:714] \"Pp3c1_12940.mRNA\" \"Pp3c1_14230.mRNA\" \"Pp3c1_14480.mRNA\" \"Pp3c1_15290.mRNA\" ...\n",
      " $ repressor target          : chr [1:2639] \"Pp3c1_10200.mRNA\" \"Pp3c1_10220.mRNA\" \"Pp3c1_11030.mRNA\" \"Pp3c1_11190.mRNA\" ...\n",
      " $ activator target          : chr [1:2445] \"Pp3c1_10400.mRNA\" \"Pp3c1_10760.mRNA\" \"Pp3c1_10830.mRNA\" \"Pp3c1_12715.mRNA\" ...\n"
     ]
    }
   ],
   "source": [
    "pp=lapply(levels(N$pattern)[-1],function(x) {\n",
    "    unique(subset(N,pattern==x)$geneid)})\n",
    "names(pp)=levels(N$pattern)[-1]\n",
    "str(pp)"
   ]
  },
  {
   "cell_type": "code",
   "execution_count": 19,
   "metadata": {},
   "outputs": [
    {
     "data": {
      "text/html": [
       "21752"
      ],
      "text/latex": [
       "21752"
      ],
      "text/markdown": [
       "21752"
      ],
      "text/plain": [
       "[1] 21752"
      ]
     },
     "metadata": {},
     "output_type": "display_data"
    },
    {
     "data": {
      "text/html": [
       "21752"
      ],
      "text/latex": [
       "21752"
      ],
      "text/markdown": [
       "21752"
      ],
      "text/plain": [
       "[1] 21752"
      ]
     },
     "metadata": {},
     "output_type": "display_data"
    },
    {
     "data": {
      "text/html": [
       "<table>\n",
       "<thead><tr><th scope=col>target_id</th><th scope=col>class.lrt</th><th scope=col>TYPE.lrt</th><th scope=col>pval.lrt</th><th scope=col>qval.lrt</th><th scope=col>test_stat</th><th scope=col>rss</th><th scope=col>degrees_free</th><th scope=col>mean_obs.lrt</th><th scope=col>var_obs.lrt</th><th scope=col>⋯</th><th scope=col>pval.wt</th><th scope=col>qval.wt</th><th scope=col>b</th><th scope=col>se_b</th><th scope=col>mean_obs.wt</th><th scope=col>var_obs.wt</th><th scope=col>sigma_q_sq</th><th scope=col>sigma_sq.wt</th><th scope=col>smooth_sigma_sq.wt</th><th scope=col>smooth_sigma_sq_pmax</th></tr></thead>\n",
       "<tbody>\n",
       "\t<tr><td>Pp3s49_30.mRNA   </td><td>mRNA             </td><td>mRNA             </td><td>2.977600e-12     </td><td>6.476875e-08     </td><td>48.70333         </td><td>177.5279         </td><td>1                </td><td>4.010792         </td><td>13.65600         </td><td>⋯                </td><td>1.008618e-84     </td><td>2.193946e-80     </td><td>7.317238         </td><td>0.3751596        </td><td>4.010792         </td><td>13.65600         </td><td>0.006823643      </td><td>0.4455701        </td><td>0.10997257       </td><td>0.4455701        </td></tr>\n",
       "\t<tr><td>Pp3c7_9420.mRNA  </td><td>mRNA             </td><td>mRNA             </td><td>2.320054e-08     </td><td>3.881986e-06     </td><td>31.20635         </td><td>186.8794         </td><td>1                </td><td>4.540091         </td><td>14.37534         </td><td>⋯                </td><td>1.211662e-23     </td><td>2.214796e-21     </td><td>7.206672         </td><td>0.7190361        </td><td>4.540091         </td><td>14.37534         </td><td>0.012675319      </td><td>1.6491517        </td><td>0.07447159       </td><td>1.6491517        </td></tr>\n",
       "\t<tr><td>Pp3c26_14380.mRNA</td><td>mRNA             </td><td>mRNA             </td><td>2.602332e-10     </td><td>4.354302e-07     </td><td>39.95236         </td><td>149.8390         </td><td>1                </td><td>3.568815         </td><td>11.52608         </td><td>⋯                </td><td>5.613964e-45     </td><td>1.110136e-41     </td><td>6.629719         </td><td>0.4711154        </td><td>3.568815         </td><td>11.52608         </td><td>0.002858010      </td><td>0.7105517        </td><td>0.14794491       </td><td>0.7105517        </td></tr>\n",
       "\t<tr><td>Pp3c14_20550.mRNA</td><td>mRNA             </td><td>mRNA             </td><td>4.388513e-08     </td><td>5.648458e-06     </td><td>29.96970         </td><td>145.4578         </td><td>1                </td><td>4.125416         </td><td>11.18906         </td><td>⋯                </td><td>1.475792e-21     </td><td>2.018958e-19     </td><td>6.322859         </td><td>0.6630092        </td><td>4.125416         </td><td>11.18906         </td><td>0.079183880      </td><td>1.3337556        </td><td>0.10136846       </td><td>1.3337556        </td></tr>\n",
       "\t<tr><td>Pp3c16_3130.mRNA </td><td>mRNA             </td><td>mRNA             </td><td>1.112431e-07     </td><td>9.757097e-06     </td><td>28.16774         </td><td>146.2688         </td><td>1                </td><td>3.651705         </td><td>11.25145         </td><td>⋯                </td><td>7.944066e-19     </td><td>7.480490e-17     </td><td>6.282743         </td><td>0.7090490        </td><td>3.651705         </td><td>11.25145         </td><td>0.070836783      </td><td>1.5451467        </td><td>0.14025237       </td><td>1.5451467        </td></tr>\n",
       "\t<tr><td>Pp3c6_15620.mRNA </td><td>mRNA             </td><td>mRNA             </td><td>2.525141e-08     </td><td>4.099020e-06     </td><td>31.04193         </td><td>136.7621         </td><td>1                </td><td>5.413097         </td><td>10.52016         </td><td>⋯                </td><td>2.351254e-23     </td><td>4.124554e-21     </td><td>6.160701         </td><td>0.6187327        </td><td>5.413097         </td><td>10.52016         </td><td>0.095882724      </td><td>1.1346428        </td><td>0.03419986       </td><td>1.1346428        </td></tr>\n",
       "</tbody>\n",
       "</table>\n"
      ],
      "text/latex": [
       "\\begin{tabular}{r|llllllllllllllllllllllllll}\n",
       " target\\_id & class.lrt & TYPE.lrt & pval.lrt & qval.lrt & test\\_stat & rss & degrees\\_free & mean\\_obs.lrt & var\\_obs.lrt & ⋯ & pval.wt & qval.wt & b & se\\_b & mean\\_obs.wt & var\\_obs.wt & sigma\\_q\\_sq & sigma\\_sq.wt & smooth\\_sigma\\_sq.wt & smooth\\_sigma\\_sq\\_pmax\\\\\n",
       "\\hline\n",
       "\t Pp3s49\\_30.mRNA    & mRNA                & mRNA                & 2.977600e-12        & 6.476875e-08        & 48.70333            & 177.5279            & 1                   & 4.010792            & 13.65600            & ⋯                   & 1.008618e-84        & 2.193946e-80        & 7.317238            & 0.3751596           & 4.010792            & 13.65600            & 0.006823643         & 0.4455701           & 0.10997257          & 0.4455701          \\\\\n",
       "\t Pp3c7\\_9420.mRNA   & mRNA                & mRNA                & 2.320054e-08        & 3.881986e-06        & 31.20635            & 186.8794            & 1                   & 4.540091            & 14.37534            & ⋯                   & 1.211662e-23        & 2.214796e-21        & 7.206672            & 0.7190361           & 4.540091            & 14.37534            & 0.012675319         & 1.6491517           & 0.07447159          & 1.6491517          \\\\\n",
       "\t Pp3c26\\_14380.mRNA & mRNA                & mRNA                & 2.602332e-10        & 4.354302e-07        & 39.95236            & 149.8390            & 1                   & 3.568815            & 11.52608            & ⋯                   & 5.613964e-45        & 1.110136e-41        & 6.629719            & 0.4711154           & 3.568815            & 11.52608            & 0.002858010         & 0.7105517           & 0.14794491          & 0.7105517          \\\\\n",
       "\t Pp3c14\\_20550.mRNA & mRNA                & mRNA                & 4.388513e-08        & 5.648458e-06        & 29.96970            & 145.4578            & 1                   & 4.125416            & 11.18906            & ⋯                   & 1.475792e-21        & 2.018958e-19        & 6.322859            & 0.6630092           & 4.125416            & 11.18906            & 0.079183880         & 1.3337556           & 0.10136846          & 1.3337556          \\\\\n",
       "\t Pp3c16\\_3130.mRNA  & mRNA                & mRNA                & 1.112431e-07        & 9.757097e-06        & 28.16774            & 146.2688            & 1                   & 3.651705            & 11.25145            & ⋯                   & 7.944066e-19        & 7.480490e-17        & 6.282743            & 0.7090490           & 3.651705            & 11.25145            & 0.070836783         & 1.5451467           & 0.14025237          & 1.5451467          \\\\\n",
       "\t Pp3c6\\_15620.mRNA  & mRNA                & mRNA                & 2.525141e-08        & 4.099020e-06        & 31.04193            & 136.7621            & 1                   & 5.413097            & 10.52016            & ⋯                   & 2.351254e-23        & 4.124554e-21        & 6.160701            & 0.6187327           & 5.413097            & 10.52016            & 0.095882724         & 1.1346428           & 0.03419986          & 1.1346428          \\\\\n",
       "\\end{tabular}\n"
      ],
      "text/markdown": [
       "\n",
       "target_id | class.lrt | TYPE.lrt | pval.lrt | qval.lrt | test_stat | rss | degrees_free | mean_obs.lrt | var_obs.lrt | ⋯ | pval.wt | qval.wt | b | se_b | mean_obs.wt | var_obs.wt | sigma_q_sq | sigma_sq.wt | smooth_sigma_sq.wt | smooth_sigma_sq_pmax | \n",
       "|---|---|---|---|---|---|\n",
       "| Pp3s49_30.mRNA    | mRNA              | mRNA              | 2.977600e-12      | 6.476875e-08      | 48.70333          | 177.5279          | 1                 | 4.010792          | 13.65600          | ⋯                 | 1.008618e-84      | 2.193946e-80      | 7.317238          | 0.3751596         | 4.010792          | 13.65600          | 0.006823643       | 0.4455701         | 0.10997257        | 0.4455701         | \n",
       "| Pp3c7_9420.mRNA   | mRNA              | mRNA              | 2.320054e-08      | 3.881986e-06      | 31.20635          | 186.8794          | 1                 | 4.540091          | 14.37534          | ⋯                 | 1.211662e-23      | 2.214796e-21      | 7.206672          | 0.7190361         | 4.540091          | 14.37534          | 0.012675319       | 1.6491517         | 0.07447159        | 1.6491517         | \n",
       "| Pp3c26_14380.mRNA | mRNA              | mRNA              | 2.602332e-10      | 4.354302e-07      | 39.95236          | 149.8390          | 1                 | 3.568815          | 11.52608          | ⋯                 | 5.613964e-45      | 1.110136e-41      | 6.629719          | 0.4711154         | 3.568815          | 11.52608          | 0.002858010       | 0.7105517         | 0.14794491        | 0.7105517         | \n",
       "| Pp3c14_20550.mRNA | mRNA              | mRNA              | 4.388513e-08      | 5.648458e-06      | 29.96970          | 145.4578          | 1                 | 4.125416          | 11.18906          | ⋯                 | 1.475792e-21      | 2.018958e-19      | 6.322859          | 0.6630092         | 4.125416          | 11.18906          | 0.079183880       | 1.3337556         | 0.10136846        | 1.3337556         | \n",
       "| Pp3c16_3130.mRNA  | mRNA              | mRNA              | 1.112431e-07      | 9.757097e-06      | 28.16774          | 146.2688          | 1                 | 3.651705          | 11.25145          | ⋯                 | 7.944066e-19      | 7.480490e-17      | 6.282743          | 0.7090490         | 3.651705          | 11.25145          | 0.070836783       | 1.5451467         | 0.14025237        | 1.5451467         | \n",
       "| Pp3c6_15620.mRNA  | mRNA              | mRNA              | 2.525141e-08      | 4.099020e-06      | 31.04193          | 136.7621          | 1                 | 5.413097          | 10.52016          | ⋯                 | 2.351254e-23      | 4.124554e-21      | 6.160701          | 0.6187327         | 5.413097          | 10.52016          | 0.095882724       | 1.1346428         | 0.03419986        | 1.1346428         | \n",
       "\n",
       "\n"
      ],
      "text/plain": [
       "  target_id         class.lrt TYPE.lrt pval.lrt     qval.lrt     test_stat\n",
       "1 Pp3s49_30.mRNA    mRNA      mRNA     2.977600e-12 6.476875e-08 48.70333 \n",
       "2 Pp3c7_9420.mRNA   mRNA      mRNA     2.320054e-08 3.881986e-06 31.20635 \n",
       "3 Pp3c26_14380.mRNA mRNA      mRNA     2.602332e-10 4.354302e-07 39.95236 \n",
       "4 Pp3c14_20550.mRNA mRNA      mRNA     4.388513e-08 5.648458e-06 29.96970 \n",
       "5 Pp3c16_3130.mRNA  mRNA      mRNA     1.112431e-07 9.757097e-06 28.16774 \n",
       "6 Pp3c6_15620.mRNA  mRNA      mRNA     2.525141e-08 4.099020e-06 31.04193 \n",
       "  rss      degrees_free mean_obs.lrt var_obs.lrt ⋯ pval.wt      qval.wt     \n",
       "1 177.5279 1            4.010792     13.65600    ⋯ 1.008618e-84 2.193946e-80\n",
       "2 186.8794 1            4.540091     14.37534    ⋯ 1.211662e-23 2.214796e-21\n",
       "3 149.8390 1            3.568815     11.52608    ⋯ 5.613964e-45 1.110136e-41\n",
       "4 145.4578 1            4.125416     11.18906    ⋯ 1.475792e-21 2.018958e-19\n",
       "5 146.2688 1            3.651705     11.25145    ⋯ 7.944066e-19 7.480490e-17\n",
       "6 136.7621 1            5.413097     10.52016    ⋯ 2.351254e-23 4.124554e-21\n",
       "  b        se_b      mean_obs.wt var_obs.wt sigma_q_sq  sigma_sq.wt\n",
       "1 7.317238 0.3751596 4.010792    13.65600   0.006823643 0.4455701  \n",
       "2 7.206672 0.7190361 4.540091    14.37534   0.012675319 1.6491517  \n",
       "3 6.629719 0.4711154 3.568815    11.52608   0.002858010 0.7105517  \n",
       "4 6.322859 0.6630092 4.125416    11.18906   0.079183880 1.3337556  \n",
       "5 6.282743 0.7090490 3.651705    11.25145   0.070836783 1.5451467  \n",
       "6 6.160701 0.6187327 5.413097    10.52016   0.095882724 1.1346428  \n",
       "  smooth_sigma_sq.wt smooth_sigma_sq_pmax\n",
       "1 0.10997257         0.4455701           \n",
       "2 0.07447159         1.6491517           \n",
       "3 0.14794491         0.7105517           \n",
       "4 0.10136846         1.3337556           \n",
       "5 0.14025237         1.5451467           \n",
       "6 0.03419986         1.1346428           "
      ]
     },
     "metadata": {},
     "output_type": "display_data"
    }
   ],
   "source": [
    "tc=read.delim(\"../../sleuth//comp.WT_phases/dge.tsv.gz\",sep=\"\\t\",stringsAsFactors=FALSE)\n",
    "nrow(tc)\n",
    "tc=na.omit(tc)\n",
    "nrow(tc)\n",
    "head(tc)"
   ]
  },
  {
   "cell_type": "code",
   "execution_count": 20,
   "metadata": {},
   "outputs": [
    {
     "data": {
      "text/plain": [
       "\n",
       "FALSE  TRUE \n",
       "11380 10372 "
      ]
     },
     "metadata": {},
     "output_type": "display_data"
    }
   ],
   "source": [
    "table(tc$qval.lrt<0.1 & tc$qval.wt<0.1)"
   ]
  },
  {
   "cell_type": "code",
   "execution_count": 21,
   "metadata": {},
   "outputs": [
    {
     "data": {
      "text/html": [
       "10372"
      ],
      "text/latex": [
       "10372"
      ],
      "text/markdown": [
       "10372"
      ],
      "text/plain": [
       "[1] 10372"
      ]
     },
     "metadata": {},
     "output_type": "display_data"
    }
   ],
   "source": [
    "tc=subset(tc,qval.lrt<0.1 & qval.wt<0.1)\n",
    "nrow(tc)"
   ]
  },
  {
   "cell_type": "code",
   "execution_count": 22,
   "metadata": {},
   "outputs": [],
   "source": [
    "pp[[\"WT 3-5 days\"]]=subset(tc,b<0)$target_id\n",
    "pp[[\"WT 9-14 days\"]]=subset(tc,b>0)$target_id"
   ]
  },
  {
   "cell_type": "code",
   "execution_count": 23,
   "metadata": {},
   "outputs": [
    {
     "name": "stdout",
     "output_type": "stream",
     "text": [
      "List of 5\n",
      " $ TF with deregulated target: chr [1:714] \"Pp3c1_12940.mRNA\" \"Pp3c1_14230.mRNA\" \"Pp3c1_14480.mRNA\" \"Pp3c1_15290.mRNA\" ...\n",
      " $ repressor target          : chr [1:2639] \"Pp3c1_10200.mRNA\" \"Pp3c1_10220.mRNA\" \"Pp3c1_11030.mRNA\" \"Pp3c1_11190.mRNA\" ...\n",
      " $ activator target          : chr [1:2445] \"Pp3c1_10400.mRNA\" \"Pp3c1_10760.mRNA\" \"Pp3c1_10830.mRNA\" \"Pp3c1_12715.mRNA\" ...\n",
      " $ WT 3-5 days               : chr [1:4744] \"Pp3c18_20030.mRNA\" \"Pp3c3_31560.mRNA\" \"Pp3c1_15390.mRNA\" \"Pp3c16_4180.mRNA\" ...\n",
      " $ WT 9-14 days              : chr [1:5628] \"Pp3s49_30.mRNA\" \"Pp3c7_9420.mRNA\" \"Pp3c26_14380.mRNA\" \"Pp3c14_20550.mRNA\" ...\n"
     ]
    }
   ],
   "source": [
    "str(pp)"
   ]
  },
  {
   "cell_type": "code",
   "execution_count": 24,
   "metadata": {},
   "outputs": [],
   "source": [
    "test.pr = neat(alist = pp, blist = com, network = G, nettype = 'undirected', nodes = n$geneid, alpha = 0.05) "
   ]
  },
  {
   "cell_type": "code",
   "execution_count": 25,
   "metadata": {},
   "outputs": [
    {
     "data": {
      "image/png": "[encoded data removed]",
      "text/plain": [
       "Plot with title “P-p plot of p-values”"
      ]
     },
     "metadata": {},
     "output_type": "display_data",
     "source": "R display func"
    }
   ],
   "source": [
    "options(repr.plot.width=10, repr.plot.height=5)\n",
    "plot(test.pr)"
   ]
  },
  {
   "cell_type": "code",
   "execution_count": 26,
   "metadata": {},
   "outputs": [
    {
     "data": {
      "text/plain": [
       ", ,  = FALSE\n",
       "\n",
       "                 \n",
       "                  FALSE TRUE\n",
       "  No enrichment       1    0\n",
       "  Overenrichment      0    0\n",
       "  Underenrichment     0    0\n",
       "\n",
       ", ,  = TRUE\n",
       "\n",
       "                 \n",
       "                  FALSE TRUE\n",
       "  No enrichment       0    0\n",
       "  Overenrichment      0   17\n",
       "  Underenrichment     0   37\n"
      ]
     },
     "metadata": {},
     "output_type": "display_data"
    }
   ],
   "source": [
    "test.pr$fdr=p.adjust(test.pr$pvalue,method=\"fdr\")\n",
    "test.pr$bonferroni=p.adjust(test.pr$pvalue,method=\"bonferroni\")\n",
    "table(test.pr$conclusion,test.pr$fdr<0.01,test.pr$bonferroni<0.01)"
   ]
  },
  {
   "cell_type": "code",
   "execution_count": 27,
   "metadata": {},
   "outputs": [
    {
     "data": {
      "text/plain": [
       "                            \n",
       "                             I II III IV IX V VI VII VIII X XI\n",
       "  activator target           0  1   0  0  1 0  0   0    1 1  0\n",
       "  repressor target           0  0   0  0  1 1  0   0    0 0  0\n",
       "  TF with deregulated target 1  1   1  0  0 0  0   0    1 1  1\n",
       "  WT 3-5 days                0  0   0  0  0 1  0   0    1 0  0\n",
       "  WT 9-14 days               0  1   0  0  0 0  0   0    0 1  1"
      ]
     },
     "metadata": {},
     "output_type": "display_data"
    }
   ],
   "source": [
    "Test.pr=subset(test.pr[order(-test.pr$nab),], conclusion==\"Overenrichment\" & fdr<0.01)\n",
    "table(Test.pr$A,Test.pr$B)"
   ]
  },
  {
   "cell_type": "code",
   "execution_count": 28,
   "metadata": {},
   "outputs": [
    {
     "data": {
      "image/png": "[encoded data removed]",
      "text/plain": [
       "plot without title"
      ]
     },
     "metadata": {},
     "output_type": "display_data",
     "source": "R display func"
    }
   ],
   "source": [
    "x=test.pr\n",
    "x$var=x$nab/x$expected_nab\n",
    "X=dcast(x,A~B,value.var=\"var\")\n",
    "row.names(X)=gsub(\"_\",\" & \",X[,1])\n",
    "X=X[,-1]\n",
    "x$var2=ifelse(x$fdr<0.01,ifelse(x$conclusion==\"Overenrichment\",\"+\",\"-\"),\"\")\n",
    "XX=dcast(x,A~B,value.var=\"var2\")\n",
    "row.names(XX)=gsub(\"_\",\" & \",XX[,1])\n",
    "XX=XX[,-1]\n",
    "net=data.frame(subnetwork=as.character(col$network))\n",
    "row.names(net)=col$network\n",
    "options(repr.plot.width=10, repr.plot.height=4)\n",
    "\n",
    "pheatmap(mat=X,scale=\"row\",\n",
    "         annotation_col=net,\n",
    "         annotation_names_row = FALSE, annotation_names_col = FALSE,\n",
    "         annotation_colors=list(subnetwork=col2),\n",
    "         annotation_legend=TRUE,\n",
    "         clustering_method=\"ward.D2\",\n",
    "         display_numbers=XX,\n",
    "         fontsize_number=20\n",
    "        )"
   ]
  },
  {
   "cell_type": "code",
   "execution_count": 29,
   "metadata": {},
   "outputs": [],
   "source": [
    "write.table(test.pr,file=\"NEAT_subnetwork_enrichment.patterns.tsv\",sep=\"\\t\",row.names=FALSE,col.names=TRUE,quote=FALSE)"
   ]
  },
  {
   "cell_type": "code",
   "execution_count": 30,
   "metadata": {},
   "outputs": [],
   "source": [
    "x=test.pr\n",
    "x$var=x$nab/x$expected_nab\n",
    "X=dcast(x,A~B,value.var=\"var\")\n",
    "row.names(X)=gsub(\"_\",\" & \",X[,1])\n",
    "X=X[,-1]\n",
    "x$var2=ifelse(x$fdr<0.01,ifelse(x$conclusion==\"Overenrichment\",\"+\",\"-\"),\"\")\n",
    "XX=dcast(x,A~B,value.var=\"var2\")\n",
    "row.names(XX)=gsub(\"_\",\" & \",XX[,1])\n",
    "XX=XX[,-1]\n",
    "net=data.frame(subnetwork=as.character(col$network))\n",
    "row.names(net)=col$network\n",
    "pheatmap(mat=X,scale=\"row\",\n",
    "         annotation_col=net,\n",
    "         annotation_names_row = FALSE, annotation_names_col = FALSE,\n",
    "         annotation_colors=list(subnetwork=col2),\n",
    "         annotation_legend=TRUE,\n",
    "         clustering_method=\"ward.D2\",\n",
    "         display_numbers=XX,\n",
    "         fontsize_number=20,\n",
    "         width=10,\n",
    "         height=4,\n",
    "         filename=\"NEAT_subnetwork_enrichment.pattern.pdf\"\n",
    "        )"
   ]
  },
  {
   "cell_type": "code",
   "execution_count": 31,
   "metadata": {},
   "outputs": [
    {
     "data": {
      "text/html": [
       "44"
      ],
      "text/latex": [
       "44"
      ],
      "text/markdown": [
       "44"
      ],
      "text/plain": [
       "[1] 44"
      ]
     },
     "metadata": {},
     "output_type": "display_data"
    },
    {
     "data": {
      "text/html": [
       "44"
      ],
      "text/latex": [
       "44"
      ],
      "text/markdown": [
       "44"
      ],
      "text/plain": [
       "[1] 44"
      ]
     },
     "metadata": {},
     "output_type": "display_data"
    },
    {
     "data": {
      "text/html": [
       "<table>\n",
       "<thead><tr><th scope=col>subnetwork</th><th scope=col>pattern</th><th scope=col>percentage</th><th scope=col>nab</th><th scope=col>expected_nab</th><th scope=col>pvalue</th><th scope=col>conclusion</th><th scope=col>fdr</th><th scope=col>bonferroni</th></tr></thead>\n",
       "<tbody>\n",
       "\t<tr><td>I                         </td><td>not deregulated           </td><td> 9.007741                 </td><td>   NA                     </td><td>       NA                 </td><td>           NA             </td><td>NA                        </td><td>           NA             </td><td>           NA             </td></tr>\n",
       "\t<tr><td>I                         </td><td>TF with deregulated target</td><td>13.585434                 </td><td>15017                     </td><td> 9411.015                 </td><td> 0.000000e+00             </td><td>Overenrichment            </td><td> 0.000000e+00             </td><td> 0.000000e+00             </td></tr>\n",
       "\t<tr><td>I                         </td><td>repressor target          </td><td> 7.730201                 </td><td> 1672                     </td><td> 2934.464                 </td><td>1.751379e-164             </td><td>Underenrichment           </td><td>2.240136e-164             </td><td>9.632584e-163             </td></tr>\n",
       "\t<tr><td>I                         </td><td>activator target          </td><td> 5.030675                 </td><td> 1094                     </td><td> 2924.115                 </td><td> 0.000000e+00             </td><td>Underenrichment           </td><td> 0.000000e+00             </td><td> 0.000000e+00             </td></tr>\n",
       "\t<tr><td>II                        </td><td>not deregulated           </td><td>12.442613                 </td><td>   NA                     </td><td>       NA                 </td><td>           NA             </td><td>NA                        </td><td>           NA             </td><td>           NA             </td></tr>\n",
       "\t<tr><td>II                        </td><td>TF with deregulated target</td><td>19.887955                 </td><td>13274                     </td><td>11315.090                 </td><td>2.454027e-108             </td><td>Overenrichment            </td><td>2.934162e-108             </td><td>1.349715e-106             </td></tr>\n",
       "</tbody>\n",
       "</table>\n"
      ],
      "text/latex": [
       "\\begin{tabular}{r|lllllllll}\n",
       " subnetwork & pattern & percentage & nab & expected\\_nab & pvalue & conclusion & fdr & bonferroni\\\\\n",
       "\\hline\n",
       "\t I                          & not deregulated            &  9.007741                  &    NA                      &        NA                  &            NA              & NA                         &            NA              &            NA             \\\\\n",
       "\t I                          & TF with deregulated target & 13.585434                  & 15017                      &  9411.015                  &  0.000000e+00              & Overenrichment             &  0.000000e+00              &  0.000000e+00             \\\\\n",
       "\t I                          & repressor target           &  7.730201                  &  1672                      &  2934.464                  & 1.751379e-164              & Underenrichment            & 2.240136e-164              & 9.632584e-163             \\\\\n",
       "\t I                          & activator target           &  5.030675                  &  1094                      &  2924.115                  &  0.000000e+00              & Underenrichment            &  0.000000e+00              &  0.000000e+00             \\\\\n",
       "\t II                         & not deregulated            & 12.442613                  &    NA                      &        NA                  &            NA              & NA                         &            NA              &            NA             \\\\\n",
       "\t II                         & TF with deregulated target & 19.887955                  & 13274                      & 11315.090                  & 2.454027e-108              & Overenrichment             & 2.934162e-108              & 1.349715e-106             \\\\\n",
       "\\end{tabular}\n"
      ],
      "text/markdown": [
       "\n",
       "subnetwork | pattern | percentage | nab | expected_nab | pvalue | conclusion | fdr | bonferroni | \n",
       "|---|---|---|---|---|---|\n",
       "| I                          | not deregulated            |  9.007741                  |    NA                      |        NA                  |            NA              | NA                         |            NA              |            NA              | \n",
       "| I                          | TF with deregulated target | 13.585434                  | 15017                      |  9411.015                  |  0.000000e+00              | Overenrichment             |  0.000000e+00              |  0.000000e+00              | \n",
       "| I                          | repressor target           |  7.730201                  |  1672                      |  2934.464                  | 1.751379e-164              | Underenrichment            | 2.240136e-164              | 9.632584e-163              | \n",
       "| I                          | activator target           |  5.030675                  |  1094                      |  2924.115                  |  0.000000e+00              | Underenrichment            |  0.000000e+00              |  0.000000e+00              | \n",
       "| II                         | not deregulated            | 12.442613                  |    NA                      |        NA                  |            NA              | NA                         |            NA              |            NA              | \n",
       "| II                         | TF with deregulated target | 19.887955                  | 13274                      | 11315.090                  | 2.454027e-108              | Overenrichment             | 2.934162e-108              | 1.349715e-106              | \n",
       "\n",
       "\n"
      ],
      "text/plain": [
       "  subnetwork pattern                    percentage nab   expected_nab\n",
       "1 I          not deregulated             9.007741     NA        NA   \n",
       "2 I          TF with deregulated target 13.585434  15017  9411.015   \n",
       "3 I          repressor target            7.730201   1672  2934.464   \n",
       "4 I          activator target            5.030675   1094  2924.115   \n",
       "5 II         not deregulated            12.442613     NA        NA   \n",
       "6 II         TF with deregulated target 19.887955  13274 11315.090   \n",
       "  pvalue        conclusion      fdr           bonferroni   \n",
       "1            NA NA                         NA            NA\n",
       "2  0.000000e+00 Overenrichment   0.000000e+00  0.000000e+00\n",
       "3 1.751379e-164 Underenrichment 2.240136e-164 9.632584e-163\n",
       "4  0.000000e+00 Underenrichment  0.000000e+00  0.000000e+00\n",
       "5            NA NA                         NA            NA\n",
       "6 2.454027e-108 Overenrichment  2.934162e-108 1.349715e-106"
      ]
     },
     "metadata": {},
     "output_type": "display_data"
    },
    {
     "data": {
      "text/html": [
       "44"
      ],
      "text/latex": [
       "44"
      ],
      "text/markdown": [
       "44"
      ],
      "text/plain": [
       "[1] 44"
      ]
     },
     "metadata": {},
     "output_type": "display_data"
    },
    {
     "data": {
      "text/html": [
       "44"
      ],
      "text/latex": [
       "44"
      ],
      "text/markdown": [
       "44"
      ],
      "text/plain": [
       "[1] 44"
      ]
     },
     "metadata": {},
     "output_type": "display_data"
    },
    {
     "data": {
      "text/html": [
       "<table>\n",
       "<thead><tr><th scope=col>pattern</th><th scope=col>subnetwork</th><th scope=col>percentage</th><th scope=col>nab</th><th scope=col>expected_nab</th><th scope=col>pvalue</th><th scope=col>conclusion</th><th scope=col>fdr</th><th scope=col>bonferroni</th><th scope=col>genes</th></tr></thead>\n",
       "<tbody>\n",
       "\t<tr><td>activator target</td><td>I               </td><td> 5.030675       </td><td>1094            </td><td>2924.115        </td><td> 0.000000e+00   </td><td>Underenrichment </td><td> 0.000000e+00   </td><td> 0.000000e+00   </td><td>123             </td></tr>\n",
       "\t<tr><td>activator target</td><td>II              </td><td>12.515337       </td><td>4350            </td><td>3515.734        </td><td> 3.291148e-51   </td><td>Overenrichment  </td><td> 3.481022e-51   </td><td> 1.810131e-49   </td><td>306             </td></tr>\n",
       "\t<tr><td>activator target</td><td>III             </td><td> 1.881391       </td><td> 680            </td><td>1620.955        </td><td>3.956163e-171   </td><td>Underenrichment </td><td>5.439724e-171   </td><td>2.175890e-169   </td><td> 46             </td></tr>\n",
       "\t<tr><td>activator target</td><td>IV              </td><td> 1.758691       </td><td> 782            </td><td>2045.297        </td><td>8.800532e-251   </td><td>Underenrichment </td><td>1.382941e-250   </td><td>4.840293e-249   </td><td> 43             </td></tr>\n",
       "\t<tr><td>activator target</td><td>IX              </td><td>29.202454       </td><td>8730            </td><td>5549.500        </td><td> 0.000000e+00   </td><td>Overenrichment  </td><td> 0.000000e+00   </td><td> 0.000000e+00   </td><td>714             </td></tr>\n",
       "\t<tr><td>activator target</td><td>V               </td><td> 9.815951       </td><td>1960            </td><td>3386.279        </td><td>2.568467e-183   </td><td>Underenrichment </td><td>3.717517e-183   </td><td>1.412657e-181   </td><td>240             </td></tr>\n",
       "</tbody>\n",
       "</table>\n"
      ],
      "text/latex": [
       "\\begin{tabular}{r|llllllllll}\n",
       " pattern & subnetwork & percentage & nab & expected\\_nab & pvalue & conclusion & fdr & bonferroni & genes\\\\\n",
       "\\hline\n",
       "\t activator target & I                &  5.030675        & 1094             & 2924.115         &  0.000000e+00    & Underenrichment  &  0.000000e+00    &  0.000000e+00    & 123             \\\\\n",
       "\t activator target & II               & 12.515337        & 4350             & 3515.734         &  3.291148e-51    & Overenrichment   &  3.481022e-51    &  1.810131e-49    & 306             \\\\\n",
       "\t activator target & III              &  1.881391        &  680             & 1620.955         & 3.956163e-171    & Underenrichment  & 5.439724e-171    & 2.175890e-169    &  46             \\\\\n",
       "\t activator target & IV               &  1.758691        &  782             & 2045.297         & 8.800532e-251    & Underenrichment  & 1.382941e-250    & 4.840293e-249    &  43             \\\\\n",
       "\t activator target & IX               & 29.202454        & 8730             & 5549.500         &  0.000000e+00    & Overenrichment   &  0.000000e+00    &  0.000000e+00    & 714             \\\\\n",
       "\t activator target & V                &  9.815951        & 1960             & 3386.279         & 2.568467e-183    & Underenrichment  & 3.717517e-183    & 1.412657e-181    & 240             \\\\\n",
       "\\end{tabular}\n"
      ],
      "text/markdown": [
       "\n",
       "pattern | subnetwork | percentage | nab | expected_nab | pvalue | conclusion | fdr | bonferroni | genes | \n",
       "|---|---|---|---|---|---|\n",
       "| activator target | I                |  5.030675        | 1094             | 2924.115         |  0.000000e+00    | Underenrichment  |  0.000000e+00    |  0.000000e+00    | 123              | \n",
       "| activator target | II               | 12.515337        | 4350             | 3515.734         |  3.291148e-51    | Overenrichment   |  3.481022e-51    |  1.810131e-49    | 306              | \n",
       "| activator target | III              |  1.881391        |  680             | 1620.955         | 3.956163e-171    | Underenrichment  | 5.439724e-171    | 2.175890e-169    |  46              | \n",
       "| activator target | IV               |  1.758691        |  782             | 2045.297         | 8.800532e-251    | Underenrichment  | 1.382941e-250    | 4.840293e-249    |  43              | \n",
       "| activator target | IX               | 29.202454        | 8730             | 5549.500         |  0.000000e+00    | Overenrichment   |  0.000000e+00    |  0.000000e+00    | 714              | \n",
       "| activator target | V                |  9.815951        | 1960             | 3386.279         | 2.568467e-183    | Underenrichment  | 3.717517e-183    | 1.412657e-181    | 240              | \n",
       "\n",
       "\n"
      ],
      "text/plain": [
       "  pattern          subnetwork percentage nab  expected_nab pvalue       \n",
       "1 activator target I           5.030675  1094 2924.115      0.000000e+00\n",
       "2 activator target II         12.515337  4350 3515.734      3.291148e-51\n",
       "3 activator target III         1.881391   680 1620.955     3.956163e-171\n",
       "4 activator target IV          1.758691   782 2045.297     8.800532e-251\n",
       "5 activator target IX         29.202454  8730 5549.500      0.000000e+00\n",
       "6 activator target V           9.815951  1960 3386.279     2.568467e-183\n",
       "  conclusion      fdr           bonferroni    genes\n",
       "1 Underenrichment  0.000000e+00  0.000000e+00 123  \n",
       "2 Overenrichment   3.481022e-51  1.810131e-49 306  \n",
       "3 Underenrichment 5.439724e-171 2.175890e-169  46  \n",
       "4 Underenrichment 1.382941e-250 4.840293e-249  43  \n",
       "5 Overenrichment   0.000000e+00  0.000000e+00 714  \n",
       "6 Underenrichment 3.717517e-183 1.412657e-181 240  "
      ]
     },
     "metadata": {},
     "output_type": "display_data"
    },
    {
     "data": {
      "text/html": [
       "44"
      ],
      "text/latex": [
       "44"
      ],
      "text/markdown": [
       "44"
      ],
      "text/plain": [
       "[1] 44"
      ]
     },
     "metadata": {},
     "output_type": "display_data"
    },
    {
     "data": {
      "text/plain": [
       "\n",
       "TRUE \n",
       "  44 "
      ]
     },
     "metadata": {},
     "output_type": "display_data"
    },
    {
     "name": "stdout",
     "output_type": "stream",
     "text": [
      "[1] \"II\"   \"IX\"   \"VIII\" \"X\"    \"V\"   \n"
     ]
    },
    {
     "data": {
      "text/plain": [
       "\n",
       "TRUE \n",
       "  15 "
      ]
     },
     "metadata": {},
     "output_type": "display_data"
    },
    {
     "data": {
      "text/plain": [
       "                            \n",
       "                             FALSE TRUE\n",
       "  TF with deregulated target     6    5\n",
       "  repressor target               6    5\n",
       "  activator target               6    5"
      ]
     },
     "metadata": {},
     "output_type": "display_data"
    }
   ],
   "source": [
    "X=data.frame(prop.table(table( N$pattern, N$community),1)*100)\n",
    "names(X)=c(\"pattern\",\"subnetwork\",\"percentage\")\n",
    "nrow(X)\n",
    "X=merge(X,test.pr,by.x=c(\"subnetwork\",\"pattern\"),by.y=c(\"B\",\"A\"),all.x=TRUE)\n",
    "nrow(X)\n",
    "head(X)\n",
    "\n",
    "XX=data.frame(table(N$pattern, N$community))\n",
    "names(XX)=c(\"pattern\",\"subnetwork\",\"genes\")\n",
    "nrow(XX)\n",
    "nrow(X)\n",
    "X=merge(X,XX,by=c(\"pattern\",\"subnetwork\"))\n",
    "head(X)\n",
    "nrow(X)\n",
    "table(X$genes>0)\n",
    "X$genes2=X$genes\n",
    "soi=as.character(unique(subset(X, pattern %in% c(\"activator target\",\"repressor target\") & conclusion==\"Overenrichment\" & bonferroni <0.01)$subnetwork))\n",
    "print(soi)\n",
    "X$genes[ ! X$subnetwork %in% soi & (is.na(X$conclusion) | X$conclusion!=\"Overenrichment\") ]=NA\n",
    "X$genes[! X$subnetwork %in% soi & X$pattern==\"TF with deregulated target\"]=NA\n",
    "X$genes=ifelse(X$pattern== \"TF with deregulated target\" &  X$subnetwork %in% soi,X$genes2,X$genes)\n",
    "X=droplevels(X[X$pattern!= \"not deregulated\",])\n",
    "table(X$genes>0)\n",
    "table(X$pattern,!is.na(X$genes) & X$genes>0)\n",
    "X$genes=as.character(X$genes)\n",
    "X$genes=ifelse(!is.na(X$conclusion) & X$subnetwork %in% soi &X$conclusion==\"Overenrichment\", paste0(X$genes,\"*\"),X$genes)"
   ]
  },
  {
   "cell_type": "code",
   "execution_count": 32,
   "metadata": {},
   "outputs": [
    {
     "name": "stderr",
     "output_type": "stream",
     "text": [
      "Warning message:\n",
      "“Removed 18 rows containing missing values (geom_text).”"
     ]
    },
    {
     "data": {},
     "metadata": {},
     "output_type": "display_data"
    },
    {
     "name": "stderr",
     "output_type": "stream",
     "text": [
      "Warning message:\n",
      "“Removed 18 rows containing missing values (geom_text).”"
     ]
    },
    {
     "data": {
      "image/png": "[encoded data removed]",
      "text/plain": [
       "plot without title"
      ]
     },
     "metadata": {},
     "output_type": "display_data",
     "source": "R display func"
    }
   ],
   "source": [
    "options(repr.plot.width=4, repr.plot.height=4)\n",
    "GG=ggplot(X,aes(x=pattern,y=percentage,fill=subnetwork,label=genes)) +geom_bar(stat=\"identity\",position=\"stack\") + \n",
    "scale_fill_manual(values=col2)+#coord_flip() +\n",
    "   scale_x_discrete(labels = function(x) str_wrap(x, width = 10)) +\n",
    "  geom_text(size = 3, position = position_stack(vjust = 0.5))\n",
    "GG\n",
    "ggsave(GG,file=\"Fig2.barplot.pdf\",width=4,height=4)"
   ]
  },
  {
   "cell_type": "code",
   "execution_count": 33,
   "metadata": {},
   "outputs": [
    {
     "data": {
      "text/html": [
       "<table>\n",
       "<thead><tr><th></th><th scope=col>geneid</th><th scope=col>community</th><th scope=col>degree_centrality</th><th scope=col>betweenness_centrality</th><th scope=col>eigenvector_centrality</th><th scope=col>local_reaching_centrality</th><th scope=col>centrality_rank</th><th scope=col>pattern</th><th scope=col>reg_class</th><th scope=col>name</th><th scope=col>description</th><th scope=col>pattern2</th><th scope=col>pattern3</th></tr></thead>\n",
       "<tbody>\n",
       "\t<tr><th scope=row>15</th><td>Pp3c1_12940.mRNA                                                               </td><td>IX                                                                             </td><td>165                                                                            </td><td> 5898                                                                          </td><td>0.001357962                                                                    </td><td>0.9974051                                                                      </td><td>85                                                                             </td><td>not deregulated                                                                </td><td>TF                                                                             </td><td>C3H                                                                            </td><td>PTHR12547:SF63 - ZINC FINGER CCCH DOMAIN-CONTAINING PROTEIN 37-RELATED (1 of 2)</td><td>IX                                                                             </td><td>IX                                                                             </td></tr>\n",
       "\t<tr><th scope=row>25</th><td>Pp3c1_14230.mRNA                                                               </td><td>II                                                                             </td><td>244                                                                            </td><td>36258                                                                          </td><td>0.081919529                                                                    </td><td>0.9893593                                                                      </td><td>26                                                                             </td><td>not deregulated                                                                </td><td>TF                                                                             </td><td>AS2/LOB                                                                        </td><td>PF00847 - AP2 domain (AP2)  (1 of 150)                                         </td><td>II                                                                             </td><td>II                                                                             </td></tr>\n",
       "\t<tr><th scope=row>30</th><td>Pp3c1_15290.mRNA                                                               </td><td>X                                                                              </td><td>627                                                                            </td><td> 3879                                                                          </td><td>0.050173560                                                                    </td><td>1.0000000                                                                      </td><td> 1                                                                             </td><td>not deregulated                                                                </td><td>TF                                                                             </td><td>HD_PLINC                                                                       </td><td>PF04770 - ZF-HD protein dimerisation region (ZF-HD_dimer)  (1 of 12)           </td><td>X                                                                              </td><td>X                                                                              </td></tr>\n",
       "\t<tr><th scope=row>33</th><td>Pp3c1_15410.mRNA                                                               </td><td>V                                                                              </td><td>387                                                                            </td><td> 5174                                                                          </td><td>0.031892393                                                                    </td><td>0.9988352                                                                      </td><td>17                                                                             </td><td>not deregulated                                                                </td><td>TF                                                                             </td><td>ABI3/VP1                                                                       </td><td>PF02362 - B3 DNA binding domain (B3)  (1 of 58)                                </td><td>V                                                                              </td><td>V                                                                              </td></tr>\n",
       "\t<tr><th scope=row>35</th><td>Pp3c1_15560.mRNA                                                               </td><td>V                                                                              </td><td>549                                                                            </td><td>16223                                                                          </td><td>0.037539501                                                                    </td><td>0.9988352                                                                      </td><td> 8                                                                             </td><td>not deregulated                                                                </td><td>TF                                                                             </td><td>GRAS                                                                           </td><td>PTHR31636:SF16 - SCARECROW-LIKE PROTEIN 28 (1 of 2)                            </td><td>V                                                                              </td><td>V                                                                              </td></tr>\n",
       "\t<tr><th scope=row>42</th><td>Pp3c1_1650.mRNA                                                                </td><td>II                                                                             </td><td> 84                                                                            </td><td>  999                                                                          </td><td>0.002492699                                                                    </td><td>0.9893593                                                                      </td><td>94                                                                             </td><td>not deregulated                                                                </td><td>TF                                                                             </td><td>MYB-related                                                                    </td><td>PTHR10641:SF473 - MYB TRANSCRIPTION FACTOR (1 of 8)                            </td><td>II                                                                             </td><td>II                                                                             </td></tr>\n",
       "</tbody>\n",
       "</table>\n"
      ],
      "text/latex": [
       "\\begin{tabular}{r|lllllllllllll}\n",
       "  & geneid & community & degree\\_centrality & betweenness\\_centrality & eigenvector\\_centrality & local\\_reaching\\_centrality & centrality\\_rank & pattern & reg\\_class & name & description & pattern2 & pattern3\\\\\n",
       "\\hline\n",
       "\t15 & Pp3c1\\_12940.mRNA                                                              & IX                                                                              & 165                                                                             &  5898                                                                           & 0.001357962                                                                     & 0.9974051                                                                       & 85                                                                              & not deregulated                                                                 & TF                                                                              & C3H                                                                             & PTHR12547:SF63 - ZINC FINGER CCCH DOMAIN-CONTAINING PROTEIN 37-RELATED (1 of 2) & IX                                                                              & IX                                                                             \\\\\n",
       "\t25 & Pp3c1\\_14230.mRNA                                                              & II                                                                              & 244                                                                             & 36258                                                                           & 0.081919529                                                                     & 0.9893593                                                                       & 26                                                                              & not deregulated                                                                 & TF                                                                              & AS2/LOB                                                                         & PF00847 - AP2 domain (AP2)  (1 of 150)                                          & II                                                                              & II                                                                             \\\\\n",
       "\t30 & Pp3c1\\_15290.mRNA                                                                & X                                                                                 & 627                                                                               &  3879                                                                             & 0.050173560                                                                       & 1.0000000                                                                         &  1                                                                                & not deregulated                                                                   & TF                                                                                & HD\\_PLINC                                                                        & PF04770 - ZF-HD protein dimerisation region (ZF-HD\\_dimer)  (1 of 12)            & X                                                                                 & X                                                                                \\\\\n",
       "\t33 & Pp3c1\\_15410.mRNA                                                              & V                                                                               & 387                                                                             &  5174                                                                           & 0.031892393                                                                     & 0.9988352                                                                       & 17                                                                              & not deregulated                                                                 & TF                                                                              & ABI3/VP1                                                                        & PF02362 - B3 DNA binding domain (B3)  (1 of 58)                                 & V                                                                               & V                                                                              \\\\\n",
       "\t35 & Pp3c1\\_15560.mRNA                                                              & V                                                                               & 549                                                                             & 16223                                                                           & 0.037539501                                                                     & 0.9988352                                                                       &  8                                                                              & not deregulated                                                                 & TF                                                                              & GRAS                                                                            & PTHR31636:SF16 - SCARECROW-LIKE PROTEIN 28 (1 of 2)                             & V                                                                               & V                                                                              \\\\\n",
       "\t42 & Pp3c1\\_1650.mRNA                                                               & II                                                                              &  84                                                                             &   999                                                                           & 0.002492699                                                                     & 0.9893593                                                                       & 94                                                                              & not deregulated                                                                 & TF                                                                              & MYB-related                                                                     & PTHR10641:SF473 - MYB TRANSCRIPTION FACTOR (1 of 8)                             & II                                                                              & II                                                                             \\\\\n",
       "\\end{tabular}\n"
      ],
      "text/markdown": [
       "\n",
       "| <!--/--> | geneid | community | degree_centrality | betweenness_centrality | eigenvector_centrality | local_reaching_centrality | centrality_rank | pattern | reg_class | name | description | pattern2 | pattern3 | \n",
       "|---|---|---|---|---|---|\n",
       "| 15 | Pp3c1_12940.mRNA                                                                | IX                                                                              | 165                                                                             |  5898                                                                           | 0.001357962                                                                     | 0.9974051                                                                       | 85                                                                              | not deregulated                                                                 | TF                                                                              | C3H                                                                             | PTHR12547:SF63 - ZINC FINGER CCCH DOMAIN-CONTAINING PROTEIN 37-RELATED (1 of 2) | IX                                                                              | IX                                                                              | \n",
       "| 25 | Pp3c1_14230.mRNA                                                                | II                                                                              | 244                                                                             | 36258                                                                           | 0.081919529                                                                     | 0.9893593                                                                       | 26                                                                              | not deregulated                                                                 | TF                                                                              | AS2/LOB                                                                         | PF00847 - AP2 domain (AP2)  (1 of 150)                                          | II                                                                              | II                                                                              | \n",
       "| 30 | Pp3c1_15290.mRNA                                                                | X                                                                               | 627                                                                             |  3879                                                                           | 0.050173560                                                                     | 1.0000000                                                                       |  1                                                                              | not deregulated                                                                 | TF                                                                              | HD_PLINC                                                                        | PF04770 - ZF-HD protein dimerisation region (ZF-HD_dimer)  (1 of 12)            | X                                                                               | X                                                                               | \n",
       "| 33 | Pp3c1_15410.mRNA                                                                | V                                                                               | 387                                                                             |  5174                                                                           | 0.031892393                                                                     | 0.9988352                                                                       | 17                                                                              | not deregulated                                                                 | TF                                                                              | ABI3/VP1                                                                        | PF02362 - B3 DNA binding domain (B3)  (1 of 58)                                 | V                                                                               | V                                                                               | \n",
       "| 35 | Pp3c1_15560.mRNA                                                                | V                                                                               | 549                                                                             | 16223                                                                           | 0.037539501                                                                     | 0.9988352                                                                       |  8                                                                              | not deregulated                                                                 | TF                                                                              | GRAS                                                                            | PTHR31636:SF16 - SCARECROW-LIKE PROTEIN 28 (1 of 2)                             | V                                                                               | V                                                                               | \n",
       "| 42 | Pp3c1_1650.mRNA                                                                 | II                                                                              |  84                                                                             |   999                                                                           | 0.002492699                                                                     | 0.9893593                                                                       | 94                                                                              | not deregulated                                                                 | TF                                                                              | MYB-related                                                                     | PTHR10641:SF473 - MYB TRANSCRIPTION FACTOR (1 of 8)                             | II                                                                              | II                                                                              | \n",
       "\n",
       "\n"
      ],
      "text/plain": [
       "   geneid           community degree_centrality betweenness_centrality\n",
       "15 Pp3c1_12940.mRNA IX        165                5898                 \n",
       "25 Pp3c1_14230.mRNA II        244               36258                 \n",
       "30 Pp3c1_15290.mRNA X         627                3879                 \n",
       "33 Pp3c1_15410.mRNA V         387                5174                 \n",
       "35 Pp3c1_15560.mRNA V         549               16223                 \n",
       "42 Pp3c1_1650.mRNA  II         84                 999                 \n",
       "   eigenvector_centrality local_reaching_centrality centrality_rank\n",
       "15 0.001357962            0.9974051                 85             \n",
       "25 0.081919529            0.9893593                 26             \n",
       "30 0.050173560            1.0000000                  1             \n",
       "33 0.031892393            0.9988352                 17             \n",
       "35 0.037539501            0.9988352                  8             \n",
       "42 0.002492699            0.9893593                 94             \n",
       "   pattern         reg_class name       \n",
       "15 not deregulated TF        C3H        \n",
       "25 not deregulated TF        AS2/LOB    \n",
       "30 not deregulated TF        HD_PLINC   \n",
       "33 not deregulated TF        ABI3/VP1   \n",
       "35 not deregulated TF        GRAS       \n",
       "42 not deregulated TF        MYB-related\n",
       "   description                                                                    \n",
       "15 PTHR12547:SF63 - ZINC FINGER CCCH DOMAIN-CONTAINING PROTEIN 37-RELATED (1 of 2)\n",
       "25 PF00847 - AP2 domain (AP2)  (1 of 150)                                         \n",
       "30 PF04770 - ZF-HD protein dimerisation region (ZF-HD_dimer)  (1 of 12)           \n",
       "33 PF02362 - B3 DNA binding domain (B3)  (1 of 58)                                \n",
       "35 PTHR31636:SF16 - SCARECROW-LIKE PROTEIN 28 (1 of 2)                            \n",
       "42 PTHR10641:SF473 - MYB TRANSCRIPTION FACTOR (1 of 8)                            \n",
       "   pattern2 pattern3\n",
       "15 IX       IX      \n",
       "25 II       II      \n",
       "30 X        X       \n",
       "33 V        V       \n",
       "35 V        V       \n",
       "42 II       II      "
      ]
     },
     "metadata": {},
     "output_type": "display_data"
    }
   ],
   "source": [
    "k=read.delim(\"Fig2.nodes.tsv\",stringsAsFactors=FALSE)\n",
    "k=subset(k,pattern==\"not deregulated\")\n",
    "head(k)"
   ]
  },
  {
   "cell_type": "code",
   "execution_count": 34,
   "metadata": {},
   "outputs": [
    {
     "data": {
      "text/html": [
       "0"
      ],
      "text/latex": [
       "0"
      ],
      "text/markdown": [
       "0"
      ],
      "text/plain": [
       "[1] 0"
      ]
     },
     "metadata": {},
     "output_type": "display_data"
    },
    {
     "data": {
      "text/html": [
       "402"
      ],
      "text/latex": [
       "402"
      ],
      "text/markdown": [
       "402"
      ],
      "text/plain": [
       "[1] 402"
      ]
     },
     "metadata": {},
     "output_type": "display_data"
    },
    {
     "data": {
      "text/html": [
       "402"
      ],
      "text/latex": [
       "402"
      ],
      "text/markdown": [
       "402"
      ],
      "text/plain": [
       "[1] 402"
      ]
     },
     "metadata": {},
     "output_type": "display_data"
    }
   ],
   "source": [
    "K=setdiff(k$geneid,N[N$pattern==\"TF with deregulated target\",\"geneid\"])\n",
    "length(K)\n",
    "K=intersect(k$geneid,N[N$pattern==\"TF with deregulated target\",\"geneid\"])\n",
    "length(K)\n",
    "nrow(k)"
   ]
  },
  {
   "cell_type": "code",
   "execution_count": 35,
   "metadata": {},
   "outputs": [
    {
     "data": {
      "text/html": [
       "<table>\n",
       "<thead><tr><th scope=col>subnetwork</th><th scope=col>frequency</th><th scope=col>type</th></tr></thead>\n",
       "<tbody>\n",
       "\t<tr><td>inter </td><td>141355</td><td>edges </td></tr>\n",
       "\t<tr><td>I     </td><td> 19019</td><td>edges </td></tr>\n",
       "\t<tr><td>II    </td><td> 22867</td><td>edges </td></tr>\n",
       "\t<tr><td>III   </td><td> 10543</td><td>edges </td></tr>\n",
       "\t<tr><td>IV    </td><td> 13303</td><td>edges </td></tr>\n",
       "\t<tr><td>IX    </td><td> 36095</td><td>edges </td></tr>\n",
       "</tbody>\n",
       "</table>\n"
      ],
      "text/latex": [
       "\\begin{tabular}{r|lll}\n",
       " subnetwork & frequency & type\\\\\n",
       "\\hline\n",
       "\t inter  & 141355 & edges \\\\\n",
       "\t I      &  19019 & edges \\\\\n",
       "\t II     &  22867 & edges \\\\\n",
       "\t III    &  10543 & edges \\\\\n",
       "\t IV     &  13303 & edges \\\\\n",
       "\t IX     &  36095 & edges \\\\\n",
       "\\end{tabular}\n"
      ],
      "text/markdown": [
       "\n",
       "subnetwork | frequency | type | \n",
       "|---|---|---|---|---|---|\n",
       "| inter  | 141355 | edges  | \n",
       "| I      |  19019 | edges  | \n",
       "| II     |  22867 | edges  | \n",
       "| III    |  10543 | edges  | \n",
       "| IV     |  13303 | edges  | \n",
       "| IX     |  36095 | edges  | \n",
       "\n",
       "\n"
      ],
      "text/plain": [
       "  subnetwork frequency type \n",
       "1 inter      141355    edges\n",
       "2 I           19019    edges\n",
       "3 II          22867    edges\n",
       "4 III         10543    edges\n",
       "5 IV          13303    edges\n",
       "6 IX          36095    edges"
      ]
     },
     "metadata": {},
     "output_type": "display_data"
    }
   ],
   "source": [
    "Q=data.frame(table(dd$community),type=\"edges\")\n",
    "Q=rbind(Q,data.frame(table(n$community),type=\"genes\"))\n",
    "names(Q)=c(\"subnetwork\",\"frequency\",\"type\")\n",
    "Q$subnetwork=as.character(Q$subnetwork)\n",
    "Q[Q$subnetwork==\"0\",\"subnetwork\"]=\"inter\"\n",
    "Q$subnetwork=ordered(Q$subnetwork,levels=c(as.character(as.roman(1:11)),\"inter\"))\n",
    "head(Q)"
   ]
  },
  {
   "cell_type": "code",
   "execution_count": 36,
   "metadata": {},
   "outputs": [
    {
     "data": {
      "text/html": [
       "<table>\n",
       "<thead><tr><th scope=col>subnetwork</th><th scope=col>percentage</th><th scope=col>type</th></tr></thead>\n",
       "<tbody>\n",
       "\t<tr><td>inter    </td><td>39.663010</td><td>edges    </td></tr>\n",
       "\t<tr><td>I        </td><td> 5.336569</td><td>edges    </td></tr>\n",
       "\t<tr><td>II       </td><td> 6.416286</td><td>edges    </td></tr>\n",
       "\t<tr><td>III      </td><td> 2.958276</td><td>edges    </td></tr>\n",
       "\t<tr><td>IV       </td><td> 3.732709</td><td>edges    </td></tr>\n",
       "\t<tr><td>IX       </td><td>10.127950</td><td>edges    </td></tr>\n",
       "</tbody>\n",
       "</table>\n"
      ],
      "text/latex": [
       "\\begin{tabular}{r|lll}\n",
       " subnetwork & percentage & type\\\\\n",
       "\\hline\n",
       "\t inter     & 39.663010 & edges    \\\\\n",
       "\t I         &  5.336569 & edges    \\\\\n",
       "\t II        &  6.416286 & edges    \\\\\n",
       "\t III       &  2.958276 & edges    \\\\\n",
       "\t IV        &  3.732709 & edges    \\\\\n",
       "\t IX        & 10.127950 & edges    \\\\\n",
       "\\end{tabular}\n"
      ],
      "text/markdown": [
       "\n",
       "subnetwork | percentage | type | \n",
       "|---|---|---|---|---|---|\n",
       "| inter     | 39.663010 | edges     | \n",
       "| I         |  5.336569 | edges     | \n",
       "| II        |  6.416286 | edges     | \n",
       "| III       |  2.958276 | edges     | \n",
       "| IV        |  3.732709 | edges     | \n",
       "| IX        | 10.127950 | edges     | \n",
       "\n",
       "\n"
      ],
      "text/plain": [
       "  subnetwork percentage type \n",
       "1 inter      39.663010  edges\n",
       "2 I           5.336569  edges\n",
       "3 II          6.416286  edges\n",
       "4 III         2.958276  edges\n",
       "5 IV          3.732709  edges\n",
       "6 IX         10.127950  edges"
      ]
     },
     "metadata": {},
     "output_type": "display_data"
    }
   ],
   "source": [
    "QQ=data.frame(prop.table(table(dd$community))*100,type=\"edges\")\n",
    "QQ=rbind(QQ,data.frame(prop.table(table(n$community))*100,type=\"genes\"))\n",
    "names(QQ)=c(\"subnetwork\",\"percentage\",\"type\")\n",
    "QQ$subnetwork=as.character(QQ$subnetwork)\n",
    "QQ[QQ$subnetwork==\"0\",\"subnetwork\"]=\"inter\"\n",
    "QQ$subnetwork=ordered(QQ$subnetwork,levels=c(as.character(as.roman(1:11)),\"inter\"))\n",
    "head(QQ)"
   ]
  },
  {
   "cell_type": "code",
   "execution_count": 37,
   "metadata": {},
   "outputs": [
    {
     "data": {
      "text/html": [
       "<table>\n",
       "<thead><tr><th scope=col>subnetwork</th><th scope=col>type</th><th scope=col>frequency</th><th scope=col>percentage</th></tr></thead>\n",
       "<tbody>\n",
       "\t<tr><td>I        </td><td>edges    </td><td>19019    </td><td> 5.336569</td></tr>\n",
       "\t<tr><td>I        </td><td>genes    </td><td> 3112    </td><td> 8.732007</td></tr>\n",
       "\t<tr><td>II       </td><td>edges    </td><td>22867    </td><td> 6.416286</td></tr>\n",
       "\t<tr><td>II       </td><td>genes    </td><td> 4418    </td><td>12.396532</td></tr>\n",
       "\t<tr><td>III      </td><td>edges    </td><td>10543    </td><td> 2.958276</td></tr>\n",
       "\t<tr><td>III      </td><td>genes    </td><td> 1705    </td><td> 4.784085</td></tr>\n",
       "</tbody>\n",
       "</table>\n"
      ],
      "text/latex": [
       "\\begin{tabular}{r|llll}\n",
       " subnetwork & type & frequency & percentage\\\\\n",
       "\\hline\n",
       "\t I         & edges     & 19019     &  5.336569\\\\\n",
       "\t I         & genes     &  3112     &  8.732007\\\\\n",
       "\t II        & edges     & 22867     &  6.416286\\\\\n",
       "\t II        & genes     &  4418     & 12.396532\\\\\n",
       "\t III       & edges     & 10543     &  2.958276\\\\\n",
       "\t III       & genes     &  1705     &  4.784085\\\\\n",
       "\\end{tabular}\n"
      ],
      "text/markdown": [
       "\n",
       "subnetwork | type | frequency | percentage | \n",
       "|---|---|---|---|---|---|\n",
       "| I         | edges     | 19019     |  5.336569 | \n",
       "| I         | genes     |  3112     |  8.732007 | \n",
       "| II        | edges     | 22867     |  6.416286 | \n",
       "| II        | genes     |  4418     | 12.396532 | \n",
       "| III       | edges     | 10543     |  2.958276 | \n",
       "| III       | genes     |  1705     |  4.784085 | \n",
       "\n",
       "\n"
      ],
      "text/plain": [
       "  subnetwork type  frequency percentage\n",
       "1 I          edges 19019      5.336569 \n",
       "2 I          genes  3112      8.732007 \n",
       "3 II         edges 22867      6.416286 \n",
       "4 II         genes  4418     12.396532 \n",
       "5 III        edges 10543      2.958276 \n",
       "6 III        genes  1705      4.784085 "
      ]
     },
     "metadata": {},
     "output_type": "display_data"
    }
   ],
   "source": [
    "Q=merge(Q,QQ,by=c(\"subnetwork\",\"type\"))\n",
    "head(Q)"
   ]
  },
  {
   "cell_type": "code",
   "execution_count": 38,
   "metadata": {},
   "outputs": [
    {
     "data": {
      "text/html": [
       "<dl class=dl-horizontal>\n",
       "\t<dt>I</dt>\n",
       "\t\t<dd>'#999999'</dd>\n",
       "\t<dt>II</dt>\n",
       "\t\t<dd>'#FFE529'</dd>\n",
       "\t<dt>III</dt>\n",
       "\t\t<dd>'#5A6A99'</dd>\n",
       "\t<dt>IV</dt>\n",
       "\t\t<dd>'#FF7F00'</dd>\n",
       "\t<dt>V</dt>\n",
       "\t\t<dd>'#E486B7'</dd>\n",
       "\t<dt>VI</dt>\n",
       "\t\t<dd>'#6B886E'</dd>\n",
       "\t<dt>VII</dt>\n",
       "\t\t<dd>'#E41A1C'</dd>\n",
       "\t<dt>VIII</dt>\n",
       "\t\t<dd>'#CA9A2C'</dd>\n",
       "\t<dt>IX</dt>\n",
       "\t\t<dd>'#AD5882'</dd>\n",
       "\t<dt>X</dt>\n",
       "\t\t<dd>'#C66764'</dd>\n",
       "\t<dt>XI</dt>\n",
       "\t\t<dd>'#449B76'</dd>\n",
       "\t<dt>inter</dt>\n",
       "\t\t<dd>'white'</dd>\n",
       "</dl>\n"
      ],
      "text/latex": [
       "\\begin{description*}\n",
       "\\item[I] '\\#999999'\n",
       "\\item[II] '\\#FFE529'\n",
       "\\item[III] '\\#5A6A99'\n",
       "\\item[IV] '\\#FF7F00'\n",
       "\\item[V] '\\#E486B7'\n",
       "\\item[VI] '\\#6B886E'\n",
       "\\item[VII] '\\#E41A1C'\n",
       "\\item[VIII] '\\#CA9A2C'\n",
       "\\item[IX] '\\#AD5882'\n",
       "\\item[X] '\\#C66764'\n",
       "\\item[XI] '\\#449B76'\n",
       "\\item[inter] 'white'\n",
       "\\end{description*}\n"
      ],
      "text/markdown": [
       "I\n",
       ":   '#999999'II\n",
       ":   '#FFE529'III\n",
       ":   '#5A6A99'IV\n",
       ":   '#FF7F00'V\n",
       ":   '#E486B7'VI\n",
       ":   '#6B886E'VII\n",
       ":   '#E41A1C'VIII\n",
       ":   '#CA9A2C'IX\n",
       ":   '#AD5882'X\n",
       ":   '#C66764'XI\n",
       ":   '#449B76'inter\n",
       ":   'white'\n",
       "\n"
      ],
      "text/plain": [
       "        I        II       III        IV         V        VI       VII      VIII \n",
       "\"#999999\" \"#FFE529\" \"#5A6A99\" \"#FF7F00\" \"#E486B7\" \"#6B886E\" \"#E41A1C\" \"#CA9A2C\" \n",
       "       IX         X        XI     inter \n",
       "\"#AD5882\" \"#C66764\" \"#449B76\"   \"white\" "
      ]
     },
     "metadata": {},
     "output_type": "display_data"
    }
   ],
   "source": [
    "col3=c(col2,\"white\")\n",
    "names(col3)[12]=\"inter\"\n",
    "col3"
   ]
  },
  {
   "cell_type": "code",
   "execution_count": 39,
   "metadata": {},
   "outputs": [
    {
     "data": {},
     "metadata": {},
     "output_type": "display_data"
    },
    {
     "data": {
      "image/png": "[encoded data removed]",
      "text/plain": [
       "plot without title"
      ]
     },
     "metadata": {},
     "output_type": "display_data",
     "source": "R display func"
    }
   ],
   "source": [
    "options(repr.plot.width=3.5, repr.plot.height=4)\n",
    "GG=ggplot(Q,aes(x=type,y=percentage,fill=subnetwork,label=frequency)) +geom_bar(stat=\"identity\",position=\"stack\") + \n",
    "scale_fill_manual(values=col3)+#coord_flip() +\n",
    "   scale_x_discrete(labels = function(x) str_wrap(x, width = 10)) +\n",
    "  geom_text(size = 3, position = position_stack(vjust = 0.5))\n",
    "GG\n",
    "ggsave(GG,file=\"Fig2.subnetwork.pdf\",width=3.5,height=4)"
   ]
  },
  {
   "cell_type": "code",
   "execution_count": 40,
   "metadata": {},
   "outputs": [
    {
     "data": {
      "text/html": [
       "<table>\n",
       "<thead><tr><th scope=col>regulatoryGene</th><th scope=col>targetGene</th><th scope=col>full_cor</th><th scope=col>full_reg</th><th scope=col>our_cor</th><th scope=col>our_reg</th><th scope=col>weight</th><th scope=col>regulator_rank</th><th scope=col>target_rank</th><th scope=col>mutual_rank</th><th scope=col>regulator_community</th><th scope=col>target_community</th><th scope=col>community</th></tr></thead>\n",
       "<tbody>\n",
       "\t<tr><td>Pp3c1_8530.mRNA     </td><td>Pp3c13_7860.mRNA    </td><td> 0.6123361          </td><td>+                   </td><td> 0.9439403          </td><td>+                   </td><td>0.04557562          </td><td> 2                  </td><td>1                   </td><td>1.414214            </td><td>II                  </td><td>II                  </td><td>II                  </td></tr>\n",
       "\t<tr><td>Pp3c1_32440.mRNA    </td><td>Pp3c7_20720.mRNA    </td><td> 0.5851975          </td><td>+                   </td><td> 0.6406587          </td><td>+                   </td><td>0.04301223          </td><td>10                  </td><td>1                   </td><td>3.162278            </td><td>II                  </td><td>II                  </td><td>II                  </td></tr>\n",
       "\t<tr><td>Pp3c4_3072.pre_miRNA</td><td>Pp3c4_3060.mRNA     </td><td> 0.6451182          </td><td>+                   </td><td> 0.9010807          </td><td>+                   </td><td>0.04153253          </td><td> 3                  </td><td>1                   </td><td>1.732051            </td><td>II                  </td><td>II                  </td><td>II                  </td></tr>\n",
       "\t<tr><td>Pp3c17_17550.mRNA   </td><td>Pp3c13_7860.mRNA    </td><td>-0.6778203          </td><td>-                   </td><td>-0.9432600          </td><td>-                   </td><td>0.04019807          </td><td>23                  </td><td>2                   </td><td>6.782330            </td><td>II                  </td><td>II                  </td><td>II                  </td></tr>\n",
       "\t<tr><td>Pp3c17_13620.mRNA   </td><td>Pp3c7_20720.mRNA    </td><td> 0.7044248          </td><td>+                   </td><td> 0.7631758          </td><td>+                   </td><td>0.03797029          </td><td>13                  </td><td>2                   </td><td>5.099020            </td><td>II                  </td><td>II                  </td><td>II                  </td></tr>\n",
       "\t<tr><td>Pp3c26_6050.mRNA    </td><td>Pp3c14_6190.mRNA    </td><td> 0.7953527          </td><td>+                   </td><td> 0.9213412          </td><td>+                   </td><td>0.03750497          </td><td> 1                  </td><td>1                   </td><td>1.000000            </td><td>X                   </td><td>X                   </td><td>X                   </td></tr>\n",
       "</tbody>\n",
       "</table>\n"
      ],
      "text/latex": [
       "\\begin{tabular}{r|lllllllllllll}\n",
       " regulatoryGene & targetGene & full\\_cor & full\\_reg & our\\_cor & our\\_reg & weight & regulator\\_rank & target\\_rank & mutual\\_rank & regulator\\_community & target\\_community & community\\\\\n",
       "\\hline\n",
       "\t Pp3c1\\_8530.mRNA      & Pp3c13\\_7860.mRNA     &  0.6123361             & +                      &  0.9439403             & +                      & 0.04557562             &  2                     & 1                      & 1.414214               & II                     & II                     & II                    \\\\\n",
       "\t Pp3c1\\_32440.mRNA     & Pp3c7\\_20720.mRNA     &  0.5851975             & +                      &  0.6406587             & +                      & 0.04301223             & 10                     & 1                      & 3.162278               & II                     & II                     & II                    \\\\\n",
       "\t Pp3c4\\_3072.pre\\_miRNA & Pp3c4\\_3060.mRNA        &  0.6451182               & +                        &  0.9010807               & +                        & 0.04153253               &  3                       & 1                        & 1.732051                 & II                       & II                       & II                      \\\\\n",
       "\t Pp3c17\\_17550.mRNA    & Pp3c13\\_7860.mRNA     & -0.6778203             & -                      & -0.9432600             & -                      & 0.04019807             & 23                     & 2                      & 6.782330               & II                     & II                     & II                    \\\\\n",
       "\t Pp3c17\\_13620.mRNA    & Pp3c7\\_20720.mRNA     &  0.7044248             & +                      &  0.7631758             & +                      & 0.03797029             & 13                     & 2                      & 5.099020               & II                     & II                     & II                    \\\\\n",
       "\t Pp3c26\\_6050.mRNA     & Pp3c14\\_6190.mRNA     &  0.7953527             & +                      &  0.9213412             & +                      & 0.03750497             &  1                     & 1                      & 1.000000               & X                      & X                      & X                     \\\\\n",
       "\\end{tabular}\n"
      ],
      "text/markdown": [
       "\n",
       "regulatoryGene | targetGene | full_cor | full_reg | our_cor | our_reg | weight | regulator_rank | target_rank | mutual_rank | regulator_community | target_community | community | \n",
       "|---|---|---|---|---|---|\n",
       "| Pp3c1_8530.mRNA      | Pp3c13_7860.mRNA     |  0.6123361           | +                    |  0.9439403           | +                    | 0.04557562           |  2                   | 1                    | 1.414214             | II                   | II                   | II                   | \n",
       "| Pp3c1_32440.mRNA     | Pp3c7_20720.mRNA     |  0.5851975           | +                    |  0.6406587           | +                    | 0.04301223           | 10                   | 1                    | 3.162278             | II                   | II                   | II                   | \n",
       "| Pp3c4_3072.pre_miRNA | Pp3c4_3060.mRNA      |  0.6451182           | +                    |  0.9010807           | +                    | 0.04153253           |  3                   | 1                    | 1.732051             | II                   | II                   | II                   | \n",
       "| Pp3c17_17550.mRNA    | Pp3c13_7860.mRNA     | -0.6778203           | -                    | -0.9432600           | -                    | 0.04019807           | 23                   | 2                    | 6.782330             | II                   | II                   | II                   | \n",
       "| Pp3c17_13620.mRNA    | Pp3c7_20720.mRNA     |  0.7044248           | +                    |  0.7631758           | +                    | 0.03797029           | 13                   | 2                    | 5.099020             | II                   | II                   | II                   | \n",
       "| Pp3c26_6050.mRNA     | Pp3c14_6190.mRNA     |  0.7953527           | +                    |  0.9213412           | +                    | 0.03750497           |  1                   | 1                    | 1.000000             | X                    | X                    | X                    | \n",
       "\n",
       "\n"
      ],
      "text/plain": [
       "  regulatoryGene       targetGene       full_cor   full_reg our_cor    our_reg\n",
       "1 Pp3c1_8530.mRNA      Pp3c13_7860.mRNA  0.6123361 +         0.9439403 +      \n",
       "2 Pp3c1_32440.mRNA     Pp3c7_20720.mRNA  0.5851975 +         0.6406587 +      \n",
       "3 Pp3c4_3072.pre_miRNA Pp3c4_3060.mRNA   0.6451182 +         0.9010807 +      \n",
       "4 Pp3c17_17550.mRNA    Pp3c13_7860.mRNA -0.6778203 -        -0.9432600 -      \n",
       "5 Pp3c17_13620.mRNA    Pp3c7_20720.mRNA  0.7044248 +         0.7631758 +      \n",
       "6 Pp3c26_6050.mRNA     Pp3c14_6190.mRNA  0.7953527 +         0.9213412 +      \n",
       "  weight     regulator_rank target_rank mutual_rank regulator_community\n",
       "1 0.04557562  2             1           1.414214    II                 \n",
       "2 0.04301223 10             1           3.162278    II                 \n",
       "3 0.04153253  3             1           1.732051    II                 \n",
       "4 0.04019807 23             2           6.782330    II                 \n",
       "5 0.03797029 13             2           5.099020    II                 \n",
       "6 0.03750497  1             1           1.000000    X                  \n",
       "  target_community community\n",
       "1 II               II       \n",
       "2 II               II       \n",
       "3 II               II       \n",
       "4 II               II       \n",
       "5 II               II       \n",
       "6 X                X        "
      ]
     },
     "metadata": {},
     "output_type": "display_data"
    }
   ],
   "source": [
    "KK=read.delim(\"Fig2.edges.tsv\",sep=\"\\t\",stringsAsFactors=FALSE)\n",
    "head(KK)"
   ]
  },
  {
   "cell_type": "code",
   "execution_count": 54,
   "metadata": {},
   "outputs": [
    {
     "data": {
      "text/html": [
       "<table>\n",
       "<thead><tr><th scope=col>regulator</th><th scope=col>target</th><th scope=col>directionality</th><th scope=col>frequency</th><th scope=col>percentage</th></tr></thead>\n",
       "<tbody>\n",
       "\t<tr><td>II       </td><td>II       </td><td>-        </td><td> 514     </td><td>13.427377</td></tr>\n",
       "\t<tr><td>II       </td><td>II       </td><td>+        </td><td>2019     </td><td>52.742947</td></tr>\n",
       "\t<tr><td>II       </td><td>IX       </td><td>-        </td><td> 195     </td><td> 2.557042</td></tr>\n",
       "\t<tr><td>II       </td><td>IX       </td><td>+        </td><td> 400     </td><td> 5.245214</td></tr>\n",
       "\t<tr><td>II       </td><td>V        </td><td>-        </td><td> 112     </td><td> 2.354425</td></tr>\n",
       "\t<tr><td>II       </td><td>V        </td><td>+        </td><td> 281     </td><td> 5.907084</td></tr>\n",
       "</tbody>\n",
       "</table>\n"
      ],
      "text/latex": [
       "\\begin{tabular}{r|lllll}\n",
       " regulator & target & directionality & frequency & percentage\\\\\n",
       "\\hline\n",
       "\t II        & II        & -         &  514      & 13.427377\\\\\n",
       "\t II        & II        & +         & 2019      & 52.742947\\\\\n",
       "\t II        & IX        & -         &  195      &  2.557042\\\\\n",
       "\t II        & IX        & +         &  400      &  5.245214\\\\\n",
       "\t II        & V         & -         &  112      &  2.354425\\\\\n",
       "\t II        & V         & +         &  281      &  5.907084\\\\\n",
       "\\end{tabular}\n"
      ],
      "text/markdown": [
       "\n",
       "regulator | target | directionality | frequency | percentage | \n",
       "|---|---|---|---|---|---|\n",
       "| II        | II        | -         |  514      | 13.427377 | \n",
       "| II        | II        | +         | 2019      | 52.742947 | \n",
       "| II        | IX        | -         |  195      |  2.557042 | \n",
       "| II        | IX        | +         |  400      |  5.245214 | \n",
       "| II        | V         | -         |  112      |  2.354425 | \n",
       "| II        | V         | +         |  281      |  5.907084 | \n",
       "\n",
       "\n"
      ],
      "text/plain": [
       "  regulator target directionality frequency percentage\n",
       "1 II        II     -               514      13.427377 \n",
       "2 II        II     +              2019      52.742947 \n",
       "3 II        IX     -               195       2.557042 \n",
       "4 II        IX     +               400       5.245214 \n",
       "5 II        V      -               112       2.354425 \n",
       "6 II        V      +               281       5.907084 "
      ]
     },
     "metadata": {},
     "output_type": "display_data"
    },
    {
     "data": {},
     "metadata": {},
     "output_type": "display_data"
    },
    {
     "data": {
      "image/png": "[encoded data removed]",
      "text/plain": [
       "plot without title"
      ]
     },
     "metadata": {},
     "output_type": "display_data",
     "source": "R display func"
    }
   ],
   "source": [
    "X=data.frame(table(KK$regulator_community,KK$target_community,KK$our_reg))\n",
    "names(X)=c(\"regulator\",\"target\",\"directionality\",\"frequency\")\n",
    "XX=data.frame(prop.table(table(KK$regulator_community,KK$target_community,KK$our_reg),2)*100)\n",
    "names(XX)=c(\"regulator\",\"target\",\"directionality\",\"percentage\")\n",
    "X=merge(X,XX,by=c(\"regulator\",\"target\",\"directionality\"))\n",
    "head(X)\n",
    "\n",
    "X$regulator=ordered(X$regulator,levels=c(\"II\",\"V\",\"VIII\",\"IX\",\"X\"))\n",
    "X$target=ordered(X$target,levels=c(\"II\",\"V\",\"VIII\",\"IX\",\"X\"))\n",
    "\n",
    "options(repr.plot.width=5, repr.plot.height=4)\n",
    "GG=ggplot(X,aes(x=directionality,y=percentage,fill=regulator)) + facet_wrap(~target) +geom_bar(stat=\"identity\",position=\"stack\") + \n",
    "   scale_fill_manual(values=col3)+#coord_flip() +\n",
    "   coord_polar(theta = \"y\",clip=\"on\",direction=-1) +\n",
    "   scale_x_discrete(labels = function(x) str_wrap(x, width = 10)) +\n",
    "   ylab(\"deregulated target subnetwork [%]\")\n",
    "  #geom_text(size = 1, position = position_stack(vjust = 0.5))\n",
    "GG\n",
    "ggsave(GG,file=\"Fig2.edges.pdf\",width=5,height=4)"
   ]
  },
  {
   "cell_type": "code",
   "execution_count": 55,
   "metadata": {},
   "outputs": [],
   "source": [
    "library(vcd)"
   ]
  },
  {
   "cell_type": "code",
   "execution_count": 56,
   "metadata": {},
   "outputs": [
    {
     "data": {
      "text/html": [
       "<strong>png:</strong> 2"
      ],
      "text/latex": [
       "\\textbf{png:} 2"
      ],
      "text/markdown": [
       "**png:** 2"
      ],
      "text/plain": [
       "png \n",
       "  2 "
      ]
     },
     "metadata": {},
     "output_type": "display_data"
    },
    {
     "data": {
      "image/png": "[encoded data removed]",
      "text/plain": [
       "plot without title"
      ]
     },
     "metadata": {},
     "output_type": "display_data",
     "source": "R display func"
    },
    {
     "data": {
      "image/png": "[encoded data removed]",
      "text/plain": [
       "plot without title"
      ]
     },
     "metadata": {},
     "output_type": "display_data",
     "source": "R display func"
    }
   ],
   "source": [
    "options(repr.plot.width=8, repr.plot.height=6)\n",
    "#https://cran.r-project.org/web/packages/vcd/vignettes/strucplot.pdf # Pearson  residuals  = standardized deviations  of  observed  from  expected  values\n",
    "#https://stats.stackexchange.com/questions/266001/how-to-determine-significant-associations-in-a-mosaic-plot\n",
    "XX=xtabs(frequency~regulator+target+directionality,subset(X,regulator!= target))\n",
    "mosaic(XX, shade=TRUE, clegend=TRUE,legend_width=10,gp =shading_hcl, gp_args = list(h = c(130, 43), c = 100, l = c(90, 70))) \n",
    "pdf(\"mosaic_plot.inter-subnetwork_edges.DEK1_target_enriched_subnetworks.pdf\")\n",
    "mosaic(XX, shade=TRUE, clegend=TRUE,legend_width=10,gp =shading_hcl, gp_args = list(h = c(130, 43), c = 100, l = c(90, 70))) \n",
    "dev.off()\n",
    "assoc(XX, shade=TRUE, clegend=TRUE,legend_width=10,gp =shading_hcl, gp_args = list(h = c(130, 43), c = 100, l = c(90, 70))) "
   ]
  },
  {
   "cell_type": "code",
   "execution_count": 57,
   "metadata": {},
   "outputs": [
    {
     "data": {
      "text/plain": [
       ", ,  = -\n",
       "\n",
       "      \n",
       "         II   IX    V VIII    X\n",
       "  II    514  195  112  114   44\n",
       "  IX    148 2039  100  184   67\n",
       "  V     124  133  625   96   57\n",
       "  VIII  100  228   88  874   26\n",
       "  X      30   99  121   21  270\n",
       "\n",
       ", ,  = +\n",
       "\n",
       "      \n",
       "         II   IX    V VIII    X\n",
       "  II   2019  400  281  228  247\n",
       "  IX    266 3850  275  206   94\n",
       "  V     205  310 2860  141   45\n",
       "  VIII  138  239  199 1625   33\n",
       "  X     284  133   96   54 2041\n"
      ]
     },
     "metadata": {},
     "output_type": "display_data"
    }
   ],
   "source": [
    "table(KK$regulator_community,KK$target_community,KK$our_reg)"
   ]
  },
  {
   "cell_type": "code",
   "execution_count": 58,
   "metadata": {},
   "outputs": [
    {
     "data": {
      "text/plain": [
       "\n",
       "Call:\n",
       "glm(formula = frequency ~ 0 + as.character(regulator) + as.character(target) + \n",
       "    directionality, family = poisson(), data = subset(X, target != \n",
       "    regulator))\n",
       "\n",
       "Deviance Residuals: \n",
       "    Min       1Q   Median       3Q      Max  \n",
       "-6.0174  -2.6386  -0.6469   0.9146  10.5654  \n",
       "\n",
       "Coefficients:\n",
       "                            Estimate Std. Error z value Pr(>|z|)    \n",
       "as.character(regulator)II    5.16264    0.04514 114.374  < 2e-16 ***\n",
       "as.character(regulator)IX    5.06781    0.03991 126.974  < 2e-16 ***\n",
       "as.character(regulator)V     4.74508    0.04252 111.586  < 2e-16 ***\n",
       "as.character(regulator)VIII  4.64019    0.04328 107.201  < 2e-16 ***\n",
       "as.character(regulator)X     4.33053    0.04621  93.719  < 2e-16 ***\n",
       "as.character(target)IX       0.25940    0.03940   6.584 4.57e-11 ***\n",
       "as.character(target)V       -0.14144    0.04127  -3.427  0.00061 ***\n",
       "as.character(target)VIII    -0.36105    0.04316  -8.366  < 2e-16 ***\n",
       "as.character(target)X       -0.94475    0.05014 -18.842  < 2e-16 ***\n",
       "directionality+              0.61856    0.02715  22.781  < 2e-16 ***\n",
       "---\n",
       "Signif. codes:  0 ‘***’ 0.001 ‘**’ 0.01 ‘*’ 0.05 ‘.’ 0.1 ‘ ’ 1\n",
       "\n",
       "(Dispersion parameter for poisson family taken to be 1)\n",
       "\n",
       "    Null deviance: 50034.4  on 40  degrees of freedom\n",
       "Residual deviance:   580.4  on 30  degrees of freedom\n",
       "AIC: 865.19\n",
       "\n",
       "Number of Fisher Scoring iterations: 4\n"
      ]
     },
     "metadata": {},
     "output_type": "display_data"
    }
   ],
   "source": [
    "summary(glm(frequency~0+as.character(regulator)+as.character(target)+directionality, data=subset(X,target!= regulator),family=poisson()))"
   ]
  },
  {
   "cell_type": "code",
   "execution_count": 143,
   "metadata": {},
   "outputs": [],
   "source": [
    "library(gmodels)"
   ]
  },
  {
   "cell_type": "code",
   "execution_count": 159,
   "metadata": {},
   "outputs": [
    {
     "data": {
      "text/plain": [
       "      \n",
       "        II  IX   V VIII   X\n",
       "  II     0 595 393  342 291\n",
       "  IX   414   0 375  390 161\n",
       "  V    329 443   0  237 102\n",
       "  VIII 238 467 287    0  59\n",
       "  X    314 232 217   75   0"
      ]
     },
     "metadata": {},
     "output_type": "display_data"
    }
   ],
   "source": [
    "KKK=droplevels(subset(KK,community==\"0\"))\n",
    "table(KKK$regulator_community,KKK$target_community)"
   ]
  },
  {
   "cell_type": "code",
   "execution_count": 165,
   "metadata": {},
   "outputs": [
    {
     "name": "stdout",
     "output_type": "stream",
     "text": [
      "\n",
      "   Cell Contents\n",
      "|-------------------------|\n",
      "|                   Count |\n",
      "|                Residual |\n",
      "|            Std Residual |\n",
      "|-------------------------|\n",
      "\n",
      "Total Observations in Table:  5961 \n",
      "\n",
      "                        | paste(KKK$target_community, KKK$our_reg) \n",
      "KKK$regulator_community |     II -  |     II +  |     IX -  |     IX +  |      V -  |      V +  |   VIII -  |   VIII +  |      X -  |      X +  | Row Total | \n",
      "------------------------|-----------|-----------|-----------|-----------|-----------|-----------|-----------|-----------|-----------|-----------|-----------|\n",
      "                     II |        0  |        0  |      195  |      400  |      112  |      281  |      114  |      228  |       44  |      247  |     1621  | \n",
      "                        | -109.318  | -242.837  |   16.883  |  105.767  |   -2.484  |   49.584  |    1.147  |   56.953  |   -8.755  |  133.060  |           | \n",
      "                        |  -10.456  |  -15.583  |    1.265  |    6.166  |   -0.232  |    3.259  |    0.108  |    4.355  |   -1.205  |   12.465  |           | \n",
      "------------------------|-----------|-----------|-----------|-----------|-----------|-----------|-----------|-----------|-----------|-----------|-----------|\n",
      "                     IX |      148  |      266  |        0  |        0  |      100  |      275  |      184  |      206  |       67  |       94  |     1340  | \n",
      "                        |   57.633  |   65.259  | -147.240  | -243.228  |    5.362  |   83.700  |   90.710  |   64.604  |   23.390  |   -0.189  |           | \n",
      "                        |    6.063  |    4.606  |  -12.134  |  -15.596  |    0.551  |    6.052  |    9.392  |    5.433  |    3.542  |   -0.019  |           | \n",
      "------------------------|-----------|-----------|-----------|-----------|-----------|-----------|-----------|-----------|-----------|-----------|-----------|\n",
      "                      V |      124  |      205  |      133  |      310  |        0  |        0  |       96  |      141  |       57  |       45  |     1111  | \n",
      "                        |   49.076  |   38.564  |   10.922  |  108.339  |  -78.465  | -158.608  |   18.653  |   23.768  |   20.843  |  -33.092  |           | \n",
      "                        |    5.670  |    2.989  |    0.989  |    7.629  |   -8.858  |  -12.594  |    2.121  |    2.195  |    3.466  |   -3.745  |           | \n",
      "------------------------|-----------|-----------|-----------|-----------|-----------|-----------|-----------|-----------|-----------|-----------|-----------|\n",
      "                   VIII |      100  |      138  |      228  |      239  |       88  |      199  |        0  |        0  |       26  |       33  |     1051  | \n",
      "                        |   29.122  |  -19.447  |  112.515  |   48.230  |   13.772  |   48.958  |  -73.170  | -110.901  |   -8.205  |  -40.875  |           | \n",
      "                        |    3.459  |   -1.550  |   10.470  |    3.492  |    1.599  |    3.997  |   -8.554  |  -10.531  |   -1.403  |   -4.756  |           | \n",
      "------------------------|-----------|-----------|-----------|-----------|-----------|-----------|-----------|-----------|-----------|-----------|-----------|\n",
      "                      X |       30  |      284  |       99  |      133  |      121  |       96  |       21  |       54  |        0  |        0  |      838  | \n",
      "                        |  -26.513  |  158.462  |    6.920  |  -19.108  |   61.816  |  -23.634  |  -37.341  |  -34.425  |  -27.273  |  -58.903  |           | \n",
      "                        |   -3.527  |   14.143  |    0.721  |   -1.549  |    8.035  |   -2.161  |   -4.889  |   -3.661  |   -5.222  |   -7.675  |           | \n",
      "------------------------|-----------|-----------|-----------|-----------|-----------|-----------|-----------|-----------|-----------|-----------|-----------|\n",
      "           Column Total |      402  |      893  |      655  |     1082  |      421  |      851  |      415  |      629  |      194  |      419  |     5961  | \n",
      "------------------------|-----------|-----------|-----------|-----------|-----------|-----------|-----------|-----------|-----------|-----------|-----------|\n",
      "\n",
      " \n"
     ]
    }
   ],
   "source": [
    "CrossTable(KKK$regulator_community,paste(KKK$target_community,KKK$our_reg),\n",
    "           prop.r=FALSE, prop.c=FALSE,\n",
    "           prop.t=FALSE, prop.chisq=FALSE, chisq = FALSE, fisher=FALSE, mcnemar=FALSE,\n",
    "           resid=TRUE, sresid=TRUE, asresid=FALSE,\n",
    "           missing.include=FALSE,format=\"SPSS\")"
   ]
  },
  {
   "cell_type": "code",
   "execution_count": 228,
   "metadata": {},
   "outputs": [
    {
     "data": {
      "text/plain": [
       "      \n",
       "       II - II + IX - IX + V - V + VIII - VIII + X - X +\n",
       "  II      0    0  195  400 112 281    114    228  44 247\n",
       "  IX    148  266    0    0 100 275    184    206  67  94\n",
       "  V     124  205  133  310   0   0     96    141  57  45\n",
       "  VIII  100  138  228  239  88 199      0      0  26  33\n",
       "  X      30  284   99  133 121  96     21     54   0   0"
      ]
     },
     "metadata": {},
     "output_type": "display_data"
    },
    {
     "data": {
      "text/plain": [
       "      \n",
       "               II -         II +         IX -         IX +          V -\n",
       "  II   -10.45550401 -15.58323701   1.26502442   6.16602439  -0.23218471\n",
       "  IX     6.06264918   4.60594354 -12.13426536 -15.59575732   0.55112963\n",
       "  V      5.66968080   2.98925282   0.98854653   7.62909811  -8.85805794\n",
       "  VIII   3.45916097  -1.54985281  10.47004818   3.49187564   1.59854667\n",
       "  X     -3.52686561  14.14282097   0.72112608  -1.54931584   8.03516572\n",
       "      \n",
       "                V +       VIII -       VIII +          X -          X +\n",
       "  II     3.25945135   0.10799844   4.35473877  -1.20541159  12.46542542\n",
       "  IX     6.05155842   9.39160109   5.43304125   3.54188175  -0.01946343\n",
       "  V    -12.59395823   2.12094300   2.19519329   3.46620683  -3.74476211\n",
       "  VIII   3.99683428  -8.55393302 -10.53093955  -1.40287223  -4.75564228\n",
       "  X     -2.16077307  -4.88875282  -3.66089603  -5.22231800  -7.67484229"
      ]
     },
     "metadata": {},
     "output_type": "display_data"
    },
    {
     "data": {
      "text/html": [
       "<table>\n",
       "<thead><tr><th></th><th scope=col>regulator</th><th scope=col>target</th><th scope=col>directionality</th><th scope=col>weight</th></tr></thead>\n",
       "<tbody>\n",
       "\t<tr><th scope=row>2</th><td>IX       </td><td>II       </td><td>-        </td><td> 6.062649</td></tr>\n",
       "\t<tr><th scope=row>3</th><td>V        </td><td>II       </td><td>-        </td><td> 5.669681</td></tr>\n",
       "\t<tr><th scope=row>7</th><td>IX       </td><td>II       </td><td>+        </td><td> 4.605944</td></tr>\n",
       "\t<tr><th scope=row>10</th><td>X        </td><td>II       </td><td>+        </td><td>14.142821</td></tr>\n",
       "\t<tr><th scope=row>14</th><td>VIII     </td><td>IX       </td><td>-        </td><td>10.470048</td></tr>\n",
       "\t<tr><th scope=row>16</th><td>II       </td><td>IX       </td><td>+        </td><td> 6.166024</td></tr>\n",
       "\t<tr><th scope=row>18</th><td>V        </td><td>IX       </td><td>+        </td><td> 7.629098</td></tr>\n",
       "\t<tr><th scope=row>25</th><td>X        </td><td>V        </td><td>-        </td><td> 8.035166</td></tr>\n",
       "\t<tr><th scope=row>27</th><td>IX       </td><td>V        </td><td>+        </td><td> 6.051558</td></tr>\n",
       "\t<tr><th scope=row>32</th><td>IX       </td><td>VIII     </td><td>-        </td><td> 9.391601</td></tr>\n",
       "\t<tr><th scope=row>36</th><td>II       </td><td>VIII     </td><td>+        </td><td> 4.354739</td></tr>\n",
       "\t<tr><th scope=row>37</th><td>IX       </td><td>VIII     </td><td>+        </td><td> 5.433041</td></tr>\n",
       "\t<tr><th scope=row>46</th><td>II       </td><td>X        </td><td>+        </td><td>12.465425</td></tr>\n",
       "</tbody>\n",
       "</table>\n"
      ],
      "text/latex": [
       "\\begin{tabular}{r|llll}\n",
       "  & regulator & target & directionality & weight\\\\\n",
       "\\hline\n",
       "\t2 & IX        & II        & -         &  6.062649\\\\\n",
       "\t3 & V         & II        & -         &  5.669681\\\\\n",
       "\t7 & IX        & II        & +         &  4.605944\\\\\n",
       "\t10 & X         & II        & +         & 14.142821\\\\\n",
       "\t14 & VIII      & IX        & -         & 10.470048\\\\\n",
       "\t16 & II        & IX        & +         &  6.166024\\\\\n",
       "\t18 & V         & IX        & +         &  7.629098\\\\\n",
       "\t25 & X         & V         & -         &  8.035166\\\\\n",
       "\t27 & IX        & V         & +         &  6.051558\\\\\n",
       "\t32 & IX        & VIII      & -         &  9.391601\\\\\n",
       "\t36 & II        & VIII      & +         &  4.354739\\\\\n",
       "\t37 & IX        & VIII      & +         &  5.433041\\\\\n",
       "\t46 & II        & X         & +         & 12.465425\\\\\n",
       "\\end{tabular}\n"
      ],
      "text/markdown": [
       "\n",
       "| <!--/--> | regulator | target | directionality | weight | \n",
       "|---|---|---|---|---|---|---|---|---|---|---|---|---|\n",
       "| 2 | IX        | II        | -         |  6.062649 | \n",
       "| 3 | V         | II        | -         |  5.669681 | \n",
       "| 7 | IX        | II        | +         |  4.605944 | \n",
       "| 10 | X         | II        | +         | 14.142821 | \n",
       "| 14 | VIII      | IX        | -         | 10.470048 | \n",
       "| 16 | II        | IX        | +         |  6.166024 | \n",
       "| 18 | V         | IX        | +         |  7.629098 | \n",
       "| 25 | X         | V         | -         |  8.035166 | \n",
       "| 27 | IX        | V         | +         |  6.051558 | \n",
       "| 32 | IX        | VIII      | -         |  9.391601 | \n",
       "| 36 | II        | VIII      | +         |  4.354739 | \n",
       "| 37 | IX        | VIII      | +         |  5.433041 | \n",
       "| 46 | II        | X         | +         | 12.465425 | \n",
       "\n",
       "\n"
      ],
      "text/plain": [
       "   regulator target directionality weight   \n",
       "2  IX        II     -               6.062649\n",
       "3  V         II     -               5.669681\n",
       "7  IX        II     +               4.605944\n",
       "10 X         II     +              14.142821\n",
       "14 VIII      IX     -              10.470048\n",
       "16 II        IX     +               6.166024\n",
       "18 V         IX     +               7.629098\n",
       "25 X         V      -               8.035166\n",
       "27 IX        V      +               6.051558\n",
       "32 IX        VIII   -               9.391601\n",
       "36 II        VIII   +               4.354739\n",
       "37 IX        VIII   +               5.433041\n",
       "46 II        X      +              12.465425"
      ]
     },
     "metadata": {},
     "output_type": "display_data"
    },
    {
     "data": {
      "text/html": [
       "<strong>png:</strong> 2"
      ],
      "text/latex": [
       "\\textbf{png:} 2"
      ],
      "text/markdown": [
       "**png:** 2"
      ],
      "text/plain": [
       "png \n",
       "  2 "
      ]
     },
     "metadata": {},
     "output_type": "display_data"
    },
    {
     "data": {
      "image/png": "[encoded data removed]",
      "text/plain": [
       "Plot with title “”"
      ]
     },
     "metadata": {},
     "output_type": "display_data",
     "source": "R display func"
    }
   ],
   "source": [
    "QX=table(KKK$regulator_community,paste(KKK$target_community,KKK$our_reg))\n",
    "QX\n",
    "Q=residuals(chisq.test(QX),type=\"pearson\")\n",
    "Q\n",
    "Q=data.frame(regulator=rownames(Q)[row(Q)], n=colnames(Q)[col(Q)], weight=c(Q),stringsAsFactors=FALSE)\n",
    "Q=data.frame(Q,do.call(rbind,strsplit(as.character(Q$n),\" \")))\n",
    "Q=Q[,-2]\n",
    "Q=Q[,c(1,3,4,2)]\n",
    "names(Q)=c(\"regulator\",\"target\",\"directionality\",\"weight\")\n",
    "Q=subset(Q,regulator!=target)\n",
    "Q=subset(Q,weight>4)\n",
    "Q\n",
    "\n",
    "set.seed(27042012)\n",
    "\n",
    "Gd=graph_from_data_frame(Q,directed = TRUE)\n",
    "\n",
    "net=Gd\n",
    "plot.igraph(net,vertex.label=V(net)$name,layout=layout_with_fr, vertex.label.color=\"black\",\n",
    "            edge.color=ifelse(E(net)$directionality==\"+\",\"black\",\"red\"),edge.width=E(net)$weight/6, vertex.color=col2[V(net)$name],edge.arrow.size=1,\n",
    "            )\n",
    "pdf(\"DEK1_potential_targets.inter-subnetwork.mosaic_graph.pdf\")\n",
    "plot.igraph(net,vertex.label=V(net)$name,layout=layout_with_fr, vertex.label.color=\"black\",\n",
    "            edge.color=ifelse(E(net)$directionality==\"+\",\"black\",\"red\"),edge.width=E(net)$weight/6, vertex.color=col2[V(net)$name],edge.arrow.size=1,\n",
    "            )\n",
    "dev.off()"
   ]
  },
  {
   "cell_type": "code",
   "execution_count": 46,
   "metadata": {},
   "outputs": [
    {
     "data": {
      "text/html": [
       "39246"
      ],
      "text/latex": [
       "39246"
      ],
      "text/markdown": [
       "39246"
      ],
      "text/plain": [
       "[1] 39246"
      ]
     },
     "metadata": {},
     "output_type": "display_data"
    },
    {
     "data": {
      "text/html": [
       "21752"
      ],
      "text/latex": [
       "21752"
      ],
      "text/markdown": [
       "21752"
      ],
      "text/plain": [
       "[1] 21752"
      ]
     },
     "metadata": {},
     "output_type": "display_data"
    },
    {
     "data": {
      "text/html": [
       "14939"
      ],
      "text/latex": [
       "14939"
      ],
      "text/markdown": [
       "14939"
      ],
      "text/plain": [
       "[1] 14939"
      ]
     },
     "metadata": {},
     "output_type": "display_data"
    },
    {
     "data": {
      "text/html": [
       "<table>\n",
       "<thead><tr><th scope=col>target_id</th><th scope=col>class</th><th scope=col>TYPE</th><th scope=col>pval</th><th scope=col>qval</th><th scope=col>test_stat</th><th scope=col>rss</th><th scope=col>degrees_free</th><th scope=col>mean_obs</th><th scope=col>var_obs</th><th scope=col>tech_var</th><th scope=col>sigma_sq</th><th scope=col>smooth_sigma_sq</th><th scope=col>final_sigma_sq</th></tr></thead>\n",
       "<tbody>\n",
       "\t<tr><td>Pp3c1_13200.mRNA </td><td>mRNA             </td><td>mRNA             </td><td>1.323964e-12     </td><td>2.660770e-08     </td><td>61.62035         </td><td> 83.64486        </td><td>4                </td><td>3.499105         </td><td> 6.434220        </td><td>0.033297428      </td><td> 6.400922        </td><td>0.28276158       </td><td> 6.400922        </td></tr>\n",
       "\t<tr><td>Pp3s49_30.mRNA   </td><td>mRNA             </td><td>mRNA             </td><td>2.446460e-12     </td><td>2.660770e-08     </td><td>60.35206         </td><td>177.52794        </td><td>4                </td><td>4.010792         </td><td>13.655995        </td><td>0.006823643      </td><td>13.649171        </td><td>0.19551171       </td><td>13.649171        </td></tr>\n",
       "\t<tr><td>Pp3c27_870.mRNA  </td><td>mRNA             </td><td>mRNA             </td><td>4.003216e-12     </td><td>2.902599e-08     </td><td>59.33423         </td><td> 72.68902        </td><td>4                </td><td>5.048467         </td><td> 5.591463        </td><td>0.121885115      </td><td> 5.469578        </td><td>0.07796317       </td><td> 5.469578        </td></tr>\n",
       "\t<tr><td>Pp3c23_22550.mRNA</td><td>mRNA             </td><td>mRNA             </td><td>1.101617e-11     </td><td>4.146731e-08     </td><td>57.24022         </td><td> 78.13027        </td><td>4                </td><td>2.390192         </td><td> 6.010021        </td><td>0.012143106      </td><td> 5.997877        </td><td>0.53132344       </td><td> 5.997877        </td></tr>\n",
       "\t<tr><td>Pp3c12_9480.mRNA </td><td>mRNA             </td><td>mRNA             </td><td>1.113520e-11     </td><td>4.146731e-08     </td><td>57.21798         </td><td> 77.60833        </td><td>4                </td><td>3.240689         </td><td> 5.969872        </td><td>0.035061400      </td><td> 5.934810        </td><td>0.33307148       </td><td> 5.934810        </td></tr>\n",
       "\t<tr><td>Pp3c13_6220.mRNA </td><td>mRNA             </td><td>mRNA             </td><td>1.171338e-11     </td><td>4.146731e-08     </td><td>57.11319         </td><td> 97.44026        </td><td>4                </td><td>2.682543         </td><td> 7.495404        </td><td>0.014080861      </td><td> 7.481324        </td><td>0.45592527       </td><td> 7.481324        </td></tr>\n",
       "</tbody>\n",
       "</table>\n"
      ],
      "text/latex": [
       "\\begin{tabular}{r|llllllllllllll}\n",
       " target\\_id & class & TYPE & pval & qval & test\\_stat & rss & degrees\\_free & mean\\_obs & var\\_obs & tech\\_var & sigma\\_sq & smooth\\_sigma\\_sq & final\\_sigma\\_sq\\\\\n",
       "\\hline\n",
       "\t Pp3c1\\_13200.mRNA  & mRNA                & mRNA                & 1.323964e-12        & 2.660770e-08        & 61.62035            &  83.64486           & 4                   & 3.499105            &  6.434220           & 0.033297428         &  6.400922           & 0.28276158          &  6.400922          \\\\\n",
       "\t Pp3s49\\_30.mRNA    & mRNA                & mRNA                & 2.446460e-12        & 2.660770e-08        & 60.35206            & 177.52794           & 4                   & 4.010792            & 13.655995           & 0.006823643         & 13.649171           & 0.19551171          & 13.649171          \\\\\n",
       "\t Pp3c27\\_870.mRNA   & mRNA                & mRNA                & 4.003216e-12        & 2.902599e-08        & 59.33423            &  72.68902           & 4                   & 5.048467            &  5.591463           & 0.121885115         &  5.469578           & 0.07796317          &  5.469578          \\\\\n",
       "\t Pp3c23\\_22550.mRNA & mRNA                & mRNA                & 1.101617e-11        & 4.146731e-08        & 57.24022            &  78.13027           & 4                   & 2.390192            &  6.010021           & 0.012143106         &  5.997877           & 0.53132344          &  5.997877          \\\\\n",
       "\t Pp3c12\\_9480.mRNA  & mRNA                & mRNA                & 1.113520e-11        & 4.146731e-08        & 57.21798            &  77.60833           & 4                   & 3.240689            &  5.969872           & 0.035061400         &  5.934810           & 0.33307148          &  5.934810          \\\\\n",
       "\t Pp3c13\\_6220.mRNA  & mRNA                & mRNA                & 1.171338e-11        & 4.146731e-08        & 57.11319            &  97.44026           & 4                   & 2.682543            &  7.495404           & 0.014080861         &  7.481324           & 0.45592527          &  7.481324          \\\\\n",
       "\\end{tabular}\n"
      ],
      "text/markdown": [
       "\n",
       "target_id | class | TYPE | pval | qval | test_stat | rss | degrees_free | mean_obs | var_obs | tech_var | sigma_sq | smooth_sigma_sq | final_sigma_sq | \n",
       "|---|---|---|---|---|---|\n",
       "| Pp3c1_13200.mRNA  | mRNA              | mRNA              | 1.323964e-12      | 2.660770e-08      | 61.62035          |  83.64486         | 4                 | 3.499105          |  6.434220         | 0.033297428       |  6.400922         | 0.28276158        |  6.400922         | \n",
       "| Pp3s49_30.mRNA    | mRNA              | mRNA              | 2.446460e-12      | 2.660770e-08      | 60.35206          | 177.52794         | 4                 | 4.010792          | 13.655995         | 0.006823643       | 13.649171         | 0.19551171        | 13.649171         | \n",
       "| Pp3c27_870.mRNA   | mRNA              | mRNA              | 4.003216e-12      | 2.902599e-08      | 59.33423          |  72.68902         | 4                 | 5.048467          |  5.591463         | 0.121885115       |  5.469578         | 0.07796317        |  5.469578         | \n",
       "| Pp3c23_22550.mRNA | mRNA              | mRNA              | 1.101617e-11      | 4.146731e-08      | 57.24022          |  78.13027         | 4                 | 2.390192          |  6.010021         | 0.012143106       |  5.997877         | 0.53132344        |  5.997877         | \n",
       "| Pp3c12_9480.mRNA  | mRNA              | mRNA              | 1.113520e-11      | 4.146731e-08      | 57.21798          |  77.60833         | 4                 | 3.240689          |  5.969872         | 0.035061400       |  5.934810         | 0.33307148        |  5.934810         | \n",
       "| Pp3c13_6220.mRNA  | mRNA              | mRNA              | 1.171338e-11      | 4.146731e-08      | 57.11319          |  97.44026         | 4                 | 2.682543          |  7.495404         | 0.014080861       |  7.481324         | 0.45592527        |  7.481324         | \n",
       "\n",
       "\n"
      ],
      "text/plain": [
       "  target_id         class TYPE pval         qval         test_stat rss      \n",
       "1 Pp3c1_13200.mRNA  mRNA  mRNA 1.323964e-12 2.660770e-08 61.62035   83.64486\n",
       "2 Pp3s49_30.mRNA    mRNA  mRNA 2.446460e-12 2.660770e-08 60.35206  177.52794\n",
       "3 Pp3c27_870.mRNA   mRNA  mRNA 4.003216e-12 2.902599e-08 59.33423   72.68902\n",
       "4 Pp3c23_22550.mRNA mRNA  mRNA 1.101617e-11 4.146731e-08 57.24022   78.13027\n",
       "5 Pp3c12_9480.mRNA  mRNA  mRNA 1.113520e-11 4.146731e-08 57.21798   77.60833\n",
       "6 Pp3c13_6220.mRNA  mRNA  mRNA 1.171338e-11 4.146731e-08 57.11319   97.44026\n",
       "  degrees_free mean_obs var_obs   tech_var    sigma_sq  smooth_sigma_sq\n",
       "1 4            3.499105  6.434220 0.033297428  6.400922 0.28276158     \n",
       "2 4            4.010792 13.655995 0.006823643 13.649171 0.19551171     \n",
       "3 4            5.048467  5.591463 0.121885115  5.469578 0.07796317     \n",
       "4 4            2.390192  6.010021 0.012143106  5.997877 0.53132344     \n",
       "5 4            3.240689  5.969872 0.035061400  5.934810 0.33307148     \n",
       "6 4            2.682543  7.495404 0.014080861  7.481324 0.45592527     \n",
       "  final_sigma_sq\n",
       "1  6.400922     \n",
       "2 13.649171     \n",
       "3  5.469578     \n",
       "4  5.997877     \n",
       "5  5.934810     \n",
       "6  7.481324     "
      ]
     },
     "metadata": {},
     "output_type": "display_data"
    }
   ],
   "source": [
    "Tc=read.delim(\"../../sleuth//comp.WT_time_series/dge.tsv.gz\",sep=\"\\t\",stringsAsFactors=FALSE)\n",
    "nrow(Tc)\n",
    "Tc=na.omit(Tc)\n",
    "nrow(Tc)\n",
    "Tc=subset(Tc,qval<0.05)\n",
    "nrow(Tc)\n",
    "head(Tc)"
   ]
  },
  {
   "cell_type": "code",
   "execution_count": 47,
   "metadata": {},
   "outputs": [],
   "source": [
    "PP=pp\n",
    "PP[[\"WT gametophyte development\"]]=unique(Tc$target_id)"
   ]
  },
  {
   "cell_type": "code",
   "execution_count": 48,
   "metadata": {},
   "outputs": [
    {
     "data": {},
     "metadata": {},
     "output_type": "display_data"
    },
    {
     "data": {
      "image/png": "[encoded data removed]",
      "text/plain": [
       "plot without title"
      ]
     },
     "metadata": {},
     "output_type": "display_data",
     "source": "R display func"
    }
   ],
   "source": [
    "options(repr.plot.width=8, repr.plot.height=5)\n",
    "u=upset(fromList(PP), order.by = \"freq\",keep.order = TRUE,nsets=length(names(PP)),nintersects=25,mb.ratio = c(0.65, 0.35))\n",
    "u"
   ]
  },
  {
   "cell_type": "code",
   "execution_count": 49,
   "metadata": {},
   "outputs": [
    {
     "data": {},
     "metadata": {},
     "output_type": "display_data"
    },
    {
     "data": {
      "text/html": [
       "<strong>png:</strong> 2"
      ],
      "text/latex": [
       "\\textbf{png:} 2"
      ],
      "text/markdown": [
       "**png:** 2"
      ],
      "text/plain": [
       "png \n",
       "  2 "
      ]
     },
     "metadata": {},
     "output_type": "display_data"
    }
   ],
   "source": [
    "pdf(\"Intersections.DGE_sets.pdf\",width=8,height=5)\n",
    "u\n",
    "dev.off()"
   ]
  },
  {
   "cell_type": "code",
   "execution_count": 52,
   "metadata": {},
   "outputs": [
    {
     "name": "stdout",
     "output_type": "stream",
     "text": [
      "List of 6\n",
      " $ TF with deregulated target: chr [1:714] \"Pp3c1_12940.mRNA\" \"Pp3c1_14230.mRNA\" \"Pp3c1_14480.mRNA\" \"Pp3c1_15290.mRNA\" ...\n",
      " $ repressor target          : chr [1:2639] \"Pp3c1_10200.mRNA\" \"Pp3c1_10220.mRNA\" \"Pp3c1_11030.mRNA\" \"Pp3c1_11190.mRNA\" ...\n",
      " $ activator target          : chr [1:2445] \"Pp3c1_10400.mRNA\" \"Pp3c1_10760.mRNA\" \"Pp3c1_10830.mRNA\" \"Pp3c1_12715.mRNA\" ...\n",
      " $ WT 3-5 days               : chr [1:4744] \"Pp3c18_20030.mRNA\" \"Pp3c3_31560.mRNA\" \"Pp3c1_15390.mRNA\" \"Pp3c16_4180.mRNA\" ...\n",
      " $ WT 9-14 days              : chr [1:5628] \"Pp3s49_30.mRNA\" \"Pp3c7_9420.mRNA\" \"Pp3c26_14380.mRNA\" \"Pp3c14_20550.mRNA\" ...\n",
      " $ WT gametophyte development: chr [1:14939] \"Pp3c1_13200.mRNA\" \"Pp3s49_30.mRNA\" \"Pp3c27_870.mRNA\" \"Pp3c23_22550.mRNA\" ...\n"
     ]
    },
    {
     "data": {
      "text/html": [
       "1871"
      ],
      "text/latex": [
       "1871"
      ],
      "text/markdown": [
       "1871"
      ],
      "text/plain": [
       "[1] 1871"
      ]
     },
     "metadata": {},
     "output_type": "display_data"
    },
    {
     "data": {
      "text/html": [
       "0.708980674497916"
      ],
      "text/latex": [
       "0.708980674497916"
      ],
      "text/markdown": [
       "0.708980674497916"
      ],
      "text/plain": [
       "[1] 0.7089807"
      ]
     },
     "metadata": {},
     "output_type": "display_data"
    },
    {
     "data": {
      "text/html": [
       "765"
      ],
      "text/latex": [
       "765"
      ],
      "text/markdown": [
       "765"
      ],
      "text/plain": [
       "[1] 765"
      ]
     },
     "metadata": {},
     "output_type": "display_data"
    },
    {
     "data": {
      "text/html": [
       "0.289882531261842"
      ],
      "text/latex": [
       "0.289882531261842"
      ],
      "text/markdown": [
       "0.289882531261842"
      ],
      "text/plain": [
       "[1] 0.2898825"
      ]
     },
     "metadata": {},
     "output_type": "display_data"
    },
    {
     "data": {
      "text/html": [
       "1823"
      ],
      "text/latex": [
       "1823"
      ],
      "text/markdown": [
       "1823"
      ],
      "text/plain": [
       "[1] 1823"
      ]
     },
     "metadata": {},
     "output_type": "display_data"
    },
    {
     "data": {
      "text/html": [
       "0.74560327198364"
      ],
      "text/latex": [
       "0.74560327198364"
      ],
      "text/markdown": [
       "0.74560327198364"
      ],
      "text/plain": [
       "[1] 0.7456033"
      ]
     },
     "metadata": {},
     "output_type": "display_data"
    },
    {
     "data": {
      "text/html": [
       "794"
      ],
      "text/latex": [
       "794"
      ],
      "text/markdown": [
       "794"
      ],
      "text/plain": [
       "[1] 794"
      ]
     },
     "metadata": {},
     "output_type": "display_data"
    },
    {
     "data": {
      "text/html": [
       "0.324744376278119"
      ],
      "text/latex": [
       "0.324744376278119"
      ],
      "text/markdown": [
       "0.324744376278119"
      ],
      "text/plain": [
       "[1] 0.3247444"
      ]
     },
     "metadata": {},
     "output_type": "display_data"
    }
   ],
   "source": [
    "str(PP)\n",
    "length(intersect(PP[[\"repressor target\"]],PP[[\"WT gametophyte development\"]]))\n",
    "length(intersect(PP[[\"repressor target\"]],PP[[\"WT gametophyte development\"]]))/length(PP[[\"repressor target\"]])\n",
    "length(intersect(PP[[\"repressor target\"]],PP[[\"WT 3-5 days\"]]))\n",
    "length(intersect(PP[[\"repressor target\"]],PP[[\"WT 3-5 days\"]]))/length(PP[[\"repressor target\"]])\n",
    "length(intersect(PP[[\"activator target\"]],PP[[\"WT gametophyte development\"]]))\n",
    "length(intersect(PP[[\"activator target\"]],PP[[\"WT gametophyte development\"]]))/length(PP[[\"activator target\"]])\n",
    "length(intersect(PP[[\"activator target\"]],PP[[\"WT 9-14 days\"]]))\n",
    "length(intersect(PP[[\"activator target\"]],PP[[\"WT 9-14 days\"]]))/length(PP[[\"activator target\"]])"
   ]
  },
  {
   "cell_type": "code",
   "execution_count": 53,
   "metadata": {},
   "outputs": [],
   "source": [
    "for (nnn in names(PP)){\n",
    "    nn=gsub(\" \",\"_\",paste0(\"gene_sets/\",nnn,\".set\"))\n",
    "    write.table(PP[[nnn]],file=nn,sep=\"\\t\",row.names=FALSE,col.names=FALSE)\n",
    "}"
   ]
  }
 ],
 "metadata": {
  "kernelspec": {
   "display_name": "R [conda env:genie3]",
   "language": "R",
   "name": "conda-env-genie3-r"
  },
  "language_info": {
   "codemirror_mode": "r",
   "file_extension": ".r",
   "mimetype": "text/x-r-source",
   "name": "R",
   "pygments_lexer": "r",
   "version": "3.6.3"
  }
 },
 "nbformat": 4,
 "nbformat_minor": 4
}
