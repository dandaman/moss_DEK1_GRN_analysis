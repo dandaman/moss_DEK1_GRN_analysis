{
 "cells": [
  {
   "cell_type": "code",
   "execution_count": 1,
   "metadata": {},
   "outputs": [
    {
     "name": "stderr",
     "output_type": "stream",
     "text": [
      "Loading required package: S4Vectors\n",
      "Loading required package: stats4\n",
      "Loading required package: BiocGenerics\n",
      "Loading required package: parallel\n",
      "\n",
      "Attaching package: ‘BiocGenerics’\n",
      "\n",
      "The following objects are masked from ‘package:parallel’:\n",
      "\n",
      "    clusterApply, clusterApplyLB, clusterCall, clusterEvalQ,\n",
      "    clusterExport, clusterMap, parApply, parCapply, parLapply,\n",
      "    parLapplyLB, parRapply, parSapply, parSapplyLB\n",
      "\n",
      "The following objects are masked from ‘package:stats’:\n",
      "\n",
      "    IQR, mad, sd, var, xtabs\n",
      "\n",
      "The following objects are masked from ‘package:base’:\n",
      "\n",
      "    anyDuplicated, append, as.data.frame, cbind, colMeans, colnames,\n",
      "    colSums, do.call, duplicated, eval, evalq, Filter, Find, get, grep,\n",
      "    grepl, intersect, is.unsorted, lapply, lengths, Map, mapply, match,\n",
      "    mget, order, paste, pmax, pmax.int, pmin, pmin.int, Position, rank,\n",
      "    rbind, Reduce, rowMeans, rownames, rowSums, sapply, setdiff, sort,\n",
      "    table, tapply, union, unique, unsplit, which, which.max, which.min\n",
      "\n",
      "Warning message:\n",
      "“replacing previous import ‘stats::sd’ by ‘BiocGenerics::sd’ when loading ‘S4Vectors’”Warning message:\n",
      "“replacing previous import ‘stats::var’ by ‘BiocGenerics::var’ when loading ‘S4Vectors’”Warning message:\n",
      "“multiple methods tables found for ‘var’”Warning message:\n",
      "“multiple methods tables found for ‘sd’”Warning message:\n",
      "“multiple methods tables found for ‘rowSums’”Warning message:\n",
      "“multiple methods tables found for ‘colSums’”Warning message:\n",
      "“multiple methods tables found for ‘rowMeans’”Warning message:\n",
      "“multiple methods tables found for ‘colMeans’”\n",
      "Attaching package: ‘S4Vectors’\n",
      "\n",
      "The following objects are masked from ‘package:BiocGenerics’:\n",
      "\n",
      "    colMeans, colSums, rowMeans, rowSums\n",
      "\n",
      "The following objects are masked from ‘package:base’:\n",
      "\n",
      "    colMeans, colSums, expand.grid, rowMeans, rowSums\n",
      "\n",
      "Loading required package: IRanges\n",
      "Warning message:\n",
      "“replacing previous import ‘stats::sd’ by ‘BiocGenerics::sd’ when loading ‘IRanges’”Warning message:\n",
      "“replacing previous import ‘stats::var’ by ‘BiocGenerics::var’ when loading ‘IRanges’”Warning message:\n",
      "“replacing previous import ‘BiocGenerics::rowSums’ by ‘S4Vectors::rowSums’ when loading ‘IRanges’”Warning message:\n",
      "“replacing previous import ‘BiocGenerics::var’ by ‘S4Vectors::var’ when loading ‘IRanges’”Warning message:\n",
      "“replacing previous import ‘BiocGenerics::rowMeans’ by ‘S4Vectors::rowMeans’ when loading ‘IRanges’”Warning message:\n",
      "“replacing previous import ‘BiocGenerics::colSums’ by ‘S4Vectors::colSums’ when loading ‘IRanges’”Warning message:\n",
      "“replacing previous import ‘BiocGenerics::sd’ by ‘S4Vectors::sd’ when loading ‘IRanges’”Warning message:\n",
      "“replacing previous import ‘BiocGenerics::colMeans’ by ‘S4Vectors::colMeans’ when loading ‘IRanges’”Warning message:\n",
      "“multiple methods tables found for ‘var’”Warning message:\n",
      "“multiple methods tables found for ‘sd’”Loading required package: GenomicRanges\n",
      "Loading required package: GenomeInfoDb\n",
      "Warning message:\n",
      "“replacing previous import ‘BiocGenerics::rowSums’ by ‘S4Vectors::rowSums’ when loading ‘GenomeInfoDb’”Warning message:\n",
      "“replacing previous import ‘BiocGenerics::var’ by ‘S4Vectors::var’ when loading ‘GenomeInfoDb’”Warning message:\n",
      "“replacing previous import ‘BiocGenerics::rowMeans’ by ‘S4Vectors::rowMeans’ when loading ‘GenomeInfoDb’”Warning message:\n",
      "“replacing previous import ‘BiocGenerics::colSums’ by ‘S4Vectors::colSums’ when loading ‘GenomeInfoDb’”Warning message:\n",
      "“replacing previous import ‘BiocGenerics::sd’ by ‘S4Vectors::sd’ when loading ‘GenomeInfoDb’”Warning message:\n",
      "“replacing previous import ‘BiocGenerics::colMeans’ by ‘S4Vectors::colMeans’ when loading ‘GenomeInfoDb’”Warning message:\n",
      "“replacing previous import ‘BiocGenerics::rowSums’ by ‘S4Vectors::rowSums’ when loading ‘GenomicRanges’”Warning message:\n",
      "“replacing previous import ‘BiocGenerics::var’ by ‘S4Vectors::var’ when loading ‘GenomicRanges’”Warning message:\n",
      "“replacing previous import ‘BiocGenerics::rowMeans’ by ‘S4Vectors::rowMeans’ when loading ‘GenomicRanges’”Warning message:\n",
      "“replacing previous import ‘BiocGenerics::colSums’ by ‘S4Vectors::colSums’ when loading ‘GenomicRanges’”Warning message:\n",
      "“replacing previous import ‘BiocGenerics::sd’ by ‘S4Vectors::sd’ when loading ‘GenomicRanges’”Warning message:\n",
      "“replacing previous import ‘BiocGenerics::colMeans’ by ‘S4Vectors::colMeans’ when loading ‘GenomicRanges’”Warning message:\n",
      "“replacing previous import ‘BiocGenerics::rowSums’ by ‘S4Vectors::rowSums’ when loading ‘XVector’”Warning message:\n",
      "“replacing previous import ‘BiocGenerics::var’ by ‘S4Vectors::var’ when loading ‘XVector’”Warning message:\n",
      "“replacing previous import ‘BiocGenerics::rowMeans’ by ‘S4Vectors::rowMeans’ when loading ‘XVector’”Warning message:\n",
      "“replacing previous import ‘BiocGenerics::colSums’ by ‘S4Vectors::colSums’ when loading ‘XVector’”Warning message:\n",
      "“replacing previous import ‘BiocGenerics::sd’ by ‘S4Vectors::sd’ when loading ‘XVector’”Warning message:\n",
      "“replacing previous import ‘BiocGenerics::colMeans’ by ‘S4Vectors::colMeans’ when loading ‘XVector’”Loading required package: SummarizedExperiment\n",
      "Loading required package: Biobase\n",
      "Welcome to Bioconductor\n",
      "\n",
      "    Vignettes contain introductory material; view with\n",
      "    'browseVignettes()'. To cite Bioconductor, see\n",
      "    'citation(\"Biobase\")', and for packages 'citation(\"pkgname\")'.\n",
      "\n",
      "Warning message:\n",
      "“replacing previous import ‘BiocGenerics::rowSums’ by ‘S4Vectors::rowSums’ when loading ‘SummarizedExperiment’”Warning message:\n",
      "“replacing previous import ‘BiocGenerics::var’ by ‘S4Vectors::var’ when loading ‘SummarizedExperiment’”Warning message:\n",
      "“replacing previous import ‘BiocGenerics::rowMeans’ by ‘S4Vectors::rowMeans’ when loading ‘SummarizedExperiment’”Warning message:\n",
      "“replacing previous import ‘BiocGenerics::colSums’ by ‘S4Vectors::colSums’ when loading ‘SummarizedExperiment’”Warning message:\n",
      "“replacing previous import ‘BiocGenerics::sd’ by ‘S4Vectors::sd’ when loading ‘SummarizedExperiment’”Warning message:\n",
      "“replacing previous import ‘BiocGenerics::colMeans’ by ‘S4Vectors::colMeans’ when loading ‘SummarizedExperiment’”Warning message:\n",
      "“replacing previous import ‘BiocGenerics::var’ by ‘IRanges::var’ when loading ‘DESeq2’”Warning message:\n",
      "“replacing previous import ‘BiocGenerics::sd’ by ‘IRanges::sd’ when loading ‘DESeq2’”Warning message:\n",
      "“replacing previous import ‘BiocGenerics::rowSums’ by ‘S4Vectors::rowSums’ when loading ‘DESeq2’”Warning message:\n",
      "“replacing previous import ‘BiocGenerics::rowMeans’ by ‘S4Vectors::rowMeans’ when loading ‘DESeq2’”Warning message:\n",
      "“replacing previous import ‘BiocGenerics::colSums’ by ‘S4Vectors::colSums’ when loading ‘DESeq2’”Warning message:\n",
      "“replacing previous import ‘BiocGenerics::colMeans’ by ‘S4Vectors::colMeans’ when loading ‘DESeq2’”Warning message:\n",
      "“replacing previous import ‘BiocGenerics::rowSums’ by ‘S4Vectors::rowSums’ when loading ‘AnnotationDbi’”Warning message:\n",
      "“replacing previous import ‘BiocGenerics::var’ by ‘S4Vectors::var’ when loading ‘AnnotationDbi’”Warning message:\n",
      "“replacing previous import ‘BiocGenerics::rowMeans’ by ‘S4Vectors::rowMeans’ when loading ‘AnnotationDbi’”Warning message:\n",
      "“replacing previous import ‘BiocGenerics::colSums’ by ‘S4Vectors::colSums’ when loading ‘AnnotationDbi’”Warning message:\n",
      "“replacing previous import ‘BiocGenerics::sd’ by ‘S4Vectors::sd’ when loading ‘AnnotationDbi’”Warning message:\n",
      "“replacing previous import ‘BiocGenerics::colMeans’ by ‘S4Vectors::colMeans’ when loading ‘AnnotationDbi’”"
     ]
    }
   ],
   "source": [
    "library(DESeq2)\n",
    "library(tximport)\n",
    "library(readr)"
   ]
  },
  {
   "cell_type": "markdown",
   "metadata": {},
   "source": [
    "Following procedures discussed in:\n",
    "* http://bioconductor.org/packages/release/bioc/vignettes/tximport/inst/doc/tximport.html\n",
    "* https://support.bioconductor.org/p/84059/\n",
    "* http://bioconductor.org/packages/devel/bioc/vignettes/DESeq2/inst/doc/DESeq2.html#transcript-abundance-files-and-tximport-input\n",
    "* https://dockflow.org/workflow/rnaseq-gene/#exploratory-analysis-and-visualization\n",
    "* https://f1000research.com/articles/4-1521/v2\n",
    "* http://bioconductor.org/packages/devel/bioc/vignettes/DESeq2/inst/doc/DESeq2.html#data-transformations-and-visualization"
   ]
  },
  {
   "cell_type": "code",
   "execution_count": 40,
   "metadata": {},
   "outputs": [
    {
     "data": {
      "text/html": [
       "<table>\n",
       "<thead><tr><th scope=col>run</th><th scope=col>sample</th><th scope=col>experiment</th><th scope=col>study</th></tr></thead>\n",
       "<tbody>\n",
       "\t<tr><td>SRR787291   </td><td>SAMN01942529</td><td>SRX252526   </td><td>PRJNA192876 </td></tr>\n",
       "\t<tr><td>SRR787292   </td><td>SAMN01942529</td><td>SRX252526   </td><td>PRJNA192876 </td></tr>\n",
       "\t<tr><td>SRR787293   </td><td>SAMN01942529</td><td>SRX252526   </td><td>PRJNA192876 </td></tr>\n",
       "\t<tr><td>SRR787294   </td><td>SAMN01942529</td><td>SRX252526   </td><td>PRJNA192876 </td></tr>\n",
       "\t<tr><td>SRR787295   </td><td>SAMN01942529</td><td>SRX252526   </td><td>PRJNA192876 </td></tr>\n",
       "\t<tr><td>SRR790623   </td><td>SAMN01942529</td><td>SRX253977   </td><td>PRJNA192876 </td></tr>\n",
       "</tbody>\n",
       "</table>\n"
      ],
      "text/latex": [
       "\\begin{tabular}{r|llll}\n",
       " run & sample & experiment & study\\\\\n",
       "\\hline\n",
       "\t SRR787291    & SAMN01942529 & SRX252526    & PRJNA192876 \\\\\n",
       "\t SRR787292    & SAMN01942529 & SRX252526    & PRJNA192876 \\\\\n",
       "\t SRR787293    & SAMN01942529 & SRX252526    & PRJNA192876 \\\\\n",
       "\t SRR787294    & SAMN01942529 & SRX252526    & PRJNA192876 \\\\\n",
       "\t SRR787295    & SAMN01942529 & SRX252526    & PRJNA192876 \\\\\n",
       "\t SRR790623    & SAMN01942529 & SRX253977    & PRJNA192876 \\\\\n",
       "\\end{tabular}\n"
      ],
      "text/markdown": [
       "\n",
       "run | sample | experiment | study | \n",
       "|---|---|---|---|---|---|\n",
       "| SRR787291    | SAMN01942529 | SRX252526    | PRJNA192876  | \n",
       "| SRR787292    | SAMN01942529 | SRX252526    | PRJNA192876  | \n",
       "| SRR787293    | SAMN01942529 | SRX252526    | PRJNA192876  | \n",
       "| SRR787294    | SAMN01942529 | SRX252526    | PRJNA192876  | \n",
       "| SRR787295    | SAMN01942529 | SRX252526    | PRJNA192876  | \n",
       "| SRR790623    | SAMN01942529 | SRX253977    | PRJNA192876  | \n",
       "\n",
       "\n"
      ],
      "text/plain": [
       "  run       sample       experiment study      \n",
       "1 SRR787291 SAMN01942529 SRX252526  PRJNA192876\n",
       "2 SRR787292 SAMN01942529 SRX252526  PRJNA192876\n",
       "3 SRR787293 SAMN01942529 SRX252526  PRJNA192876\n",
       "4 SRR787294 SAMN01942529 SRX252526  PRJNA192876\n",
       "5 SRR787295 SAMN01942529 SRX252526  PRJNA192876\n",
       "6 SRR790623 SAMN01942529 SRX253977  PRJNA192876"
      ]
     },
     "metadata": {},
     "output_type": "display_data"
    }
   ],
   "source": [
    "m=read.csv(\"../kallisto/sample_descriptions/samples.csv\",colClasses=c(\"character\",rep(\"factor\",3)))\n",
    "head(m)"
   ]
  },
  {
   "cell_type": "code",
   "execution_count": 7,
   "metadata": {},
   "outputs": [
    {
     "data": {
      "text/html": [
       "<table>\n",
       "<thead><tr><th scope=col>TXNAME</th><th scope=col>GENEID</th><th scope=col>TYPE</th><th scope=col>Alias</th><th scope=col>support</th><th scope=col>origin</th><th scope=col>isoform</th><th scope=col>longest_transcript</th><th scope=col>has_evidence</th><th scope=col>class</th><th scope=col>has_protein_homology</th><th scope=col>has_proteomics_support</th><th scope=col>encoded_by</th><th scope=col>is_filtered</th></tr></thead>\n",
       "<tbody>\n",
       "\t<tr><td>Pp3c1_20V3.1                                                                                                             </td><td>Pp3c1_20                                                                                                                 </td><td>mRNA                                                                                                                     </td><td>P2.evm.model.Chr01.1.6,P2.EVM%20prediction%20Chr01.1,P2.Chr01.mRNA.2,Pp3c1_20P2.2,Pp1s283_2V6.1,Pp3c1_20V1.1,Pp3c1_20P2.1</td><td>supported_by_EST_or_cDNA                                                                                                 </td><td>NA                                                                                                                       </td><td>major                                                                                                                    </td><td>true                                                                                                                     </td><td>true                                                                                                                     </td><td>NA                                                                                                                       </td><td>true                                                                                                                     </td><td>false                                                                                                                    </td><td>protein_coding_gene                                                                                                      </td><td>false                                                                                                                    </td></tr>\n",
       "\t<tr><td>Pp3c1_20V3.2                                                                                                             </td><td>Pp3c1_20                                                                                                                 </td><td>mRNA                                                                                                                     </td><td>Phpatv32000001m,PAC4GC:5754643,Pp3c1_20J4.1                                                                              </td><td>supported_by_EST_or_cDNA                                                                                                 </td><td>NA                                                                                                                       </td><td>alternative                                                                                                              </td><td>false                                                                                                                    </td><td>true                                                                                                                     </td><td>NA                                                                                                                       </td><td>true                                                                                                                     </td><td>false                                                                                                                    </td><td>protein_coding_gene                                                                                                      </td><td>false                                                                                                                    </td></tr>\n",
       "\t<tr><td>Pp3c1_40V3.2                                                                                                             </td><td>Pp3c1_40                                                                                                                 </td><td>mRNA                                                                                                                     </td><td>T1.asmbl_24%7Cm.6444,T1.ORF,T1.Chr01.mRNA.44,Pp3c1_40T1.12,Pp1s283_4V6.1,Pp3c1_40V1.1,Pp3c1_40T1.1                       </td><td>supported_by_EST_or_cDNA                                                                                                 </td><td>NA                                                                                                                       </td><td>alternative                                                                                                              </td><td>true                                                                                                                     </td><td>true                                                                                                                     </td><td>NA                                                                                                                       </td><td>true                                                                                                                     </td><td>false                                                                                                                    </td><td>protein_coding_gene                                                                                                      </td><td>false                                                                                                                    </td></tr>\n",
       "\t<tr><td>Pp3c1_40V3.1                                                                                                             </td><td>Pp3c1_40                                                                                                                 </td><td>mRNA                                                                                                                     </td><td>Phpatv32000002m,PAC4GC:5752909,Pp3c1_40J4.1                                                                              </td><td>supported_by_EST_or_cDNA                                                                                                 </td><td>NA                                                                                                                       </td><td>major                                                                                                                    </td><td>false                                                                                                                    </td><td>true                                                                                                                     </td><td>NA                                                                                                                       </td><td>true                                                                                                                     </td><td>false                                                                                                                    </td><td>protein_coding_gene                                                                                                      </td><td>false                                                                                                                    </td></tr>\n",
       "\t<tr><td>Pp3c1_50V3.2                                                                                                             </td><td>Pp3c1_50                                                                                                                 </td><td>mRNA                                                                                                                     </td><td>J2.PAC:28256409,J2.Pptv304000003m,J2.Chr01.mRNA.3,Pp3c1_50J2.1,Pp1s283_5V6.1,Pp3c1_50V1.1                                </td><td>supported_by_EST_or_cDNA                                                                                                 </td><td>NA                                                                                                                       </td><td>alternative                                                                                                              </td><td>false                                                                                                                    </td><td>true                                                                                                                     </td><td>NA                                                                                                                       </td><td>true                                                                                                                     </td><td>false                                                                                                                    </td><td>protein_coding_gene                                                                                                      </td><td>false                                                                                                                    </td></tr>\n",
       "\t<tr><td>Pp3c1_50V3.1                                                                                                             </td><td>Pp3c1_50                                                                                                                 </td><td>mRNA                                                                                                                     </td><td>Phpatv32000003m,PAC4GC:5753140,Pp3c1_50J4.1                                                                              </td><td>supported_by_EST_or_cDNA                                                                                                 </td><td>NA                                                                                                                       </td><td>major                                                                                                                    </td><td>true                                                                                                                     </td><td>true                                                                                                                     </td><td>NA                                                                                                                       </td><td>true                                                                                                                     </td><td>false                                                                                                                    </td><td>protein_coding_gene                                                                                                      </td><td>false                                                                                                                    </td></tr>\n",
       "</tbody>\n",
       "</table>\n"
      ],
      "text/latex": [
       "\\begin{tabular}{r|llllllllllllll}\n",
       " TXNAME & GENEID & TYPE & Alias & support & origin & isoform & longest\\_transcript & has\\_evidence & class & has\\_protein\\_homology & has\\_proteomics\\_support & encoded\\_by & is\\_filtered\\\\\n",
       "\\hline\n",
       "\t Pp3c1\\_20V3.1                                                                                                                        & Pp3c1\\_20                                                                                                                            & mRNA                                                                                                                                  & P2.evm.model.Chr01.1.6,P2.EVM\\%20prediction\\%20Chr01.1,P2.Chr01.mRNA.2,Pp3c1\\_20P2.2,Pp1s283\\_2V6.1,Pp3c1\\_20V1.1,Pp3c1\\_20P2.1 & supported\\_by\\_EST\\_or\\_cDNA                                                                                                      & NA                                                                                                                                    & major                                                                                                                                 & true                                                                                                                                  & true                                                                                                                                  & NA                                                                                                                                    & true                                                                                                                                  & false                                                                                                                                 & protein\\_coding\\_gene                                                                                                               & false                                                                                                                                \\\\\n",
       "\t Pp3c1\\_20V3.2                                                                                                              & Pp3c1\\_20                                                                                                                  & mRNA                                                                                                                        & Phpatv32000001m,PAC4GC:5754643,Pp3c1\\_20J4.1                                                                               & supported\\_by\\_EST\\_or\\_cDNA                                                                                            & NA                                                                                                                          & alternative                                                                                                                 & false                                                                                                                       & true                                                                                                                        & NA                                                                                                                          & true                                                                                                                        & false                                                                                                                       & protein\\_coding\\_gene                                                                                                     & false                                                                                                                      \\\\\n",
       "\t Pp3c1\\_40V3.2                                                                                                                        & Pp3c1\\_40                                                                                                                            & mRNA                                                                                                                                  & T1.asmbl\\_24\\%7Cm.6444,T1.ORF,T1.Chr01.mRNA.44,Pp3c1\\_40T1.12,Pp1s283\\_4V6.1,Pp3c1\\_40V1.1,Pp3c1\\_40T1.1                        & supported\\_by\\_EST\\_or\\_cDNA                                                                                                      & NA                                                                                                                                    & alternative                                                                                                                           & true                                                                                                                                  & true                                                                                                                                  & NA                                                                                                                                    & true                                                                                                                                  & false                                                                                                                                 & protein\\_coding\\_gene                                                                                                               & false                                                                                                                                \\\\\n",
       "\t Pp3c1\\_40V3.1                                                                                                              & Pp3c1\\_40                                                                                                                  & mRNA                                                                                                                        & Phpatv32000002m,PAC4GC:5752909,Pp3c1\\_40J4.1                                                                               & supported\\_by\\_EST\\_or\\_cDNA                                                                                            & NA                                                                                                                          & major                                                                                                                       & false                                                                                                                       & true                                                                                                                        & NA                                                                                                                          & true                                                                                                                        & false                                                                                                                       & protein\\_coding\\_gene                                                                                                     & false                                                                                                                      \\\\\n",
       "\t Pp3c1\\_50V3.2                                                                                                                  & Pp3c1\\_50                                                                                                                      & mRNA                                                                                                                            & J2.PAC:28256409,J2.Pptv304000003m,J2.Chr01.mRNA.3,Pp3c1\\_50J2.1,Pp1s283\\_5V6.1,Pp3c1\\_50V1.1                                 & supported\\_by\\_EST\\_or\\_cDNA                                                                                                & NA                                                                                                                              & alternative                                                                                                                     & false                                                                                                                           & true                                                                                                                            & NA                                                                                                                              & true                                                                                                                            & false                                                                                                                           & protein\\_coding\\_gene                                                                                                         & false                                                                                                                          \\\\\n",
       "\t Pp3c1\\_50V3.1                                                                                                              & Pp3c1\\_50                                                                                                                  & mRNA                                                                                                                        & Phpatv32000003m,PAC4GC:5753140,Pp3c1\\_50J4.1                                                                               & supported\\_by\\_EST\\_or\\_cDNA                                                                                            & NA                                                                                                                          & major                                                                                                                       & true                                                                                                                        & true                                                                                                                        & NA                                                                                                                          & true                                                                                                                        & false                                                                                                                       & protein\\_coding\\_gene                                                                                                     & false                                                                                                                      \\\\\n",
       "\\end{tabular}\n"
      ],
      "text/markdown": [
       "\n",
       "TXNAME | GENEID | TYPE | Alias | support | origin | isoform | longest_transcript | has_evidence | class | has_protein_homology | has_proteomics_support | encoded_by | is_filtered | \n",
       "|---|---|---|---|---|---|\n",
       "| Pp3c1_20V3.1                                                                                                              | Pp3c1_20                                                                                                                  | mRNA                                                                                                                      | P2.evm.model.Chr01.1.6,P2.EVM%20prediction%20Chr01.1,P2.Chr01.mRNA.2,Pp3c1_20P2.2,Pp1s283_2V6.1,Pp3c1_20V1.1,Pp3c1_20P2.1 | supported_by_EST_or_cDNA                                                                                                  | NA                                                                                                                        | major                                                                                                                     | true                                                                                                                      | true                                                                                                                      | NA                                                                                                                        | true                                                                                                                      | false                                                                                                                     | protein_coding_gene                                                                                                       | false                                                                                                                     | \n",
       "| Pp3c1_20V3.2                                                                                                              | Pp3c1_20                                                                                                                  | mRNA                                                                                                                      | Phpatv32000001m,PAC4GC:5754643,Pp3c1_20J4.1                                                                               | supported_by_EST_or_cDNA                                                                                                  | NA                                                                                                                        | alternative                                                                                                               | false                                                                                                                     | true                                                                                                                      | NA                                                                                                                        | true                                                                                                                      | false                                                                                                                     | protein_coding_gene                                                                                                       | false                                                                                                                     | \n",
       "| Pp3c1_40V3.2                                                                                                              | Pp3c1_40                                                                                                                  | mRNA                                                                                                                      | T1.asmbl_24%7Cm.6444,T1.ORF,T1.Chr01.mRNA.44,Pp3c1_40T1.12,Pp1s283_4V6.1,Pp3c1_40V1.1,Pp3c1_40T1.1                        | supported_by_EST_or_cDNA                                                                                                  | NA                                                                                                                        | alternative                                                                                                               | true                                                                                                                      | true                                                                                                                      | NA                                                                                                                        | true                                                                                                                      | false                                                                                                                     | protein_coding_gene                                                                                                       | false                                                                                                                     | \n",
       "| Pp3c1_40V3.1                                                                                                              | Pp3c1_40                                                                                                                  | mRNA                                                                                                                      | Phpatv32000002m,PAC4GC:5752909,Pp3c1_40J4.1                                                                               | supported_by_EST_or_cDNA                                                                                                  | NA                                                                                                                        | major                                                                                                                     | false                                                                                                                     | true                                                                                                                      | NA                                                                                                                        | true                                                                                                                      | false                                                                                                                     | protein_coding_gene                                                                                                       | false                                                                                                                     | \n",
       "| Pp3c1_50V3.2                                                                                                              | Pp3c1_50                                                                                                                  | mRNA                                                                                                                      | J2.PAC:28256409,J2.Pptv304000003m,J2.Chr01.mRNA.3,Pp3c1_50J2.1,Pp1s283_5V6.1,Pp3c1_50V1.1                                 | supported_by_EST_or_cDNA                                                                                                  | NA                                                                                                                        | alternative                                                                                                               | false                                                                                                                     | true                                                                                                                      | NA                                                                                                                        | true                                                                                                                      | false                                                                                                                     | protein_coding_gene                                                                                                       | false                                                                                                                     | \n",
       "| Pp3c1_50V3.1                                                                                                              | Pp3c1_50                                                                                                                  | mRNA                                                                                                                      | Phpatv32000003m,PAC4GC:5753140,Pp3c1_50J4.1                                                                               | supported_by_EST_or_cDNA                                                                                                  | NA                                                                                                                        | major                                                                                                                     | true                                                                                                                      | true                                                                                                                      | NA                                                                                                                        | true                                                                                                                      | false                                                                                                                     | protein_coding_gene                                                                                                       | false                                                                                                                     | \n",
       "\n",
       "\n"
      ],
      "text/plain": [
       "  TXNAME       GENEID   TYPE\n",
       "1 Pp3c1_20V3.1 Pp3c1_20 mRNA\n",
       "2 Pp3c1_20V3.2 Pp3c1_20 mRNA\n",
       "3 Pp3c1_40V3.2 Pp3c1_40 mRNA\n",
       "4 Pp3c1_40V3.1 Pp3c1_40 mRNA\n",
       "5 Pp3c1_50V3.2 Pp3c1_50 mRNA\n",
       "6 Pp3c1_50V3.1 Pp3c1_50 mRNA\n",
       "  Alias                                                                                                                    \n",
       "1 P2.evm.model.Chr01.1.6,P2.EVM%20prediction%20Chr01.1,P2.Chr01.mRNA.2,Pp3c1_20P2.2,Pp1s283_2V6.1,Pp3c1_20V1.1,Pp3c1_20P2.1\n",
       "2 Phpatv32000001m,PAC4GC:5754643,Pp3c1_20J4.1                                                                              \n",
       "3 T1.asmbl_24%7Cm.6444,T1.ORF,T1.Chr01.mRNA.44,Pp3c1_40T1.12,Pp1s283_4V6.1,Pp3c1_40V1.1,Pp3c1_40T1.1                       \n",
       "4 Phpatv32000002m,PAC4GC:5752909,Pp3c1_40J4.1                                                                              \n",
       "5 J2.PAC:28256409,J2.Pptv304000003m,J2.Chr01.mRNA.3,Pp3c1_50J2.1,Pp1s283_5V6.1,Pp3c1_50V1.1                                \n",
       "6 Phpatv32000003m,PAC4GC:5753140,Pp3c1_50J4.1                                                                              \n",
       "  support                  origin isoform     longest_transcript has_evidence\n",
       "1 supported_by_EST_or_cDNA NA     major       true               true        \n",
       "2 supported_by_EST_or_cDNA NA     alternative false              true        \n",
       "3 supported_by_EST_or_cDNA NA     alternative true               true        \n",
       "4 supported_by_EST_or_cDNA NA     major       false              true        \n",
       "5 supported_by_EST_or_cDNA NA     alternative false              true        \n",
       "6 supported_by_EST_or_cDNA NA     major       true               true        \n",
       "  class has_protein_homology has_proteomics_support encoded_by         \n",
       "1 NA    true                 false                  protein_coding_gene\n",
       "2 NA    true                 false                  protein_coding_gene\n",
       "3 NA    true                 false                  protein_coding_gene\n",
       "4 NA    true                 false                  protein_coding_gene\n",
       "5 NA    true                 false                  protein_coding_gene\n",
       "6 NA    true                 false                  protein_coding_gene\n",
       "  is_filtered\n",
       "1 false      \n",
       "2 false      \n",
       "3 false      \n",
       "4 false      \n",
       "5 false      \n",
       "6 false      "
      ]
     },
     "metadata": {},
     "output_type": "display_data"
    }
   ],
   "source": [
    "i=read.delim(\"cosmoss_V3.3.mRNA_ncRNA.tx2gene.full.tsv\",sep=\"\\t\",stringsAsFactors=FALSE)\n",
    "head(i)\n",
    "tx2gene=i[,1:2]"
   ]
  },
  {
   "cell_type": "code",
   "execution_count": 22,
   "metadata": {},
   "outputs": [
    {
     "data": {
      "text/plain": [
       "\n",
       "           28s_rRNA,rRNA_28S                antisense_RNA \n",
       "                         161                            3 \n",
       "                arginyl_tRNA             asparaginyl_tRNA \n",
       "                          52                           32 \n",
       "               aspartyl_tRNA                   attenuator \n",
       "                          26                            9 \n",
       "              C_D_box_snoRNA                       CRISPR \n",
       "                         410                           31 \n",
       "              cysteinyl_tRNA               five_prime_UTR \n",
       "                          13                            3 \n",
       "             glutaminyl_tRNA                glutamyl_tRNA \n",
       "                          25                           23 \n",
       "                 glycyl_tRNA               group_I_intron \n",
       "                          57                            2 \n",
       "             group_II_intron             H_ACA_box_snoRNA \n",
       "                          67                            8 \n",
       "               histidyl_tRNA internal_ribosome_entry_site \n",
       "                          14                            1 \n",
       "              isoleucyl_tRNA                  leucyl_tRNA \n",
       "                          22                           80 \n",
       "                  lysyl_tRNA            mature_transcript \n",
       "                          22                           15 \n",
       "              methionyl_tRNA                     MicF_RNA \n",
       "                          40                            2 \n",
       "                       miRNA                         mRNA \n",
       "                           3                        89467 \n",
       "                       ncRNA                   ncRNA_gene \n",
       "                        1883                           82 \n",
       "           phenylalanyl_tRNA                    pre_miRNA \n",
       "                          67                          298 \n",
       "                 prolyl_tRNA              pyrrolysyl_tRNA \n",
       "                          36                            6 \n",
       "           regulatory_region                   riboswitch \n",
       "                          21                           17 \n",
       "                      RNA_6S                RNase_MRP_RNA \n",
       "                           1                            1 \n",
       "                 RNase_P_RNA                     rRNA_18S \n",
       "                           2                          145 \n",
       "           rRNA_18S,18s_rRNA            rRNA_28S,28s_rRNA \n",
       "                          62                            1 \n",
       "                   rRNA_5_8S                      rRNA_5S \n",
       "                         200                          134 \n",
       "             rRNA_5S,5s_rRNA         selenocysteinyl_tRNA \n",
       "                          88                           11 \n",
       "                  seryl_tRNA                       snoRNA \n",
       "                          50                            4 \n",
       "                       snRNA                      SRP_RNA \n",
       "                           3                            7 \n",
       "              telomerase_RNA              three_prime_UTR \n",
       "                           3                           11 \n",
       "               threonyl_tRNA                         tRNA \n",
       "                          33                           34 \n",
       "           tryptophanyl_tRNA                 tyrosyl_tRNA \n",
       "                          16                           12 \n",
       "                    U1_snRNA                    U11_snRNA \n",
       "                          16                            1 \n",
       "                   U12_snRNA                     U2_snRNA \n",
       "                           1                           13 \n",
       "                   U3_snoRNA                     U4_snRNA \n",
       "                           5                            7 \n",
       "                    U5_snRNA                     U6_snRNA \n",
       "                          15                           21 \n",
       "                  valyl_tRNA \n",
       "                          67 "
      ]
     },
     "metadata": {},
     "output_type": "display_data"
    }
   ],
   "source": [
    "table(ifelse(is.na(i$class),i$TYPE,i$class))"
   ]
  },
  {
   "cell_type": "code",
   "execution_count": 23,
   "metadata": {},
   "outputs": [
    {
     "data": {
      "text/html": [
       "38346"
      ],
      "text/latex": [
       "38346"
      ],
      "text/markdown": [
       "38346"
      ],
      "text/plain": [
       "[1] 38346"
      ]
     },
     "metadata": {},
     "output_type": "display_data"
    },
    {
     "data": {
      "text/html": [
       "39246"
      ],
      "text/latex": [
       "39246"
      ],
      "text/markdown": [
       "39246"
      ],
      "text/plain": [
       "[1] 39246"
      ]
     },
     "metadata": {},
     "output_type": "display_data"
    }
   ],
   "source": [
    "length(unique(i$GENEID))\n",
    "length(unique(paste(i$GENEID,ifelse(is.na(i$class),i$TYPE,i$class),sep=\".\")))"
   ]
  },
  {
   "cell_type": "code",
   "execution_count": 24,
   "metadata": {},
   "outputs": [],
   "source": [
    "tx2gene$GENEID=paste(i$GENEID,ifelse(is.na(i$class),i$TYPE,i$class),sep=\".\")"
   ]
  },
  {
   "cell_type": "code",
   "execution_count": 15,
   "metadata": {},
   "outputs": [
    {
     "data": {
      "text/html": [
       "<table>\n",
       "<thead><tr><th scope=col>run</th><th scope=col>n_processed</th></tr></thead>\n",
       "<tbody>\n",
       "\t<tr><td>1-W3    </td><td>12301216</td></tr>\n",
       "\t<tr><td>10-LG3  </td><td>17790047</td></tr>\n",
       "\t<tr><td>11-LG3-2</td><td>16522602</td></tr>\n",
       "\t<tr><td>12-LG3-3</td><td>17634783</td></tr>\n",
       "\t<tr><td>13-1-3-2</td><td>18778331</td></tr>\n",
       "\t<tr><td>14-1-3-3</td><td>25190954</td></tr>\n",
       "</tbody>\n",
       "</table>\n"
      ],
      "text/latex": [
       "\\begin{tabular}{r|ll}\n",
       " run & n\\_processed\\\\\n",
       "\\hline\n",
       "\t 1-W3     & 12301216\\\\\n",
       "\t 10-LG3   & 17790047\\\\\n",
       "\t 11-LG3-2 & 16522602\\\\\n",
       "\t 12-LG3-3 & 17634783\\\\\n",
       "\t 13-1-3-2 & 18778331\\\\\n",
       "\t 14-1-3-3 & 25190954\\\\\n",
       "\\end{tabular}\n"
      ],
      "text/markdown": [
       "\n",
       "run | n_processed | \n",
       "|---|---|---|---|---|---|\n",
       "| 1-W3     | 12301216 | \n",
       "| 10-LG3   | 17790047 | \n",
       "| 11-LG3-2 | 16522602 | \n",
       "| 12-LG3-3 | 17634783 | \n",
       "| 13-1-3-2 | 18778331 | \n",
       "| 14-1-3-3 | 25190954 | \n",
       "\n",
       "\n"
      ],
      "text/plain": [
       "  run      n_processed\n",
       "1 1-W3     12301216   \n",
       "2 10-LG3   17790047   \n",
       "3 11-LG3-2 16522602   \n",
       "4 12-LG3-3 17634783   \n",
       "5 13-1-3-2 18778331   \n",
       "6 14-1-3-3 25190954   "
      ]
     },
     "metadata": {},
     "output_type": "display_data"
    }
   ],
   "source": [
    "s=read.delim(gzfile(\"../kallisto/n_processed.tsv.gz\"),sep=\"\\t\")\n",
    "colnames(s)[1]=\"run\"\n",
    "head(s)"
   ]
  },
  {
   "cell_type": "code",
   "execution_count": 16,
   "metadata": {},
   "outputs": [
    {
     "data": {
      "text/html": [
       "<ol class=list-inline>\n",
       "\t<li>'../kallisto/kallisto//SRR787291/abundance.h5'</li>\n",
       "\t<li>'../kallisto/kallisto//SRR787292/abundance.h5'</li>\n",
       "\t<li>'../kallisto/kallisto//SRR787293/abundance.h5'</li>\n",
       "\t<li>'../kallisto/kallisto//SRR787294/abundance.h5'</li>\n",
       "\t<li>'../kallisto/kallisto//SRR787295/abundance.h5'</li>\n",
       "\t<li>'../kallisto/kallisto//SRR790623/abundance.h5'</li>\n",
       "</ol>\n"
      ],
      "text/latex": [
       "\\begin{enumerate*}\n",
       "\\item '../kallisto/kallisto//SRR787291/abundance.h5'\n",
       "\\item '../kallisto/kallisto//SRR787292/abundance.h5'\n",
       "\\item '../kallisto/kallisto//SRR787293/abundance.h5'\n",
       "\\item '../kallisto/kallisto//SRR787294/abundance.h5'\n",
       "\\item '../kallisto/kallisto//SRR787295/abundance.h5'\n",
       "\\item '../kallisto/kallisto//SRR790623/abundance.h5'\n",
       "\\end{enumerate*}\n"
      ],
      "text/markdown": [
       "1. '../kallisto/kallisto//SRR787291/abundance.h5'\n",
       "2. '../kallisto/kallisto//SRR787292/abundance.h5'\n",
       "3. '../kallisto/kallisto//SRR787293/abundance.h5'\n",
       "4. '../kallisto/kallisto//SRR787294/abundance.h5'\n",
       "5. '../kallisto/kallisto//SRR787295/abundance.h5'\n",
       "6. '../kallisto/kallisto//SRR790623/abundance.h5'\n",
       "\n",
       "\n"
      ],
      "text/plain": [
       "[1] \"../kallisto/kallisto//SRR787291/abundance.h5\"\n",
       "[2] \"../kallisto/kallisto//SRR787292/abundance.h5\"\n",
       "[3] \"../kallisto/kallisto//SRR787293/abundance.h5\"\n",
       "[4] \"../kallisto/kallisto//SRR787294/abundance.h5\"\n",
       "[5] \"../kallisto/kallisto//SRR787295/abundance.h5\"\n",
       "[6] \"../kallisto/kallisto//SRR790623/abundance.h5\""
      ]
     },
     "metadata": {},
     "output_type": "display_data"
    }
   ],
   "source": [
    "files=file.path(\"../kallisto/kallisto/\",m$run, \"abundance.h5\")\n",
    "head(files)"
   ]
  },
  {
   "cell_type": "code",
   "execution_count": 17,
   "metadata": {},
   "outputs": [
    {
     "name": "stderr",
     "output_type": "stream",
     "text": [
      "1 2 3 4 5 6 7 8 9 10 11 12 13 14 15 16 17 18 19 20 21 22 23 24 25 26 27 28 29 30 31 32 33 34 35 36 37 38 39 40 41 42 43 44 45 46 47 48 49 50 51 52 53 54 55 56 57 58 59 60 61 62 63 64 65 66 67 68 69 70 71 72 73 74 75 76 77 78 79 80 81 82 83 84 85 86 87 88 89 90 91 92 93 94 95 96 97 98 99 100 101 102 103 104 105 106 107 108 109 110 111 112 113 114 115 116 117 118 119 120 121 122 123 124 125 126 127 128 129 130 131 132 133 134 135 136 137 138 139 140 141 142 143 144 145 146 147 148 149 150 151 152 153 154 155 156 157 158 159 160 161 162 163 164 165 166 167 168 169 170 171 172 173 174 175 176 177 178 179 180 181 182 183 184 185 186 187 188 189 190 191 192 193 194 195 196 197 198 199 200 201 202 203 204 205 206 207 208 209 210 211 212 213 214 215 216 217 218 219 220 221 222 223 224 225 226 227 228 229 230 231 232 233 234 235 236 237 238 239 240 241 242 243 244 245 246 247 248 249 250 251 252 253 254 255 256 257 258 259 260 261 262 263 264 265 266 267 268 269 270 271 272 273 274 275 276 277 278 279 280 281 282 283 284 285 286 287 288 289 290 291 292 293 294 295 296 297 298 299 300 301 302 303 304 305 306 307 308 309 310 311 312 313 314 315 316 317 318 319 320 321 322 323 324 325 326 327 328 329 330 331 332 333 334 335 336 337 338 339 340 341 342 343 344 345 346 347 348 349 350 351 352 353 354 355 356 357 358 359 360 361 362 363 364 365 366 367 368 369 370 371 372 373 \n"
     ]
    },
    {
     "data": {
      "text/html": [
       "<table>\n",
       "<tbody>\n",
       "\t<tr><th scope=row>Pp3c1_20V3.1</th><td>3.660000e+02</td><td>4.650000e+02</td><td> 586.00000  </td><td> 402.0000   </td><td>632.0000    </td><td>39.00000    </td><td>29.00000    </td><td>16.000000   </td><td>117.00000   </td><td> 78.00000   </td><td>⋯           </td><td> 671.00000  </td><td> 485.00000  </td><td> 687.0000   </td><td> 791.00000  </td><td> 677.00000  </td><td>5.640000e+02</td><td> 692.00000  </td><td>6.090000e+02</td><td> 747.00000  </td><td> 999.00000  </td></tr>\n",
       "\t<tr><th scope=row>Pp3c1_40V3.2</th><td>8.476866e+02</td><td>1.381674e+03</td><td>1066.45214  </td><td>1071.8183   </td><td>777.7214    </td><td>39.01141    </td><td>62.78523    </td><td>25.577433   </td><td>170.47007   </td><td>105.75214   </td><td>⋯           </td><td>2107.43791  </td><td>1475.19079  </td><td>2355.8119   </td><td>2500.80916  </td><td>1969.80309  </td><td>1.796082e+03</td><td>2044.28578  </td><td>1.856930e+03</td><td>2146.42493  </td><td>2901.55653  </td></tr>\n",
       "\t<tr><th scope=row>Pp3c1_40V3.1</th><td>3.953072e+02</td><td>5.397224e+02</td><td> 421.06565  </td><td> 488.4427   </td><td>355.2439    </td><td>23.94464    </td><td>15.72057    </td><td>10.401908   </td><td> 40.49952   </td><td> 20.98138   </td><td>⋯           </td><td> 117.90018  </td><td>  50.01938  </td><td> 184.0701   </td><td> 137.54605  </td><td>  94.54942  </td><td>6.958301e+01</td><td>  69.93929  </td><td>1.586308e+02</td><td> 234.57971  </td><td> 253.41826  </td></tr>\n",
       "\t<tr><th scope=row>Pp3c1_60V3.9</th><td>0.000000e+00</td><td>0.000000e+00</td><td>  47.33513  </td><td>   0.0000   </td><td> 30.2338    </td><td> 0.00000    </td><td>24.33509    </td><td> 0.000000   </td><td> 25.52430   </td><td> 84.73234   </td><td>⋯           </td><td> 234.37061  </td><td>  80.62298  </td><td>  88.8029   </td><td> 313.98945  </td><td> 251.71723  </td><td>2.936190e+02</td><td> 375.58716  </td><td>1.720344e+02</td><td> 130.45105  </td><td> 192.53078  </td></tr>\n",
       "\t<tr><th scope=row>Pp3c1_60V3.6</th><td>6.506609e-03</td><td>9.549311e-02</td><td>   0.00000  </td><td>   0.0000   </td><td>  0.0000    </td><td> 0.00000    </td><td> 0.00000    </td><td> 7.852298   </td><td> 13.94017   </td><td>  0.00000   </td><td>⋯           </td><td> 298.43651  </td><td> 317.97430  </td><td> 321.1931   </td><td> 164.10414  </td><td> 342.22705  </td><td>9.718231e-03</td><td> 223.47317  </td><td>2.918890e+02</td><td> 387.14652  </td><td> 230.72290  </td></tr>\n",
       "\t<tr><th scope=row>Pp3c1_60V3.1</th><td>1.538045e+02</td><td>1.715704e+02</td><td> 178.93846  </td><td> 204.5731   </td><td>148.1856    </td><td> 0.00000    </td><td>16.96552    </td><td> 0.000000   </td><td> 35.35800   </td><td> 25.26766   </td><td>⋯           </td><td>  36.85137  </td><td>  44.77060  </td><td> 190.4426   </td><td>  34.36286  </td><td> 128.21920  </td><td>1.631078e-02</td><td>  19.90409  </td><td>2.898612e-03</td><td>  69.49835  </td><td>  77.22188  </td></tr>\n",
       "</tbody>\n",
       "</table>\n"
      ],
      "text/latex": [
       "\\begin{tabular}{r|lllllllllllllllllllllllllllllllllllllllllllllllllllllllllllllllllllllllllllllllllllllllllllllllllllllllllllllllllllllllllllllllllllllllllllllllllllllllllllllllllllllllllllllllllllllllllllllllllllllllllllllllllllllllllllllllllllllllllllllllllllllllllllllllllllllllllllllllllllllllllllllllllllllllllllllllllllllllllllllllllllllllllllllllllllllllllllllllllllllllllllllllllllll}\n",
       "\tPp3c1\\_20V3.1 & 3.660000e+02 & 4.650000e+02 &  586.00000   &  402.0000    & 632.0000     & 39.00000     & 29.00000     & 16.000000    & 117.00000    &  78.00000    & ⋯            &  671.00000   &  485.00000   &  687.0000    &  791.00000   &  677.00000   & 5.640000e+02 &  692.00000   & 6.090000e+02 &  747.00000   &  999.00000  \\\\\n",
       "\tPp3c1\\_40V3.2 & 8.476866e+02 & 1.381674e+03 & 1066.45214   & 1071.8183    & 777.7214     & 39.01141     & 62.78523     & 25.577433    & 170.47007    & 105.75214    & ⋯            & 2107.43791   & 1475.19079   & 2355.8119    & 2500.80916   & 1969.80309   & 1.796082e+03 & 2044.28578   & 1.856930e+03 & 2146.42493   & 2901.55653  \\\\\n",
       "\tPp3c1\\_40V3.1 & 3.953072e+02 & 5.397224e+02 &  421.06565   &  488.4427    & 355.2439     & 23.94464     & 15.72057     & 10.401908    &  40.49952    &  20.98138    & ⋯            &  117.90018   &   50.01938   &  184.0701    &  137.54605   &   94.54942   & 6.958301e+01 &   69.93929   & 1.586308e+02 &  234.57971   &  253.41826  \\\\\n",
       "\tPp3c1\\_60V3.9 & 0.000000e+00 & 0.000000e+00 &   47.33513   &    0.0000    &  30.2338     &  0.00000     & 24.33509     &  0.000000    &  25.52430    &  84.73234    & ⋯            &  234.37061   &   80.62298   &   88.8029    &  313.98945   &  251.71723   & 2.936190e+02 &  375.58716   & 1.720344e+02 &  130.45105   &  192.53078  \\\\\n",
       "\tPp3c1\\_60V3.6 & 6.506609e-03 & 9.549311e-02 &    0.00000   &    0.0000    &   0.0000     &  0.00000     &  0.00000     &  7.852298    &  13.94017    &   0.00000    & ⋯            &  298.43651   &  317.97430   &  321.1931    &  164.10414   &  342.22705   & 9.718231e-03 &  223.47317   & 2.918890e+02 &  387.14652   &  230.72290  \\\\\n",
       "\tPp3c1\\_60V3.1 & 1.538045e+02 & 1.715704e+02 &  178.93846   &  204.5731    & 148.1856     &  0.00000     & 16.96552     &  0.000000    &  35.35800    &  25.26766    & ⋯            &   36.85137   &   44.77060   &  190.4426    &   34.36286   &  128.21920   & 1.631078e-02 &   19.90409   & 2.898612e-03 &   69.49835   &   77.22188  \\\\\n",
       "\\end{tabular}\n"
      ],
      "text/markdown": [
       "\n",
       "| Pp3c1_20V3.1 | 3.660000e+02 | 4.650000e+02 |  586.00000   |  402.0000    | 632.0000     | 39.00000     | 29.00000     | 16.000000    | 117.00000    |  78.00000    | ⋯            |  671.00000   |  485.00000   |  687.0000    |  791.00000   |  677.00000   | 5.640000e+02 |  692.00000   | 6.090000e+02 |  747.00000   |  999.00000   | \n",
       "| Pp3c1_40V3.2 | 8.476866e+02 | 1.381674e+03 | 1066.45214   | 1071.8183    | 777.7214     | 39.01141     | 62.78523     | 25.577433    | 170.47007    | 105.75214    | ⋯            | 2107.43791   | 1475.19079   | 2355.8119    | 2500.80916   | 1969.80309   | 1.796082e+03 | 2044.28578   | 1.856930e+03 | 2146.42493   | 2901.55653   | \n",
       "| Pp3c1_40V3.1 | 3.953072e+02 | 5.397224e+02 |  421.06565   |  488.4427    | 355.2439     | 23.94464     | 15.72057     | 10.401908    |  40.49952    |  20.98138    | ⋯            |  117.90018   |   50.01938   |  184.0701    |  137.54605   |   94.54942   | 6.958301e+01 |   69.93929   | 1.586308e+02 |  234.57971   |  253.41826   | \n",
       "| Pp3c1_60V3.9 | 0.000000e+00 | 0.000000e+00 |   47.33513   |    0.0000    |  30.2338     |  0.00000     | 24.33509     |  0.000000    |  25.52430    |  84.73234    | ⋯            |  234.37061   |   80.62298   |   88.8029    |  313.98945   |  251.71723   | 2.936190e+02 |  375.58716   | 1.720344e+02 |  130.45105   |  192.53078   | \n",
       "| Pp3c1_60V3.6 | 6.506609e-03 | 9.549311e-02 |    0.00000   |    0.0000    |   0.0000     |  0.00000     |  0.00000     |  7.852298    |  13.94017    |   0.00000    | ⋯            |  298.43651   |  317.97430   |  321.1931    |  164.10414   |  342.22705   | 9.718231e-03 |  223.47317   | 2.918890e+02 |  387.14652   |  230.72290   | \n",
       "| Pp3c1_60V3.1 | 1.538045e+02 | 1.715704e+02 |  178.93846   |  204.5731    | 148.1856     |  0.00000     | 16.96552     |  0.000000    |  35.35800    |  25.26766    | ⋯            |   36.85137   |   44.77060   |  190.4426    |   34.36286   |  128.21920   | 1.631078e-02 |   19.90409   | 2.898612e-03 |   69.49835   |   77.22188   | \n",
       "\n",
       "\n"
      ],
      "text/plain": [
       "             [,1]         [,2]         [,3]       [,4]      [,5]     [,6]    \n",
       "Pp3c1_20V3.1 3.660000e+02 4.650000e+02  586.00000  402.0000 632.0000 39.00000\n",
       "Pp3c1_40V3.2 8.476866e+02 1.381674e+03 1066.45214 1071.8183 777.7214 39.01141\n",
       "Pp3c1_40V3.1 3.953072e+02 5.397224e+02  421.06565  488.4427 355.2439 23.94464\n",
       "Pp3c1_60V3.9 0.000000e+00 0.000000e+00   47.33513    0.0000  30.2338  0.00000\n",
       "Pp3c1_60V3.6 6.506609e-03 9.549311e-02    0.00000    0.0000   0.0000  0.00000\n",
       "Pp3c1_60V3.1 1.538045e+02 1.715704e+02  178.93846  204.5731 148.1856  0.00000\n",
       "             [,7]     [,8]      [,9]      [,10]     [,11] [,12]      [,13]     \n",
       "Pp3c1_20V3.1 29.00000 16.000000 117.00000  78.00000 ⋯      671.00000  485.00000\n",
       "Pp3c1_40V3.2 62.78523 25.577433 170.47007 105.75214 ⋯     2107.43791 1475.19079\n",
       "Pp3c1_40V3.1 15.72057 10.401908  40.49952  20.98138 ⋯      117.90018   50.01938\n",
       "Pp3c1_60V3.9 24.33509  0.000000  25.52430  84.73234 ⋯      234.37061   80.62298\n",
       "Pp3c1_60V3.6  0.00000  7.852298  13.94017   0.00000 ⋯      298.43651  317.97430\n",
       "Pp3c1_60V3.1 16.96552  0.000000  35.35800  25.26766 ⋯       36.85137   44.77060\n",
       "             [,14]     [,15]      [,16]      [,17]        [,18]     \n",
       "Pp3c1_20V3.1  687.0000  791.00000  677.00000 5.640000e+02  692.00000\n",
       "Pp3c1_40V3.2 2355.8119 2500.80916 1969.80309 1.796082e+03 2044.28578\n",
       "Pp3c1_40V3.1  184.0701  137.54605   94.54942 6.958301e+01   69.93929\n",
       "Pp3c1_60V3.9   88.8029  313.98945  251.71723 2.936190e+02  375.58716\n",
       "Pp3c1_60V3.6  321.1931  164.10414  342.22705 9.718231e-03  223.47317\n",
       "Pp3c1_60V3.1  190.4426   34.36286  128.21920 1.631078e-02   19.90409\n",
       "             [,19]        [,20]      [,21]     \n",
       "Pp3c1_20V3.1 6.090000e+02  747.00000  999.00000\n",
       "Pp3c1_40V3.2 1.856930e+03 2146.42493 2901.55653\n",
       "Pp3c1_40V3.1 1.586308e+02  234.57971  253.41826\n",
       "Pp3c1_60V3.9 1.720344e+02  130.45105  192.53078\n",
       "Pp3c1_60V3.6 2.918890e+02  387.14652  230.72290\n",
       "Pp3c1_60V3.1 2.898612e-03   69.49835   77.22188"
      ]
     },
     "metadata": {},
     "output_type": "display_data"
    }
   ],
   "source": [
    "txi = tximport(files, type = \"kallisto\", txOut = TRUE)\n",
    "head(txi$counts)"
   ]
  },
  {
   "cell_type": "code",
   "execution_count": 25,
   "metadata": {},
   "outputs": [
    {
     "name": "stderr",
     "output_type": "stream",
     "text": [
      "transcripts missing from tx2gene: 2\n",
      "summarizing abundance\n",
      "summarizing counts\n",
      "summarizing length\n"
     ]
    }
   ],
   "source": [
    "gxi=summarizeToGene(txi,tx2gene)"
   ]
  },
  {
   "cell_type": "code",
   "execution_count": 26,
   "metadata": {},
   "outputs": [
    {
     "data": {
      "text/html": [
       "<table>\n",
       "<tbody>\n",
       "\t<tr><th scope=row>Pp3c1_100.mRNA</th><td>1176     </td><td>1151     </td><td>2641     </td><td> 726     </td><td>1591     </td><td> 56      </td><td> 50      </td><td> 29      </td><td>173      </td><td>121      </td><td>⋯        </td><td>3079     </td><td> 942     </td><td>4442     </td><td>3229     </td><td>1457     </td><td>6342     </td><td>4073     </td><td> 893     </td><td>4745     </td><td>2878.0000</td></tr>\n",
       "\t<tr><th scope=row>Pp3c1_1000.mRNA</th><td> 173     </td><td> 273     </td><td> 545     </td><td> 195     </td><td> 823     </td><td>182      </td><td>171      </td><td> 83      </td><td>317      </td><td>245      </td><td>⋯        </td><td> 774     </td><td> 601     </td><td> 612     </td><td> 718     </td><td> 817     </td><td> 920     </td><td>1004     </td><td> 465     </td><td> 446     </td><td> 684.0000</td></tr>\n",
       "\t<tr><th scope=row>Pp3c1_10000.mRNA</th><td>1742     </td><td>1708     </td><td>1272     </td><td>1269     </td><td>1078     </td><td>207      </td><td>139      </td><td>128      </td><td>320      </td><td>342      </td><td>⋯        </td><td>1799     </td><td>1928     </td><td>1415     </td><td>2488     </td><td>1952     </td><td>1504     </td><td>2407     </td><td>2405     </td><td>1421     </td><td>2387.0000</td></tr>\n",
       "\t<tr><th scope=row>Pp3c1_10010.mRNA</th><td> 176     </td><td> 221     </td><td> 353     </td><td> 160     </td><td> 663     </td><td>163      </td><td>197      </td><td>100      </td><td>421      </td><td>267      </td><td>⋯        </td><td> 941     </td><td> 600     </td><td> 849     </td><td> 890     </td><td> 850     </td><td> 851     </td><td> 996     </td><td> 526     </td><td> 805     </td><td> 956.0072</td></tr>\n",
       "\t<tr><th scope=row>Pp3c1_10020.seryl_tRNA</th><td>   0     </td><td>   0     </td><td>   0     </td><td>   0     </td><td>   0     </td><td>  0      </td><td>  0      </td><td>  0      </td><td>  0      </td><td>  0      </td><td>⋯        </td><td>   0     </td><td>   0     </td><td>   0     </td><td>   0     </td><td>   0     </td><td>   0     </td><td>   0     </td><td>   0     </td><td>   0     </td><td>   0.0000</td></tr>\n",
       "\t<tr><th scope=row>Pp3c1_10040.mRNA</th><td> 405     </td><td> 734     </td><td> 824     </td><td> 590     </td><td> 856     </td><td>114      </td><td>119      </td><td> 56      </td><td>224      </td><td>181      </td><td>⋯        </td><td> 709     </td><td> 681     </td><td> 787     </td><td> 783     </td><td>1015     </td><td> 851     </td><td> 855     </td><td> 567     </td><td> 634     </td><td> 748.0000</td></tr>\n",
       "</tbody>\n",
       "</table>\n"
      ],
      "text/latex": [
       "\\begin{tabular}{r|lllllllllllllllllllllllllllllllllllllllllllllllllllllllllllllllllllllllllllllllllllllllllllllllllllllllllllllllllllllllllllllllllllllllllllllllllllllllllllllllllllllllllllllllllllllllllllllllllllllllllllllllllllllllllllllllllllllllllllllllllllllllllllllllllllllllllllllllllllllllllllllllllllllllllllllllllllllllllllllllllllllllllllllllllllllllllllllllllllllllllllllllllllll}\n",
       "\tPp3c1\\_100.mRNA & 1176      & 1151      & 2641      &  726      & 1591      &  56       &  50       &  29       & 173       & 121       & ⋯         & 3079      &  942      & 4442      & 3229      & 1457      & 6342      & 4073      &  893      & 4745      & 2878.0000\\\\\n",
       "\tPp3c1\\_1000.mRNA &  173      &  273      &  545      &  195      &  823      & 182       & 171       &  83       & 317       & 245       & ⋯         &  774      &  601      &  612      &  718      &  817      &  920      & 1004      &  465      &  446      &  684.0000\\\\\n",
       "\tPp3c1\\_10000.mRNA & 1742      & 1708      & 1272      & 1269      & 1078      & 207       & 139       & 128       & 320       & 342       & ⋯         & 1799      & 1928      & 1415      & 2488      & 1952      & 1504      & 2407      & 2405      & 1421      & 2387.0000\\\\\n",
       "\tPp3c1\\_10010.mRNA &  176      &  221      &  353      &  160      &  663      & 163       & 197       & 100       & 421       & 267       & ⋯         &  941      &  600      &  849      &  890      &  850      &  851      &  996      &  526      &  805      &  956.0072\\\\\n",
       "\tPp3c1\\_10020.seryl\\_tRNA &    0      &    0      &    0      &    0      &    0      &   0       &   0       &   0       &   0       &   0       & ⋯         &    0      &    0      &    0      &    0      &    0      &    0      &    0      &    0      &    0      &    0.0000\\\\\n",
       "\tPp3c1\\_10040.mRNA &  405      &  734      &  824      &  590      &  856      & 114       & 119       &  56       & 224       & 181       & ⋯         &  709      &  681      &  787      &  783      & 1015      &  851      &  855      &  567      &  634      &  748.0000\\\\\n",
       "\\end{tabular}\n"
      ],
      "text/markdown": [
       "\n",
       "| Pp3c1_100.mRNA | 1176      | 1151      | 2641      |  726      | 1591      |  56       |  50       |  29       | 173       | 121       | ⋯         | 3079      |  942      | 4442      | 3229      | 1457      | 6342      | 4073      |  893      | 4745      | 2878.0000 | \n",
       "| Pp3c1_1000.mRNA |  173      |  273      |  545      |  195      |  823      | 182       | 171       |  83       | 317       | 245       | ⋯         |  774      |  601      |  612      |  718      |  817      |  920      | 1004      |  465      |  446      |  684.0000 | \n",
       "| Pp3c1_10000.mRNA | 1742      | 1708      | 1272      | 1269      | 1078      | 207       | 139       | 128       | 320       | 342       | ⋯         | 1799      | 1928      | 1415      | 2488      | 1952      | 1504      | 2407      | 2405      | 1421      | 2387.0000 | \n",
       "| Pp3c1_10010.mRNA |  176      |  221      |  353      |  160      |  663      | 163       | 197       | 100       | 421       | 267       | ⋯         |  941      |  600      |  849      |  890      |  850      |  851      |  996      |  526      |  805      |  956.0072 | \n",
       "| Pp3c1_10020.seryl_tRNA |    0      |    0      |    0      |    0      |    0      |   0       |   0       |   0       |   0       |   0       | ⋯         |    0      |    0      |    0      |    0      |    0      |    0      |    0      |    0      |    0      |    0.0000 | \n",
       "| Pp3c1_10040.mRNA |  405      |  734      |  824      |  590      |  856      | 114       | 119       |  56       | 224       | 181       | ⋯         |  709      |  681      |  787      |  783      | 1015      |  851      |  855      |  567      |  634      |  748.0000 | \n",
       "\n",
       "\n"
      ],
      "text/plain": [
       "                       [,1] [,2] [,3] [,4] [,5] [,6] [,7] [,8] [,9] [,10] [,11]\n",
       "Pp3c1_100.mRNA         1176 1151 2641  726 1591  56   50   29  173  121   ⋯    \n",
       "Pp3c1_1000.mRNA         173  273  545  195  823 182  171   83  317  245   ⋯    \n",
       "Pp3c1_10000.mRNA       1742 1708 1272 1269 1078 207  139  128  320  342   ⋯    \n",
       "Pp3c1_10010.mRNA        176  221  353  160  663 163  197  100  421  267   ⋯    \n",
       "Pp3c1_10020.seryl_tRNA    0    0    0    0    0   0    0    0    0    0   ⋯    \n",
       "Pp3c1_10040.mRNA        405  734  824  590  856 114  119   56  224  181   ⋯    \n",
       "                       [,12] [,13] [,14] [,15] [,16] [,17] [,18] [,19] [,20]\n",
       "Pp3c1_100.mRNA         3079   942  4442  3229  1457  6342  4073   893  4745 \n",
       "Pp3c1_1000.mRNA         774   601   612   718   817   920  1004   465   446 \n",
       "Pp3c1_10000.mRNA       1799  1928  1415  2488  1952  1504  2407  2405  1421 \n",
       "Pp3c1_10010.mRNA        941   600   849   890   850   851   996   526   805 \n",
       "Pp3c1_10020.seryl_tRNA    0     0     0     0     0     0     0     0     0 \n",
       "Pp3c1_10040.mRNA        709   681   787   783  1015   851   855   567   634 \n",
       "                       [,21]    \n",
       "Pp3c1_100.mRNA         2878.0000\n",
       "Pp3c1_1000.mRNA         684.0000\n",
       "Pp3c1_10000.mRNA       2387.0000\n",
       "Pp3c1_10010.mRNA        956.0072\n",
       "Pp3c1_10020.seryl_tRNA    0.0000\n",
       "Pp3c1_10040.mRNA        748.0000"
      ]
     },
     "metadata": {},
     "output_type": "display_data"
    },
    {
     "data": {
      "text/html": [
       "<ol class=list-inline>\n",
       "\t<li>37359</li>\n",
       "\t<li>373</li>\n",
       "</ol>\n"
      ],
      "text/latex": [
       "\\begin{enumerate*}\n",
       "\\item 37359\n",
       "\\item 373\n",
       "\\end{enumerate*}\n"
      ],
      "text/markdown": [
       "1. 37359\n",
       "2. 373\n",
       "\n",
       "\n"
      ],
      "text/plain": [
       "[1] 37359   373"
      ]
     },
     "metadata": {},
     "output_type": "display_data"
    }
   ],
   "source": [
    "head(gxi$counts)\n",
    "dim(gxi$counts)"
   ]
  },
  {
   "cell_type": "code",
   "execution_count": 27,
   "metadata": {},
   "outputs": [
    {
     "data": {
      "text/html": [
       "<table>\n",
       "<tbody>\n",
       "\t<tr><th scope=row>Pp3c1_20V3.1</th><td>1.280956e+01</td><td>11.243974071</td><td>16.7566488  </td><td>11.208454   </td><td>17.4967086  </td><td> 9.784241   </td><td> 5.501916   </td><td> 5.398652   </td><td>11.3277470  </td><td>5.869814    </td><td>⋯           </td><td>12.4842594  </td><td> 8.4542476  </td><td>13.026703   </td><td>14.2219895  </td><td>11.671432   </td><td>9.902248e+00</td><td>13.6526351  </td><td>1.365712e+01</td><td>14.301298   </td><td>14.5267598  </td></tr>\n",
       "\t<tr><th scope=row>Pp3c1_40V3.2</th><td>2.126995e+01</td><td>23.969079370</td><td>21.8837563  </td><td>21.463815   </td><td>15.4681660  </td><td> 6.945636   </td><td> 8.500405   </td><td> 6.134563   </td><td>11.7856209  </td><td>5.687575    </td><td>⋯           </td><td>28.0433462  </td><td>18.3782187  </td><td>31.949687   </td><td>32.1479821  </td><td>24.269382   </td><td>2.256070e+01</td><td>28.8440835  </td><td>2.976222e+01</td><td>29.451932   </td><td>30.1691828  </td></tr>\n",
       "\t<tr><th scope=row>Pp3c1_40V3.1</th><td>4.624770e+01</td><td>43.376899995</td><td>39.9336604  </td><td>44.850536   </td><td>32.3229528  </td><td>21.937797   </td><td>10.368235   </td><td>12.630693   </td><td>13.5553353  </td><td>5.419649    </td><td>⋯           </td><td> 7.4815001  </td><td> 2.9920035  </td><td>11.900944   </td><td> 8.4586166  </td><td> 5.595884   </td><td>4.155611e+00</td><td> 4.7089042  </td><td>1.220585e+01</td><td>15.050973   </td><td>12.5941678  </td></tr>\n",
       "\t<tr><th scope=row>Pp3c1_60V3.9</th><td>0.000000e+00</td><td> 0.000000000</td><td> 0.9203594  </td><td> 0.000000   </td><td> 0.5698565  </td><td> 0.000000   </td><td> 3.119509   </td><td> 0.000000   </td><td> 1.6709619  </td><td>4.315623    </td><td>⋯           </td><td> 2.9537778  </td><td> 0.9512007  </td><td> 1.140656   </td><td> 3.8226851  </td><td> 2.937001   </td><td>3.493239e+00</td><td> 5.0190498  </td><td>2.611223e+00</td><td> 1.695767   </td><td> 1.8959124  </td></tr>\n",
       "\t<tr><th scope=row>Pp3c1_60V3.6</th><td>1.472033e-04</td><td> 0.001493909</td><td> 0.0000000  </td><td> 0.000000   </td><td> 0.0000000  </td><td> 0.000000   </td><td> 0.000000   </td><td> 1.694471   </td><td> 0.8681079  </td><td>0.000000    </td><td>⋯           </td><td> 3.5784841  </td><td> 3.5689601  </td><td> 3.925253   </td><td> 1.9007661  </td><td> 3.798738   </td><td>1.100068e-04</td><td> 2.8412220  </td><td>4.214863e+00</td><td> 4.789294   </td><td> 2.1615690  </td></tr>\n",
       "\t<tr><th scope=row>Pp3c1_60V3.1</th><td>4.269612e+00</td><td> 3.292268622</td><td> 4.0612645  </td><td> 4.530125   </td><td> 3.2588716  </td><td> 0.000000   </td><td> 2.544361   </td><td> 0.000000   </td><td> 2.7073600  </td><td>1.504735    </td><td>⋯           </td><td> 0.5428724  </td><td> 0.6175914  </td><td> 2.859272   </td><td> 0.4890696  </td><td> 1.749234   </td><td>2.267949e-04</td><td> 0.3109099  </td><td>5.144123e-05</td><td> 1.055109   </td><td> 0.8889356  </td></tr>\n",
       "</tbody>\n",
       "</table>\n"
      ],
      "text/latex": [
       "\\begin{tabular}{r|lllllllllllllllllllllllllllllllllllllllllllllllllllllllllllllllllllllllllllllllllllllllllllllllllllllllllllllllllllllllllllllllllllllllllllllllllllllllllllllllllllllllllllllllllllllllllllllllllllllllllllllllllllllllllllllllllllllllllllllllllllllllllllllllllllllllllllllllllllllllllllllllllllllllllllllllllllllllllllllllllllllllllllllllllllllllllllllllllllllllllllllllllllll}\n",
       "\tPp3c1\\_20V3.1 & 1.280956e+01 & 11.243974071 & 16.7566488   & 11.208454    & 17.4967086   &  9.784241    &  5.501916    &  5.398652    & 11.3277470   & 5.869814     & ⋯            & 12.4842594   &  8.4542476   & 13.026703    & 14.2219895   & 11.671432    & 9.902248e+00 & 13.6526351   & 1.365712e+01 & 14.301298    & 14.5267598  \\\\\n",
       "\tPp3c1\\_40V3.2 & 2.126995e+01 & 23.969079370 & 21.8837563   & 21.463815    & 15.4681660   &  6.945636    &  8.500405    &  6.134563    & 11.7856209   & 5.687575     & ⋯            & 28.0433462   & 18.3782187   & 31.949687    & 32.1479821   & 24.269382    & 2.256070e+01 & 28.8440835   & 2.976222e+01 & 29.451932    & 30.1691828  \\\\\n",
       "\tPp3c1\\_40V3.1 & 4.624770e+01 & 43.376899995 & 39.9336604   & 44.850536    & 32.3229528   & 21.937797    & 10.368235    & 12.630693    & 13.5553353   & 5.419649     & ⋯            &  7.4815001   &  2.9920035   & 11.900944    &  8.4586166   &  5.595884    & 4.155611e+00 &  4.7089042   & 1.220585e+01 & 15.050973    & 12.5941678  \\\\\n",
       "\tPp3c1\\_60V3.9 & 0.000000e+00 &  0.000000000 &  0.9203594   &  0.000000    &  0.5698565   &  0.000000    &  3.119509    &  0.000000    &  1.6709619   & 4.315623     & ⋯            &  2.9537778   &  0.9512007   &  1.140656    &  3.8226851   &  2.937001    & 3.493239e+00 &  5.0190498   & 2.611223e+00 &  1.695767    &  1.8959124  \\\\\n",
       "\tPp3c1\\_60V3.6 & 1.472033e-04 &  0.001493909 &  0.0000000   &  0.000000    &  0.0000000   &  0.000000    &  0.000000    &  1.694471    &  0.8681079   & 0.000000     & ⋯            &  3.5784841   &  3.5689601   &  3.925253    &  1.9007661   &  3.798738    & 1.100068e-04 &  2.8412220   & 4.214863e+00 &  4.789294    &  2.1615690  \\\\\n",
       "\tPp3c1\\_60V3.1 & 4.269612e+00 &  3.292268622 &  4.0612645   &  4.530125    &  3.2588716   &  0.000000    &  2.544361    &  0.000000    &  2.7073600   & 1.504735     & ⋯            &  0.5428724   &  0.6175914   &  2.859272    &  0.4890696   &  1.749234    & 2.267949e-04 &  0.3109099   & 5.144123e-05 &  1.055109    &  0.8889356  \\\\\n",
       "\\end{tabular}\n"
      ],
      "text/markdown": [
       "\n",
       "| Pp3c1_20V3.1 | 1.280956e+01 | 11.243974071 | 16.7566488   | 11.208454    | 17.4967086   |  9.784241    |  5.501916    |  5.398652    | 11.3277470   | 5.869814     | ⋯            | 12.4842594   |  8.4542476   | 13.026703    | 14.2219895   | 11.671432    | 9.902248e+00 | 13.6526351   | 1.365712e+01 | 14.301298    | 14.5267598   | \n",
       "| Pp3c1_40V3.2 | 2.126995e+01 | 23.969079370 | 21.8837563   | 21.463815    | 15.4681660   |  6.945636    |  8.500405    |  6.134563    | 11.7856209   | 5.687575     | ⋯            | 28.0433462   | 18.3782187   | 31.949687    | 32.1479821   | 24.269382    | 2.256070e+01 | 28.8440835   | 2.976222e+01 | 29.451932    | 30.1691828   | \n",
       "| Pp3c1_40V3.1 | 4.624770e+01 | 43.376899995 | 39.9336604   | 44.850536    | 32.3229528   | 21.937797    | 10.368235    | 12.630693    | 13.5553353   | 5.419649     | ⋯            |  7.4815001   |  2.9920035   | 11.900944    |  8.4586166   |  5.595884    | 4.155611e+00 |  4.7089042   | 1.220585e+01 | 15.050973    | 12.5941678   | \n",
       "| Pp3c1_60V3.9 | 0.000000e+00 |  0.000000000 |  0.9203594   |  0.000000    |  0.5698565   |  0.000000    |  3.119509    |  0.000000    |  1.6709619   | 4.315623     | ⋯            |  2.9537778   |  0.9512007   |  1.140656    |  3.8226851   |  2.937001    | 3.493239e+00 |  5.0190498   | 2.611223e+00 |  1.695767    |  1.8959124   | \n",
       "| Pp3c1_60V3.6 | 1.472033e-04 |  0.001493909 |  0.0000000   |  0.000000    |  0.0000000   |  0.000000    |  0.000000    |  1.694471    |  0.8681079   | 0.000000     | ⋯            |  3.5784841   |  3.5689601   |  3.925253    |  1.9007661   |  3.798738    | 1.100068e-04 |  2.8412220   | 4.214863e+00 |  4.789294    |  2.1615690   | \n",
       "| Pp3c1_60V3.1 | 4.269612e+00 |  3.292268622 |  4.0612645   |  4.530125    |  3.2588716   |  0.000000    |  2.544361    |  0.000000    |  2.7073600   | 1.504735     | ⋯            |  0.5428724   |  0.6175914   |  2.859272    |  0.4890696   |  1.749234    | 2.267949e-04 |  0.3109099   | 5.144123e-05 |  1.055109    |  0.8889356   | \n",
       "\n",
       "\n"
      ],
      "text/plain": [
       "             [,1]         [,2]         [,3]       [,4]      [,5]      \n",
       "Pp3c1_20V3.1 1.280956e+01 11.243974071 16.7566488 11.208454 17.4967086\n",
       "Pp3c1_40V3.2 2.126995e+01 23.969079370 21.8837563 21.463815 15.4681660\n",
       "Pp3c1_40V3.1 4.624770e+01 43.376899995 39.9336604 44.850536 32.3229528\n",
       "Pp3c1_60V3.9 0.000000e+00  0.000000000  0.9203594  0.000000  0.5698565\n",
       "Pp3c1_60V3.6 1.472033e-04  0.001493909  0.0000000  0.000000  0.0000000\n",
       "Pp3c1_60V3.1 4.269612e+00  3.292268622  4.0612645  4.530125  3.2588716\n",
       "             [,6]      [,7]      [,8]      [,9]       [,10]    [,11] [,12]     \n",
       "Pp3c1_20V3.1  9.784241  5.501916  5.398652 11.3277470 5.869814 ⋯     12.4842594\n",
       "Pp3c1_40V3.2  6.945636  8.500405  6.134563 11.7856209 5.687575 ⋯     28.0433462\n",
       "Pp3c1_40V3.1 21.937797 10.368235 12.630693 13.5553353 5.419649 ⋯      7.4815001\n",
       "Pp3c1_60V3.9  0.000000  3.119509  0.000000  1.6709619 4.315623 ⋯      2.9537778\n",
       "Pp3c1_60V3.6  0.000000  0.000000  1.694471  0.8681079 0.000000 ⋯      3.5784841\n",
       "Pp3c1_60V3.1  0.000000  2.544361  0.000000  2.7073600 1.504735 ⋯      0.5428724\n",
       "             [,13]      [,14]     [,15]      [,16]     [,17]        [,18]     \n",
       "Pp3c1_20V3.1  8.4542476 13.026703 14.2219895 11.671432 9.902248e+00 13.6526351\n",
       "Pp3c1_40V3.2 18.3782187 31.949687 32.1479821 24.269382 2.256070e+01 28.8440835\n",
       "Pp3c1_40V3.1  2.9920035 11.900944  8.4586166  5.595884 4.155611e+00  4.7089042\n",
       "Pp3c1_60V3.9  0.9512007  1.140656  3.8226851  2.937001 3.493239e+00  5.0190498\n",
       "Pp3c1_60V3.6  3.5689601  3.925253  1.9007661  3.798738 1.100068e-04  2.8412220\n",
       "Pp3c1_60V3.1  0.6175914  2.859272  0.4890696  1.749234 2.267949e-04  0.3109099\n",
       "             [,19]        [,20]     [,21]     \n",
       "Pp3c1_20V3.1 1.365712e+01 14.301298 14.5267598\n",
       "Pp3c1_40V3.2 2.976222e+01 29.451932 30.1691828\n",
       "Pp3c1_40V3.1 1.220585e+01 15.050973 12.5941678\n",
       "Pp3c1_60V3.9 2.611223e+00  1.695767  1.8959124\n",
       "Pp3c1_60V3.6 4.214863e+00  4.789294  2.1615690\n",
       "Pp3c1_60V3.1 5.144123e-05  1.055109  0.8889356"
      ]
     },
     "metadata": {},
     "output_type": "display_data"
    }
   ],
   "source": [
    "head(txi$abundance)"
   ]
  },
  {
   "cell_type": "code",
   "execution_count": 49,
   "metadata": {},
   "outputs": [
    {
     "name": "stderr",
     "output_type": "stream",
     "text": [
      "using counts and average transcript lengths from tximport\n"
     ]
    }
   ],
   "source": [
    "dds=DESeqDataSetFromTximport(gxi,m, ~sample)"
   ]
  },
  {
   "cell_type": "code",
   "execution_count": 50,
   "metadata": {},
   "outputs": [
    {
     "data": {
      "text/plain": [
       "DataFrame with 373 rows and 4 columns\n",
       "            run       sample experiment       study\n",
       "    <character>     <factor>   <factor>    <factor>\n",
       "1     SRR787291 SAMN01942529  SRX252526 PRJNA192876\n",
       "2     SRR787292 SAMN01942529  SRX252526 PRJNA192876\n",
       "3     SRR787293 SAMN01942529  SRX252526 PRJNA192876\n",
       "4     SRR787294 SAMN01942529  SRX252526 PRJNA192876\n",
       "5     SRR787295 SAMN01942529  SRX252526 PRJNA192876\n",
       "...         ...          ...        ...         ...\n",
       "369   70-LG14-2    70.LG14.2        LG3      PpDEK1\n",
       "370   71-LG14-3    71.LG14.3        LG3      PpDEK1\n",
       "371     72-1-14      72.1.14         OE      PpDEK1\n",
       "372   73-1-14-2    73.1.14.2         OE      PpDEK1\n",
       "373   74-1-14-3    74.1.14.3         OE      PpDEK1"
      ]
     },
     "metadata": {},
     "output_type": "display_data"
    }
   ],
   "source": [
    "colData(dds)"
   ]
  },
  {
   "cell_type": "code",
   "execution_count": 51,
   "metadata": {},
   "outputs": [
    {
     "name": "stderr",
     "output_type": "stream",
     "text": [
      "using 'avgTxLength' from assays(dds), correcting for library size\n"
     ]
    },
    {
     "data": {
      "text/plain": [
       "class: DESeqDataSet \n",
       "dim: 37359 373 \n",
       "metadata(1): version\n",
       "assays(3): counts avgTxLength normalizationFactors\n",
       "rownames(37359): Pp3c1_100.mRNA Pp3c1_1000.mRNA ... Pp3s997_10.mRNA\n",
       "  Pp3s998_10.ncRNA\n",
       "rowData names(0):\n",
       "colnames: NULL\n",
       "colData names(4): run sample experiment study"
      ]
     },
     "metadata": {},
     "output_type": "display_data"
    }
   ],
   "source": [
    "estimateSizeFactors(dds)"
   ]
  },
  {
   "cell_type": "code",
   "execution_count": 32,
   "metadata": {},
   "outputs": [
    {
     "name": "stderr",
     "output_type": "stream",
     "text": [
      "using 'avgTxLength' from assays(dds), correcting for library size\n"
     ]
    }
   ],
   "source": [
    "vsd=vst(dds, blind=FALSE)"
   ]
  },
  {
   "cell_type": "code",
   "execution_count": 33,
   "metadata": {},
   "outputs": [
    {
     "data": {
      "text/html": [
       "<table>\n",
       "<thead><tr><th></th><th scope=col>1</th><th scope=col>2</th><th scope=col>3</th><th scope=col>4</th><th scope=col>5</th><th scope=col>6</th><th scope=col>7</th><th scope=col>8</th><th scope=col>9</th><th scope=col>10</th><th scope=col>⋯</th><th scope=col>364</th><th scope=col>365</th><th scope=col>366</th><th scope=col>367</th><th scope=col>368</th><th scope=col>369</th><th scope=col>370</th><th scope=col>371</th><th scope=col>372</th><th scope=col>373</th></tr></thead>\n",
       "<tbody>\n",
       "\t<tr><th scope=row>Pp3c1_100.mRNA</th><td> 9.862156</td><td>9.351662 </td><td>10.623834</td><td>8.916050 </td><td>9.964518 </td><td> 8.777317</td><td> 8.434408</td><td> 8.490788</td><td>8.997075 </td><td>8.532412 </td><td>⋯        </td><td>10.256458</td><td>8.946873 </td><td>10.769640</td><td>10.293939</td><td>9.185842 </td><td>11.330099</td><td>10.749067</td><td> 8.716056</td><td>10.795856</td><td>9.818899 </td></tr>\n",
       "\t<tr><th scope=row>Pp3c1_1000.mRNA</th><td> 7.381567</td><td>7.559691 </td><td> 8.580751</td><td>7.305779 </td><td>9.089045 </td><td>10.578629</td><td>10.377033</td><td>10.091441</td><td>9.826457 </td><td>9.419218 </td><td>⋯        </td><td> 8.284943</td><td>8.206360 </td><td> 8.019149</td><td> 8.240060</td><td>8.342942 </td><td> 8.548026</td><td> 8.676593</td><td> 7.724645</td><td> 7.632214</td><td>7.874430 </td></tr>\n",
       "\t<tr><th scope=row>Pp3c1_10000.mRNA</th><td>10.427010</td><td>9.913541 </td><td> 9.623924</td><td>9.697720 </td><td>9.450088 </td><td>10.555744</td><td> 9.812155</td><td>10.504621</td><td>9.839770 </td><td>9.944695 </td><td>⋯        </td><td> 9.518657</td><td>9.931283 </td><td> 9.188891</td><td> 9.936725</td><td>9.590335 </td><td> 9.326010</td><td>10.018545</td><td>10.072072</td><td> 9.137332</td><td>9.567608 </td></tr>\n",
       "</tbody>\n",
       "</table>\n"
      ],
      "text/latex": [
       "\\begin{tabular}{r|lllllllllllllllllllllllllllllllllllllllllllllllllllllllllllllllllllllllllllllllllllllllllllllllllllllllllllllllllllllllllllllllllllllllllllllllllllllllllllllllllllllllllllllllllllllllllllllllllllllllllllllllllllllllllllllllllllllllllllllllllllllllllllllllllllllllllllllllllllllllllllllllllllllllllllllllllllllllllllllllllllllllllllllllllllllllllllllllllllllllllllllllllllll}\n",
       "  & 1 & 2 & 3 & 4 & 5 & 6 & 7 & 8 & 9 & 10 & ⋯ & 364 & 365 & 366 & 367 & 368 & 369 & 370 & 371 & 372 & 373\\\\\n",
       "\\hline\n",
       "\tPp3c1\\_100.mRNA &  9.862156 & 9.351662  & 10.623834 & 8.916050  & 9.964518  &  8.777317 &  8.434408 &  8.490788 & 8.997075  & 8.532412  & ⋯         & 10.256458 & 8.946873  & 10.769640 & 10.293939 & 9.185842  & 11.330099 & 10.749067 &  8.716056 & 10.795856 & 9.818899 \\\\\n",
       "\tPp3c1\\_1000.mRNA &  7.381567 & 7.559691  &  8.580751 & 7.305779  & 9.089045  & 10.578629 & 10.377033 & 10.091441 & 9.826457  & 9.419218  & ⋯         &  8.284943 & 8.206360  &  8.019149 &  8.240060 & 8.342942  &  8.548026 &  8.676593 &  7.724645 &  7.632214 & 7.874430 \\\\\n",
       "\tPp3c1\\_10000.mRNA & 10.427010 & 9.913541  &  9.623924 & 9.697720  & 9.450088  & 10.555744 &  9.812155 & 10.504621 & 9.839770  & 9.944695  & ⋯         &  9.518657 & 9.931283  &  9.188891 &  9.936725 & 9.590335  &  9.326010 & 10.018545 & 10.072072 &  9.137332 & 9.567608 \\\\\n",
       "\\end{tabular}\n"
      ],
      "text/markdown": [
       "\n",
       "| <!--/--> | 1 | 2 | 3 | 4 | 5 | 6 | 7 | 8 | 9 | 10 | ⋯ | 364 | 365 | 366 | 367 | 368 | 369 | 370 | 371 | 372 | 373 | \n",
       "|---|---|---|\n",
       "| Pp3c1_100.mRNA |  9.862156 | 9.351662  | 10.623834 | 8.916050  | 9.964518  |  8.777317 |  8.434408 |  8.490788 | 8.997075  | 8.532412  | ⋯         | 10.256458 | 8.946873  | 10.769640 | 10.293939 | 9.185842  | 11.330099 | 10.749067 |  8.716056 | 10.795856 | 9.818899  | \n",
       "| Pp3c1_1000.mRNA |  7.381567 | 7.559691  |  8.580751 | 7.305779  | 9.089045  | 10.578629 | 10.377033 | 10.091441 | 9.826457  | 9.419218  | ⋯         |  8.284943 | 8.206360  |  8.019149 |  8.240060 | 8.342942  |  8.548026 |  8.676593 |  7.724645 |  7.632214 | 7.874430  | \n",
       "| Pp3c1_10000.mRNA | 10.427010 | 9.913541  |  9.623924 | 9.697720  | 9.450088  | 10.555744 |  9.812155 | 10.504621 | 9.839770  | 9.944695  | ⋯         |  9.518657 | 9.931283  |  9.188891 |  9.936725 | 9.590335  |  9.326010 | 10.018545 | 10.072072 |  9.137332 | 9.567608  | \n",
       "\n",
       "\n"
      ],
      "text/plain": [
       "                 1         2        3         4        5        6        \n",
       "Pp3c1_100.mRNA    9.862156 9.351662 10.623834 8.916050 9.964518  8.777317\n",
       "Pp3c1_1000.mRNA   7.381567 7.559691  8.580751 7.305779 9.089045 10.578629\n",
       "Pp3c1_10000.mRNA 10.427010 9.913541  9.623924 9.697720 9.450088 10.555744\n",
       "                 7         8         9        10       ⋯ 364       365     \n",
       "Pp3c1_100.mRNA    8.434408  8.490788 8.997075 8.532412 ⋯ 10.256458 8.946873\n",
       "Pp3c1_1000.mRNA  10.377033 10.091441 9.826457 9.419218 ⋯  8.284943 8.206360\n",
       "Pp3c1_10000.mRNA  9.812155 10.504621 9.839770 9.944695 ⋯  9.518657 9.931283\n",
       "                 366       367       368      369       370       371      \n",
       "Pp3c1_100.mRNA   10.769640 10.293939 9.185842 11.330099 10.749067  8.716056\n",
       "Pp3c1_1000.mRNA   8.019149  8.240060 8.342942  8.548026  8.676593  7.724645\n",
       "Pp3c1_10000.mRNA  9.188891  9.936725 9.590335  9.326010 10.018545 10.072072\n",
       "                 372       373     \n",
       "Pp3c1_100.mRNA   10.795856 9.818899\n",
       "Pp3c1_1000.mRNA   7.632214 7.874430\n",
       "Pp3c1_10000.mRNA  9.137332 9.567608"
      ]
     },
     "metadata": {},
     "output_type": "display_data"
    },
    {
     "data": {
      "text/plain": [
       "class: DESeqTransform \n",
       "dim: 37359 373 \n",
       "metadata(1): version\n",
       "assays(1): ''\n",
       "rownames(37359): Pp3c1_100.mRNA Pp3c1_1000.mRNA ... Pp3s997_10.mRNA\n",
       "  Pp3s998_10.ncRNA\n",
       "rowData names(4): baseMean baseVar allZero dispFit\n",
       "colnames(373): 1 2 ... 372 373\n",
       "colData names(4): run sample experiment study"
      ]
     },
     "metadata": {},
     "output_type": "display_data"
    }
   ],
   "source": [
    "head(assay(vsd), 3)\n",
    "\n",
    "vsd"
   ]
  },
  {
   "cell_type": "code",
   "execution_count": 34,
   "metadata": {},
   "outputs": [
    {
     "data": {
      "text/plain": [
       "DataFrame with 373 rows and 4 columns\n",
       "            run       sample experiment       study\n",
       "    <character>     <factor>   <factor>    <factor>\n",
       "1     SRR787291 SAMN01942529  SRX252526 PRJNA192876\n",
       "2     SRR787292 SAMN01942529  SRX252526 PRJNA192876\n",
       "3     SRR787293 SAMN01942529  SRX252526 PRJNA192876\n",
       "4     SRR787294 SAMN01942529  SRX252526 PRJNA192876\n",
       "5     SRR787295 SAMN01942529  SRX252526 PRJNA192876\n",
       "...         ...          ...        ...         ...\n",
       "369   70-LG14-2    70.LG14.2        LG3      PpDEK1\n",
       "370   71-LG14-3    71.LG14.3        LG3      PpDEK1\n",
       "371     72-1-14      72.1.14         OE      PpDEK1\n",
       "372   73-1-14-2    73.1.14.2         OE      PpDEK1\n",
       "373   74-1-14-3    74.1.14.3         OE      PpDEK1"
      ]
     },
     "metadata": {},
     "output_type": "display_data"
    }
   ],
   "source": [
    "colData(vsd)"
   ]
  },
  {
   "cell_type": "code",
   "execution_count": 35,
   "metadata": {},
   "outputs": [
    {
     "data": {
      "text/html": [
       "<table>\n",
       "<thead><tr><th></th><th scope=col>SRR787291</th><th scope=col>SRR787292</th><th scope=col>SRR787293</th><th scope=col>SRR787294</th><th scope=col>SRR787295</th><th scope=col>SRR790623</th><th scope=col>SRR790624</th><th scope=col>SRR790625</th><th scope=col>SRR790254</th><th scope=col>SRR790259</th><th scope=col>⋯</th><th scope=col>65-D14-3</th><th scope=col>66-LO14</th><th scope=col>67-LO14-2</th><th scope=col>68-LO14-3</th><th scope=col>69-LG14</th><th scope=col>70-LG14-2</th><th scope=col>71-LG14-3</th><th scope=col>72-1-14</th><th scope=col>73-1-14-2</th><th scope=col>74-1-14-3</th></tr></thead>\n",
       "<tbody>\n",
       "\t<tr><th scope=row>Pp3c1_100.mRNA</th><td> 9.862156</td><td>9.351662 </td><td>10.623834</td><td>8.916050 </td><td>9.964518 </td><td> 8.777317</td><td> 8.434408</td><td> 8.490788</td><td> 8.997075</td><td>8.532412 </td><td>⋯        </td><td>10.256458</td><td>8.946873 </td><td>10.769640</td><td>10.293939</td><td>9.185842 </td><td>11.330099</td><td>10.749067</td><td> 8.716056</td><td>10.795856</td><td>9.818899 </td></tr>\n",
       "\t<tr><th scope=row>Pp3c1_1000.mRNA</th><td> 7.381567</td><td>7.559691 </td><td> 8.580751</td><td>7.305779 </td><td>9.089045 </td><td>10.578629</td><td>10.377033</td><td>10.091441</td><td> 9.826457</td><td>9.419218 </td><td>⋯        </td><td> 8.284943</td><td>8.206360 </td><td> 8.019149</td><td> 8.240060</td><td>8.342942 </td><td> 8.548026</td><td> 8.676593</td><td> 7.724645</td><td> 7.632214</td><td>7.874430 </td></tr>\n",
       "\t<tr><th scope=row>Pp3c1_10000.mRNA</th><td>10.427010</td><td>9.913541 </td><td> 9.623924</td><td>9.697720 </td><td>9.450088 </td><td>10.555744</td><td> 9.812155</td><td>10.504621</td><td> 9.839770</td><td>9.944695 </td><td>⋯        </td><td> 9.518657</td><td>9.931283 </td><td> 9.188891</td><td> 9.936725</td><td>9.590335 </td><td> 9.326010</td><td>10.018545</td><td>10.072072</td><td> 9.137332</td><td>9.567608 </td></tr>\n",
       "\t<tr><th scope=row>Pp3c1_10010.mRNA</th><td> 7.404392</td><td>7.265683 </td><td> 7.924842</td><td>7.061676 </td><td>8.785212 </td><td>10.227576</td><td>10.298046</td><td>10.163573</td><td>10.220884</td><td>9.600121 </td><td>⋯        </td><td> 8.642796</td><td>8.356125 </td><td> 8.505761</td><td> 8.541699</td><td>8.472045 </td><td> 8.560633</td><td> 8.811026</td><td> 8.035877</td><td> 8.379157</td><td>8.341642 </td></tr>\n",
       "\t<tr><th scope=row>Pp3c1_10020.seryl_tRNA</th><td> 4.192570</td><td>4.192570 </td><td> 4.192570</td><td>4.192570 </td><td>4.192570 </td><td> 4.192570</td><td> 4.192570</td><td> 4.192570</td><td> 4.192570</td><td>4.192570 </td><td>⋯        </td><td> 4.192570</td><td>4.192570 </td><td> 4.192570</td><td> 4.192570</td><td>4.192570 </td><td> 4.192570</td><td> 4.192570</td><td> 4.192570</td><td> 4.192570</td><td>4.192570 </td></tr>\n",
       "\t<tr><th scope=row>Pp3c1_10040.mRNA</th><td> 8.425789</td><td>8.747516 </td><td> 9.015093</td><td>8.642327 </td><td>9.115491 </td><td> 9.740131</td><td> 9.597228</td><td> 9.368856</td><td> 9.346674</td><td>9.067421 </td><td>⋯        </td><td> 8.270825</td><td>8.517641 </td><td> 8.403065</td><td> 8.371686</td><td>8.701931 </td><td> 8.555978</td><td> 8.605236</td><td> 8.127675</td><td> 8.066973</td><td>8.026048 </td></tr>\n",
       "</tbody>\n",
       "</table>\n"
      ],
      "text/latex": [
       "\\begin{tabular}{r|lllllllllllllllllllllllllllllllllllllllllllllllllllllllllllllllllllllllllllllllllllllllllllllllllllllllllllllllllllllllllllllllllllllllllllllllllllllllllllllllllllllllllllllllllllllllllllllllllllllllllllllllllllllllllllllllllllllllllllllllllllllllllllllllllllllllllllllllllllllllllllllllllllllllllllllllllllllllllllllllllllllllllllllllllllllllllllllllllllllllllllllllllllll}\n",
       "  & SRR787291 & SRR787292 & SRR787293 & SRR787294 & SRR787295 & SRR790623 & SRR790624 & SRR790625 & SRR790254 & SRR790259 & ⋯ & 65-D14-3 & 66-LO14 & 67-LO14-2 & 68-LO14-3 & 69-LG14 & 70-LG14-2 & 71-LG14-3 & 72-1-14 & 73-1-14-2 & 74-1-14-3\\\\\n",
       "\\hline\n",
       "\tPp3c1\\_100.mRNA &  9.862156 & 9.351662  & 10.623834 & 8.916050  & 9.964518  &  8.777317 &  8.434408 &  8.490788 &  8.997075 & 8.532412  & ⋯         & 10.256458 & 8.946873  & 10.769640 & 10.293939 & 9.185842  & 11.330099 & 10.749067 &  8.716056 & 10.795856 & 9.818899 \\\\\n",
       "\tPp3c1\\_1000.mRNA &  7.381567 & 7.559691  &  8.580751 & 7.305779  & 9.089045  & 10.578629 & 10.377033 & 10.091441 &  9.826457 & 9.419218  & ⋯         &  8.284943 & 8.206360  &  8.019149 &  8.240060 & 8.342942  &  8.548026 &  8.676593 &  7.724645 &  7.632214 & 7.874430 \\\\\n",
       "\tPp3c1\\_10000.mRNA & 10.427010 & 9.913541  &  9.623924 & 9.697720  & 9.450088  & 10.555744 &  9.812155 & 10.504621 &  9.839770 & 9.944695  & ⋯         &  9.518657 & 9.931283  &  9.188891 &  9.936725 & 9.590335  &  9.326010 & 10.018545 & 10.072072 &  9.137332 & 9.567608 \\\\\n",
       "\tPp3c1\\_10010.mRNA &  7.404392 & 7.265683  &  7.924842 & 7.061676  & 8.785212  & 10.227576 & 10.298046 & 10.163573 & 10.220884 & 9.600121  & ⋯         &  8.642796 & 8.356125  &  8.505761 &  8.541699 & 8.472045  &  8.560633 &  8.811026 &  8.035877 &  8.379157 & 8.341642 \\\\\n",
       "\tPp3c1\\_10020.seryl\\_tRNA &  4.192570 & 4.192570  &  4.192570 & 4.192570  & 4.192570  &  4.192570 &  4.192570 &  4.192570 &  4.192570 & 4.192570  & ⋯         &  4.192570 & 4.192570  &  4.192570 &  4.192570 & 4.192570  &  4.192570 &  4.192570 &  4.192570 &  4.192570 & 4.192570 \\\\\n",
       "\tPp3c1\\_10040.mRNA &  8.425789 & 8.747516  &  9.015093 & 8.642327  & 9.115491  &  9.740131 &  9.597228 &  9.368856 &  9.346674 & 9.067421  & ⋯         &  8.270825 & 8.517641  &  8.403065 &  8.371686 & 8.701931  &  8.555978 &  8.605236 &  8.127675 &  8.066973 & 8.026048 \\\\\n",
       "\\end{tabular}\n"
      ],
      "text/markdown": [
       "\n",
       "| <!--/--> | SRR787291 | SRR787292 | SRR787293 | SRR787294 | SRR787295 | SRR790623 | SRR790624 | SRR790625 | SRR790254 | SRR790259 | ⋯ | 65-D14-3 | 66-LO14 | 67-LO14-2 | 68-LO14-3 | 69-LG14 | 70-LG14-2 | 71-LG14-3 | 72-1-14 | 73-1-14-2 | 74-1-14-3 | \n",
       "|---|---|---|---|---|---|\n",
       "| Pp3c1_100.mRNA |  9.862156 | 9.351662  | 10.623834 | 8.916050  | 9.964518  |  8.777317 |  8.434408 |  8.490788 |  8.997075 | 8.532412  | ⋯         | 10.256458 | 8.946873  | 10.769640 | 10.293939 | 9.185842  | 11.330099 | 10.749067 |  8.716056 | 10.795856 | 9.818899  | \n",
       "| Pp3c1_1000.mRNA |  7.381567 | 7.559691  |  8.580751 | 7.305779  | 9.089045  | 10.578629 | 10.377033 | 10.091441 |  9.826457 | 9.419218  | ⋯         |  8.284943 | 8.206360  |  8.019149 |  8.240060 | 8.342942  |  8.548026 |  8.676593 |  7.724645 |  7.632214 | 7.874430  | \n",
       "| Pp3c1_10000.mRNA | 10.427010 | 9.913541  |  9.623924 | 9.697720  | 9.450088  | 10.555744 |  9.812155 | 10.504621 |  9.839770 | 9.944695  | ⋯         |  9.518657 | 9.931283  |  9.188891 |  9.936725 | 9.590335  |  9.326010 | 10.018545 | 10.072072 |  9.137332 | 9.567608  | \n",
       "| Pp3c1_10010.mRNA |  7.404392 | 7.265683  |  7.924842 | 7.061676  | 8.785212  | 10.227576 | 10.298046 | 10.163573 | 10.220884 | 9.600121  | ⋯         |  8.642796 | 8.356125  |  8.505761 |  8.541699 | 8.472045  |  8.560633 |  8.811026 |  8.035877 |  8.379157 | 8.341642  | \n",
       "| Pp3c1_10020.seryl_tRNA |  4.192570 | 4.192570  |  4.192570 | 4.192570  | 4.192570  |  4.192570 |  4.192570 |  4.192570 |  4.192570 | 4.192570  | ⋯         |  4.192570 | 4.192570  |  4.192570 |  4.192570 | 4.192570  |  4.192570 |  4.192570 |  4.192570 |  4.192570 | 4.192570  | \n",
       "| Pp3c1_10040.mRNA |  8.425789 | 8.747516  |  9.015093 | 8.642327  | 9.115491  |  9.740131 |  9.597228 |  9.368856 |  9.346674 | 9.067421  | ⋯         |  8.270825 | 8.517641  |  8.403065 |  8.371686 | 8.701931  |  8.555978 |  8.605236 |  8.127675 |  8.066973 | 8.026048  | \n",
       "\n",
       "\n"
      ],
      "text/plain": [
       "                       SRR787291 SRR787292 SRR787293 SRR787294 SRR787295\n",
       "Pp3c1_100.mRNA          9.862156 9.351662  10.623834 8.916050  9.964518 \n",
       "Pp3c1_1000.mRNA         7.381567 7.559691   8.580751 7.305779  9.089045 \n",
       "Pp3c1_10000.mRNA       10.427010 9.913541   9.623924 9.697720  9.450088 \n",
       "Pp3c1_10010.mRNA        7.404392 7.265683   7.924842 7.061676  8.785212 \n",
       "Pp3c1_10020.seryl_tRNA  4.192570 4.192570   4.192570 4.192570  4.192570 \n",
       "Pp3c1_10040.mRNA        8.425789 8.747516   9.015093 8.642327  9.115491 \n",
       "                       SRR790623 SRR790624 SRR790625 SRR790254 SRR790259 ⋯\n",
       "Pp3c1_100.mRNA          8.777317  8.434408  8.490788  8.997075 8.532412  ⋯\n",
       "Pp3c1_1000.mRNA        10.578629 10.377033 10.091441  9.826457 9.419218  ⋯\n",
       "Pp3c1_10000.mRNA       10.555744  9.812155 10.504621  9.839770 9.944695  ⋯\n",
       "Pp3c1_10010.mRNA       10.227576 10.298046 10.163573 10.220884 9.600121  ⋯\n",
       "Pp3c1_10020.seryl_tRNA  4.192570  4.192570  4.192570  4.192570 4.192570  ⋯\n",
       "Pp3c1_10040.mRNA        9.740131  9.597228  9.368856  9.346674 9.067421  ⋯\n",
       "                       65-D14-3  66-LO14  67-LO14-2 68-LO14-3 69-LG14 \n",
       "Pp3c1_100.mRNA         10.256458 8.946873 10.769640 10.293939 9.185842\n",
       "Pp3c1_1000.mRNA         8.284943 8.206360  8.019149  8.240060 8.342942\n",
       "Pp3c1_10000.mRNA        9.518657 9.931283  9.188891  9.936725 9.590335\n",
       "Pp3c1_10010.mRNA        8.642796 8.356125  8.505761  8.541699 8.472045\n",
       "Pp3c1_10020.seryl_tRNA  4.192570 4.192570  4.192570  4.192570 4.192570\n",
       "Pp3c1_10040.mRNA        8.270825 8.517641  8.403065  8.371686 8.701931\n",
       "                       70-LG14-2 71-LG14-3 72-1-14   73-1-14-2 74-1-14-3\n",
       "Pp3c1_100.mRNA         11.330099 10.749067  8.716056 10.795856 9.818899 \n",
       "Pp3c1_1000.mRNA         8.548026  8.676593  7.724645  7.632214 7.874430 \n",
       "Pp3c1_10000.mRNA        9.326010 10.018545 10.072072  9.137332 9.567608 \n",
       "Pp3c1_10010.mRNA        8.560633  8.811026  8.035877  8.379157 8.341642 \n",
       "Pp3c1_10020.seryl_tRNA  4.192570  4.192570  4.192570  4.192570 4.192570 \n",
       "Pp3c1_10040.mRNA        8.555978  8.605236  8.127675  8.066973 8.026048 "
      ]
     },
     "metadata": {},
     "output_type": "display_data"
    }
   ],
   "source": [
    "e=assay(vsd)\n",
    "colnames(e)=colData(vsd)$run\n",
    "head(e)\n",
    "write.table(e,gzfile(\"all_genes.vst.tsv.gz\"),sep=\"\\t\",row.names=TRUE,col.names=TRUE,quote=FALSE)"
   ]
  },
  {
   "cell_type": "code",
   "execution_count": 36,
   "metadata": {},
   "outputs": [
    {
     "data": {
      "text/html": [
       "<table>\n",
       "<thead><tr><th></th><th scope=col>SRR787291</th><th scope=col>SRR787292</th><th scope=col>SRR787293</th><th scope=col>SRR787294</th><th scope=col>SRR787295</th><th scope=col>SRR790623</th><th scope=col>SRR790624</th><th scope=col>SRR790625</th><th scope=col>SRR790254</th><th scope=col>SRR790259</th><th scope=col>⋯</th><th scope=col>65-D14-3</th><th scope=col>66-LO14</th><th scope=col>67-LO14-2</th><th scope=col>68-LO14-3</th><th scope=col>69-LG14</th><th scope=col>70-LG14-2</th><th scope=col>71-LG14-3</th><th scope=col>72-1-14</th><th scope=col>73-1-14-2</th><th scope=col>74-1-14-3</th></tr></thead>\n",
       "<tbody>\n",
       "\t<tr><th scope=row>Pp3c1_100.mRNA</th><td>67.266747</td><td>45.416014</td><td>123.16123</td><td>32.948485</td><td>71.65476 </td><td>23.49970 </td><td>15.66638 </td><td>16.30608 </td><td>27.62160 </td><td>14.98788 </td><td>⋯        </td><td>94.13192 </td><td>27.02578 </td><td>138.39263</td><td>95.47015 </td><td>41.34643 </td><td>182.83480</td><td>132.06252</td><td>32.95897 </td><td>148.57072</td><td>68.80491 </td></tr>\n",
       "\t<tr><th scope=row>Pp3c1_1000.mRNA</th><td>10.760345</td><td>12.254279</td><td> 30.02399</td><td> 9.870658</td><td>40.97173 </td><td>94.24088 </td><td>70.68071 </td><td>57.44172 </td><td>54.86589 </td><td>31.44669 </td><td>⋯        </td><td>23.72812 </td><td>16.61699 </td><td> 19.64246</td><td>22.62305 </td><td>23.68461 </td><td> 26.40355</td><td> 31.68660</td><td>16.36870 </td><td> 15.10008</td><td>17.13881 </td></tr>\n",
       "\t<tr><th scope=row>Pp3c1_10000.mRNA</th><td>57.030226</td><td>38.639119</td><td> 34.03100</td><td>33.110430</td><td>27.92972 </td><td>48.46456 </td><td>24.64193 </td><td>40.32073 </td><td>28.95449 </td><td>24.05729 </td><td>⋯        </td><td>31.29227 </td><td>31.41480 </td><td> 25.08435</td><td>41.81832 </td><td>31.45607 </td><td> 24.68877</td><td> 44.39614</td><td>50.41413 </td><td> 25.44615</td><td>32.44869 </td></tr>\n",
       "\t<tr><th scope=row>Pp3c1_10010.mRNA</th><td> 7.411845</td><td> 6.426935</td><td> 12.13748</td><td> 5.360869</td><td>22.05312 </td><td>49.56929 </td><td>45.12251 </td><td>40.85212 </td><td>49.18672 </td><td>24.23192 </td><td>⋯        </td><td>21.10285 </td><td>12.61309 </td><td> 19.40381</td><td>19.29257 </td><td>17.67286 </td><td> 18.00515</td><td> 23.68660</td><td>14.22525 </td><td> 18.54847</td><td>16.75914 </td></tr>\n",
       "\t<tr><th scope=row>Pp3c1_10020.seryl_tRNA</th><td> 0.000000</td><td> 0.000000</td><td>  0.00000</td><td> 0.000000</td><td> 0.00000 </td><td> 0.00000 </td><td> 0.00000 </td><td> 0.00000 </td><td> 0.00000 </td><td> 0.00000 </td><td>⋯        </td><td> 0.00000 </td><td> 0.00000 </td><td>  0.00000</td><td> 0.00000 </td><td> 0.00000 </td><td>  0.00000</td><td>  0.00000</td><td> 0.00000 </td><td>  0.00000</td><td> 0.00000 </td></tr>\n",
       "\t<tr><th scope=row>Pp3c1_10040.mRNA</th><td>22.263379</td><td>27.838141</td><td> 36.93758</td><td>25.743655</td><td>37.06742 </td><td>45.86703 </td><td>35.79566 </td><td>30.20142 </td><td>34.33999 </td><td>21.53108 </td><td>⋯        </td><td>20.81998 </td><td>18.76333 </td><td> 23.55152</td><td>22.23489 </td><td>27.66146 </td><td> 23.56678</td><td> 26.62755</td><td>20.09750 </td><td> 19.07651</td><td>17.17564 </td></tr>\n",
       "</tbody>\n",
       "</table>\n"
      ],
      "text/latex": [
       "\\begin{tabular}{r|lllllllllllllllllllllllllllllllllllllllllllllllllllllllllllllllllllllllllllllllllllllllllllllllllllllllllllllllllllllllllllllllllllllllllllllllllllllllllllllllllllllllllllllllllllllllllllllllllllllllllllllllllllllllllllllllllllllllllllllllllllllllllllllllllllllllllllllllllllllllllllllllllllllllllllllllllllllllllllllllllllllllllllllllllllllllllllllllllllllllllllllllllllll}\n",
       "  & SRR787291 & SRR787292 & SRR787293 & SRR787294 & SRR787295 & SRR790623 & SRR790624 & SRR790625 & SRR790254 & SRR790259 & ⋯ & 65-D14-3 & 66-LO14 & 67-LO14-2 & 68-LO14-3 & 69-LG14 & 70-LG14-2 & 71-LG14-3 & 72-1-14 & 73-1-14-2 & 74-1-14-3\\\\\n",
       "\\hline\n",
       "\tPp3c1\\_100.mRNA & 67.266747 & 45.416014 & 123.16123 & 32.948485 & 71.65476  & 23.49970  & 15.66638  & 16.30608  & 27.62160  & 14.98788  & ⋯         & 94.13192  & 27.02578  & 138.39263 & 95.47015  & 41.34643  & 182.83480 & 132.06252 & 32.95897  & 148.57072 & 68.80491 \\\\\n",
       "\tPp3c1\\_1000.mRNA & 10.760345 & 12.254279 &  30.02399 &  9.870658 & 40.97173  & 94.24088  & 70.68071  & 57.44172  & 54.86589  & 31.44669  & ⋯         & 23.72812  & 16.61699  &  19.64246 & 22.62305  & 23.68461  &  26.40355 &  31.68660 & 16.36870  &  15.10008 & 17.13881 \\\\\n",
       "\tPp3c1\\_10000.mRNA & 57.030226 & 38.639119 &  34.03100 & 33.110430 & 27.92972  & 48.46456  & 24.64193  & 40.32073  & 28.95449  & 24.05729  & ⋯         & 31.29227  & 31.41480  &  25.08435 & 41.81832  & 31.45607  &  24.68877 &  44.39614 & 50.41413  &  25.44615 & 32.44869 \\\\\n",
       "\tPp3c1\\_10010.mRNA &  7.411845 &  6.426935 &  12.13748 &  5.360869 & 22.05312  & 49.56929  & 45.12251  & 40.85212  & 49.18672  & 24.23192  & ⋯         & 21.10285  & 12.61309  &  19.40381 & 19.29257  & 17.67286  &  18.00515 &  23.68660 & 14.22525  &  18.54847 & 16.75914 \\\\\n",
       "\tPp3c1\\_10020.seryl\\_tRNA &  0.000000 &  0.000000 &   0.00000 &  0.000000 &  0.00000  &  0.00000  &  0.00000  &  0.00000  &  0.00000  &  0.00000  & ⋯         &  0.00000  &  0.00000  &   0.00000 &  0.00000  &  0.00000  &   0.00000 &   0.00000 &  0.00000  &   0.00000 &  0.00000 \\\\\n",
       "\tPp3c1\\_10040.mRNA & 22.263379 & 27.838141 &  36.93758 & 25.743655 & 37.06742  & 45.86703  & 35.79566  & 30.20142  & 34.33999  & 21.53108  & ⋯         & 20.81998  & 18.76333  &  23.55152 & 22.23489  & 27.66146  &  23.56678 &  26.62755 & 20.09750  &  19.07651 & 17.17564 \\\\\n",
       "\\end{tabular}\n"
      ],
      "text/markdown": [
       "\n",
       "| <!--/--> | SRR787291 | SRR787292 | SRR787293 | SRR787294 | SRR787295 | SRR790623 | SRR790624 | SRR790625 | SRR790254 | SRR790259 | ⋯ | 65-D14-3 | 66-LO14 | 67-LO14-2 | 68-LO14-3 | 69-LG14 | 70-LG14-2 | 71-LG14-3 | 72-1-14 | 73-1-14-2 | 74-1-14-3 | \n",
       "|---|---|---|---|---|---|\n",
       "| Pp3c1_100.mRNA | 67.266747 | 45.416014 | 123.16123 | 32.948485 | 71.65476  | 23.49970  | 15.66638  | 16.30608  | 27.62160  | 14.98788  | ⋯         | 94.13192  | 27.02578  | 138.39263 | 95.47015  | 41.34643  | 182.83480 | 132.06252 | 32.95897  | 148.57072 | 68.80491  | \n",
       "| Pp3c1_1000.mRNA | 10.760345 | 12.254279 |  30.02399 |  9.870658 | 40.97173  | 94.24088  | 70.68071  | 57.44172  | 54.86589  | 31.44669  | ⋯         | 23.72812  | 16.61699  |  19.64246 | 22.62305  | 23.68461  |  26.40355 |  31.68660 | 16.36870  |  15.10008 | 17.13881  | \n",
       "| Pp3c1_10000.mRNA | 57.030226 | 38.639119 |  34.03100 | 33.110430 | 27.92972  | 48.46456  | 24.64193  | 40.32073  | 28.95449  | 24.05729  | ⋯         | 31.29227  | 31.41480  |  25.08435 | 41.81832  | 31.45607  |  24.68877 |  44.39614 | 50.41413  |  25.44615 | 32.44869  | \n",
       "| Pp3c1_10010.mRNA |  7.411845 |  6.426935 |  12.13748 |  5.360869 | 22.05312  | 49.56929  | 45.12251  | 40.85212  | 49.18672  | 24.23192  | ⋯         | 21.10285  | 12.61309  |  19.40381 | 19.29257  | 17.67286  |  18.00515 |  23.68660 | 14.22525  |  18.54847 | 16.75914  | \n",
       "| Pp3c1_10020.seryl_tRNA |  0.000000 |  0.000000 |   0.00000 |  0.000000 |  0.00000  |  0.00000  |  0.00000  |  0.00000  |  0.00000  |  0.00000  | ⋯         |  0.00000  |  0.00000  |   0.00000 |  0.00000  |  0.00000  |   0.00000 |   0.00000 |  0.00000  |   0.00000 |  0.00000  | \n",
       "| Pp3c1_10040.mRNA | 22.263379 | 27.838141 |  36.93758 | 25.743655 | 37.06742  | 45.86703  | 35.79566  | 30.20142  | 34.33999  | 21.53108  | ⋯         | 20.81998  | 18.76333  |  23.55152 | 22.23489  | 27.66146  |  23.56678 |  26.62755 | 20.09750  |  19.07651 | 17.17564  | \n",
       "\n",
       "\n"
      ],
      "text/plain": [
       "                       SRR787291 SRR787292 SRR787293 SRR787294 SRR787295\n",
       "Pp3c1_100.mRNA         67.266747 45.416014 123.16123 32.948485 71.65476 \n",
       "Pp3c1_1000.mRNA        10.760345 12.254279  30.02399  9.870658 40.97173 \n",
       "Pp3c1_10000.mRNA       57.030226 38.639119  34.03100 33.110430 27.92972 \n",
       "Pp3c1_10010.mRNA        7.411845  6.426935  12.13748  5.360869 22.05312 \n",
       "Pp3c1_10020.seryl_tRNA  0.000000  0.000000   0.00000  0.000000  0.00000 \n",
       "Pp3c1_10040.mRNA       22.263379 27.838141  36.93758 25.743655 37.06742 \n",
       "                       SRR790623 SRR790624 SRR790625 SRR790254 SRR790259 ⋯\n",
       "Pp3c1_100.mRNA         23.49970  15.66638  16.30608  27.62160  14.98788  ⋯\n",
       "Pp3c1_1000.mRNA        94.24088  70.68071  57.44172  54.86589  31.44669  ⋯\n",
       "Pp3c1_10000.mRNA       48.46456  24.64193  40.32073  28.95449  24.05729  ⋯\n",
       "Pp3c1_10010.mRNA       49.56929  45.12251  40.85212  49.18672  24.23192  ⋯\n",
       "Pp3c1_10020.seryl_tRNA  0.00000   0.00000   0.00000   0.00000   0.00000  ⋯\n",
       "Pp3c1_10040.mRNA       45.86703  35.79566  30.20142  34.33999  21.53108  ⋯\n",
       "                       65-D14-3 66-LO14  67-LO14-2 68-LO14-3 69-LG14  70-LG14-2\n",
       "Pp3c1_100.mRNA         94.13192 27.02578 138.39263 95.47015  41.34643 182.83480\n",
       "Pp3c1_1000.mRNA        23.72812 16.61699  19.64246 22.62305  23.68461  26.40355\n",
       "Pp3c1_10000.mRNA       31.29227 31.41480  25.08435 41.81832  31.45607  24.68877\n",
       "Pp3c1_10010.mRNA       21.10285 12.61309  19.40381 19.29257  17.67286  18.00515\n",
       "Pp3c1_10020.seryl_tRNA  0.00000  0.00000   0.00000  0.00000   0.00000   0.00000\n",
       "Pp3c1_10040.mRNA       20.81998 18.76333  23.55152 22.23489  27.66146  23.56678\n",
       "                       71-LG14-3 72-1-14  73-1-14-2 74-1-14-3\n",
       "Pp3c1_100.mRNA         132.06252 32.95897 148.57072 68.80491 \n",
       "Pp3c1_1000.mRNA         31.68660 16.36870  15.10008 17.13881 \n",
       "Pp3c1_10000.mRNA        44.39614 50.41413  25.44615 32.44869 \n",
       "Pp3c1_10010.mRNA        23.68660 14.22525  18.54847 16.75914 \n",
       "Pp3c1_10020.seryl_tRNA   0.00000  0.00000   0.00000  0.00000 \n",
       "Pp3c1_10040.mRNA        26.62755 20.09750  19.07651 17.17564 "
      ]
     },
     "metadata": {},
     "output_type": "display_data"
    }
   ],
   "source": [
    "ee=gxi$abundance\n",
    "colnames(ee)=m$run\n",
    "head(ee)\n",
    "write.table(ee,gzfile(\"all_genes.tpm.tsv.gz\"),sep=\"\\t\",row.names=TRUE,col.names=TRUE,quote=FALSE)"
   ]
  },
  {
   "cell_type": "code",
   "execution_count": 37,
   "metadata": {},
   "outputs": [
    {
     "data": {
      "text/html": [
       "<table>\n",
       "<thead><tr><th></th><th scope=col>SRR787291</th><th scope=col>SRR787292</th><th scope=col>SRR787293</th><th scope=col>SRR787294</th><th scope=col>SRR787295</th><th scope=col>SRR790623</th><th scope=col>SRR790624</th><th scope=col>SRR790625</th><th scope=col>SRR790254</th><th scope=col>SRR790259</th><th scope=col>⋯</th><th scope=col>65-D14-3</th><th scope=col>66-LO14</th><th scope=col>67-LO14-2</th><th scope=col>68-LO14-3</th><th scope=col>69-LG14</th><th scope=col>70-LG14-2</th><th scope=col>71-LG14-3</th><th scope=col>72-1-14</th><th scope=col>73-1-14-2</th><th scope=col>74-1-14-3</th></tr></thead>\n",
       "<tbody>\n",
       "\t<tr><th scope=row>Pp3c1_100.mRNA</th><td>67.266747</td><td>45.416014</td><td>123.16123</td><td>32.948485</td><td>71.65476 </td><td>23.49970 </td><td>15.66638 </td><td>16.30608 </td><td>27.62160 </td><td>14.98788 </td><td>⋯        </td><td>94.13192 </td><td>27.02578 </td><td>138.39263</td><td>95.47015 </td><td>41.34643 </td><td>182.83480</td><td>132.06252</td><td>32.95897 </td><td>148.57072</td><td>68.80491 </td></tr>\n",
       "\t<tr><th scope=row>Pp3c1_1000.mRNA</th><td>10.760345</td><td>12.254279</td><td> 30.02399</td><td> 9.870658</td><td>40.97173 </td><td>94.24088 </td><td>70.68071 </td><td>57.44172 </td><td>54.86589 </td><td>31.44669 </td><td>⋯        </td><td>23.72812 </td><td>16.61699 </td><td> 19.64246</td><td>22.62305 </td><td>23.68461 </td><td> 26.40355</td><td> 31.68660</td><td>16.36870 </td><td> 15.10008</td><td>17.13881 </td></tr>\n",
       "\t<tr><th scope=row>Pp3c1_10000.mRNA</th><td>57.030226</td><td>38.639119</td><td> 34.03100</td><td>33.110430</td><td>27.92972 </td><td>48.46456 </td><td>24.64193 </td><td>40.32073 </td><td>28.95449 </td><td>24.05729 </td><td>⋯        </td><td>31.29227 </td><td>31.41480 </td><td> 25.08435</td><td>41.81832 </td><td>31.45607 </td><td> 24.68877</td><td> 44.39614</td><td>50.41413 </td><td> 25.44615</td><td>32.44869 </td></tr>\n",
       "\t<tr><th scope=row>Pp3c1_10010.mRNA</th><td> 7.411845</td><td> 6.426935</td><td> 12.13748</td><td> 5.360869</td><td>22.05312 </td><td>49.56929 </td><td>45.12251 </td><td>40.85212 </td><td>49.18672 </td><td>24.23192 </td><td>⋯        </td><td>21.10285 </td><td>12.61309 </td><td> 19.40381</td><td>19.29257 </td><td>17.67286 </td><td> 18.00515</td><td> 23.68660</td><td>14.22525 </td><td> 18.54847</td><td>16.75914 </td></tr>\n",
       "\t<tr><th scope=row>Pp3c1_10020.seryl_tRNA</th><td> 0.000000</td><td> 0.000000</td><td>  0.00000</td><td> 0.000000</td><td> 0.00000 </td><td> 0.00000 </td><td> 0.00000 </td><td> 0.00000 </td><td> 0.00000 </td><td> 0.00000 </td><td>⋯        </td><td> 0.00000 </td><td> 0.00000 </td><td>  0.00000</td><td> 0.00000 </td><td> 0.00000 </td><td>  0.00000</td><td>  0.00000</td><td> 0.00000 </td><td>  0.00000</td><td> 0.00000 </td></tr>\n",
       "\t<tr><th scope=row>Pp3c1_10040.mRNA</th><td>22.263379</td><td>27.838141</td><td> 36.93758</td><td>25.743655</td><td>37.06742 </td><td>45.86703 </td><td>35.79566 </td><td>30.20142 </td><td>34.33999 </td><td>21.53108 </td><td>⋯        </td><td>20.81998 </td><td>18.76333 </td><td> 23.55152</td><td>22.23489 </td><td>27.66146 </td><td> 23.56678</td><td> 26.62755</td><td>20.09750 </td><td> 19.07651</td><td>17.17564 </td></tr>\n",
       "</tbody>\n",
       "</table>\n"
      ],
      "text/latex": [
       "\\begin{tabular}{r|lllllllllllllllllllllllllllllllllllllllllllllllllllllllllllllllllllllllllllllllllllllllllllllllllllllllllllllllllllllllllllllllllllllllllllllllllllllllllllllllllllllllllllllllllllllllllllllllllllllllllllllllllllllllllllllllllllllllllllllllllllllllllllllllllllllllllllllllllllllllllllllllllllllllllllllllllllllllllllllllllllllllllllllllllllllllllllllllllllllllllllllllllllll}\n",
       "  & SRR787291 & SRR787292 & SRR787293 & SRR787294 & SRR787295 & SRR790623 & SRR790624 & SRR790625 & SRR790254 & SRR790259 & ⋯ & 65-D14-3 & 66-LO14 & 67-LO14-2 & 68-LO14-3 & 69-LG14 & 70-LG14-2 & 71-LG14-3 & 72-1-14 & 73-1-14-2 & 74-1-14-3\\\\\n",
       "\\hline\n",
       "\tPp3c1\\_100.mRNA & 67.266747 & 45.416014 & 123.16123 & 32.948485 & 71.65476  & 23.49970  & 15.66638  & 16.30608  & 27.62160  & 14.98788  & ⋯         & 94.13192  & 27.02578  & 138.39263 & 95.47015  & 41.34643  & 182.83480 & 132.06252 & 32.95897  & 148.57072 & 68.80491 \\\\\n",
       "\tPp3c1\\_1000.mRNA & 10.760345 & 12.254279 &  30.02399 &  9.870658 & 40.97173  & 94.24088  & 70.68071  & 57.44172  & 54.86589  & 31.44669  & ⋯         & 23.72812  & 16.61699  &  19.64246 & 22.62305  & 23.68461  &  26.40355 &  31.68660 & 16.36870  &  15.10008 & 17.13881 \\\\\n",
       "\tPp3c1\\_10000.mRNA & 57.030226 & 38.639119 &  34.03100 & 33.110430 & 27.92972  & 48.46456  & 24.64193  & 40.32073  & 28.95449  & 24.05729  & ⋯         & 31.29227  & 31.41480  &  25.08435 & 41.81832  & 31.45607  &  24.68877 &  44.39614 & 50.41413  &  25.44615 & 32.44869 \\\\\n",
       "\tPp3c1\\_10010.mRNA &  7.411845 &  6.426935 &  12.13748 &  5.360869 & 22.05312  & 49.56929  & 45.12251  & 40.85212  & 49.18672  & 24.23192  & ⋯         & 21.10285  & 12.61309  &  19.40381 & 19.29257  & 17.67286  &  18.00515 &  23.68660 & 14.22525  &  18.54847 & 16.75914 \\\\\n",
       "\tPp3c1\\_10020.seryl\\_tRNA &  0.000000 &  0.000000 &   0.00000 &  0.000000 &  0.00000  &  0.00000  &  0.00000  &  0.00000  &  0.00000  &  0.00000  & ⋯         &  0.00000  &  0.00000  &   0.00000 &  0.00000  &  0.00000  &   0.00000 &   0.00000 &  0.00000  &   0.00000 &  0.00000 \\\\\n",
       "\tPp3c1\\_10040.mRNA & 22.263379 & 27.838141 &  36.93758 & 25.743655 & 37.06742  & 45.86703  & 35.79566  & 30.20142  & 34.33999  & 21.53108  & ⋯         & 20.81998  & 18.76333  &  23.55152 & 22.23489  & 27.66146  &  23.56678 &  26.62755 & 20.09750  &  19.07651 & 17.17564 \\\\\n",
       "\\end{tabular}\n"
      ],
      "text/markdown": [
       "\n",
       "| <!--/--> | SRR787291 | SRR787292 | SRR787293 | SRR787294 | SRR787295 | SRR790623 | SRR790624 | SRR790625 | SRR790254 | SRR790259 | ⋯ | 65-D14-3 | 66-LO14 | 67-LO14-2 | 68-LO14-3 | 69-LG14 | 70-LG14-2 | 71-LG14-3 | 72-1-14 | 73-1-14-2 | 74-1-14-3 | \n",
       "|---|---|---|---|---|---|\n",
       "| Pp3c1_100.mRNA | 67.266747 | 45.416014 | 123.16123 | 32.948485 | 71.65476  | 23.49970  | 15.66638  | 16.30608  | 27.62160  | 14.98788  | ⋯         | 94.13192  | 27.02578  | 138.39263 | 95.47015  | 41.34643  | 182.83480 | 132.06252 | 32.95897  | 148.57072 | 68.80491  | \n",
       "| Pp3c1_1000.mRNA | 10.760345 | 12.254279 |  30.02399 |  9.870658 | 40.97173  | 94.24088  | 70.68071  | 57.44172  | 54.86589  | 31.44669  | ⋯         | 23.72812  | 16.61699  |  19.64246 | 22.62305  | 23.68461  |  26.40355 |  31.68660 | 16.36870  |  15.10008 | 17.13881  | \n",
       "| Pp3c1_10000.mRNA | 57.030226 | 38.639119 |  34.03100 | 33.110430 | 27.92972  | 48.46456  | 24.64193  | 40.32073  | 28.95449  | 24.05729  | ⋯         | 31.29227  | 31.41480  |  25.08435 | 41.81832  | 31.45607  |  24.68877 |  44.39614 | 50.41413  |  25.44615 | 32.44869  | \n",
       "| Pp3c1_10010.mRNA |  7.411845 |  6.426935 |  12.13748 |  5.360869 | 22.05312  | 49.56929  | 45.12251  | 40.85212  | 49.18672  | 24.23192  | ⋯         | 21.10285  | 12.61309  |  19.40381 | 19.29257  | 17.67286  |  18.00515 |  23.68660 | 14.22525  |  18.54847 | 16.75914  | \n",
       "| Pp3c1_10020.seryl_tRNA |  0.000000 |  0.000000 |   0.00000 |  0.000000 |  0.00000  |  0.00000  |  0.00000  |  0.00000  |  0.00000  |  0.00000  | ⋯         |  0.00000  |  0.00000  |   0.00000 |  0.00000  |  0.00000  |   0.00000 |   0.00000 |  0.00000  |   0.00000 |  0.00000  | \n",
       "| Pp3c1_10040.mRNA | 22.263379 | 27.838141 |  36.93758 | 25.743655 | 37.06742  | 45.86703  | 35.79566  | 30.20142  | 34.33999  | 21.53108  | ⋯         | 20.81998  | 18.76333  |  23.55152 | 22.23489  | 27.66146  |  23.56678 |  26.62755 | 20.09750  |  19.07651 | 17.17564  | \n",
       "\n",
       "\n"
      ],
      "text/plain": [
       "                       SRR787291 SRR787292 SRR787293 SRR787294 SRR787295\n",
       "Pp3c1_100.mRNA         67.266747 45.416014 123.16123 32.948485 71.65476 \n",
       "Pp3c1_1000.mRNA        10.760345 12.254279  30.02399  9.870658 40.97173 \n",
       "Pp3c1_10000.mRNA       57.030226 38.639119  34.03100 33.110430 27.92972 \n",
       "Pp3c1_10010.mRNA        7.411845  6.426935  12.13748  5.360869 22.05312 \n",
       "Pp3c1_10020.seryl_tRNA  0.000000  0.000000   0.00000  0.000000  0.00000 \n",
       "Pp3c1_10040.mRNA       22.263379 27.838141  36.93758 25.743655 37.06742 \n",
       "                       SRR790623 SRR790624 SRR790625 SRR790254 SRR790259 ⋯\n",
       "Pp3c1_100.mRNA         23.49970  15.66638  16.30608  27.62160  14.98788  ⋯\n",
       "Pp3c1_1000.mRNA        94.24088  70.68071  57.44172  54.86589  31.44669  ⋯\n",
       "Pp3c1_10000.mRNA       48.46456  24.64193  40.32073  28.95449  24.05729  ⋯\n",
       "Pp3c1_10010.mRNA       49.56929  45.12251  40.85212  49.18672  24.23192  ⋯\n",
       "Pp3c1_10020.seryl_tRNA  0.00000   0.00000   0.00000   0.00000   0.00000  ⋯\n",
       "Pp3c1_10040.mRNA       45.86703  35.79566  30.20142  34.33999  21.53108  ⋯\n",
       "                       65-D14-3 66-LO14  67-LO14-2 68-LO14-3 69-LG14  70-LG14-2\n",
       "Pp3c1_100.mRNA         94.13192 27.02578 138.39263 95.47015  41.34643 182.83480\n",
       "Pp3c1_1000.mRNA        23.72812 16.61699  19.64246 22.62305  23.68461  26.40355\n",
       "Pp3c1_10000.mRNA       31.29227 31.41480  25.08435 41.81832  31.45607  24.68877\n",
       "Pp3c1_10010.mRNA       21.10285 12.61309  19.40381 19.29257  17.67286  18.00515\n",
       "Pp3c1_10020.seryl_tRNA  0.00000  0.00000   0.00000  0.00000   0.00000   0.00000\n",
       "Pp3c1_10040.mRNA       20.81998 18.76333  23.55152 22.23489  27.66146  23.56678\n",
       "                       71-LG14-3 72-1-14  73-1-14-2 74-1-14-3\n",
       "Pp3c1_100.mRNA         132.06252 32.95897 148.57072 68.80491 \n",
       "Pp3c1_1000.mRNA         31.68660 16.36870  15.10008 17.13881 \n",
       "Pp3c1_10000.mRNA        44.39614 50.41413  25.44615 32.44869 \n",
       "Pp3c1_10010.mRNA        23.68660 14.22525  18.54847 16.75914 \n",
       "Pp3c1_10020.seryl_tRNA   0.00000  0.00000   0.00000  0.00000 \n",
       "Pp3c1_10040.mRNA        26.62755 20.09750  19.07651 17.17564 "
      ]
     },
     "metadata": {},
     "output_type": "display_data"
    }
   ],
   "source": [
    "eee=gxi$abundance\n",
    "colnames(eee)=m$run\n",
    "head(eee)\n",
    "write.table(eee,gzfile(\"all_transcripts.tpm.tsv.gz\"),sep=\"\\t\",row.names=TRUE,col.names=TRUE,quote=FALSE)"
   ]
  }
 ],
 "metadata": {
  "kernelspec": {
   "display_name": "R",
   "language": "R",
   "name": "ir"
  },
  "language_info": {
   "codemirror_mode": "r",
   "file_extension": ".r",
   "mimetype": "text/x-r-source",
   "name": "R",
   "pygments_lexer": "r",
   "version": "3.6.1"
  }
 },
 "nbformat": 4,
 "nbformat_minor": 4
}
