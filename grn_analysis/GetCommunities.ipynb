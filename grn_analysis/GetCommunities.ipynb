{
 "cells": [
  {
   "cell_type": "code",
   "execution_count": 401,
   "metadata": {},
   "outputs": [],
   "source": [
    "import random\n",
    "random.seed(27042012)\n",
    "import numpy as np\n",
    "np.random.seed(27042012) \n",
    "import pandas as pd\n",
    "import itertools as it\n",
    "import networkx as nx\n",
    "%matplotlib inline\n",
    "import matplotlib.pyplot as plt\n",
    "from networkit import *\n",
    "from numeral import int2roman"
   ]
  },
  {
   "cell_type": "code",
   "execution_count": 71,
   "metadata": {},
   "outputs": [
    {
     "data": {
      "text/plain": [
       "<Figure size 1152x432 with 0 Axes>"
      ]
     },
     "execution_count": 71,
     "metadata": {},
     "output_type": "execute_result"
    },
    {
     "data": {
      "text/plain": [
       "<Figure size 1152x432 with 0 Axes>"
      ]
     },
     "metadata": {},
     "output_type": "display_data"
    }
   ],
   "source": [
    "plt.figure(figsize=(16, 6))"
   ]
  },
  {
   "cell_type": "code",
   "execution_count": 2,
   "metadata": {},
   "outputs": [
    {
     "data": {
      "text/html": [
       "<div>\n",
       "<style scoped>\n",
       "    .dataframe tbody tr th:only-of-type {\n",
       "        vertical-align: middle;\n",
       "    }\n",
       "\n",
       "    .dataframe tbody tr th {\n",
       "        vertical-align: top;\n",
       "    }\n",
       "\n",
       "    .dataframe thead th {\n",
       "        text-align: right;\n",
       "    }\n",
       "</style>\n",
       "<table border=\"1\" class=\"dataframe\">\n",
       "  <thead>\n",
       "    <tr style=\"text-align: right;\">\n",
       "      <th></th>\n",
       "      <th>regulatoryGene</th>\n",
       "      <th>targetGene</th>\n",
       "      <th>weight</th>\n",
       "      <th>regulator_rank</th>\n",
       "      <th>target_rank</th>\n",
       "      <th>mutual_rank</th>\n",
       "    </tr>\n",
       "  </thead>\n",
       "  <tbody>\n",
       "    <tr>\n",
       "      <th>0</th>\n",
       "      <td>Pp3c17_930.mRNA</td>\n",
       "      <td>Pp3s340_10.mRNA</td>\n",
       "      <td>0.067781</td>\n",
       "      <td>1</td>\n",
       "      <td>1</td>\n",
       "      <td>1.0</td>\n",
       "    </tr>\n",
       "    <tr>\n",
       "      <th>1</th>\n",
       "      <td>Pp3c1_27430.pre_miRNA</td>\n",
       "      <td>Pp3c15_12100.mRNA</td>\n",
       "      <td>0.067249</td>\n",
       "      <td>1</td>\n",
       "      <td>1</td>\n",
       "      <td>1.0</td>\n",
       "    </tr>\n",
       "    <tr>\n",
       "      <th>2</th>\n",
       "      <td>Pp3c17_17550.mRNA</td>\n",
       "      <td>Pp3c23_130.mRNA</td>\n",
       "      <td>0.066469</td>\n",
       "      <td>1</td>\n",
       "      <td>1</td>\n",
       "      <td>1.0</td>\n",
       "    </tr>\n",
       "    <tr>\n",
       "      <th>3</th>\n",
       "      <td>Pp3c17_18920.pre_miRNA</td>\n",
       "      <td>Pp3s32_420.mRNA</td>\n",
       "      <td>0.066327</td>\n",
       "      <td>1</td>\n",
       "      <td>1</td>\n",
       "      <td>1.0</td>\n",
       "    </tr>\n",
       "    <tr>\n",
       "      <th>4</th>\n",
       "      <td>Pp3c15_549.mRNA</td>\n",
       "      <td>Pp3c4_24040.mRNA</td>\n",
       "      <td>0.064005</td>\n",
       "      <td>1</td>\n",
       "      <td>1</td>\n",
       "      <td>1.0</td>\n",
       "    </tr>\n",
       "  </tbody>\n",
       "</table>\n",
       "</div>"
      ],
      "text/plain": [
       "           regulatoryGene         targetGene    weight  regulator_rank  \\\n",
       "0         Pp3c17_930.mRNA    Pp3s340_10.mRNA  0.067781               1   \n",
       "1   Pp3c1_27430.pre_miRNA  Pp3c15_12100.mRNA  0.067249               1   \n",
       "2       Pp3c17_17550.mRNA    Pp3c23_130.mRNA  0.066469               1   \n",
       "3  Pp3c17_18920.pre_miRNA    Pp3s32_420.mRNA  0.066327               1   \n",
       "4         Pp3c15_549.mRNA   Pp3c4_24040.mRNA  0.064005               1   \n",
       "\n",
       "   target_rank  mutual_rank  \n",
       "0            1          1.0  \n",
       "1            1          1.0  \n",
       "2            1          1.0  \n",
       "3            1          1.0  \n",
       "4            1          1.0  "
      ]
     },
     "execution_count": 2,
     "metadata": {},
     "output_type": "execute_result"
    }
   ],
   "source": [
    "g=pd.read_csv(\"GENIE3.all_ranks.ranked_regulator_target_interactions.tsv.gz\",delimiter=\"\\t\")\n",
    "g.columns=[x.replace(\".\",\"_\") for x in g.columns]\n",
    "g.head()"
   ]
  },
  {
   "cell_type": "code",
   "execution_count": 51,
   "metadata": {},
   "outputs": [
    {
     "name": "stdout",
     "output_type": "stream",
     "text": [
      "61897747\n",
      "356457\n"
     ]
    }
   ],
   "source": [
    "gg=g.query(\"target_rank<=10\",inplace=False)\n",
    "print(len(g))\n",
    "print(len(gg))"
   ]
  },
  {
   "cell_type": "code",
   "execution_count": 52,
   "metadata": {},
   "outputs": [],
   "source": [
    "G = nx.from_pandas_edgelist(gg,source=\"regulatoryGene\",target=\"targetGene\",edge_attr = [\"weight\",\"regulator_rank\",\"target_rank\",\"mutual_rank\"],create_using=nx.DiGraph)"
   ]
  },
  {
   "cell_type": "code",
   "execution_count": 361,
   "metadata": {},
   "outputs": [
    {
     "data": {
      "text/plain": [
       "35706"
      ]
     },
     "execution_count": 361,
     "metadata": {},
     "output_type": "execute_result"
    }
   ],
   "source": [
    "len(G.nodes())"
   ]
  },
  {
   "cell_type": "code",
   "execution_count": 53,
   "metadata": {},
   "outputs": [],
   "source": [
    "GG=nxadapter.nx2nk(G,weightAttr=\"weight\")"
   ]
  },
  {
   "cell_type": "code",
   "execution_count": 157,
   "metadata": {},
   "outputs": [
    {
     "data": {
      "image/png": "[encoded data removed]",
      "text/plain": [
       "<Figure size 1152x432 with 1 Axes>"
      ]
     },
     "metadata": {
      "needs_background": "light"
     },
     "output_type": "display_data"
    }
   ],
   "source": [
    "dd = sorted(centrality.DegreeCentrality(GG).run().scores(), reverse=True)\n",
    "fig=plt.figure(figsize=(16, 6))\n",
    "plt.xscale(\"log\")\n",
    "plt.xlabel(\"degree\")\n",
    "plt.yscale(\"log\")\n",
    "plt.ylabel(\"number of nodes\")\n",
    "plt.plot(dd)\n",
    "fig.savefig(\"GENIE3.top10_target_ranks.DegreeCentrality.png\")"
   ]
  },
  {
   "cell_type": "code",
   "execution_count": 74,
   "metadata": {},
   "outputs": [],
   "source": [
    "GGD=GG.toUndirected()"
   ]
  },
  {
   "cell_type": "code",
   "execution_count": 76,
   "metadata": {},
   "outputs": [
    {
     "data": {
      "text/plain": [
       "[<matplotlib.lines.Line2D at 0x7f3e1f0f57f0>]"
      ]
     },
     "execution_count": 76,
     "metadata": {},
     "output_type": "execute_result"
    },
    {
     "data": {
      "image/png": "[encoded data removed]",
      "text/plain": [
       "<Figure size 1152x432 with 1 Axes>"
      ]
     },
     "metadata": {
      "needs_background": "light"
     },
     "output_type": "display_data"
    }
   ],
   "source": [
    "dd = sorted(centrality.DegreeCentrality(GGD).run().scores(), reverse=True)\n",
    "plt.figure(figsize=(16, 6))\n",
    "plt.xscale(\"log\")\n",
    "plt.xlabel(\"degree\")\n",
    "plt.yscale(\"log\")\n",
    "plt.ylabel(\"number of nodes\")\n",
    "plt.plot(dd)"
   ]
  },
  {
   "cell_type": "code",
   "execution_count": 65,
   "metadata": {},
   "outputs": [
    {
     "name": "stdout",
     "output_type": "stream",
     "text": [
      "PLM(balanced,pc,turbo) detected communities in 1.6644556522369385 [s]\n",
      "solution properties:\n",
      "-------------------  -----------\n",
      "# communities          78\n",
      "min community size      1\n",
      "max community size   6167\n",
      "avg. community size   457.769\n",
      "modularity              0.571509\n",
      "-------------------  -----------\n"
     ]
    }
   ],
   "source": [
    "communities = community.detectCommunities(GGD,algo=community.PLM(GGD),inspect=True)"
   ]
  },
  {
   "cell_type": "code",
   "execution_count": 66,
   "metadata": {},
   "outputs": [
    {
     "data": {
      "text/plain": [
       "0.5715085395311885"
      ]
     },
     "execution_count": 66,
     "metadata": {},
     "output_type": "execute_result"
    }
   ],
   "source": [
    "community.Modularity().getQuality(communities, GGD)"
   ]
  },
  {
   "cell_type": "code",
   "execution_count": 59,
   "metadata": {},
   "outputs": [
    {
     "name": "stdout",
     "output_type": "stream",
     "text": [
      "PLP detected communities in 0.6480176448822021 [s]\n",
      "solution properties:\n",
      "-------------------  ------------\n",
      "# communities           73\n",
      "min community size       1\n",
      "max community size   32899\n",
      "avg. community size    489.123\n",
      "modularity               0.152555\n",
      "-------------------  ------------\n"
     ]
    }
   ],
   "source": [
    "communities2 = community.detectCommunities(GGD,algo=community.PLP(GGD))"
   ]
  },
  {
   "cell_type": "code",
   "execution_count": 60,
   "metadata": {},
   "outputs": [
    {
     "data": {
      "text/plain": [
       "0.15255462752987514"
      ]
     },
     "execution_count": 60,
     "metadata": {},
     "output_type": "execute_result"
    }
   ],
   "source": [
    "community.Modularity().getQuality(communities2, GGD)"
   ]
  },
  {
   "cell_type": "code",
   "execution_count": 67,
   "metadata": {},
   "outputs": [
    {
     "name": "stdout",
     "output_type": "stream",
     "text": [
      "35706 elements assigned to 78 subsets\n"
     ]
    }
   ],
   "source": [
    "print(\"{0} elements assigned to {1} subsets\".format(communities.numberOfElements(), communities.numberOfSubsets()))"
   ]
  },
  {
   "cell_type": "code",
   "execution_count": 68,
   "metadata": {},
   "outputs": [
    {
     "name": "stdout",
     "output_type": "stream",
     "text": [
      "the biggest subset has size 6167\n"
     ]
    }
   ],
   "source": [
    "print(\"the biggest subset has size {0}\".format(max(communities.subsetSizes())))"
   ]
  },
  {
   "cell_type": "code",
   "execution_count": 69,
   "metadata": {},
   "outputs": [
    {
     "name": "stdout",
     "output_type": "stream",
     "text": [
      "wrote communities to: GENIE3.top10_target_ranks.communities_PLM.partition\n"
     ]
    }
   ],
   "source": [
    "community.writeCommunities(communities, \"GENIE3.top10_target_ranks.communities_PLM.partition\")"
   ]
  },
  {
   "cell_type": "code",
   "execution_count": 165,
   "metadata": {},
   "outputs": [
    {
     "data": {
      "image/png": "[encoded data removed]",
      "text/plain": [
       "<Figure size 1152x432 with 1 Axes>"
      ]
     },
     "metadata": {
      "needs_background": "light"
     },
     "output_type": "display_data"
    }
   ],
   "source": [
    "sizes = communities.subsetSizes()\n",
    "sizes.sort(reverse=True)\n",
    "fig=plt.figure(figsize=(16, 6))\n",
    "plt.xlabel(\"community ID (ordered by size)\")\n",
    "plt.ylabel(\"size\")\n",
    "#ax1 = plt.subplot(2,1,1)\n",
    "#ax1.set_ylabel(\"size\")\n",
    "#ax1.plot(sizes)\n",
    "#fig = ax1.get_figure()\n",
    "plt.plot(sizes)\n",
    "fig.savefig(\"GENIE3.top10_target_ranks.communities_PLM.sizes.png\")\n",
    "#ax2 = plt.subplot(2,1,2)\n",
    "#ax2.set_xscale(\"log\")\n",
    "#ax2.set_yscale(\"log\")\n",
    "#ax2.set_ylabel(\"size\")\n",
    "#ax2.plot(sizes)"
   ]
  },
  {
   "cell_type": "code",
   "execution_count": 98,
   "metadata": {},
   "outputs": [
    {
     "name": "stdout",
     "output_type": "stream",
     "text": [
      "0\t3112\n",
      "1\t4418\n",
      "2\t1705\n",
      "3\t2728\n",
      "4\t3435\n",
      "5\t1849\n",
      "6\t3851\n",
      "7\t3662\n",
      "8\t6167\n",
      "9\t2403\n",
      "10\t2309\n"
     ]
    }
   ],
   "source": [
    "for i in communities.getSubsetIds():\n",
    "    x=len(communities.getMembers(i))\n",
    "    if x>1:\n",
    "        print(\"\\t\".join(list(map(lambda x: str(x),[i,x]))))"
   ]
  },
  {
   "cell_type": "code",
   "execution_count": 123,
   "metadata": {},
   "outputs": [],
   "source": [
    "NN=[x for x in G.nodes()]"
   ]
  },
  {
   "cell_type": "code",
   "execution_count": 103,
   "metadata": {},
   "outputs": [
    {
     "name": "stdout",
     "output_type": "stream",
     "text": [
      "1705\n"
     ]
    }
   ],
   "source": [
    "i=2\n",
    "c=communities.getMembers(i)\n",
    "sg = GG.subgraphFromNodes(c)\n",
    "print(sg.numberOfNodes())"
   ]
  },
  {
   "cell_type": "code",
   "execution_count": 195,
   "metadata": {},
   "outputs": [
    {
     "data": {
      "text/plain": [
       "<networkit._NetworKit.Betweenness at 0x7f3e1d7bc5c0>"
      ]
     },
     "execution_count": 195,
     "metadata": {},
     "output_type": "execute_result"
    }
   ],
   "source": [
    "bc = centrality.Betweenness(sg)\n",
    "bc.run()"
   ]
  },
  {
   "cell_type": "code",
   "execution_count": 126,
   "metadata": {},
   "outputs": [],
   "source": [
    "def printtop(o,min=0,max=10):\n",
    "     for (i,m) in o.ranking()[min:max]:\n",
    "        print(\"\\t\".join(list(map(lambda x: str(x),[i,NN[i],m ] ))))"
   ]
  },
  {
   "cell_type": "code",
   "execution_count": 127,
   "metadata": {},
   "outputs": [
    {
     "name": "stdout",
     "output_type": "stream",
     "text": [
      "2171\tPp3c3_15850.mRNA\t31270.0\n",
      "1762\tPp3c14_2500.mRNA\t30830.0\n",
      "773\tPp3c17_16430.mRNA\t27899.0\n",
      "2055\tPp3c20_5500.mRNA\t15091.0\n",
      "3192\tPp3c6_8660.mRNA\t13912.0\n",
      "1331\tPp3c5_12130.mRNA\t12581.0\n",
      "2044\tPp3c13_9170.mRNA\t10339.0\n",
      "344\tPp3c26_13780.mRNA\t10133.0\n",
      "933\tPp3c17_19780.mRNA\t9592.0\n",
      "6445\tPp3c26_5450.mRNA\t9235.0\n"
     ]
    }
   ],
   "source": [
    "printtop(bc)"
   ]
  },
  {
   "cell_type": "code",
   "execution_count": 128,
   "metadata": {},
   "outputs": [
    {
     "name": "stdout",
     "output_type": "stream",
     "text": [
      "350\tPp3c2_32960.mRNA\t0.12320606655892614\n",
      "569\tPp3c1_40480.mRNA\t0.12134173099197565\n",
      "771\tPp3c7_11750.mRNA\t0.11255209338749739\n",
      "1622\tPp3c9_25960.mRNA\t0.11048239559876917\n",
      "967\tPp3c11_25800.mRNA\t0.10980007486981283\n",
      "1799\tPp3c25_7190.mRNA\t0.10949547784392646\n",
      "345\tPp3c12_23790.mRNA\t0.10905798694457468\n",
      "896\tPp3c4_4140.mRNA\t0.1080361624413301\n",
      "1578\tPp3c22_10520.mRNA\t0.10527118037817784\n",
      "415\tPp3c23_17570.mRNA\t0.10000299721858845\n"
     ]
    }
   ],
   "source": [
    "i# Eigenvector centrality\n",
    "ec = centrality.EigenvectorCentrality(sg)\n",
    "ec.run()\n",
    "printtop(ec)"
   ]
  },
  {
   "cell_type": "code",
   "execution_count": 129,
   "metadata": {},
   "outputs": [
    {
     "name": "stdout",
     "output_type": "stream",
     "text": [
      "2171\tPp3c3_15850.mRNA\t331.0\n",
      "702\tPp3c5_860.mRNA\t298.0\n",
      "1946\tPp3c12_17560.mRNA\t284.0\n",
      "329\tPp3c9_10290.mRNA\t282.0\n",
      "1493\tPp3c10_24550.mRNA\t272.0\n",
      "1331\tPp3c5_12130.mRNA\t268.0\n",
      "2110\tPp3c17_470.mRNA\t252.0\n",
      "349\tPp3c6_14470.mRNA\t234.0\n",
      "3192\tPp3c6_8660.mRNA\t234.0\n",
      "1947\tPp3c13_14400.mRNA\t218.0\n"
     ]
    }
   ],
   "source": [
    "dc = centrality.DegreeCentrality(sg)\n",
    "dc.run()\n",
    "printtop(dc)"
   ]
  },
  {
   "cell_type": "code",
   "execution_count": 141,
   "metadata": {},
   "outputs": [
    {
     "data": {
      "text/html": [
       "<div>\n",
       "<style scoped>\n",
       "    .dataframe tbody tr th:only-of-type {\n",
       "        vertical-align: middle;\n",
       "    }\n",
       "\n",
       "    .dataframe tbody tr th {\n",
       "        vertical-align: top;\n",
       "    }\n",
       "\n",
       "    .dataframe thead th {\n",
       "        text-align: right;\n",
       "    }\n",
       "</style>\n",
       "<table border=\"1\" class=\"dataframe\">\n",
       "  <thead>\n",
       "    <tr style=\"text-align: right;\">\n",
       "      <th></th>\n",
       "      <th>regulatoryGene</th>\n",
       "      <th>targetGene</th>\n",
       "      <th>weight</th>\n",
       "      <th>regulator_rank</th>\n",
       "      <th>target_rank</th>\n",
       "      <th>mutual_rank</th>\n",
       "    </tr>\n",
       "  </thead>\n",
       "  <tbody>\n",
       "    <tr>\n",
       "      <th>0</th>\n",
       "      <td>Pp3c17_930.mRNA</td>\n",
       "      <td>Pp3s340_10.mRNA</td>\n",
       "      <td>0.067781</td>\n",
       "      <td>1</td>\n",
       "      <td>1</td>\n",
       "      <td>1.0</td>\n",
       "    </tr>\n",
       "    <tr>\n",
       "      <th>1</th>\n",
       "      <td>Pp3c1_27430.pre_miRNA</td>\n",
       "      <td>Pp3c15_12100.mRNA</td>\n",
       "      <td>0.067249</td>\n",
       "      <td>1</td>\n",
       "      <td>1</td>\n",
       "      <td>1.0</td>\n",
       "    </tr>\n",
       "    <tr>\n",
       "      <th>2</th>\n",
       "      <td>Pp3c17_17550.mRNA</td>\n",
       "      <td>Pp3c23_130.mRNA</td>\n",
       "      <td>0.066469</td>\n",
       "      <td>1</td>\n",
       "      <td>1</td>\n",
       "      <td>1.0</td>\n",
       "    </tr>\n",
       "    <tr>\n",
       "      <th>3</th>\n",
       "      <td>Pp3c17_18920.pre_miRNA</td>\n",
       "      <td>Pp3s32_420.mRNA</td>\n",
       "      <td>0.066327</td>\n",
       "      <td>1</td>\n",
       "      <td>1</td>\n",
       "      <td>1.0</td>\n",
       "    </tr>\n",
       "    <tr>\n",
       "      <th>4</th>\n",
       "      <td>Pp3c15_549.mRNA</td>\n",
       "      <td>Pp3c4_24040.mRNA</td>\n",
       "      <td>0.064005</td>\n",
       "      <td>1</td>\n",
       "      <td>1</td>\n",
       "      <td>1.0</td>\n",
       "    </tr>\n",
       "  </tbody>\n",
       "</table>\n",
       "</div>"
      ],
      "text/plain": [
       "           regulatoryGene         targetGene    weight  regulator_rank  \\\n",
       "0         Pp3c17_930.mRNA    Pp3s340_10.mRNA  0.067781               1   \n",
       "1   Pp3c1_27430.pre_miRNA  Pp3c15_12100.mRNA  0.067249               1   \n",
       "2       Pp3c17_17550.mRNA    Pp3c23_130.mRNA  0.066469               1   \n",
       "3  Pp3c17_18920.pre_miRNA    Pp3s32_420.mRNA  0.066327               1   \n",
       "4         Pp3c15_549.mRNA   Pp3c4_24040.mRNA  0.064005               1   \n",
       "\n",
       "   target_rank  mutual_rank  \n",
       "0            1          1.0  \n",
       "1            1          1.0  \n",
       "2            1          1.0  \n",
       "3            1          1.0  \n",
       "4            1          1.0  "
      ]
     },
     "execution_count": 141,
     "metadata": {},
     "output_type": "execute_result"
    }
   ],
   "source": [
    "gg.head()"
   ]
  },
  {
   "cell_type": "code",
   "execution_count": 147,
   "metadata": {},
   "outputs": [
    {
     "name": "stdout",
     "output_type": "stream",
     "text": [
      "Pp3c17_930.mRNA Pp3s340_10.mRNA\n",
      "Pp3c17_930.mRNA Pp3c19_7324.mRNA\n",
      "Pp3c17_930.mRNA Pp3c9_10300.mRNA\n",
      "Pp3c17_930.mRNA Pp3c3_4460.mRNA\n",
      "Pp3c17_930.mRNA Pp3c17_3220.mRNA\n",
      "Pp3c17_930.mRNA Pp3c13_12450.mRNA\n",
      "Pp3c17_930.mRNA Pp3c17_5140.ncRNA\n",
      "Pp3c17_930.mRNA Pp3s39_260.mRNA\n",
      "Pp3c17_930.mRNA Pp3c8_4700.mRNA\n",
      "Pp3c17_930.mRNA Pp3c13_2400.mRNA\n"
     ]
    }
   ],
   "source": [
    "for (x,y)  in GG.edges()[0:10]:\n",
    "    print(\"{} {}\".format(NN[x],NN[y]))"
   ]
  },
  {
   "cell_type": "code",
   "execution_count": 300,
   "metadata": {},
   "outputs": [],
   "source": [
    "def analyzeSubgraph(i):\n",
    "    c=communities.getMembers(i)\n",
    "    sg = GG.subgraphFromNodes(c)\n",
    "    SG=nxadapter.nk2nx(sg)\n",
    "    \n",
    "    rc=list()\n",
    "    llen=len(SG.nodes())\n",
    "    if llen>1:\n",
    "        print(\"Working on subgraph {} with {} nodes\".format(i,llen))\n",
    "        for n in SG.nodes():\n",
    "            l=nx.local_reaching_centrality(SG, n)\n",
    "            o=[n,l]\n",
    "            rc.append(o)\n",
    "    else:\n",
    "        (n,)=SG.nodes()\n",
    "        rc.append([n,0])\n",
    "    rc=pd.DataFrame(rc,columns=[\"id\",\"local_reaching_centrality\"])\n",
    "    bc = centrality.Betweenness(sg)\n",
    "    bc.run()\n",
    "    bc=pd.DataFrame(bc.ranking(),columns=[\"id\",\"betweenness_centrality\"])\n",
    "    bc=pd.concat([bc.id.apply(lambda i: NN[i]).rename(\"geneid\"),bc],axis=1)\n",
    "    bc.set_index([\"id\"])\n",
    "    ec = centrality.EigenvectorCentrality(sg)\n",
    "    ec.run()\n",
    "    ec=pd.DataFrame(ec.ranking(),columns=[\"id\",\"eigenvector_centrality\"])\n",
    "    ec=pd.concat([ec.id.apply(lambda i: NN[i]).rename(\"geneid\"),ec],axis=1)\n",
    "    ec.set_index([\"id\"])\n",
    "    dc = centrality.DegreeCentrality(sg)\n",
    "    dc.run()\n",
    "    dc=pd.DataFrame(dc.ranking(),columns=[\"id\",\"degree_centrality\"])\n",
    "    dc=pd.concat([dc.id.apply(lambda i: NN[i]).rename(\"geneid\"),dc],axis=1)\n",
    "    dc.set_index([\"id\"])\n",
    "    out=pd.merge(pd.merge(pd.merge(dc,bc,on=[\"id\",\"geneid\"]),ec,on=[\"id\",\"geneid\"]),rc,on=[\"id\"])\n",
    "    out[\"community\"]=i+1 #keep community 0 for non-connections\n",
    "    out.set_index([\"id\"],inplace=True)\n",
    "    return(out.iloc[:,[0,5,1,2,3,4]])"
   ]
  },
  {
   "cell_type": "code",
   "execution_count": 302,
   "metadata": {},
   "outputs": [
    {
     "name": "stdout",
     "output_type": "stream",
     "text": [
      "Working on subgraph 0 with 3112 nodes\n",
      "Working on subgraph 1 with 4418 nodes\n",
      "Working on subgraph 2 with 1705 nodes\n",
      "Working on subgraph 3 with 2728 nodes\n",
      "Working on subgraph 4 with 3435 nodes\n",
      "Working on subgraph 5 with 1849 nodes\n",
      "Working on subgraph 6 with 3851 nodes\n",
      "Working on subgraph 7 with 3662 nodes\n",
      "Working on subgraph 8 with 6167 nodes\n",
      "Working on subgraph 9 with 2403 nodes\n",
      "Working on subgraph 10 with 2309 nodes\n"
     ]
    }
   ],
   "source": [
    "out=list()\n",
    "for i in communities.getSubsetIds():\n",
    "    out.append(analyzeSubgraph(i))\n",
    "out=pd.concat(out)"
   ]
  },
  {
   "cell_type": "code",
   "execution_count": 303,
   "metadata": {},
   "outputs": [
    {
     "data": {
      "text/html": [
       "<div>\n",
       "<style scoped>\n",
       "    .dataframe tbody tr th:only-of-type {\n",
       "        vertical-align: middle;\n",
       "    }\n",
       "\n",
       "    .dataframe tbody tr th {\n",
       "        vertical-align: top;\n",
       "    }\n",
       "\n",
       "    .dataframe thead th {\n",
       "        text-align: right;\n",
       "    }\n",
       "</style>\n",
       "<table border=\"1\" class=\"dataframe\">\n",
       "  <thead>\n",
       "    <tr style=\"text-align: right;\">\n",
       "      <th></th>\n",
       "      <th>geneid</th>\n",
       "      <th>community</th>\n",
       "      <th>degree_centrality</th>\n",
       "      <th>betweenness_centrality</th>\n",
       "      <th>eigenvector_centrality</th>\n",
       "      <th>local_reaching_centrality</th>\n",
       "    </tr>\n",
       "    <tr>\n",
       "      <th>id</th>\n",
       "      <th></th>\n",
       "      <th></th>\n",
       "      <th></th>\n",
       "      <th></th>\n",
       "      <th></th>\n",
       "      <th></th>\n",
       "    </tr>\n",
       "  </thead>\n",
       "  <tbody>\n",
       "    <tr>\n",
       "      <th>1829</th>\n",
       "      <td>Pp3c11_23290.mRNA</td>\n",
       "      <td>1</td>\n",
       "      <td>552.0</td>\n",
       "      <td>3190.0</td>\n",
       "      <td>0.053599</td>\n",
       "      <td>0.997107</td>\n",
       "    </tr>\n",
       "    <tr>\n",
       "      <th>1910</th>\n",
       "      <td>Pp3c7_2300.mRNA</td>\n",
       "      <td>1</td>\n",
       "      <td>505.0</td>\n",
       "      <td>7529.0</td>\n",
       "      <td>0.025181</td>\n",
       "      <td>0.997107</td>\n",
       "    </tr>\n",
       "    <tr>\n",
       "      <th>982</th>\n",
       "      <td>Pp3c17_23620.mRNA</td>\n",
       "      <td>1</td>\n",
       "      <td>490.0</td>\n",
       "      <td>1988.0</td>\n",
       "      <td>0.054197</td>\n",
       "      <td>0.997107</td>\n",
       "    </tr>\n",
       "    <tr>\n",
       "      <th>2118</th>\n",
       "      <td>Pp3c16_13280.mRNA</td>\n",
       "      <td>1</td>\n",
       "      <td>485.0</td>\n",
       "      <td>9982.0</td>\n",
       "      <td>0.056344</td>\n",
       "      <td>0.997107</td>\n",
       "    </tr>\n",
       "    <tr>\n",
       "      <th>145</th>\n",
       "      <td>Pp3c15_11610.mRNA</td>\n",
       "      <td>1</td>\n",
       "      <td>461.0</td>\n",
       "      <td>3734.0</td>\n",
       "      <td>0.040499</td>\n",
       "      <td>0.997107</td>\n",
       "    </tr>\n",
       "  </tbody>\n",
       "</table>\n",
       "</div>"
      ],
      "text/plain": [
       "                 geneid  community  degree_centrality  betweenness_centrality  \\\n",
       "id                                                                              \n",
       "1829  Pp3c11_23290.mRNA          1              552.0                  3190.0   \n",
       "1910    Pp3c7_2300.mRNA          1              505.0                  7529.0   \n",
       "982   Pp3c17_23620.mRNA          1              490.0                  1988.0   \n",
       "2118  Pp3c16_13280.mRNA          1              485.0                  9982.0   \n",
       "145   Pp3c15_11610.mRNA          1              461.0                  3734.0   \n",
       "\n",
       "      eigenvector_centrality  local_reaching_centrality  \n",
       "id                                                       \n",
       "1829                0.053599                   0.997107  \n",
       "1910                0.025181                   0.997107  \n",
       "982                 0.054197                   0.997107  \n",
       "2118                0.056344                   0.997107  \n",
       "145                 0.040499                   0.997107  "
      ]
     },
     "execution_count": 303,
     "metadata": {},
     "output_type": "execute_result"
    }
   ],
   "source": [
    "out.head()"
   ]
  },
  {
   "cell_type": "code",
   "execution_count": 304,
   "metadata": {},
   "outputs": [
    {
     "name": "stdout",
     "output_type": "stream",
     "text": [
      "35706\n",
      "35706\n"
     ]
    }
   ],
   "source": [
    "print(len(NN))\n",
    "print(len(out))"
   ]
  },
  {
   "cell_type": "code",
   "execution_count": 469,
   "metadata": {},
   "outputs": [],
   "source": [
    "out[\"community\"]=out.community.apply(lambda x: int2roman(x,only_ascii=True))"
   ]
  },
  {
   "cell_type": "code",
   "execution_count": 470,
   "metadata": {},
   "outputs": [
    {
     "data": {
      "text/html": [
       "<div>\n",
       "<style scoped>\n",
       "    .dataframe tbody tr th:only-of-type {\n",
       "        vertical-align: middle;\n",
       "    }\n",
       "\n",
       "    .dataframe tbody tr th {\n",
       "        vertical-align: top;\n",
       "    }\n",
       "\n",
       "    .dataframe thead th {\n",
       "        text-align: right;\n",
       "    }\n",
       "</style>\n",
       "<table border=\"1\" class=\"dataframe\">\n",
       "  <thead>\n",
       "    <tr style=\"text-align: right;\">\n",
       "      <th></th>\n",
       "      <th>geneid</th>\n",
       "      <th>community</th>\n",
       "      <th>degree_centrality</th>\n",
       "      <th>betweenness_centrality</th>\n",
       "      <th>eigenvector_centrality</th>\n",
       "      <th>local_reaching_centrality</th>\n",
       "    </tr>\n",
       "    <tr>\n",
       "      <th>id</th>\n",
       "      <th></th>\n",
       "      <th></th>\n",
       "      <th></th>\n",
       "      <th></th>\n",
       "      <th></th>\n",
       "      <th></th>\n",
       "    </tr>\n",
       "  </thead>\n",
       "  <tbody>\n",
       "    <tr>\n",
       "      <th>1022</th>\n",
       "      <td>Pp3c27_3080.mRNA</td>\n",
       "      <td>I</td>\n",
       "      <td>109.0</td>\n",
       "      <td>0.0</td>\n",
       "      <td>0.000000</td>\n",
       "      <td>0.997750</td>\n",
       "    </tr>\n",
       "    <tr>\n",
       "      <th>1829</th>\n",
       "      <td>Pp3c11_23290.mRNA</td>\n",
       "      <td>I</td>\n",
       "      <td>552.0</td>\n",
       "      <td>3190.0</td>\n",
       "      <td>0.053599</td>\n",
       "      <td>0.997107</td>\n",
       "    </tr>\n",
       "    <tr>\n",
       "      <th>1910</th>\n",
       "      <td>Pp3c7_2300.mRNA</td>\n",
       "      <td>I</td>\n",
       "      <td>505.0</td>\n",
       "      <td>7529.0</td>\n",
       "      <td>0.025181</td>\n",
       "      <td>0.997107</td>\n",
       "    </tr>\n",
       "    <tr>\n",
       "      <th>982</th>\n",
       "      <td>Pp3c17_23620.mRNA</td>\n",
       "      <td>I</td>\n",
       "      <td>490.0</td>\n",
       "      <td>1988.0</td>\n",
       "      <td>0.054197</td>\n",
       "      <td>0.997107</td>\n",
       "    </tr>\n",
       "    <tr>\n",
       "      <th>2118</th>\n",
       "      <td>Pp3c16_13280.mRNA</td>\n",
       "      <td>I</td>\n",
       "      <td>485.0</td>\n",
       "      <td>9982.0</td>\n",
       "      <td>0.056344</td>\n",
       "      <td>0.997107</td>\n",
       "    </tr>\n",
       "  </tbody>\n",
       "</table>\n",
       "</div>"
      ],
      "text/plain": [
       "                 geneid community  degree_centrality  betweenness_centrality  \\\n",
       "id                                                                             \n",
       "1022   Pp3c27_3080.mRNA         I              109.0                     0.0   \n",
       "1829  Pp3c11_23290.mRNA         I              552.0                  3190.0   \n",
       "1910    Pp3c7_2300.mRNA         I              505.0                  7529.0   \n",
       "982   Pp3c17_23620.mRNA         I              490.0                  1988.0   \n",
       "2118  Pp3c16_13280.mRNA         I              485.0                  9982.0   \n",
       "\n",
       "      eigenvector_centrality  local_reaching_centrality  \n",
       "id                                                       \n",
       "1022                0.000000                   0.997750  \n",
       "1829                0.053599                   0.997107  \n",
       "1910                0.025181                   0.997107  \n",
       "982                 0.054197                   0.997107  \n",
       "2118                0.056344                   0.997107  "
      ]
     },
     "execution_count": 470,
     "metadata": {},
     "output_type": "execute_result"
    }
   ],
   "source": [
    "out.head()"
   ]
  },
  {
   "cell_type": "code",
   "execution_count": 491,
   "metadata": {},
   "outputs": [],
   "source": [
    "ggg=pd.merge(pd.merge(gg,out[[\"geneid\",\"community\"]],left_on=\"regulatoryGene\",right_on=\"geneid\"),out[[\"geneid\",\"community\"]],left_on=\"targetGene\",right_on=\"geneid\")\n",
    "ggg.rename(mapper={\"community_x\":\"regulator_community\",\"community_y\":\"target_community\"},axis=1,inplace=True)\n",
    "ggg.drop([\"geneid_x\",\"geneid_y\"],axis=1,inplace=True)\n",
    "ggg[\"community\"]=np.where(ggg.regulator_community== ggg.target_community, ggg.regulator_community,0)"
   ]
  },
  {
   "cell_type": "code",
   "execution_count": 492,
   "metadata": {},
   "outputs": [
    {
     "data": {
      "text/html": [
       "<div>\n",
       "<style scoped>\n",
       "    .dataframe tbody tr th:only-of-type {\n",
       "        vertical-align: middle;\n",
       "    }\n",
       "\n",
       "    .dataframe tbody tr th {\n",
       "        vertical-align: top;\n",
       "    }\n",
       "\n",
       "    .dataframe thead th {\n",
       "        text-align: right;\n",
       "    }\n",
       "</style>\n",
       "<table border=\"1\" class=\"dataframe\">\n",
       "  <thead>\n",
       "    <tr style=\"text-align: right;\">\n",
       "      <th></th>\n",
       "      <th>regulatoryGene</th>\n",
       "      <th>targetGene</th>\n",
       "      <th>weight</th>\n",
       "      <th>regulator_rank</th>\n",
       "      <th>target_rank</th>\n",
       "      <th>mutual_rank</th>\n",
       "      <th>regulator_community</th>\n",
       "      <th>target_community</th>\n",
       "      <th>community</th>\n",
       "    </tr>\n",
       "  </thead>\n",
       "  <tbody>\n",
       "    <tr>\n",
       "      <th>0</th>\n",
       "      <td>Pp3c17_930.mRNA</td>\n",
       "      <td>Pp3s340_10.mRNA</td>\n",
       "      <td>0.067781</td>\n",
       "      <td>1</td>\n",
       "      <td>1</td>\n",
       "      <td>1.000000</td>\n",
       "      <td>I</td>\n",
       "      <td>I</td>\n",
       "      <td>I</td>\n",
       "    </tr>\n",
       "    <tr>\n",
       "      <th>1</th>\n",
       "      <td>Pp3c1_36240.mRNA</td>\n",
       "      <td>Pp3s340_10.mRNA</td>\n",
       "      <td>0.013277</td>\n",
       "      <td>153</td>\n",
       "      <td>4</td>\n",
       "      <td>24.738634</td>\n",
       "      <td>VI</td>\n",
       "      <td>I</td>\n",
       "      <td>0</td>\n",
       "    </tr>\n",
       "    <tr>\n",
       "      <th>2</th>\n",
       "      <td>Pp3c2_25760.mRNA</td>\n",
       "      <td>Pp3s340_10.mRNA</td>\n",
       "      <td>0.015763</td>\n",
       "      <td>58</td>\n",
       "      <td>3</td>\n",
       "      <td>13.190906</td>\n",
       "      <td>I</td>\n",
       "      <td>I</td>\n",
       "      <td>I</td>\n",
       "    </tr>\n",
       "    <tr>\n",
       "      <th>3</th>\n",
       "      <td>Pp3c19_10050.mRNA</td>\n",
       "      <td>Pp3s340_10.mRNA</td>\n",
       "      <td>0.009034</td>\n",
       "      <td>496</td>\n",
       "      <td>7</td>\n",
       "      <td>58.923679</td>\n",
       "      <td>I</td>\n",
       "      <td>I</td>\n",
       "      <td>I</td>\n",
       "    </tr>\n",
       "    <tr>\n",
       "      <th>4</th>\n",
       "      <td>Pp3c11_17010.mRNA</td>\n",
       "      <td>Pp3s340_10.mRNA</td>\n",
       "      <td>0.008481</td>\n",
       "      <td>109</td>\n",
       "      <td>10</td>\n",
       "      <td>33.015148</td>\n",
       "      <td>XI</td>\n",
       "      <td>I</td>\n",
       "      <td>0</td>\n",
       "    </tr>\n",
       "  </tbody>\n",
       "</table>\n",
       "</div>"
      ],
      "text/plain": [
       "      regulatoryGene       targetGene    weight  regulator_rank  target_rank  \\\n",
       "0    Pp3c17_930.mRNA  Pp3s340_10.mRNA  0.067781               1            1   \n",
       "1   Pp3c1_36240.mRNA  Pp3s340_10.mRNA  0.013277             153            4   \n",
       "2   Pp3c2_25760.mRNA  Pp3s340_10.mRNA  0.015763              58            3   \n",
       "3  Pp3c19_10050.mRNA  Pp3s340_10.mRNA  0.009034             496            7   \n",
       "4  Pp3c11_17010.mRNA  Pp3s340_10.mRNA  0.008481             109           10   \n",
       "\n",
       "   mutual_rank regulator_community target_community community  \n",
       "0     1.000000                   I                I         I  \n",
       "1    24.738634                  VI                I         0  \n",
       "2    13.190906                   I                I         I  \n",
       "3    58.923679                   I                I         I  \n",
       "4    33.015148                  XI                I         0  "
      ]
     },
     "execution_count": 492,
     "metadata": {},
     "output_type": "execute_result"
    }
   ],
   "source": [
    "ggg.head()"
   ]
  },
  {
   "cell_type": "code",
   "execution_count": 493,
   "metadata": {},
   "outputs": [],
   "source": [
    "ggg.to_csv(\"GENIE3.top10_target_ranks.ranked_regulator_target_interactions.with_communities.tsv.gz\",sep=\"\\t\",index=False)"
   ]
  },
  {
   "cell_type": "code",
   "execution_count": 494,
   "metadata": {},
   "outputs": [],
   "source": [
    "ggg.query(\"community!=0\").to_csv(\"GENIE3.top10_target_ranks.ranked_regulator_target_interactions.with_communities.only_intra.tsv.gz\",sep=\"\\t\",index=False)"
   ]
  },
  {
   "cell_type": "code",
   "execution_count": 495,
   "metadata": {},
   "outputs": [],
   "source": [
    "com=dict([(int2roman(i+1,only_ascii=True),len(communities.getMembers(i))) for i in communities.getSubsetIds()])"
   ]
  },
  {
   "cell_type": "code",
   "execution_count": 496,
   "metadata": {},
   "outputs": [],
   "source": [
    "out.sort_values([\"community\",\"local_reaching_centrality\",\"degree_centrality\",\"betweenness_centrality\",\"eigenvector_centrality\"],ascending=[True,False,False,False,False],inplace=True)"
   ]
  },
  {
   "cell_type": "code",
   "execution_count": 497,
   "metadata": {},
   "outputs": [
    {
     "data": {
      "text/html": [
       "<div>\n",
       "<style scoped>\n",
       "    .dataframe tbody tr th:only-of-type {\n",
       "        vertical-align: middle;\n",
       "    }\n",
       "\n",
       "    .dataframe tbody tr th {\n",
       "        vertical-align: top;\n",
       "    }\n",
       "\n",
       "    .dataframe thead th {\n",
       "        text-align: right;\n",
       "    }\n",
       "</style>\n",
       "<table border=\"1\" class=\"dataframe\">\n",
       "  <thead>\n",
       "    <tr style=\"text-align: right;\">\n",
       "      <th></th>\n",
       "      <th>geneid</th>\n",
       "      <th>community</th>\n",
       "      <th>degree_centrality</th>\n",
       "      <th>betweenness_centrality</th>\n",
       "      <th>eigenvector_centrality</th>\n",
       "      <th>local_reaching_centrality</th>\n",
       "    </tr>\n",
       "    <tr>\n",
       "      <th>id</th>\n",
       "      <th></th>\n",
       "      <th></th>\n",
       "      <th></th>\n",
       "      <th></th>\n",
       "      <th></th>\n",
       "      <th></th>\n",
       "    </tr>\n",
       "  </thead>\n",
       "  <tbody>\n",
       "    <tr>\n",
       "      <th>1022</th>\n",
       "      <td>Pp3c27_3080.mRNA</td>\n",
       "      <td>I</td>\n",
       "      <td>109.0</td>\n",
       "      <td>0.0</td>\n",
       "      <td>0.000000</td>\n",
       "      <td>0.997750</td>\n",
       "    </tr>\n",
       "    <tr>\n",
       "      <th>1829</th>\n",
       "      <td>Pp3c11_23290.mRNA</td>\n",
       "      <td>I</td>\n",
       "      <td>552.0</td>\n",
       "      <td>3190.0</td>\n",
       "      <td>0.053599</td>\n",
       "      <td>0.997107</td>\n",
       "    </tr>\n",
       "    <tr>\n",
       "      <th>1910</th>\n",
       "      <td>Pp3c7_2300.mRNA</td>\n",
       "      <td>I</td>\n",
       "      <td>505.0</td>\n",
       "      <td>7529.0</td>\n",
       "      <td>0.025181</td>\n",
       "      <td>0.997107</td>\n",
       "    </tr>\n",
       "    <tr>\n",
       "      <th>982</th>\n",
       "      <td>Pp3c17_23620.mRNA</td>\n",
       "      <td>I</td>\n",
       "      <td>490.0</td>\n",
       "      <td>1988.0</td>\n",
       "      <td>0.054197</td>\n",
       "      <td>0.997107</td>\n",
       "    </tr>\n",
       "    <tr>\n",
       "      <th>2118</th>\n",
       "      <td>Pp3c16_13280.mRNA</td>\n",
       "      <td>I</td>\n",
       "      <td>485.0</td>\n",
       "      <td>9982.0</td>\n",
       "      <td>0.056344</td>\n",
       "      <td>0.997107</td>\n",
       "    </tr>\n",
       "  </tbody>\n",
       "</table>\n",
       "</div>"
      ],
      "text/plain": [
       "                 geneid community  degree_centrality  betweenness_centrality  \\\n",
       "id                                                                             \n",
       "1022   Pp3c27_3080.mRNA         I              109.0                     0.0   \n",
       "1829  Pp3c11_23290.mRNA         I              552.0                  3190.0   \n",
       "1910    Pp3c7_2300.mRNA         I              505.0                  7529.0   \n",
       "982   Pp3c17_23620.mRNA         I              490.0                  1988.0   \n",
       "2118  Pp3c16_13280.mRNA         I              485.0                  9982.0   \n",
       "\n",
       "      eigenvector_centrality  local_reaching_centrality  \n",
       "id                                                       \n",
       "1022                0.000000                   0.997750  \n",
       "1829                0.053599                   0.997107  \n",
       "1910                0.025181                   0.997107  \n",
       "982                 0.054197                   0.997107  \n",
       "2118                0.056344                   0.997107  "
      ]
     },
     "execution_count": 497,
     "metadata": {},
     "output_type": "execute_result"
    }
   ],
   "source": [
    "out.head()"
   ]
  },
  {
   "cell_type": "code",
   "execution_count": 498,
   "metadata": {},
   "outputs": [
    {
     "data": {
      "text/html": [
       "<div>\n",
       "<style scoped>\n",
       "    .dataframe tbody tr th:only-of-type {\n",
       "        vertical-align: middle;\n",
       "    }\n",
       "\n",
       "    .dataframe tbody tr th {\n",
       "        vertical-align: top;\n",
       "    }\n",
       "\n",
       "    .dataframe thead th {\n",
       "        text-align: right;\n",
       "    }\n",
       "</style>\n",
       "<table border=\"1\" class=\"dataframe\">\n",
       "  <thead>\n",
       "    <tr style=\"text-align: right;\">\n",
       "      <th></th>\n",
       "      <th>geneid</th>\n",
       "      <th>community</th>\n",
       "      <th>degree_centrality</th>\n",
       "      <th>betweenness_centrality</th>\n",
       "      <th>eigenvector_centrality</th>\n",
       "      <th>local_reaching_centrality</th>\n",
       "      <th>centrality_rank</th>\n",
       "    </tr>\n",
       "  </thead>\n",
       "  <tbody>\n",
       "    <tr>\n",
       "      <th>1022</th>\n",
       "      <td>Pp3c27_3080.mRNA</td>\n",
       "      <td>I</td>\n",
       "      <td>109</td>\n",
       "      <td>0</td>\n",
       "      <td>0</td>\n",
       "      <td>0.99775</td>\n",
       "      <td>1</td>\n",
       "    </tr>\n",
       "    <tr>\n",
       "      <th>1829</th>\n",
       "      <td>Pp3c11_23290.mRNA</td>\n",
       "      <td>I</td>\n",
       "      <td>552</td>\n",
       "      <td>3190</td>\n",
       "      <td>0.0535992</td>\n",
       "      <td>0.997107</td>\n",
       "      <td>2</td>\n",
       "    </tr>\n",
       "    <tr>\n",
       "      <th>1910</th>\n",
       "      <td>Pp3c7_2300.mRNA</td>\n",
       "      <td>I</td>\n",
       "      <td>505</td>\n",
       "      <td>7529</td>\n",
       "      <td>0.0251815</td>\n",
       "      <td>0.997107</td>\n",
       "      <td>3</td>\n",
       "    </tr>\n",
       "    <tr>\n",
       "      <th>982</th>\n",
       "      <td>Pp3c17_23620.mRNA</td>\n",
       "      <td>I</td>\n",
       "      <td>490</td>\n",
       "      <td>1988</td>\n",
       "      <td>0.0541971</td>\n",
       "      <td>0.997107</td>\n",
       "      <td>4</td>\n",
       "    </tr>\n",
       "    <tr>\n",
       "      <th>2118</th>\n",
       "      <td>Pp3c16_13280.mRNA</td>\n",
       "      <td>I</td>\n",
       "      <td>485</td>\n",
       "      <td>9982</td>\n",
       "      <td>0.0563442</td>\n",
       "      <td>0.997107</td>\n",
       "      <td>5</td>\n",
       "    </tr>\n",
       "  </tbody>\n",
       "</table>\n",
       "</div>"
      ],
      "text/plain": [
       "                 geneid community degree_centrality betweenness_centrality  \\\n",
       "1022   Pp3c27_3080.mRNA         I               109                      0   \n",
       "1829  Pp3c11_23290.mRNA         I               552                   3190   \n",
       "1910    Pp3c7_2300.mRNA         I               505                   7529   \n",
       "982   Pp3c17_23620.mRNA         I               490                   1988   \n",
       "2118  Pp3c16_13280.mRNA         I               485                   9982   \n",
       "\n",
       "     eigenvector_centrality local_reaching_centrality centrality_rank  \n",
       "1022                      0                   0.99775               1  \n",
       "1829              0.0535992                  0.997107               2  \n",
       "1910              0.0251815                  0.997107               3  \n",
       "982               0.0541971                  0.997107               4  \n",
       "2118              0.0563442                  0.997107               5  "
      ]
     },
     "execution_count": 498,
     "metadata": {},
     "output_type": "execute_result"
    }
   ],
   "source": [
    "rank=list()\n",
    "for c in com.keys():\n",
    "    e=0\n",
    "    for (i, row) in out.loc[out.community==c].iterrows():\n",
    "        e+=1\n",
    "        row[\"centrality_rank\"]=e\n",
    "        rank.append(row)\n",
    "rank=pd.concat(rank,axis=1).T\n",
    "rank.head()"
   ]
  },
  {
   "cell_type": "code",
   "execution_count": 518,
   "metadata": {},
   "outputs": [],
   "source": [
    "rank.to_csv(\"GENIE3.top10_target_ranks.communities_PLM.with_node_centralities.csv\",sep=\";\",index=False)"
   ]
  },
  {
   "cell_type": "code",
   "execution_count": 500,
   "metadata": {},
   "outputs": [
    {
     "data": {
      "text/plain": [
       "16690"
      ]
     },
     "execution_count": 500,
     "metadata": {},
     "output_type": "execute_result"
    }
   ],
   "source": [
    "reggg=ggg.loc[(ggg.targetGene.isin(ggg.regulatoryGene.unique())) & (ggg.community.isin([0]+list(filter(lambda x: com[x]>1, com.keys()))))]\n",
    "len(reggg)"
   ]
  },
  {
   "cell_type": "code",
   "execution_count": 501,
   "metadata": {},
   "outputs": [
    {
     "data": {
      "text/plain": [
       "3112"
      ]
     },
     "execution_count": 501,
     "metadata": {},
     "output_type": "execute_result"
    }
   ],
   "source": [
    "com[\"I\"]"
   ]
  },
  {
   "cell_type": "code",
   "execution_count": 502,
   "metadata": {},
   "outputs": [
    {
     "data": {
      "text/html": [
       "<div>\n",
       "<style scoped>\n",
       "    .dataframe tbody tr th:only-of-type {\n",
       "        vertical-align: middle;\n",
       "    }\n",
       "\n",
       "    .dataframe tbody tr th {\n",
       "        vertical-align: top;\n",
       "    }\n",
       "\n",
       "    .dataframe thead th {\n",
       "        text-align: right;\n",
       "    }\n",
       "</style>\n",
       "<table border=\"1\" class=\"dataframe\">\n",
       "  <thead>\n",
       "    <tr style=\"text-align: right;\">\n",
       "      <th></th>\n",
       "      <th>weight</th>\n",
       "      <th>regulator_rank</th>\n",
       "      <th>target_rank</th>\n",
       "      <th>mutual_rank</th>\n",
       "    </tr>\n",
       "    <tr>\n",
       "      <th>community</th>\n",
       "      <th></th>\n",
       "      <th></th>\n",
       "      <th></th>\n",
       "      <th></th>\n",
       "    </tr>\n",
       "  </thead>\n",
       "  <tbody>\n",
       "    <tr>\n",
       "      <th>0</th>\n",
       "      <td>0.010186</td>\n",
       "      <td>201</td>\n",
       "      <td>6</td>\n",
       "      <td>32.511536</td>\n",
       "    </tr>\n",
       "    <tr>\n",
       "      <th>I</th>\n",
       "      <td>0.015500</td>\n",
       "      <td>85</td>\n",
       "      <td>5</td>\n",
       "      <td>20.988088</td>\n",
       "    </tr>\n",
       "    <tr>\n",
       "      <th>II</th>\n",
       "      <td>0.011714</td>\n",
       "      <td>72</td>\n",
       "      <td>5</td>\n",
       "      <td>18.520259</td>\n",
       "    </tr>\n",
       "    <tr>\n",
       "      <th>III</th>\n",
       "      <td>0.014090</td>\n",
       "      <td>87</td>\n",
       "      <td>5</td>\n",
       "      <td>20.639767</td>\n",
       "    </tr>\n",
       "    <tr>\n",
       "      <th>IV</th>\n",
       "      <td>0.011705</td>\n",
       "      <td>57</td>\n",
       "      <td>5</td>\n",
       "      <td>16.077928</td>\n",
       "    </tr>\n",
       "    <tr>\n",
       "      <th>IX</th>\n",
       "      <td>0.011935</td>\n",
       "      <td>104</td>\n",
       "      <td>5</td>\n",
       "      <td>22.472205</td>\n",
       "    </tr>\n",
       "    <tr>\n",
       "      <th>V</th>\n",
       "      <td>0.015652</td>\n",
       "      <td>148</td>\n",
       "      <td>5</td>\n",
       "      <td>27.386128</td>\n",
       "    </tr>\n",
       "    <tr>\n",
       "      <th>VI</th>\n",
       "      <td>0.012445</td>\n",
       "      <td>186</td>\n",
       "      <td>5</td>\n",
       "      <td>28.142495</td>\n",
       "    </tr>\n",
       "    <tr>\n",
       "      <th>VII</th>\n",
       "      <td>0.016330</td>\n",
       "      <td>128</td>\n",
       "      <td>5</td>\n",
       "      <td>25.059801</td>\n",
       "    </tr>\n",
       "    <tr>\n",
       "      <th>VIII</th>\n",
       "      <td>0.013280</td>\n",
       "      <td>177</td>\n",
       "      <td>5</td>\n",
       "      <td>28.354894</td>\n",
       "    </tr>\n",
       "    <tr>\n",
       "      <th>X</th>\n",
       "      <td>0.017561</td>\n",
       "      <td>125</td>\n",
       "      <td>5</td>\n",
       "      <td>25.039968</td>\n",
       "    </tr>\n",
       "    <tr>\n",
       "      <th>XI</th>\n",
       "      <td>0.011480</td>\n",
       "      <td>177</td>\n",
       "      <td>5</td>\n",
       "      <td>27.730562</td>\n",
       "    </tr>\n",
       "  </tbody>\n",
       "</table>\n",
       "</div>"
      ],
      "text/plain": [
       "             weight  regulator_rank  target_rank  mutual_rank\n",
       "community                                                    \n",
       "0          0.010186             201            6    32.511536\n",
       "I          0.015500              85            5    20.988088\n",
       "II         0.011714              72            5    18.520259\n",
       "III        0.014090              87            5    20.639767\n",
       "IV         0.011705              57            5    16.077928\n",
       "IX         0.011935             104            5    22.472205\n",
       "V          0.015652             148            5    27.386128\n",
       "VI         0.012445             186            5    28.142495\n",
       "VII        0.016330             128            5    25.059801\n",
       "VIII       0.013280             177            5    28.354894\n",
       "X          0.017561             125            5    25.039968\n",
       "XI         0.011480             177            5    27.730562"
      ]
     },
     "execution_count": 502,
     "metadata": {},
     "output_type": "execute_result"
    }
   ],
   "source": [
    "reggg.groupby(\"community\").median()"
   ]
  },
  {
   "cell_type": "code",
   "execution_count": 503,
   "metadata": {},
   "outputs": [
    {
     "data": {
      "image/png": "[encoded data removed]",
      "text/plain": [
       "<Figure size 1440x720 with 1 Axes>"
      ]
     },
     "metadata": {
      "needs_background": "light"
     },
     "output_type": "display_data"
    }
   ],
   "source": [
    "fig, ax = plt.subplots(figsize=(20,10))\n",
    "for label, df in reggg.groupby('community'):\n",
    "    df.target_rank.plot(kind=\"kde\", ax=ax, label=label)\n",
    "plt.legend()\n",
    "fig.savefig(\"GENIE3.top10_target_ranks.communities_PLM.only_regulators.target_rank_density.png\")"
   ]
  },
  {
   "cell_type": "code",
   "execution_count": 504,
   "metadata": {},
   "outputs": [
    {
     "data": {
      "image/png": "[encoded data removed]",
      "text/plain": [
       "<Figure size 1440x720 with 1 Axes>"
      ]
     },
     "metadata": {
      "needs_background": "light"
     },
     "output_type": "display_data"
    }
   ],
   "source": [
    "fig, ax = plt.subplots(figsize=(20,10))\n",
    "for label, df in reggg.groupby('community'):\n",
    "    df.regulator_rank.plot(kind=\"kde\", ax=ax, label=label)\n",
    "plt.legend()\n",
    "fig.savefig(\"GENIE3.top10_target_ranks.communities_PLM.only_regulators.regulator_rank_density.png\")"
   ]
  },
  {
   "cell_type": "code",
   "execution_count": 505,
   "metadata": {},
   "outputs": [],
   "source": [
    "reggg.to_csv(\"GENIE3.top10_target_ranks.ranked_regulator_target_interactions.with_communities.only_regulators.tsv.gz\",sep=\"\\t\",index=False)"
   ]
  },
  {
   "cell_type": "code",
   "execution_count": 506,
   "metadata": {},
   "outputs": [
    {
     "data": {
      "text/html": [
       "<div>\n",
       "<style scoped>\n",
       "    .dataframe tbody tr th:only-of-type {\n",
       "        vertical-align: middle;\n",
       "    }\n",
       "\n",
       "    .dataframe tbody tr th {\n",
       "        vertical-align: top;\n",
       "    }\n",
       "\n",
       "    .dataframe thead th {\n",
       "        text-align: right;\n",
       "    }\n",
       "</style>\n",
       "<table border=\"1\" class=\"dataframe\">\n",
       "  <thead>\n",
       "    <tr style=\"text-align: right;\">\n",
       "      <th></th>\n",
       "      <th>regulatoryGene</th>\n",
       "      <th>targetGene</th>\n",
       "      <th>weight</th>\n",
       "      <th>regulator_rank</th>\n",
       "      <th>target_rank</th>\n",
       "      <th>mutual_rank</th>\n",
       "      <th>full_cor</th>\n",
       "      <th>full_reg</th>\n",
       "      <th>our_cor</th>\n",
       "      <th>our_reg</th>\n",
       "    </tr>\n",
       "  </thead>\n",
       "  <tbody>\n",
       "    <tr>\n",
       "      <th>0</th>\n",
       "      <td>Pp3c17_930.mRNA</td>\n",
       "      <td>Pp3s340_10.mRNA</td>\n",
       "      <td>0.067781</td>\n",
       "      <td>1</td>\n",
       "      <td>1</td>\n",
       "      <td>1.0</td>\n",
       "      <td>0.130485</td>\n",
       "      <td>+</td>\n",
       "      <td>1.874270e-15</td>\n",
       "      <td>+</td>\n",
       "    </tr>\n",
       "    <tr>\n",
       "      <th>1</th>\n",
       "      <td>Pp3c1_27430.pre_miRNA</td>\n",
       "      <td>Pp3c15_12100.mRNA</td>\n",
       "      <td>0.067249</td>\n",
       "      <td>1</td>\n",
       "      <td>1</td>\n",
       "      <td>1.0</td>\n",
       "      <td>0.558926</td>\n",
       "      <td>+</td>\n",
       "      <td>6.662628e-01</td>\n",
       "      <td>+</td>\n",
       "    </tr>\n",
       "    <tr>\n",
       "      <th>2</th>\n",
       "      <td>Pp3c17_17550.mRNA</td>\n",
       "      <td>Pp3c23_130.mRNA</td>\n",
       "      <td>0.066469</td>\n",
       "      <td>1</td>\n",
       "      <td>1</td>\n",
       "      <td>1.0</td>\n",
       "      <td>0.846470</td>\n",
       "      <td>+</td>\n",
       "      <td>8.916522e-01</td>\n",
       "      <td>+</td>\n",
       "    </tr>\n",
       "    <tr>\n",
       "      <th>3</th>\n",
       "      <td>Pp3c17_18920.pre_miRNA</td>\n",
       "      <td>Pp3s32_420.mRNA</td>\n",
       "      <td>0.066327</td>\n",
       "      <td>1</td>\n",
       "      <td>1</td>\n",
       "      <td>1.0</td>\n",
       "      <td>1.000000</td>\n",
       "      <td>+</td>\n",
       "      <td>1.000000e+00</td>\n",
       "      <td>+</td>\n",
       "    </tr>\n",
       "    <tr>\n",
       "      <th>4</th>\n",
       "      <td>Pp3c15_549.mRNA</td>\n",
       "      <td>Pp3c4_24040.mRNA</td>\n",
       "      <td>0.064005</td>\n",
       "      <td>1</td>\n",
       "      <td>1</td>\n",
       "      <td>1.0</td>\n",
       "      <td>1.000000</td>\n",
       "      <td>+</td>\n",
       "      <td>1.000000e+00</td>\n",
       "      <td>+</td>\n",
       "    </tr>\n",
       "  </tbody>\n",
       "</table>\n",
       "</div>"
      ],
      "text/plain": [
       "           regulatoryGene         targetGene    weight  regulator_rank  \\\n",
       "0         Pp3c17_930.mRNA    Pp3s340_10.mRNA  0.067781               1   \n",
       "1   Pp3c1_27430.pre_miRNA  Pp3c15_12100.mRNA  0.067249               1   \n",
       "2       Pp3c17_17550.mRNA    Pp3c23_130.mRNA  0.066469               1   \n",
       "3  Pp3c17_18920.pre_miRNA    Pp3s32_420.mRNA  0.066327               1   \n",
       "4         Pp3c15_549.mRNA   Pp3c4_24040.mRNA  0.064005               1   \n",
       "\n",
       "   target_rank  mutual_rank  full_cor full_reg       our_cor our_reg  \n",
       "0            1          1.0  0.130485        +  1.874270e-15       +  \n",
       "1            1          1.0  0.558926        +  6.662628e-01       +  \n",
       "2            1          1.0  0.846470        +  8.916522e-01       +  \n",
       "3            1          1.0  1.000000        +  1.000000e+00       +  \n",
       "4            1          1.0  1.000000        +  1.000000e+00       +  "
      ]
     },
     "execution_count": 506,
     "metadata": {},
     "output_type": "execute_result"
    }
   ],
   "source": [
    "cr=pd.read_csv(\"GENIE3.all_ranks.ranked_regulator_target_interactions.correlations_and_directionality.tsv.gz\",sep=\"\\t\")\n",
    "cr.head()"
   ]
  },
  {
   "cell_type": "code",
   "execution_count": 513,
   "metadata": {},
   "outputs": [
    {
     "data": {
      "text/plain": [
       "16690"
      ]
     },
     "execution_count": 513,
     "metadata": {},
     "output_type": "execute_result"
    }
   ],
   "source": [
    "crr=pd.merge(cr.drop([\"weight\",\"regulator_rank\",\"target_rank\",\"mutual_rank\"],axis=1),reggg,on=[\"regulatoryGene\",\"targetGene\"])#.loc[:,[\"regulatoryGene\",\"targetGene\"]])\n",
    "len(crr)"
   ]
  },
  {
   "cell_type": "code",
   "execution_count": 517,
   "metadata": {},
   "outputs": [
    {
     "name": "stdout",
     "output_type": "stream",
     "text": [
      "356457\n",
      "356457\n"
     ]
    }
   ],
   "source": [
    "print(len(ggg))\n",
    "crr2=pd.merge(cr.drop([\"weight\",\"regulator_rank\",\"target_rank\",\"mutual_rank\"],axis=1),ggg,on=[\"regulatoryGene\",\"targetGene\"])\n",
    "print(len(crr2))\n",
    "crr2.to_csv(\"GENIE3.top10_target_ranks.ranked_regulator_target_interactions.with_communities.correlations_and_directionality.tsv.gz\",sep=\"\\t\",index=False)"
   ]
  },
  {
   "cell_type": "code",
   "execution_count": 514,
   "metadata": {},
   "outputs": [
    {
     "data": {
      "text/html": [
       "<div>\n",
       "<style scoped>\n",
       "    .dataframe tbody tr th:only-of-type {\n",
       "        vertical-align: middle;\n",
       "    }\n",
       "\n",
       "    .dataframe tbody tr th {\n",
       "        vertical-align: top;\n",
       "    }\n",
       "\n",
       "    .dataframe thead th {\n",
       "        text-align: right;\n",
       "    }\n",
       "</style>\n",
       "<table border=\"1\" class=\"dataframe\">\n",
       "  <thead>\n",
       "    <tr style=\"text-align: right;\">\n",
       "      <th></th>\n",
       "      <th>regulatoryGene</th>\n",
       "      <th>targetGene</th>\n",
       "      <th>full_cor</th>\n",
       "      <th>full_reg</th>\n",
       "      <th>our_cor</th>\n",
       "      <th>our_reg</th>\n",
       "      <th>weight</th>\n",
       "      <th>regulator_rank</th>\n",
       "      <th>target_rank</th>\n",
       "      <th>mutual_rank</th>\n",
       "      <th>regulator_community</th>\n",
       "      <th>target_community</th>\n",
       "      <th>community</th>\n",
       "    </tr>\n",
       "  </thead>\n",
       "  <tbody>\n",
       "    <tr>\n",
       "      <th>0</th>\n",
       "      <td>Pp3c5_4990.mRNA</td>\n",
       "      <td>Pp3c5_5006.mRNA</td>\n",
       "      <td>-0.507013</td>\n",
       "      <td>-</td>\n",
       "      <td>-6.752306e-01</td>\n",
       "      <td>-</td>\n",
       "      <td>0.063180</td>\n",
       "      <td>1</td>\n",
       "      <td>1</td>\n",
       "      <td>1.000000</td>\n",
       "      <td>IV</td>\n",
       "      <td>IV</td>\n",
       "      <td>IV</td>\n",
       "    </tr>\n",
       "    <tr>\n",
       "      <th>1</th>\n",
       "      <td>Pp3c5_5006.mRNA</td>\n",
       "      <td>Pp3c5_4990.mRNA</td>\n",
       "      <td>-0.507013</td>\n",
       "      <td>-</td>\n",
       "      <td>-6.752306e-01</td>\n",
       "      <td>-</td>\n",
       "      <td>0.054928</td>\n",
       "      <td>1</td>\n",
       "      <td>1</td>\n",
       "      <td>1.000000</td>\n",
       "      <td>IV</td>\n",
       "      <td>IV</td>\n",
       "      <td>IV</td>\n",
       "    </tr>\n",
       "    <tr>\n",
       "      <th>2</th>\n",
       "      <td>Pp3c1_32440.mRNA</td>\n",
       "      <td>Pp3c17_13620.mRNA</td>\n",
       "      <td>0.852632</td>\n",
       "      <td>+</td>\n",
       "      <td>6.034049e-01</td>\n",
       "      <td>+</td>\n",
       "      <td>0.054642</td>\n",
       "      <td>3</td>\n",
       "      <td>1</td>\n",
       "      <td>1.732051</td>\n",
       "      <td>II</td>\n",
       "      <td>II</td>\n",
       "      <td>II</td>\n",
       "    </tr>\n",
       "    <tr>\n",
       "      <th>3</th>\n",
       "      <td>Pp3c14_22330.mRNA</td>\n",
       "      <td>Pp3c8_13921.pre_miRNA</td>\n",
       "      <td>0.093738</td>\n",
       "      <td>+</td>\n",
       "      <td>4.391533e-16</td>\n",
       "      <td>+</td>\n",
       "      <td>0.054016</td>\n",
       "      <td>1</td>\n",
       "      <td>1</td>\n",
       "      <td>1.000000</td>\n",
       "      <td>VIII</td>\n",
       "      <td>VIII</td>\n",
       "      <td>VIII</td>\n",
       "    </tr>\n",
       "    <tr>\n",
       "      <th>4</th>\n",
       "      <td>Pp3c25_5040.mRNA</td>\n",
       "      <td>Pp3c25_4920.mRNA</td>\n",
       "      <td>0.899198</td>\n",
       "      <td>+</td>\n",
       "      <td>8.479255e-01</td>\n",
       "      <td>+</td>\n",
       "      <td>0.050805</td>\n",
       "      <td>1</td>\n",
       "      <td>1</td>\n",
       "      <td>1.000000</td>\n",
       "      <td>VIII</td>\n",
       "      <td>VIII</td>\n",
       "      <td>VIII</td>\n",
       "    </tr>\n",
       "  </tbody>\n",
       "</table>\n",
       "</div>"
      ],
      "text/plain": [
       "      regulatoryGene             targetGene  full_cor full_reg       our_cor  \\\n",
       "0    Pp3c5_4990.mRNA        Pp3c5_5006.mRNA -0.507013        - -6.752306e-01   \n",
       "1    Pp3c5_5006.mRNA        Pp3c5_4990.mRNA -0.507013        - -6.752306e-01   \n",
       "2   Pp3c1_32440.mRNA      Pp3c17_13620.mRNA  0.852632        +  6.034049e-01   \n",
       "3  Pp3c14_22330.mRNA  Pp3c8_13921.pre_miRNA  0.093738        +  4.391533e-16   \n",
       "4   Pp3c25_5040.mRNA       Pp3c25_4920.mRNA  0.899198        +  8.479255e-01   \n",
       "\n",
       "  our_reg    weight  regulator_rank  target_rank  mutual_rank  \\\n",
       "0       -  0.063180               1            1     1.000000   \n",
       "1       -  0.054928               1            1     1.000000   \n",
       "2       +  0.054642               3            1     1.732051   \n",
       "3       +  0.054016               1            1     1.000000   \n",
       "4       +  0.050805               1            1     1.000000   \n",
       "\n",
       "  regulator_community target_community community  \n",
       "0                  IV               IV        IV  \n",
       "1                  IV               IV        IV  \n",
       "2                  II               II        II  \n",
       "3                VIII             VIII      VIII  \n",
       "4                VIII             VIII      VIII  "
      ]
     },
     "execution_count": 514,
     "metadata": {},
     "output_type": "execute_result"
    }
   ],
   "source": [
    "#crr[\"name\"]=crr.apply(lambda x: \"{} (regulates) {}\".format(x.regulatoryGene,x.targetGene),axis=1)\n",
    "crr.head()"
   ]
  },
  {
   "cell_type": "code",
   "execution_count": 515,
   "metadata": {},
   "outputs": [],
   "source": [
    "crr.to_csv(\"GENIE3.top10_target_ranks.ranked_regulator_target_interactions.with_communities.only_regulators.correlations_and_directionality.tsv.gz\",sep=\"\\t\",index=False)"
   ]
  }
 ],
 "metadata": {
  "kernelspec": {
   "display_name": "Python [conda env:networkit]",
   "language": "python",
   "name": "conda-env-networkit-py"
  },
  "language_info": {
   "codemirror_mode": {
    "name": "ipython",
    "version": 3
   },
   "file_extension": ".py",
   "mimetype": "text/x-python",
   "name": "python",
   "nbconvert_exporter": "python",
   "pygments_lexer": "ipython3",
   "version": "3.7.2"
  }
 },
 "nbformat": 4,
 "nbformat_minor": 4
}
